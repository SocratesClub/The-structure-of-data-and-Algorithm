{
 "cells": [
  {
   "cell_type": "code",
   "execution_count": 2,
   "metadata": {
    "collapsed": true
   },
   "outputs": [],
   "source": [
    "#导入必要的包\n",
    "import numpy as np"
   ]
  },
  {
   "cell_type": "code",
   "execution_count": 3,
   "metadata": {
    "collapsed": true
   },
   "outputs": [
    {
     "name": "stdout",
     "output_type": "stream",
     "text": [
      "[[  1.00000000e+00   1.00000000e+00   1.00000000e+00  -9.14152286e-16\n",
      "   -9.14152286e-16]\n",
      " [  2.00000000e+00   2.00000000e+00   2.00000000e+00  -3.49477979e-16\n",
      "   -3.49477979e-16]\n",
      " [  5.00000000e+00   5.00000000e+00   5.00000000e+00   6.09916192e-16\n",
      "    6.09916192e-16]\n",
      " [  1.00000000e+00   1.00000000e+00   2.79971461e-16   2.00000000e+00\n",
      "    2.00000000e+00]\n",
      " [ -6.37559172e-17   5.31300838e-17   2.94979631e-16   3.00000000e+00\n",
      "    3.00000000e+00]\n",
      " [ -4.45609774e-17  -5.59897708e-18   1.68959598e-16   1.00000000e+00\n",
      "    1.00000000e+00]]\n"
     ]
    }
   ],
   "source": [
    "a = [[1, 1], [7, 7]]\n",
    "data = [[1, 1, 1, 0, 0],\n",
    "       [2, 2, 2, 0 ,0],\n",
    "       [5, 5, 5, 0, 0],\n",
    "       [1, 1, 0, 2, 2],\n",
    "       [0, 0, 0, 3, 3],\n",
    "       [0, 0, 0, 1, 1]]\n",
    "U, Sigma, VT = np.linalg.svd(data)\n",
    "Sig = np.tile(Sigma[:3], (len(Sigma[:3]), 1)) * np.eye(len(Sigma[:3]))  #取最大的3个奇异值\n",
    "print(np.mat(U[:, :3]) * Sig * VT[:3, :])"
   ]
  },
  {
   "cell_type": "code",
   "execution_count": 4,
   "metadata": {
    "collapsed": true
   },
   "outputs": [],
   "source": [
    "#3种相似度的衡量方式\n",
    "def euclid(inA, inB):#欧氏距离\n",
    "    return 1 / (1 + np.linalg.norm(inA - inB))\n",
    "\n",
    "def pearson(inA, inB):  #pearson相关系数\n",
    "    if len(inA) < 3:\n",
    "        return 1\n",
    "    return 0.5 + 0.5 * np.corrcoef(inA, inB, rowvar = 0)[0][1]\n",
    "\n",
    "def cosCorr(inA, inB): #计算余弦相似度\n",
    "    num = float(inA.T * inB)\n",
    "    denum = np.linalg.norm(inA) * np.linalg.norm(inB)\n",
    "    return 0.5 + 0.5 * num/denum"
   ]
  },
  {
   "cell_type": "code",
   "execution_count": 5,
   "metadata": {},
   "outputs": [
    {
     "name": "stdout",
     "output_type": "stream",
     "text": [
      "欧氏距离相似度： 0.135078105936\n",
      "pearson相似度： 0.204196010845\n",
      "余弦相似度： 0.548001536074\n"
     ]
    }
   ],
   "source": [
    "data = np.mat(data)\n",
    "print('欧氏距离相似度：',euclid(data[:, 0], data[:, 4]))\n",
    "print('pearson相似度：',pearson(data[:, 0], data[:, 4]))\n",
    "print('余弦相似度：',cosCorr(data[:, 0], data[:, 4]))"
   ]
  },
  {
   "cell_type": "code",
   "execution_count": 84,
   "metadata": {
    "collapsed": true
   },
   "outputs": [],
   "source": [
    "#基于物品相似度的推荐\n",
    "'''\n",
    "思想就是，比如商品1和2，用户没有评价过2，用户评价过1，利用该用户对1的评价分数乘上其他用户在1和2的评价的相似性，来估算用户对于2的喜爱程度。\n",
    "'''\n",
    "def standEst(dataMat, user, item, simMeans):   #计算物品item和其他物品的相似度\n",
    "    n = dataMat.shape[1]\n",
    "    simTotal, rateSimTotal = 0.0, 0.0\n",
    "    for j in range(n):\n",
    "        userRating = dataMat[user, j]\n",
    "        if userRating == 0:   #找出用户评过分的商品，没品过分就是要推荐给用户的\n",
    "            continue\n",
    "        overLap = np.nonzero(np.logical_and(dataMat[:, item], dataMat[:, j]))[0]  #逻辑与返回两者都大于0的行，即所有用户\n",
    "        if len(overLap) == 0:\n",
    "            continue\n",
    "        similarity = simMeans(dataMat[overLap, item], dataMat[overLap, j])  #计算所有对上述两个物品都评过分的用户计算j 和 item的相似度\n",
    "        print('the %d and %d similarity is %.3f' %(item, j, similarity))\n",
    "        simTotal += similarity  #对所有相似度加起来，意思就是考虑未评过分的商品和以评过分的所有商品的相似度\n",
    "        rateSimTotal += similarity * userRating  #   把相得分转换到0-5之间\n",
    "    if simTotal == 0:\n",
    "        return 0\n",
    "    return rateSimTotal/simTotal\n",
    "\n",
    "#基于SVD的评分估计\n",
    "def svdEst(dataMat, user, item, simMeans):  \n",
    "    U, Sigma, VT = np.linalg.svd(dataMat)\n",
    "    Sig5 = np.mat(np.tile(Sigma[:5], (5, 1)) * np.eye(5))  #只需要前5个特征向量。然后重构\n",
    "    newFormedItems = dataMat.T * U[:, :5] * Sig5.I  #不懂\n",
    "    n = dataMat.shape[1]\n",
    "    simTotal, rateSimTotal = 0.0, 0.0\n",
    "    for j in range(n):\n",
    "        userRating = dataMat[user, j]\n",
    "        if userRating == 0:   #找出用户评过分的商品，没品过分就是要推荐给用户的\n",
    "            continue\n",
    "        similarity = simMeans(newFormedItems[item, :].T, newFormedItems[j, :].T)\n",
    "        print('the %d and %d similarity is %.3f' %(item, j, similarity))\n",
    "        simTotal += similarity  #对所有相似度加起来，意思就是考虑未评过分的商品和以评过分的所有商品的相似度\n",
    "        rateSimTotal += similarity * userRating  #   把得分转换到0-5之间\n",
    "    if simTotal == 0:\n",
    "        return 0\n",
    "    return rateSimTotal/simTotal\n",
    "\n",
    "\n",
    "def reommend(dataMat, user, N = 3, simMeans = cosCorr, estMethod = standEst):  #推荐函数\n",
    "    unRatedItems = np.nonzero(dataMat[user, :] == 0)[1]  #找出用户没有评级的商品\n",
    "    if len(unRatedItems) == 0:\n",
    "        return 'All goods are rated!'\n",
    "    itemScore = []\n",
    "    for item in unRatedItems:\n",
    "        estimatedScore = estMethod(dataMat, user, item, simMeans)\n",
    "        itemScore.append((item, estimatedScore))\n",
    "    return sorted(itemScore, key = lambda p: p[1], reverse = True)[:N]\n",
    "\n",
    "\n",
    "\n"
   ]
  },
  {
   "cell_type": "code",
   "execution_count": 102,
   "metadata": {
    "collapsed": true
   },
   "outputs": [
    {
     "name": "stdout",
     "output_type": "stream",
     "text": [
      "*********** original image *************\n",
      "[0, 0, 0, 0, 0, 0, 0, 0, 0, 0, 0, 0, 0, 0, 1, 1, 0, 0, 0, 0, 0, 0, 0, 0, 0, 0, 0, 0, 0, 0, 0, 0]\n",
      "[0, 0, 0, 0, 0, 0, 0, 0, 0, 0, 0, 0, 1, 1, 1, 1, 1, 1, 0, 0, 0, 0, 0, 0, 0, 0, 0, 0, 0, 0, 0, 0]\n",
      "[0, 0, 0, 0, 0, 0, 0, 0, 0, 0, 0, 1, 1, 1, 1, 1, 1, 1, 1, 0, 0, 0, 0, 0, 0, 0, 0, 0, 0, 0, 0, 0]\n",
      "[0, 0, 0, 0, 0, 0, 0, 0, 0, 0, 1, 1, 1, 1, 1, 1, 1, 1, 1, 1, 0, 0, 0, 0, 0, 0, 0, 0, 0, 0, 0, 0]\n",
      "[0, 0, 0, 0, 0, 0, 0, 0, 1, 1, 1, 1, 1, 1, 1, 1, 1, 1, 1, 1, 1, 0, 0, 0, 0, 0, 0, 0, 0, 0, 0, 0]\n",
      "[0, 0, 0, 0, 0, 0, 0, 1, 1, 1, 1, 1, 1, 1, 1, 1, 1, 1, 1, 1, 1, 1, 0, 0, 0, 0, 0, 0, 0, 0, 0, 0]\n",
      "[0, 0, 0, 0, 0, 0, 0, 0, 1, 1, 1, 1, 1, 1, 1, 1, 1, 1, 1, 1, 1, 1, 1, 0, 0, 0, 0, 0, 0, 0, 0, 0]\n",
      "[0, 0, 0, 0, 0, 0, 0, 0, 1, 1, 1, 1, 1, 1, 1, 0, 0, 0, 0, 1, 1, 1, 1, 1, 0, 0, 0, 0, 0, 0, 0, 0]\n",
      "[0, 0, 0, 0, 0, 0, 0, 1, 1, 1, 1, 1, 1, 1, 0, 0, 0, 0, 0, 1, 1, 1, 1, 1, 0, 0, 0, 0, 0, 0, 0, 0]\n",
      "[0, 0, 0, 0, 0, 0, 1, 1, 1, 1, 1, 1, 0, 0, 0, 0, 0, 0, 0, 0, 1, 1, 1, 1, 0, 0, 0, 0, 0, 0, 0, 0]\n",
      "[0, 0, 0, 0, 0, 0, 1, 1, 1, 1, 1, 1, 0, 0, 0, 0, 0, 0, 0, 0, 1, 1, 1, 1, 1, 0, 0, 0, 0, 0, 0, 0]\n",
      "[0, 0, 0, 0, 0, 0, 1, 1, 1, 1, 1, 1, 0, 0, 0, 0, 0, 0, 0, 0, 0, 1, 1, 1, 1, 0, 0, 0, 0, 0, 0, 0]\n",
      "[0, 0, 0, 0, 0, 0, 1, 1, 1, 1, 1, 1, 0, 0, 0, 0, 0, 0, 0, 0, 0, 1, 1, 1, 1, 0, 0, 0, 0, 0, 0, 0]\n",
      "[0, 0, 0, 0, 0, 0, 0, 1, 1, 1, 1, 1, 1, 0, 0, 0, 0, 0, 0, 0, 0, 0, 1, 1, 1, 1, 0, 0, 0, 0, 0, 0]\n",
      "[0, 0, 0, 0, 0, 0, 1, 1, 1, 1, 1, 1, 1, 0, 0, 0, 0, 0, 0, 0, 0, 0, 1, 1, 1, 1, 0, 0, 0, 0, 0, 0]\n",
      "[0, 0, 0, 0, 0, 0, 1, 1, 1, 1, 1, 1, 0, 0, 0, 0, 0, 0, 0, 0, 0, 0, 1, 1, 1, 1, 0, 0, 0, 0, 0, 0]\n",
      "[0, 0, 0, 0, 0, 0, 0, 1, 1, 1, 1, 1, 0, 0, 0, 0, 0, 0, 0, 0, 0, 0, 1, 1, 1, 1, 0, 0, 0, 0, 0, 0]\n",
      "[0, 0, 0, 0, 0, 0, 1, 1, 1, 1, 1, 1, 0, 0, 0, 0, 0, 0, 0, 0, 0, 0, 1, 1, 1, 1, 0, 0, 0, 0, 0, 0]\n",
      "[0, 0, 0, 0, 0, 0, 0, 1, 1, 1, 1, 1, 0, 0, 0, 0, 0, 0, 0, 0, 0, 0, 1, 1, 1, 1, 0, 0, 0, 0, 0, 0]\n",
      "[0, 0, 0, 0, 0, 0, 0, 1, 1, 1, 1, 1, 0, 0, 0, 0, 0, 0, 0, 0, 0, 1, 1, 1, 1, 1, 0, 0, 0, 0, 0, 0]\n",
      "[0, 0, 0, 0, 0, 0, 0, 0, 1, 1, 1, 1, 1, 0, 0, 0, 0, 0, 0, 0, 0, 0, 1, 1, 1, 1, 1, 0, 0, 0, 0, 0]\n",
      "[0, 0, 0, 0, 0, 0, 0, 0, 1, 1, 1, 1, 1, 0, 0, 0, 0, 0, 0, 0, 0, 0, 1, 1, 1, 1, 1, 0, 0, 0, 0, 0]\n",
      "[0, 0, 0, 0, 0, 0, 0, 0, 1, 1, 1, 1, 1, 0, 0, 0, 0, 0, 0, 0, 0, 0, 1, 1, 1, 1, 1, 0, 0, 0, 0, 0]\n",
      "[0, 0, 0, 0, 0, 0, 0, 0, 1, 1, 1, 1, 1, 0, 0, 0, 0, 0, 0, 0, 0, 1, 1, 1, 1, 1, 0, 0, 0, 0, 0, 0]\n",
      "[0, 0, 0, 0, 0, 0, 0, 0, 1, 1, 1, 1, 1, 0, 0, 0, 0, 0, 0, 0, 1, 1, 1, 1, 1, 1, 0, 0, 0, 0, 0, 0]\n",
      "[0, 0, 0, 0, 0, 0, 0, 0, 1, 1, 1, 1, 1, 1, 0, 0, 0, 0, 0, 1, 1, 1, 1, 1, 1, 0, 0, 0, 0, 0, 0, 0]\n",
      "[0, 0, 0, 0, 0, 0, 0, 0, 0, 1, 1, 1, 1, 1, 1, 1, 1, 1, 1, 1, 1, 1, 1, 1, 1, 0, 0, 0, 0, 0, 0, 0]\n",
      "[0, 0, 0, 0, 0, 0, 0, 0, 0, 0, 1, 1, 1, 1, 1, 1, 1, 1, 1, 1, 1, 1, 1, 1, 1, 0, 0, 0, 0, 0, 0, 0]\n",
      "[0, 0, 0, 0, 0, 0, 0, 0, 0, 0, 1, 1, 1, 1, 1, 1, 1, 1, 1, 1, 1, 1, 1, 1, 1, 0, 0, 0, 0, 0, 0, 0]\n",
      "[0, 0, 0, 0, 0, 0, 0, 0, 0, 0, 0, 1, 1, 1, 1, 1, 1, 1, 1, 1, 1, 1, 1, 0, 0, 0, 0, 0, 0, 0, 0, 0]\n",
      "[0, 0, 0, 0, 0, 0, 0, 0, 0, 0, 0, 0, 1, 1, 1, 1, 1, 1, 1, 1, 1, 1, 0, 0, 0, 0, 0, 0, 0, 0, 0, 0]\n",
      "[0, 0, 0, 0, 0, 0, 0, 0, 0, 0, 0, 0, 0, 0, 1, 1, 1, 1, 1, 1, 0, 0, 0, 0, 0, 0, 0, 0, 0, 0, 0, 0]\n",
      "*************** After compress ************\n",
      "[0, 0, 0, 0, 0, 0, 0, 0, 0, 0, 0, 0, 0, 0, 0, 0, 0, 0, 0, 0, 0, 0, 0, 0, 0, 0, 0, 0, 0, 0, 0, 0]\n",
      "[0, 0, 0, 0, 0, 0, 0, 0, 0, 0, 0, 0, 0, 0, 0, 0, 0, 0, 0, 0, 0, 0, 0, 0, 0, 0, 0, 0, 0, 0, 0, 0]\n",
      "[0, 0, 0, 0, 0, 0, 0, 0, 0, 0, 0, 0, 1, 0, 1, 1, 1, 1, 1, 0, 0, 0, 0, 0, 0, 0, 0, 0, 0, 0, 0, 0]\n",
      "[0, 0, 0, 0, 0, 0, 0, 0, 0, 0, 0, 0, 1, 1, 1, 1, 1, 1, 1, 0, 0, 0, 0, 0, 0, 0, 0, 0, 0, 0, 0, 0]\n",
      "[0, 0, 0, 0, 0, 0, 0, 0, 0, 0, 0, 1, 1, 1, 1, 1, 1, 1, 1, 1, 0, 0, 0, 0, 0, 0, 0, 0, 0, 0, 0, 0]\n",
      "[0, 0, 0, 0, 0, 0, 0, 0, 0, 0, 1, 1, 1, 1, 1, 1, 1, 1, 1, 1, 1, 1, 0, 0, 0, 0, 0, 0, 0, 0, 0, 0]\n",
      "[0, 0, 0, 0, 0, 0, 0, 0, 0, 0, 1, 1, 1, 1, 1, 1, 1, 1, 1, 1, 1, 1, 0, 0, 0, 0, 0, 0, 0, 0, 0, 0]\n",
      "[0, 0, 0, 0, 0, 0, 0, 0, 0, 1, 1, 1, 0, 0, 0, 0, 0, 0, 0, 0, 1, 1, 1, 0, 0, 0, 0, 0, 0, 0, 0, 0]\n",
      "[0, 0, 0, 0, 0, 0, 0, 0, 1, 1, 1, 1, 0, 0, 0, 0, 0, 0, 0, 0, 1, 1, 1, 1, 0, 0, 0, 0, 0, 0, 0, 0]\n",
      "[0, 0, 0, 0, 0, 0, 0, 1, 1, 1, 1, 1, 0, 0, 0, 0, 0, 0, 0, 0, 1, 1, 1, 1, 0, 0, 0, 0, 0, 0, 0, 0]\n",
      "[0, 0, 0, 0, 0, 0, 0, 1, 1, 1, 1, 1, 0, 0, 0, 0, 0, 0, 0, 0, 0, 1, 1, 1, 0, 0, 0, 0, 0, 0, 0, 0]\n",
      "[0, 0, 0, 0, 0, 0, 0, 1, 1, 1, 1, 1, 0, 0, 0, 0, 0, 0, 0, 0, 0, 1, 1, 1, 0, 0, 0, 0, 0, 0, 0, 0]\n",
      "[0, 0, 0, 0, 0, 0, 0, 1, 1, 1, 1, 1, 0, 0, 0, 0, 0, 0, 0, 0, 0, 1, 1, 1, 0, 0, 0, 0, 0, 0, 0, 0]\n",
      "[0, 0, 0, 0, 0, 0, 0, 0, 1, 1, 1, 1, 0, 0, 0, 0, 0, 0, 0, 0, 0, 0, 1, 1, 1, 1, 0, 0, 0, 0, 0, 0]\n",
      "[0, 0, 0, 0, 0, 0, 0, 0, 1, 1, 1, 1, 0, 0, 0, 0, 0, 0, 0, 0, 0, 0, 1, 1, 1, 1, 0, 0, 0, 0, 0, 0]\n",
      "[0, 0, 0, 0, 0, 0, 0, 0, 1, 1, 1, 1, 0, 0, 0, 0, 0, 0, 0, 0, 0, 0, 1, 1, 1, 1, 0, 0, 0, 0, 0, 0]\n",
      "[0, 0, 0, 0, 0, 0, 0, 0, 1, 1, 1, 1, 0, 0, 0, 0, 0, 0, 0, 0, 0, 0, 1, 1, 1, 1, 0, 0, 0, 0, 0, 0]\n",
      "[0, 0, 0, 0, 0, 0, 0, 0, 1, 1, 1, 1, 0, 0, 0, 0, 0, 0, 0, 0, 0, 0, 1, 1, 1, 1, 0, 0, 0, 0, 0, 0]\n",
      "[0, 0, 0, 0, 0, 0, 0, 0, 1, 1, 1, 1, 0, 0, 0, 0, 0, 0, 0, 0, 0, 0, 1, 1, 1, 1, 0, 0, 0, 0, 0, 0]\n",
      "[0, 0, 0, 0, 0, 0, 0, 0, 1, 1, 1, 1, 0, 0, 0, 0, 0, 0, 0, 0, 0, 0, 1, 1, 1, 0, 0, 0, 0, 0, 0, 0]\n",
      "[0, 0, 0, 0, 0, 0, 0, 0, 1, 1, 1, 1, 0, 0, 0, 0, 0, 0, 0, 0, 0, 0, 1, 1, 1, 1, 0, 0, 0, 0, 0, 0]\n",
      "[0, 0, 0, 0, 0, 0, 0, 0, 1, 1, 1, 1, 0, 0, 0, 0, 0, 0, 0, 0, 0, 0, 1, 1, 1, 1, 0, 0, 0, 0, 0, 0]\n",
      "[0, 0, 0, 0, 0, 0, 0, 0, 1, 1, 1, 1, 0, 0, 0, 0, 0, 0, 0, 0, 0, 0, 1, 1, 1, 1, 0, 0, 0, 0, 0, 0]\n",
      "[0, 0, 0, 0, 0, 0, 0, 0, 1, 1, 1, 1, 0, 0, 0, 0, 0, 0, 0, 0, 0, 0, 1, 1, 1, 1, 0, 0, 0, 0, 0, 0]\n",
      "[0, 0, 0, 0, 0, 0, 0, 0, 1, 1, 1, 1, 0, 0, 0, 0, 0, 0, 0, 0, 0, 0, 1, 1, 1, 0, 0, 0, 0, 0, 0, 0]\n",
      "[0, 0, 0, 0, 0, 0, 0, 0, 1, 1, 1, 1, 0, 0, 0, 0, 0, 0, 0, 0, 1, 1, 1, 1, 0, 0, 0, 0, 0, 0, 0, 0]\n",
      "[0, 0, 0, 0, 0, 0, 0, 0, 0, 0, 1, 1, 1, 1, 1, 1, 1, 1, 1, 1, 1, 1, 1, 0, 0, 0, 0, 0, 0, 0, 0, 0]\n",
      "[0, 0, 0, 0, 0, 0, 0, 0, 0, 0, 1, 1, 1, 1, 1, 1, 1, 1, 1, 1, 1, 1, 0, 0, 0, 0, 0, 0, 0, 0, 0, 0]\n",
      "[0, 0, 0, 0, 0, 0, 0, 0, 0, 0, 1, 1, 1, 1, 1, 1, 1, 1, 1, 1, 1, 1, 0, 0, 0, 0, 0, 0, 0, 0, 0, 0]\n",
      "[0, 0, 0, 0, 0, 0, 0, 0, 0, 0, 0, 0, 1, 1, 1, 1, 1, 1, 1, 1, 1, 1, 0, 0, 0, 0, 0, 0, 0, 0, 0, 0]\n",
      "[0, 0, 0, 0, 0, 0, 0, 0, 0, 0, 0, 0, 1, 1, 1, 1, 1, 1, 1, 1, 1, 0, 0, 0, 0, 0, 0, 0, 0, 0, 0, 0]\n",
      "[0, 0, 0, 0, 0, 0, 0, 0, 0, 0, 0, 0, 0, 0, 0, 0, 0, 0, 0, 0, 0, 0, 0, 0, 0, 0, 0, 0, 0, 0, 0, 0]\n"
     ]
    }
   ],
   "source": [
    "#简单的图像压缩\n",
    "def printMat(inMat, thresh = 0.8):  #因为用奇异值分解以后的矩阵有小数，需要转换为0,1\n",
    "    n = inMat.shape[1]\n",
    "    for i in range(n):\n",
    "        buff = []\n",
    "        for j in range(n):\n",
    "            if inMat[i, j] > thresh:\n",
    "                buff.append(1)\n",
    "            else:\n",
    "                buff.append(0)\n",
    "        print(buff)\n",
    "    return inMat\n",
    "\n",
    "def imageCompress(numSV = 3, thresh = 0.8): #图像压缩\n",
    "    f = open(r'F:\\github\\MachineLearning全\\input\\14.SVD\\0_5.txt')\n",
    "    imageMat = []\n",
    "    for line in f.readlines():\n",
    "        lineArr = []\n",
    "        for j in range(32):\n",
    "            lineArr.append(int(line[j]))\n",
    "        imageMat.append(lineArr)\n",
    "    imageMat = np.mat(imageMat)\n",
    "    print('*********** original image *************')\n",
    "    printMat(imageMat)\n",
    "    U, Sigma, VT = np.linalg.svd(imageMat)\n",
    "    sigSV = np.tile(Sigma[:numSV], (numSV, 1)) * np.eye(numSV)\n",
    "    formedMat = U[:, :numSV] * sigSV * VT[:numSV, :]\n",
    "    print('*************** After compress ************')\n",
    "    printMat(formedMat, thresh)\n",
    "\n",
    "    f.close()\n",
    "\n",
    "    \n",
    "#调用函数尝试一下\n",
    "imageCompress(numSV = 3, thresh = 0.8)"
   ]
  },
  {
   "cell_type": "code",
   "execution_count": 100,
   "metadata": {
    "collapsed": true
   },
   "outputs": [
    {
     "name": "stdout",
     "output_type": "stream",
     "text": [
      "the 7 and 0 similarity is 1.000\n",
      "the 7 and 1 similarity is 1.000\n",
      "the 7 and 2 similarity is 1.000\n",
      "the 7 and 4 similarity is 1.000\n",
      "the 7 and 8 similarity is 1.000\n",
      "the 7 and 9 similarity is 1.000\n",
      "the 10 and 0 similarity is 1.000\n",
      "the 10 and 2 similarity is 1.000\n",
      "the 10 and 5 similarity is 1.000\n"
     ]
    },
    {
     "data": {
      "text/plain": [
       "[(7, 2.3333333333333335), (10, 1.6666666666666667)]"
      ]
     },
     "execution_count": 100,
     "metadata": {},
     "output_type": "execute_result"
    }
   ],
   "source": [
    "dataSet = [[2, 0, 0, 4, 4, 0, 0 ,0, 0, 0, 0],\n",
    "          [0, 0, 0, 0, 0, 0, 0, 0, 0, 0, 5],\n",
    "          [0, 0, 0, 0, 0, 0, 0, 1, 0, 4, 0],\n",
    "          [3, 3, 4, 0, 3, 0, 0, 2, 2, 0, 0],\n",
    "          [5, 5, 5, 0, 0, 0, 0, 0, 0, 0, 0],\n",
    "          [0, 0, 0, 0, 0, 0, 5, 0, 0, 5, 0],\n",
    "          [4, 0, 4, 0, 0, 0, 0, 0, 0, 0, 5],\n",
    "          [0, 0, 0, 0, 0, 4, 0, 0, 0, 0, 4],\n",
    "          [0, 0, 0, 0, 0, 0, 5, 0, 0, 5, 0],\n",
    "          [0, 0, 0, 3, 0, 0, 0, 0, 4, 5, 0],\n",
    "          [1, 1, 2, 1, 1, 2, 1, 0, 4, 5, 0]]\n",
    "dataSet = np.mat(dataSet)\n",
    "'''  #计算多少维特征的和相加满足大于0.9\n",
    "U, Sigma, VT = np.linalg.svd(dataSet)\n",
    "Sigma = Sigma ** 2\n",
    "totalVal = np.sum(Sigma)\n",
    "for item in range(len(Sigma)):\n",
    "    if np.sum(Sigma[:(item + 1)])/totalVal >= 0.9:\n",
    "        print('the item is', item + 1)\n",
    "        break\n",
    "'''\n",
    "reommend(dataSet, 10, N = 3,simMeans = cosCorr, estMethod = standEst)"
   ]
  },
  {
   "cell_type": "code",
   "execution_count": 87,
   "metadata": {
    "collapsed": true
   },
   "outputs": [
    {
     "name": "stdout",
     "output_type": "stream",
     "text": [
      "[[1 1 1 0 0]\n",
      " [2 2 2 0 0]\n",
      " [5 5 5 0 0]\n",
      " [1 1 0 2 2]\n",
      " [0 0 0 3 3]\n",
      " [0 0 0 1 1]]\n",
      "the 3 and 0 similarity is 1.000\n",
      "the 3 and 1 similarity is 1.000\n",
      "the 4 and 0 similarity is 1.000\n",
      "the 4 and 1 similarity is 1.000\n"
     ]
    },
    {
     "data": {
      "text/plain": [
       "[(3, 5.0)]"
      ]
     },
     "execution_count": 87,
     "metadata": {},
     "output_type": "execute_result"
    }
   ],
   "source": [
    "#验证上述的函数\n",
    "dataMat = np.mat(data)\n",
    "print(dataMat)\n",
    "reommend(dataMat, 2, N = 1, simMeans = pearson, estMethod = standEst)"
   ]
  }
 ],
 "metadata": {
  "kernelspec": {
   "display_name": "Python 3",
   "language": "python",
   "name": "python3"
  },
  "language_info": {
   "codemirror_mode": {
    "name": "ipython",
    "version": 3
   },
   "file_extension": ".py",
   "mimetype": "text/x-python",
   "name": "python",
   "nbconvert_exporter": "python",
   "pygments_lexer": "ipython3",
   "version": "3.6.3"
  }
 },
 "nbformat": 4,
 "nbformat_minor": 2
}
