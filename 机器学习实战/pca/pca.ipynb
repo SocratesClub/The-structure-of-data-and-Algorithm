{
 "cells": [
  {
   "cell_type": "code",
   "execution_count": 2,
   "metadata": {
    "collapsed": true
   },
   "outputs": [],
   "source": [
    "#导入必要的包\n",
    "import numpy as np"
   ]
  },
  {
   "cell_type": "code",
   "execution_count": 3,
   "metadata": {
    "collapsed": true
   },
   "outputs": [],
   "source": [
    "def loadDataSet(file):  #加载数据集\n",
    "    f = open(file)\n",
    "    retMat = []\n",
    "    for line in f.readlines():\n",
    "        lineArr = line.strip().split()\n",
    "        lineArr = list(map(float, lineArr))\n",
    "        retMat.append(lineArr)\n",
    "    return np.mat(retMat)\n",
    "\n",
    "def pca(dataSet, topNfeat = 99999):  #输入数据集和降维成多少维\n",
    "    meanVals = np.mean(dataSet, axis = 0)  #计算特征值\n",
    "    meanRemoved = dataSet - meanVals      #去除均值\n",
    "    covMat = np.cov(meanRemoved, rowvar = 0)\n",
    "    eigVals, eigVects = np.linalg.eig(np.mat(covMat))  #将协方差矩阵conMat换成矩阵形式\n",
    "    eigValSort = eigVals.argsort()\n",
    "    newVects = eigVects[:-(topNfeat + 1):-1]   #最大的特征值对应的特征向量\n",
    "    lowDimVects = eigVects * newVects   #计算转换后的特征矩阵\n",
    "    reconMat = lowDimVects * newVects.T  + meanVals\n",
    "    return lowDimVects, reconMat\n",
    "    "
   ]
  },
  {
   "cell_type": "code",
   "execution_count": null,
   "metadata": {
    "collapsed": true
   },
   "outputs": [],
   "source": []
  }
 ],
 "metadata": {
  "kernelspec": {
   "display_name": "Python 3",
   "language": "python",
   "name": "python3"
  },
  "language_info": {
   "codemirror_mode": {
    "name": "ipython",
    "version": 3
   },
   "file_extension": ".py",
   "mimetype": "text/x-python",
   "name": "python",
   "nbconvert_exporter": "python",
   "pygments_lexer": "ipython3",
   "version": "3.6.3"
  }
 },
 "nbformat": 4,
 "nbformat_minor": 2
}
