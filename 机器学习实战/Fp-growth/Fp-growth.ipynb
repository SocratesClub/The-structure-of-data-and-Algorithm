{
 "cells": [
  {
   "cell_type": "code",
   "execution_count": 13,
   "metadata": {
    "collapsed": true
   },
   "outputs": [],
   "source": [
    "#Fp树的定义\n",
    "class treeNode:  #定义一个FP树类\n",
    "    def __init__(self, nameValue, numOccur, parentNode):\n",
    "        self.name = nameValue\n",
    "        self.count = numOccur\n",
    "        self.parent = parentNode\n",
    "        self.children = {}\n",
    "        self.nodeLink = None\n",
    "        \n",
    "    def inc(self, numOccur):  #对count变量增加给定值\n",
    "        self.count += numOccur\n",
    "        \n",
    "    def disp(self, ind = 1):  #将树以文本形式给出,ind的作用是模仿树，有空一格的作用\n",
    "        print(' '*ind, self.name, ' ', self.count)\n",
    "        for child in self.children.values():\n",
    "            child.disp(ind + 1)"
   ]
  },
  {
   "cell_type": "code",
   "execution_count": 14,
   "metadata": {},
   "outputs": [
    {
     "name": "stdout",
     "output_type": "stream",
     "text": [
      "  pyramid   9\n",
      "   eye   13\n",
      "    thirdTree   9\n",
      "   phoenix   9\n"
     ]
    }
   ],
   "source": [
    "#一些验证例子\n",
    "rootNode = treeNode('pyramid', 9, None)\n",
    "childNode = treeNode('eye', 13, None)\n",
    "rootNode.children['eye'] = childNode\n",
    "rootNode.children['phoenix'] = treeNode('phoenix', 9, None)\n",
    "childNode.children['thirdTree'] = treeNode('thirdTree', 9, None)\n",
    "rootNode.disp()"
   ]
  },
  {
   "cell_type": "code",
   "execution_count": 15,
   "metadata": {
    "collapsed": true
   },
   "outputs": [],
   "source": [
    "def createTree(dataSet, minSup = 1):  #创造FP树\n",
    "    headTable = {}\n",
    "    for trans in dataSet:\n",
    "        for item in trans:\n",
    "            headTable[item] = headTable.get(item, 0) + dataSet[trans]\n",
    "   #奇怪，下面的方法还是报错，无奈，只有换方法了！\n",
    "   # for k in headTable.keys():\n",
    "   #     if headTable[k] < minSup:\n",
    "   #        del(headTable[k])\n",
    "    \n",
    "    buff = []\n",
    "    for k in headTable.keys():\n",
    "        if headTable[k] < minSup:\n",
    "            buff.append(k)\n",
    "    for k in buff:       \n",
    "        del(headTable[k])\n",
    "        \n",
    "    freqItemSet = set(headTable.keys())#频繁项集    \n",
    "    if len(freqItemSet) == 0:\n",
    "        return None, None\n",
    "    for k in headTable:\n",
    "        headTable[k] = [headTable[k], None]  #保存名字及出现次数，并且扩展到存储指向下一个的nodeLink指针 \n",
    "    retTree = treeNode('Null Set', 1, None)\n",
    "    for tranSet, count in dataSet.items():\n",
    "        localD = {}\n",
    "        for item in tranSet:\n",
    "            if item in freqItemSet:\n",
    "                localD[item] = headTable[item][0]\n",
    "        if len(localD) > 0:\n",
    "            orderItem = [v[0] for v in sorted(localD.items(), key = lambda p: p[1], reverse = True)]\n",
    "            updataTree(orderItem, retTree, headTable, count)\n",
    "    return retTree, headTable\n",
    "\n",
    "\n",
    "def updataTree(item, inTree, headTable, count):  #更新Fp树，即增加结点\n",
    "    if item[0] in inTree.children.keys():\n",
    "        inTree.children[item[0]].inc(count)\n",
    "    else:\n",
    "        inTree.children[item[0]] = treeNode(item[0], count, inTree)\n",
    "        if headTable[item[0]][1] == None:\n",
    "            headTable[item[0]][1] = inTree.children[item[0]]\n",
    "        else:\n",
    "            updateHead(headTable[item[0]][1], inTree.children[item[0]])\n",
    "\n",
    "    if len(item) > 1:\n",
    "        updataTree(item[1:], inTree.children[item[0]], headTable, count)\n",
    "    \n",
    "def updateHead(nodeToTest, lastNode):  #连接子结点到最后一个结点\n",
    "    while nodeToTest.nodeLink != None:\n",
    "        nodeToTest = nodeToTest.nodeLink\n",
    "    nodeToTest.nodeLink = lastNode\n",
    "        \n",
    "    "
   ]
  },
  {
   "cell_type": "code",
   "execution_count": 16,
   "metadata": {
    "collapsed": true
   },
   "outputs": [],
   "source": [
    "def loadSimpleData():  #人工创造一个简单的数据\n",
    "    simpleData = [['r', 'z', 'h', 'j', 'p'],\n",
    "                 ['z', 'y', 'x', 'w', 'v', 'u', 't', 's'],\n",
    "                 ['z'],\n",
    "                 ['r', 'x', 'n', 'o', 's'],\n",
    "                 ['z', 'y', 'r', 'x',  'q', 't', 'p'],\n",
    "                 [ 'z', 'y', 'x', 'e', 'q', 's', 't', 'm']]\n",
    "    return simpleData\n",
    "\n",
    "def initDataSet(dataSet):  #初始化数据\n",
    "    retDict = {}\n",
    "    for item in dataSet:\n",
    "        retDict[frozenset(item)] = 1\n",
    "    return retDict"
   ]
  },
  {
   "cell_type": "code",
   "execution_count": 17,
   "metadata": {},
   "outputs": [
    {
     "name": "stdout",
     "output_type": "stream",
     "text": [
      "  Null Set   1\n",
      "   z   5\n",
      "    r   1\n",
      "    x   3\n",
      "     t   3\n",
      "      s   2\n",
      "       y   2\n",
      "      r   1\n",
      "       y   1\n",
      "   x   1\n",
      "    s   1\n",
      "     r   1\n"
     ]
    }
   ],
   "source": [
    "#测试上面的代码\n",
    "dataSet = loadSimpleData()\n",
    "dataSet = initDataSet(dataSet)\n",
    "retTree, headTable = createTree(dataSet, minSup = 3)\n",
    "retTree.disp()"
   ]
  },
  {
   "cell_type": "code",
   "execution_count": 18,
   "metadata": {
    "collapsed": true
   },
   "outputs": [],
   "source": [
    "def ascendTree(leafNode, prePath):  #利用前面的parent指针向上遍历整棵树\n",
    "    while leafNode.parent != None:\n",
    "        prePath.append(leafNode.name)\n",
    "        leafNode = leafNode.parent\n",
    "\n",
    "def findPrePath(baseSet, headNode):  #利用前面的headTable保留的指针向上遍历树\n",
    "    retDict = {}\n",
    "    while headNode != None:\n",
    "        prePath = []\n",
    "        ascendTree(headNode, prePath)\n",
    "        if len(prePath) > 1:\n",
    "            retDict[frozenset(prePath[1:])] = headNode.count\n",
    "        headNode = headNode.nodeLink\n",
    "    return retDict"
   ]
  },
  {
   "cell_type": "code",
   "execution_count": 19,
   "metadata": {
    "scrolled": true
   },
   "outputs": [
    {
     "name": "stdout",
     "output_type": "stream",
     "text": [
      "{frozenset({'t', 'x', 'z'}): 2, frozenset({'x'}): 1}\n"
     ]
    }
   ],
   "source": [
    "prePathSet = findPrePath('s', headTable['s'][1])\n",
    "print(prePathSet)"
   ]
  },
  {
   "cell_type": "code",
   "execution_count": 20,
   "metadata": {
    "collapsed": true
   },
   "outputs": [],
   "source": [
    "def mineTree(inTree, headTable, minSup, preFix, freqItemList):  #找出频繁项集\n",
    "    bigL = [v[0] for v in sorted(headTable.items(), key = lambda p: p[1][0])]\n",
    "    \n",
    "    for basePat in bigL:\n",
    "        newFreqSet = preFix.copy()\n",
    "        newFreqSet.add(basePat)\n",
    "        freqItemList.append(newFreqSet)\n",
    "        condPrePath = findPrePath(basePat, headTable[basePat][1])\n",
    "        myCondTree, myHead = createTree(condPrePath, minSup)\n",
    "\n",
    "        if myHead != None:\n",
    "            print('当前的条件树为：',basePat)\n",
    "            myCondTree.disp()\n",
    "            mineTree(myCondTree, myHead, minSup, newFreqSet, freqItemList)\n"
   ]
  },
  {
   "cell_type": "code",
   "execution_count": 21,
   "metadata": {
    "collapsed": true
   },
   "outputs": [
    {
     "name": "stdout",
     "output_type": "stream",
     "text": [
      "当前的条件树为： t\n",
      "  Null Set   1\n",
      "   z   3\n",
      "    x   3\n",
      "当前的条件树为： x\n",
      "  Null Set   1\n",
      "   z   3\n",
      "当前的条件树为： s\n",
      "  Null Set   1\n",
      "   x   3\n",
      "当前的条件树为： y\n",
      "  Null Set   1\n",
      "   t   3\n",
      "    x   3\n",
      "     z   3\n",
      "当前的条件树为： x\n",
      "  Null Set   1\n",
      "   t   3\n",
      "当前的条件树为： z\n",
      "  Null Set   1\n",
      "   t   3\n",
      "    x   3\n",
      "当前的条件树为： x\n",
      "  Null Set   1\n",
      "   t   3\n",
      "当前的条件树为： x\n",
      "  Null Set   1\n",
      "   z   3\n",
      "[{'r'}, {'t'}, {'t', 'z'}, {'t', 'x'}, {'t', 'x', 'z'}, {'s'}, {'s', 'x'}, {'y'}, {'t', 'y'}, {'y', 'x'}, {'t', 'y', 'x'}, {'z', 'y'}, {'t', 'z', 'y'}, {'z', 'y', 'x'}, {'t', 'z', 'y', 'x'}, {'x'}, {'z', 'x'}, {'z'}]\n"
     ]
    }
   ],
   "source": [
    "freqItems = []\n",
    "mineTree(retTree, headTable, 3, set([]), freqItems)\n",
    "print(freqItems)"
   ]
  },
  {
   "cell_type": "code",
   "execution_count": 22,
   "metadata": {},
   "outputs": [
    {
     "name": "stdout",
     "output_type": "stream",
     "text": [
      "当前的条件树为： 1\n",
      "  Null Set   1\n",
      "   6   107404\n",
      "当前的条件树为： 3\n",
      "  Null Set   1\n",
      "   6   186289\n",
      "    11   117401\n",
      "   11   9718\n",
      "当前的条件树为： 11\n",
      "  Null Set   1\n",
      "   6   117401\n",
      "当前的条件树为： 11\n",
      "  Null Set   1\n",
      "   6   261773\n",
      "[{'1'}, {'6', '1'}, {'3'}, {'11', '3'}, {'6', '11', '3'}, {'6', '3'}, {'11'}, {'6', '11'}, {'6'}]\n"
     ]
    }
   ],
   "source": [
    "def loadDataSet(file):  #打开100万条记录的文本文件\n",
    "    f = open(file)\n",
    "    return [line.strip().split() for line in f.readlines()]\n",
    "\n",
    "file = r'E:\\python编程处\\机器学习实战\\Fp-growth\\kosarak.dat'\n",
    "parseSet = loadDataSet(file)\n",
    "initSet = initDataSet(parseSet)\n",
    "retTree, headTable = createTree(initSet, minSup = 100000)\n",
    "freqItems = []\n",
    "mineTree(retTree, headTable, 100000, set([]), freqItems)\n",
    "print(freqItems)"
   ]
  },
  {
   "cell_type": "code",
   "execution_count": null,
   "metadata": {
    "collapsed": true
   },
   "outputs": [],
   "source": []
  }
 ],
 "metadata": {
  "kernelspec": {
   "display_name": "Python 3",
   "language": "python",
   "name": "python3"
  },
  "language_info": {
   "codemirror_mode": {
    "name": "ipython",
    "version": 3
   },
   "file_extension": ".py",
   "mimetype": "text/x-python",
   "name": "python",
   "nbconvert_exporter": "python",
   "pygments_lexer": "ipython3",
   "version": "3.6.3"
  }
 },
 "nbformat": 4,
 "nbformat_minor": 2
}
