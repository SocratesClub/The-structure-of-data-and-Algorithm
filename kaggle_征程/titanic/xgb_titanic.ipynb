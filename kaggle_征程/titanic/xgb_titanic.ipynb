{
  "cells": [
    {
      "metadata": {
        "_cell_guid": "eac01f79-74e2-45bf-a096-bf57a8757708",
        "_uuid": "c8fa0b417965347c5dceb34d90ac7f3e5c14f682"
      },
      "cell_type": "markdown",
      "source": "1. ### 明天上午做的事情，来调参，借助grid，以及用xgboost做一下，用bayes做一下模型\n### 想想为什么随机森林效果很差\n### 作进一步的特征提取\n### 可以直接在kernel上做啊"
    },
    {
      "metadata": {
        "_cell_guid": "af8fe692-d032-4b02-84e3-91392567f731",
        "_uuid": "646671b52c2b3a386e36c9b46de0e50ac747206a",
        "collapsed": true,
        "trusted": true,
        "_kg_hide-output": false
      },
      "cell_type": "code",
      "source": "import pandas as pd\nimport numpy as np\n%matplotlib inline\nimport matplotlib.pyplot as plt",
      "execution_count": 1,
      "outputs": []
    },
    {
      "metadata": {
        "_cell_guid": "0f3892ff-1d76-4a60-80b6-07c50cb24618",
        "_uuid": "a3a9391b9fe1822e7af5d212c7632e1406113974",
        "trusted": true,
        "_kg_hide-output": false
      },
      "cell_type": "code",
      "source": "df = pd.read_csv('../input/train.csv')\ndf.head()",
      "execution_count": 3,
      "outputs": [
        {
          "output_type": "execute_result",
          "execution_count": 3,
          "data": {
            "text/plain": "   PassengerId  Survived  Pclass  \\\n0            1         0       3   \n1            2         1       1   \n2            3         1       3   \n3            4         1       1   \n4            5         0       3   \n\n                                                Name     Sex   Age  SibSp  \\\n0                            Braund, Mr. Owen Harris    male  22.0      1   \n1  Cumings, Mrs. John Bradley (Florence Briggs Th...  female  38.0      1   \n2                             Heikkinen, Miss. Laina  female  26.0      0   \n3       Futrelle, Mrs. Jacques Heath (Lily May Peel)  female  35.0      1   \n4                           Allen, Mr. William Henry    male  35.0      0   \n\n   Parch            Ticket     Fare Cabin Embarked  \n0      0         A/5 21171   7.2500   NaN        S  \n1      0          PC 17599  71.2833   C85        C  \n2      0  STON/O2. 3101282   7.9250   NaN        S  \n3      0            113803  53.1000  C123        S  \n4      0            373450   8.0500   NaN        S  ",
            "text/html": "<div>\n<style scoped>\n    .dataframe tbody tr th:only-of-type {\n        vertical-align: middle;\n    }\n\n    .dataframe tbody tr th {\n        vertical-align: top;\n    }\n\n    .dataframe thead th {\n        text-align: right;\n    }\n</style>\n<table border=\"1\" class=\"dataframe\">\n  <thead>\n    <tr style=\"text-align: right;\">\n      <th></th>\n      <th>PassengerId</th>\n      <th>Survived</th>\n      <th>Pclass</th>\n      <th>Name</th>\n      <th>Sex</th>\n      <th>Age</th>\n      <th>SibSp</th>\n      <th>Parch</th>\n      <th>Ticket</th>\n      <th>Fare</th>\n      <th>Cabin</th>\n      <th>Embarked</th>\n    </tr>\n  </thead>\n  <tbody>\n    <tr>\n      <th>0</th>\n      <td>1</td>\n      <td>0</td>\n      <td>3</td>\n      <td>Braund, Mr. Owen Harris</td>\n      <td>male</td>\n      <td>22.0</td>\n      <td>1</td>\n      <td>0</td>\n      <td>A/5 21171</td>\n      <td>7.2500</td>\n      <td>NaN</td>\n      <td>S</td>\n    </tr>\n    <tr>\n      <th>1</th>\n      <td>2</td>\n      <td>1</td>\n      <td>1</td>\n      <td>Cumings, Mrs. John Bradley (Florence Briggs Th...</td>\n      <td>female</td>\n      <td>38.0</td>\n      <td>1</td>\n      <td>0</td>\n      <td>PC 17599</td>\n      <td>71.2833</td>\n      <td>C85</td>\n      <td>C</td>\n    </tr>\n    <tr>\n      <th>2</th>\n      <td>3</td>\n      <td>1</td>\n      <td>3</td>\n      <td>Heikkinen, Miss. Laina</td>\n      <td>female</td>\n      <td>26.0</td>\n      <td>0</td>\n      <td>0</td>\n      <td>STON/O2. 3101282</td>\n      <td>7.9250</td>\n      <td>NaN</td>\n      <td>S</td>\n    </tr>\n    <tr>\n      <th>3</th>\n      <td>4</td>\n      <td>1</td>\n      <td>1</td>\n      <td>Futrelle, Mrs. Jacques Heath (Lily May Peel)</td>\n      <td>female</td>\n      <td>35.0</td>\n      <td>1</td>\n      <td>0</td>\n      <td>113803</td>\n      <td>53.1000</td>\n      <td>C123</td>\n      <td>S</td>\n    </tr>\n    <tr>\n      <th>4</th>\n      <td>5</td>\n      <td>0</td>\n      <td>3</td>\n      <td>Allen, Mr. William Henry</td>\n      <td>male</td>\n      <td>35.0</td>\n      <td>0</td>\n      <td>0</td>\n      <td>373450</td>\n      <td>8.0500</td>\n      <td>NaN</td>\n      <td>S</td>\n    </tr>\n  </tbody>\n</table>\n</div>"
          },
          "metadata": {}
        }
      ]
    },
    {
      "metadata": {
        "_kg_hide-output": false,
        "trusted": true,
        "_uuid": "5ddad93c8b97589d0bab710bc6841066468edb31"
      },
      "cell_type": "code",
      "source": "df.to_csv('output.csv')",
      "execution_count": 8,
      "outputs": []
    },
    {
      "metadata": {
        "_cell_guid": "5a2ffdfa-8cc8-4b9c-93b1-50b2462dea84",
        "_uuid": "84753c1061c074e1bf8857c910acb19e6e43043b",
        "collapsed": true,
        "trusted": false
      },
      "cell_type": "code",
      "source": "y_train = df['Survived']  #训练集的label",
      "execution_count": null,
      "outputs": []
    },
    {
      "metadata": {
        "_cell_guid": "601102f4-83c9-4082-981d-272944673f47",
        "_uuid": "6313d14ee420fb993c7ff5cce56761808175f71f",
        "collapsed": true,
        "trusted": true
      },
      "cell_type": "code",
      "source": "'''\n画图显示中文\n'''\n#-*- coding: utf-8 -*-\nfrom matplotlib.font_manager import FontProperties\nfont = FontProperties(fname=r\"c:\\windows\\fonts\\simsun.ttc\", size=14)",
      "execution_count": 9,
      "outputs": []
    },
    {
      "metadata": {
        "_cell_guid": "1036e84f-45c3-4136-a53b-15262d3833ff",
        "_uuid": "3d9afc815da9bb86a641e11f9c9d7026390f2f47",
        "collapsed": true,
        "trusted": false
      },
      "cell_type": "code",
      "source": "df.info()",
      "execution_count": null,
      "outputs": []
    },
    {
      "metadata": {
        "_cell_guid": "fa9bbde0-435c-4619-a4ef-8e2f79a8d813",
        "_uuid": "a224896d955658884542ee7d239f48907ba11c38",
        "collapsed": true,
        "trusted": false
      },
      "cell_type": "code",
      "source": "#用图表分析一波\nfig = plt.figure()\nfig.set(alpha = 0.2)\n\nplt.subplot2grid((2, 3), (0, 0))\ndf.Survived.value_counts().plot(kind = 'bar')\nplt.ylabel('救/没救人数',fontproperties=font)\nplt.title(u'救和没有获救对比', fontproperties=font)\nplt.grid(True)\n\nplt.subplot2grid((2, 3), (0, 1))\ndf.Pclass.value_counts().plot(kind = 'bar')\nplt.ylabel('船舱等级',fontproperties=font)\nplt.title('船舱', fontproperties=font)\nplt.grid(True)\n\nplt.subplot2grid((2, 3), (0, 2))\nplt.scatter(df.Survived, df.Age)\nplt.grid(True)\nplt.title('年龄',fontproperties=font)\n\nplt.subplot2grid((2, 3), (1, 0), colspan=2)  #占举两格\ndf['Age'][df['Pclass'] == 1].plot(kind = 'kde', label = 'p1')\ndf['Age'][df['Pclass'] == 2].plot(kind = 'kde', label = 'p2')\ndf['Age'][df['Pclass'] == 3].plot(kind = 'kde', label = 'p3')\nplt.legend(loc = 'best')\nplt.title(u'各舱年龄的密度图',  fontproperties=font)\n\nplt.subplot2grid((2, 3), (1, 2))\ndf.Embarked.value_counts().plot(kind = 'bar')\nplt.title('Embarked')\nplt.grid(True)",
      "execution_count": null,
      "outputs": []
    },
    {
      "metadata": {
        "_cell_guid": "18d79577-f657-4853-a5b2-c5600870d60b",
        "_uuid": "dc4a17390ef0393b9bc3ad3886d5a7eaa455f73f",
        "collapsed": true,
        "trusted": false
      },
      "cell_type": "code",
      "source": "fig = plt.figure()\nfig.set(alpha = 0.2)\n\nSurvived_0 = df.Pclass[df.Survived == 0].value_counts()\nSurvived_1 = df.Pclass[df.Survived == 1].value_counts()\nplot_df = pd.DataFrame({'saved':Survived_1, 'Not saved':Survived_0})\n\nplot_df.plot(kind = 'bar', stacked = True)\nplt.xlabel(u'船舱等级', fontproperties = font)\nplt.ylabel(u'人数', fontproperties = font)\nplt.legend(loc = 'best')\n",
      "execution_count": null,
      "outputs": []
    },
    {
      "metadata": {
        "_cell_guid": "d7c2e590-0053-44f7-96ee-e86838d0600f",
        "_uuid": "2c4a7a7c19c8a52d37603b617e3a258ba259d19c",
        "collapsed": true,
        "trusted": false
      },
      "cell_type": "code",
      "source": "fig = plt.figure()\nfig.set(alpha = 0.2)\n\nSurvived_0 = df.Sex[df.Survived == 0].value_counts()\nSurvived_1 = df.Sex[df.Survived == 1].value_counts()\nplot_df = pd.DataFrame({'saved':Survived_1, 'Not saved':Survived_0})\n\nplot_df.plot(kind = 'bar', stacked = True)\nplt.xlabel(u'性别', fontproperties = font)\nplt.ylabel(u'人数', fontproperties = font)\nplt.legend(loc = 'best')\n",
      "execution_count": null,
      "outputs": []
    },
    {
      "metadata": {
        "_cell_guid": "d3beb589-b8d4-4073-9a53-9728302aa611",
        "_uuid": "ab4cefb107679ed1c6d6a15f8897ee5915283873",
        "collapsed": true,
        "trusted": false
      },
      "cell_type": "code",
      "source": "fig = plt.figure()\nfig.set(alpha = 0.2)\n#plt.title(u'根据各舱和性别的对别分析', fontproperties = font)\n\nax1 = fig.add_subplot(141)\ndf.Survived[df.Sex == 'female'][df.Pclass != 3].value_counts().plot(kind = 'bar', label = u'女/高')\nax1.legend(loc = 'best',  prop =  font)\nplt.ylim(ymax=500)\n\nax2 = fig.add_subplot(142)\ndf.Survived[df.Sex == 'female'][df.Pclass == 3].value_counts().plot(kind = 'bar', label = u'女/低')\nax2.legend(loc = 'best',  prop =  font)\nplt.ylim(ymax=500)\n\nax3 = fig.add_subplot(143)\ndf.Survived[df.Sex == 'male'][df.Pclass != 3].value_counts().plot(kind = 'bar', label = u'男/高')\nax3.legend(loc = 'best',  prop =  font)\nplt.ylim(ymax=500)\n\nax4 = fig.add_subplot(144)\ndf.Survived[df.Sex == 'male'][df.Pclass == 3].value_counts().plot(kind = 'bar', label = u'男/低')\nax4.legend(loc = 'best',  prop =  font)\nplt.ylim(ymax=500)",
      "execution_count": null,
      "outputs": []
    },
    {
      "metadata": {
        "_cell_guid": "1c93cf84-82d5-4761-a929-eb23155aa73d",
        "_uuid": "3e212cb3b3a90035289275f1236e67f4fd339e4b",
        "collapsed": true,
        "trusted": false
      },
      "cell_type": "code",
      "source": "fig = plt.figure()\nfig.set(alpha = 0.2)\n#plt.title(u'根据各舱和性别的对别分析', fontproperties = font)\n\nax1 = fig.add_subplot(131)\ndf.Survived[df.Embarked == 'S'].value_counts().plot(kind = 'bar', label = u'S港口')\nax1.legend(loc = 'best',  prop =  font)\nplt.ylim(ymax=500)\n\nax2 = fig.add_subplot(132)\ndf.Survived[df.Embarked == 'C'].value_counts().plot(kind = 'bar', label = u'C港口')\nax2.legend(loc = 'best',  prop =  font)\nplt.ylim(ymax=500)\n\nax3 = fig.add_subplot(133)\ndf.Survived[df.Embarked == 'Q'].value_counts().plot(kind = 'bar', label = u'Q港口')\nax3.legend(loc = 'best',  prop =  font)\nplt.ylim(ymax=500)",
      "execution_count": null,
      "outputs": []
    },
    {
      "metadata": {
        "_cell_guid": "feac84f6-69f9-4f9f-a4d4-2e473c515b73",
        "_uuid": "1575845534aad923c20547c243c732314b878a26",
        "collapsed": true,
        "trusted": false
      },
      "cell_type": "code",
      "source": "fig = plt.figure()\nfig.set(alpha = 0.2)\n\nCabin_null = df.Survived[df.Cabin.isnull()].value_counts()\nCabin_notnull = df.Survived[df.Cabin.notnull()].value_counts()\ndf_plot = pd.DataFrame({'没有标注信息':Cabin_null, '有标注信息':Cabin_notnull})\n\ndf_plot.plot(kind = 'bar', stacked = True)\nplt.xlabel(u'生存与否', fontproperties = font)\nplt.ylabel(u'人数', fontproperties = font)\nplt.legend(loc = 'best', prop = font)\n",
      "execution_count": null,
      "outputs": []
    },
    {
      "metadata": {
        "_cell_guid": "f58947d3-a671-4baa-a394-d17a28332b52",
        "_uuid": "4713388d5dd9979f151c60551ee139eaecf0bff2",
        "collapsed": true,
        "trusted": false
      },
      "cell_type": "code",
      "source": "df.head()",
      "execution_count": null,
      "outputs": []
    },
    {
      "metadata": {
        "_cell_guid": "1cafb1dd-c7c2-48b1-9723-eed5db10facf",
        "_uuid": "4ac38a850aeb621f6660c6fb2d1460a6577a4241",
        "collapsed": true,
        "trusted": false
      },
      "cell_type": "code",
      "source": "g = pd.DataFrame(df.groupby(['Parch', 'Survived']).count())\nh = pd.DataFrame(df.groupby(['SibSp', 'Survived']).count())",
      "execution_count": null,
      "outputs": []
    },
    {
      "metadata": {
        "_cell_guid": "d81af94d-3ed1-44eb-b925-8d611975a4a7",
        "_uuid": "118a5503b6a61c34b0f750ed03019a3a3494db9c",
        "collapsed": true,
        "trusted": false
      },
      "cell_type": "code",
      "source": "df.Age[df.Survived == 0].mean()\ndf.Age[df.Survived == 1].mean()",
      "execution_count": null,
      "outputs": []
    },
    {
      "metadata": {
        "_cell_guid": "74054761-6cd5-4743-8e42-13d40f8b0c89",
        "_uuid": "0f6ae7569bb90e8d4ed8252a96c3947186885f3d",
        "collapsed": true,
        "trusted": true
      },
      "cell_type": "code",
      "source": "df.head()\ndf_copy = df   #df是原始数据，不要打乱，新建备份来做",
      "execution_count": 10,
      "outputs": []
    },
    {
      "metadata": {
        "_cell_guid": "5a5ace64-5604-4afe-b47b-68b68b463791",
        "_uuid": "2c27dee151f8bec933e9e5c6fcf19c79eb3fc58c",
        "collapsed": true,
        "trusted": false
      },
      "cell_type": "code",
      "source": "df_copy.head()",
      "execution_count": null,
      "outputs": []
    },
    {
      "metadata": {
        "_cell_guid": "1bd6a48d-4752-4dc1-9f75-8749a461b412",
        "_uuid": "b83d5735b1dcab6cbb6bbc8bc1b549fb41093d5b",
        "collapsed": true,
        "trusted": true
      },
      "cell_type": "code",
      "source": "#导入必要的包\nfrom sklearn.preprocessing import StandardScaler",
      "execution_count": 11,
      "outputs": []
    },
    {
      "metadata": {
        "_cell_guid": "d20b109d-2800-492c-9138-a5f5e921610d",
        "_uuid": "f64360f9164000f2e1eec9e731ba9fef91d27428",
        "collapsed": true,
        "trusted": true
      },
      "cell_type": "code",
      "source": "#分析完图表以后，开始做训练集\n#先对Fare归一化\nscaler = StandardScaler()\ndf_copy['fare_scaled'] = scaler.fit_transform(np.array(df_copy['Fare'].values.reshape(-1, 1)))\ndf_copy.drop('Fare',axis=1, inplace=True)",
      "execution_count": 12,
      "outputs": []
    },
    {
      "metadata": {
        "_cell_guid": "9fbce1e3-0c70-48c1-a5ba-f05d1d7ea9af",
        "_uuid": "f705fbbbe403ef0be39bea9dd15207fb27aa92c0",
        "collapsed": true,
        "trusted": true
      },
      "cell_type": "code",
      "source": "#先将Sex和Pclass构造一个组合特征\ndf_copy['Sex_Pclass'] = df_copy['Sex'] + '_' + df_copy['Pclass'].map(str)  #将性别和Pclass单独组合起来成为一个新的属性",
      "execution_count": 13,
      "outputs": []
    },
    {
      "metadata": {
        "_cell_guid": "c531655f-851b-49a8-bce3-7effa1a056c4",
        "_uuid": "39b729c42f14a86643146e735061466cbf8a9dd4",
        "collapsed": true,
        "trusted": false
      },
      "cell_type": "code",
      "source": "",
      "execution_count": null,
      "outputs": []
    },
    {
      "metadata": {
        "_cell_guid": "cdf210c2-5f54-4ebb-b7c4-100c7bf8254e",
        "_uuid": "6b0f8a8024d6981795399d1ec81e56e35a8db763",
        "collapsed": true,
        "trusted": true
      },
      "cell_type": "code",
      "source": "df_copy.loc[ (df_copy.Cabin.notnull()), 'Cabin' ] = \"Yes\"\ndf_copy.loc[ (df_copy.Cabin.isnull()), 'Cabin' ] = \"No\"",
      "execution_count": 14,
      "outputs": []
    },
    {
      "metadata": {
        "_cell_guid": "5640c2b0-e402-4db2-895a-a9c7f885d80f",
        "_uuid": "1ed6e2f25304edd1029a3f3e455e4510af4e952e",
        "collapsed": true,
        "trusted": true
      },
      "cell_type": "code",
      "source": "df_copy.loc[ (df_copy.Embarked == 'S'), 'Embarked' ] = \"S\"\ndf_copy.loc[ (df_copy.Embarked != 'S'), 'Embarked' ] = \"other\"",
      "execution_count": 15,
      "outputs": []
    },
    {
      "metadata": {
        "_cell_guid": "4bc2b991-bda9-47be-ae70-0f70b2411926",
        "_uuid": "7a6775c74f67f3ec0e4042893adec0a69159b0fd",
        "collapsed": true,
        "trusted": true
      },
      "cell_type": "code",
      "source": "df_copy.loc[(df_copy.SibSp != 0), 'SibSp'] = 1\ndf_copy.loc[(df_copy.SibSp == 0), 'SibSp'] = 0\ndf_copy.loc[(df_copy.Parch != 0), 'Parch'] = 1\ndf_copy.loc[(df_copy.Parch == 0), 'Parch'] = 0",
      "execution_count": 16,
      "outputs": []
    },
    {
      "metadata": {
        "_cell_guid": "1c22d7a9-c416-4315-8e13-10b21abddb6c",
        "_uuid": "7a7707623add633eafb31932421239e006c3c586",
        "collapsed": true,
        "trusted": true
      },
      "cell_type": "code",
      "source": "#对于年龄来说，存在缺失值，稍后做\n#先将Sex和Pclass转换成one-hot，并且构造一个组合特征\ndummies_Cabin = pd.get_dummies(df_copy['Cabin'], prefix= 'Cabin')\n\ndummies_Parch = pd.get_dummies(df_copy['Parch'], prefix= 'Parch')\n\ndummies_SibSp = pd.get_dummies(df_copy['SibSp'], prefix= 'SibSp')\n\ndummies_Embarked = pd.get_dummies(df_copy['Embarked'], prefix= 'Embarked')\n\ndummies_Sex = pd.get_dummies(df_copy['Sex'], prefix= 'Sex')\n\ndummies_Pclass = pd.get_dummies(df_copy['Pclass'], prefix= 'Pclass')\n\ndummies_Sex_Pclass = pd.get_dummies(df_copy['Sex_Pclass'], prefix= 'Sex_Pclass')\n\ndf_copy = pd.concat([df_copy, dummies_Cabin, dummies_Parch, dummies_SibSp,\\\n                     dummies_Embarked, dummies_Sex, dummies_Pclass, dummies_Sex_Pclass], axis=1)\ndf_copy.drop(['Pclass', 'Sex', 'Cabin', 'Embarked', 'Sex_Pclass', 'Parch', 'SibSp'], axis=1, inplace=True)\n\n",
      "execution_count": 17,
      "outputs": []
    },
    {
      "metadata": {
        "_cell_guid": "e50a9a9f-cae1-4fee-b4e8-c46a4bf8e771",
        "_uuid": "40ac4f13d768d8f341450162d101df01d6ee3f2f",
        "collapsed": true,
        "trusted": true
      },
      "cell_type": "code",
      "source": "df_copy.drop(['Name', 'Ticket'], axis = 1, inplace = True)",
      "execution_count": 18,
      "outputs": []
    },
    {
      "metadata": {
        "_cell_guid": "84bc0234-683b-4d93-b34a-420ec6c5c06f",
        "_uuid": "72d6b336dc410e256603d824833d7c40adbc180f",
        "trusted": true
      },
      "cell_type": "code",
      "source": "df_copy.head()",
      "execution_count": 19,
      "outputs": [
        {
          "output_type": "execute_result",
          "execution_count": 19,
          "data": {
            "text/plain": "   PassengerId  Survived   Age  fare_scaled  Cabin_No  Cabin_Yes  Parch_0  \\\n0            1         0  22.0    -0.502445         1          0        1   \n1            2         1  38.0     0.786845         0          1        1   \n2            3         1  26.0    -0.488854         1          0        1   \n3            4         1  35.0     0.420730         0          1        1   \n4            5         0  35.0    -0.486337         1          0        1   \n\n   Parch_1  SibSp_0  SibSp_1        ...          Sex_male  Pclass_1  Pclass_2  \\\n0        0        0        1        ...                 1         0         0   \n1        0        0        1        ...                 0         1         0   \n2        0        1        0        ...                 0         0         0   \n3        0        0        1        ...                 0         1         0   \n4        0        1        0        ...                 1         0         0   \n\n   Pclass_3  Sex_Pclass_female_1  Sex_Pclass_female_2  Sex_Pclass_female_3  \\\n0         1                    0                    0                    0   \n1         0                    1                    0                    0   \n2         1                    0                    0                    1   \n3         0                    1                    0                    0   \n4         1                    0                    0                    0   \n\n   Sex_Pclass_male_1  Sex_Pclass_male_2  Sex_Pclass_male_3  \n0                  0                  0                  1  \n1                  0                  0                  0  \n2                  0                  0                  0  \n3                  0                  0                  0  \n4                  0                  0                  1  \n\n[5 rows x 23 columns]",
            "text/html": "<div>\n<style scoped>\n    .dataframe tbody tr th:only-of-type {\n        vertical-align: middle;\n    }\n\n    .dataframe tbody tr th {\n        vertical-align: top;\n    }\n\n    .dataframe thead th {\n        text-align: right;\n    }\n</style>\n<table border=\"1\" class=\"dataframe\">\n  <thead>\n    <tr style=\"text-align: right;\">\n      <th></th>\n      <th>PassengerId</th>\n      <th>Survived</th>\n      <th>Age</th>\n      <th>fare_scaled</th>\n      <th>Cabin_No</th>\n      <th>Cabin_Yes</th>\n      <th>Parch_0</th>\n      <th>Parch_1</th>\n      <th>SibSp_0</th>\n      <th>SibSp_1</th>\n      <th>...</th>\n      <th>Sex_male</th>\n      <th>Pclass_1</th>\n      <th>Pclass_2</th>\n      <th>Pclass_3</th>\n      <th>Sex_Pclass_female_1</th>\n      <th>Sex_Pclass_female_2</th>\n      <th>Sex_Pclass_female_3</th>\n      <th>Sex_Pclass_male_1</th>\n      <th>Sex_Pclass_male_2</th>\n      <th>Sex_Pclass_male_3</th>\n    </tr>\n  </thead>\n  <tbody>\n    <tr>\n      <th>0</th>\n      <td>1</td>\n      <td>0</td>\n      <td>22.0</td>\n      <td>-0.502445</td>\n      <td>1</td>\n      <td>0</td>\n      <td>1</td>\n      <td>0</td>\n      <td>0</td>\n      <td>1</td>\n      <td>...</td>\n      <td>1</td>\n      <td>0</td>\n      <td>0</td>\n      <td>1</td>\n      <td>0</td>\n      <td>0</td>\n      <td>0</td>\n      <td>0</td>\n      <td>0</td>\n      <td>1</td>\n    </tr>\n    <tr>\n      <th>1</th>\n      <td>2</td>\n      <td>1</td>\n      <td>38.0</td>\n      <td>0.786845</td>\n      <td>0</td>\n      <td>1</td>\n      <td>1</td>\n      <td>0</td>\n      <td>0</td>\n      <td>1</td>\n      <td>...</td>\n      <td>0</td>\n      <td>1</td>\n      <td>0</td>\n      <td>0</td>\n      <td>1</td>\n      <td>0</td>\n      <td>0</td>\n      <td>0</td>\n      <td>0</td>\n      <td>0</td>\n    </tr>\n    <tr>\n      <th>2</th>\n      <td>3</td>\n      <td>1</td>\n      <td>26.0</td>\n      <td>-0.488854</td>\n      <td>1</td>\n      <td>0</td>\n      <td>1</td>\n      <td>0</td>\n      <td>1</td>\n      <td>0</td>\n      <td>...</td>\n      <td>0</td>\n      <td>0</td>\n      <td>0</td>\n      <td>1</td>\n      <td>0</td>\n      <td>0</td>\n      <td>1</td>\n      <td>0</td>\n      <td>0</td>\n      <td>0</td>\n    </tr>\n    <tr>\n      <th>3</th>\n      <td>4</td>\n      <td>1</td>\n      <td>35.0</td>\n      <td>0.420730</td>\n      <td>0</td>\n      <td>1</td>\n      <td>1</td>\n      <td>0</td>\n      <td>0</td>\n      <td>1</td>\n      <td>...</td>\n      <td>0</td>\n      <td>1</td>\n      <td>0</td>\n      <td>0</td>\n      <td>1</td>\n      <td>0</td>\n      <td>0</td>\n      <td>0</td>\n      <td>0</td>\n      <td>0</td>\n    </tr>\n    <tr>\n      <th>4</th>\n      <td>5</td>\n      <td>0</td>\n      <td>35.0</td>\n      <td>-0.486337</td>\n      <td>1</td>\n      <td>0</td>\n      <td>1</td>\n      <td>0</td>\n      <td>1</td>\n      <td>0</td>\n      <td>...</td>\n      <td>1</td>\n      <td>0</td>\n      <td>0</td>\n      <td>1</td>\n      <td>0</td>\n      <td>0</td>\n      <td>0</td>\n      <td>0</td>\n      <td>0</td>\n      <td>1</td>\n    </tr>\n  </tbody>\n</table>\n<p>5 rows × 23 columns</p>\n</div>"
          },
          "metadata": {}
        }
      ]
    },
    {
      "metadata": {
        "_cell_guid": "111e654d-544e-4b19-83fc-c3f5c0a533f2",
        "_uuid": "9d7c9f1771b8293d2227345719b46b17e9eb3a15",
        "collapsed": true,
        "trusted": true
      },
      "cell_type": "code",
      "source": "#age目前还没有解决\n#用中位数填充缺失值\ndf_copy['Age_fill'] = df_copy.Age.fillna(df_copy.Age.mean())",
      "execution_count": 20,
      "outputs": []
    },
    {
      "metadata": {
        "_cell_guid": "a79a48d3-adc6-407c-9f62-1610ada39782",
        "_uuid": "8ef429212899322c935b87fd7ca4e8b540bcfeb8",
        "collapsed": true,
        "trusted": true
      },
      "cell_type": "code",
      "source": "scaler = StandardScaler()\ndf_copy['Age_fill_scaled'] = scaler.fit_transform(np.array(df_copy['Age_fill'].values.reshape(-1, 1)))\ndf_copy.drop(['Age_fill', 'Age'],axis=1, inplace=True)",
      "execution_count": 21,
      "outputs": []
    },
    {
      "metadata": {
        "_cell_guid": "342e84a9-7eb6-42f8-9bda-1460a26055ef",
        "_uuid": "4b179b4faeb6f4fccbe47da79a9e2cd82091e26f",
        "collapsed": true,
        "trusted": false
      },
      "cell_type": "code",
      "source": "df_copy.head()",
      "execution_count": null,
      "outputs": []
    },
    {
      "metadata": {
        "_cell_guid": "ec504112-99b3-4910-ab42-2b3da4e6bebb",
        "_uuid": "a0287bc55feefb6e73d1558568fbb7494e615ac7",
        "collapsed": true,
        "trusted": true
      },
      "cell_type": "code",
      "source": "# 我们把需要的feature字段取出来，转成numpy格式，使用scikit-learn中的LogisticRegression建模\nfrom sklearn import linear_model\n\ntrain_df = df_copy.filter(regex='Survived|Age_.*|SibSp_.*|Parch_.*|fare_.*|Cabin_.*|Embarked_.*|Sex_.*|Pclass_.*')\ntrain_np = train_df.as_matrix()\n\n# y即Survival结果\ny = train_np[:, 0]\n\n# X即特征属性值\nX = train_np[:, 1:]\n    ",
      "execution_count": 22,
      "outputs": []
    },
    {
      "metadata": {
        "_cell_guid": "f22e05f9-bb6a-4a5e-b7a5-4e5e1dbc05d5",
        "_uuid": "fa62c5510cdbdf59517cfa3895f6154a86e5500a",
        "collapsed": true,
        "trusted": false
      },
      "cell_type": "code",
      "source": "# fit到RandomForestRegressor之中\nclf = linear_model.LogisticRegression(C=1.0, penalty='l2', tol=1e-4)\nclf.fit(X, y)",
      "execution_count": null,
      "outputs": []
    },
    {
      "metadata": {
        "_cell_guid": "5e3878cf-4fc2-4977-9500-4534b0a44102",
        "_uuid": "87992d8edff0b7025a793faca8d7940d7d5ef4f3",
        "collapsed": true,
        "trusted": false
      },
      "cell_type": "code",
      "source": "pd.DataFrame({\"columns\":list(train_df.columns)[1:], \"coef\":list(clf.coef_.T)})",
      "execution_count": null,
      "outputs": []
    },
    {
      "metadata": {
        "_cell_guid": "e7d2bbe4-ac4a-4d46-bae4-8739213e9066",
        "_uuid": "9ee7b8a403e0dcdf91f8bb75d792c2a0ec325f57",
        "collapsed": true,
        "trusted": false
      },
      "cell_type": "code",
      "source": "df_test = pd.read_csv('data/test.csv')\ndf_test.head()",
      "execution_count": null,
      "outputs": []
    },
    {
      "metadata": {
        "_cell_guid": "73a1e1fb-5843-466b-91cf-27e93f82c415",
        "_uuid": "fc5bf82212ecfc7acbeee673ed0981b71d1ad45d",
        "collapsed": true,
        "trusted": false
      },
      "cell_type": "code",
      "source": "df_test.info()",
      "execution_count": null,
      "outputs": []
    },
    {
      "metadata": {
        "_cell_guid": "71df6c28-4a59-4e25-bfc0-e60c16ad1eaa",
        "_uuid": "b950c5bf61196bbbf60f0128db70333a24ef949b",
        "trusted": true
      },
      "cell_type": "code",
      "source": "#对测试集做同样的事情\n#分析完图表以后，开始做训练集\n#先对Fare归一化\ndf_test = pd.read_csv('../input/test.csv')\n\nscaler = StandardScaler()\ndf_test['Fare'] = df_test.Fare.fillna(df_test.Fare.mean())\ndf_test['fare_scaled'] = scaler.fit_transform(np.array(df_test['Fare'].values.reshape(-1, 1)))\ndf_test.drop('Fare',axis=1, inplace=True)\n\n#先将Sex和Pclass构造一个组合特征\ndf_test['Sex_Pclass'] = df_test['Sex'] + '_' + df_test['Pclass'].map(str)  #将性别和Pclass单独组合起来成为一个新的属性\n\ndf_test.loc[ (df_test.Cabin.notnull()), 'Cabin' ] = \"Yes\"\ndf_test.loc[ (df_test.Cabin.isnull()), 'Cabin' ] = \"No\"\n\ndf_test.loc[ (df_test.Embarked == 'S'), 'Embarked' ] = \"S\"\ndf_test.loc[ (df_test.Embarked != 'S'), 'Embarked' ] = \"other\"\n\ndf_test.loc[(df_test.SibSp != 0), 'SibSp'] = 1\ndf_test.loc[(df_test.SibSp == 0), 'SibSp'] = 0\ndf_test.loc[(df_test.Parch != 0), 'Parch'] = 1\ndf_test.loc[(df_test.Parch == 0), 'Parch'] = 0\n\n#对于年龄来说，存在缺失值，稍后做\n#先将Sex和Pclass转换成one-hot，并且构造一个组合特征\ndummies_Cabin = pd.get_dummies(df_test['Cabin'], prefix= 'Cabin')\n\ndummies_Parch = pd.get_dummies(df_test['Parch'], prefix= 'Parch')\n\ndummies_SibSp = pd.get_dummies(df_test['SibSp'], prefix= 'SibSp')\n\ndummies_Embarked = pd.get_dummies(df_test['Embarked'], prefix= 'Embarked')\n\ndummies_Sex = pd.get_dummies(df_test['Sex'], prefix= 'Sex')\n\ndummies_Pclass = pd.get_dummies(df_test['Pclass'], prefix= 'Pclass')\n\ndummies_Sex_Pclass = pd.get_dummies(df_test['Sex_Pclass'], prefix= 'Sex_Pclass')\n\ndf_test = pd.concat([df_test, dummies_Cabin, dummies_Parch, dummies_SibSp,\\\n                     dummies_Embarked, dummies_Sex, dummies_Pclass, dummies_Sex_Pclass], axis=1)\ndf_test.drop(['Pclass', 'Sex', 'Cabin', 'Embarked', 'Sex_Pclass', 'Parch', 'SibSp'], axis=1, inplace=True)\n\ndf_test.drop(['Name', 'Ticket'], axis = 1, inplace = True)\n\n#age目前还没有解决\n#用中位数填充缺失值\ndf_test['Age_fill'] = df_test.Age.fillna(df_test.Age.mean())\n\nscaler = StandardScaler()\ndf_test['Age_fill_scaled'] = scaler.fit_transform(np.array(df_test['Age_fill'].values.reshape(-1, 1)))\ndf_test.drop(['Age_fill', 'Age'],axis=1, inplace=True)\n",
      "execution_count": 24,
      "outputs": []
    },
    {
      "metadata": {
        "_cell_guid": "5e966f56-af4b-4049-a97f-37439f272d1f",
        "_uuid": "7b69c4b481938c3b565aeaf6a5353efb100b96a0",
        "collapsed": true,
        "trusted": true
      },
      "cell_type": "code",
      "source": "test_df = df_test.filter(regex='Age_.*|SibSp_.*|Parch_.*|fare_.*|Cabin_.*|Embarked_.*|Sex_.*|Pclass_.*')\ntest_np = test_df.as_matrix()",
      "execution_count": 25,
      "outputs": []
    },
    {
      "metadata": {
        "_cell_guid": "3c635f0f-3d4b-438e-aaec-692feb8746ca",
        "_uuid": "432595f5dd3d3b62d1a2e96f6f9b744758bf2a9a",
        "collapsed": true,
        "trusted": false
      },
      "cell_type": "code",
      "source": "#预测值\npredict_test = clf.predict(test_np)",
      "execution_count": null,
      "outputs": []
    },
    {
      "metadata": {
        "_cell_guid": "0be47ca4-3e43-4a5d-95d4-6b1301a4daa4",
        "_uuid": "f74b0c09f32536ef6a5539d773633030c2c3a42a",
        "collapsed": true,
        "trusted": false
      },
      "cell_type": "code",
      "source": "predict_test = clf.predict(test_np)\nresult = pd.DataFrame({'PassengerId':df_test['PassengerId'].as_matrix(), 'Survived':predict_test.astype(np.int32)})\n#写成标准的数据上传格式\n\nresult.to_csv(\"logistic_regression_predictions.csv\", index=False)  #",
      "execution_count": null,
      "outputs": []
    },
    {
      "metadata": {
        "_cell_guid": "730a3457-31ec-4827-8322-62c5616c1031",
        "_uuid": "5bd60fa60867ffc6acde504177aa0ec85472dfe2",
        "collapsed": true,
        "trusted": false
      },
      "cell_type": "code",
      "source": "from sklearn.learning_curve import learning_curve\n\n# 用sklearn的learning_curve得到training_score和cv_score，使用matplotlib画出learning curve\ndef plot_learning_curve(estimator, title, X, y, ylim=None, cv=None, n_jobs=1, \n                        train_sizes=np.linspace(.05, 1., 20), verbose=0, plot=True):\n    \"\"\"\n    画出data在某模型上的learning curve.\n    参数解释\n    ----------\n    estimator : 你用的分类器。\n    title : 表格的标题。\n    X : 输入的feature，numpy类型\n    y : 输入的target vector\n    ylim : tuple格式的(ymin, ymax), 设定图像中纵坐标的最低点和最高点\n    cv : 做cross-validation的时候，数据分成的份数，其中一份作为cv集，其余n-1份作为training(默认为3份)\n    n_jobs : 并行的的任务数(默认1)\n    \"\"\"\n    train_sizes, train_scores, test_scores = learning_curve(\n        estimator, X, y, cv=cv, n_jobs=n_jobs, train_sizes=train_sizes, verbose=verbose)\n    \n    train_scores_mean = np.mean(train_scores, axis=1)\n    train_scores_std = np.std(train_scores, axis=1)\n    test_scores_mean = np.mean(test_scores, axis=1)\n    test_scores_std = np.std(test_scores, axis=1)\n    \n    if plot:\n        plt.figure()\n        plt.title(title)\n        if ylim is not None:\n            plt.ylim(*ylim)\n        plt.xlabel(u\"训练样本数\")\n        plt.ylabel(u\"得分\")\n        plt.gca().invert_yaxis()\n        plt.grid()\n    \n        plt.fill_between(train_sizes, train_scores_mean - train_scores_std, train_scores_mean + train_scores_std, \n                         alpha=0.1, color=\"b\")\n        plt.fill_between(train_sizes, test_scores_mean - test_scores_std, test_scores_mean + test_scores_std, \n                         alpha=0.1, color=\"r\")\n        plt.plot(train_sizes, train_scores_mean, 'o-', color=\"b\", label=u\"训练集上得分\")\n        plt.plot(train_sizes, test_scores_mean, 'o-', color=\"r\", label=u\"交叉验证集上得分\")\n    \n        plt.legend(loc=\"best\")\n        \n        plt.draw()\n        plt.gca().invert_yaxis()\n        plt.show()\n    \n    midpoint = ((train_scores_mean[-1] + train_scores_std[-1]) + (test_scores_mean[-1] - test_scores_std[-1])) / 2\n    diff = (train_scores_mean[-1] + train_scores_std[-1]) - (test_scores_mean[-1] - test_scores_std[-1])\n    return midpoint, diff\n\nplot_learning_curve(clf, u\"学习曲线\", X, y)",
      "execution_count": null,
      "outputs": []
    },
    {
      "metadata": {
        "_cell_guid": "b8f57da8-0658-4cbe-a994-7fbf49ee677a",
        "_uuid": "2c45934004056a742d8d64196440e7d1379a3c5c",
        "collapsed": true,
        "trusted": false
      },
      "cell_type": "code",
      "source": "from sklearn import linear_model\nfrom sklearn import svm\nfrom sklearn.model_selection import cross_val_score\nfrom sklearn.ensemble import BaggingRegressor, BaggingClassifier, RandomForestClassifier, RandomForestRegressor\nfrom sklearn.tree import DecisionTreeClassifier, DecisionTreeRegressor\n\n\n#clf = linear_model.LogisticRegression(penalty = 'l2', tol = 1e-4)\n#clf = RandomForestRegressor(n_estimators=100, random_state = 0, max_depth = None)\n#clf = svm.SVC()\nclf = DecisionTreeClassifier()\n#clf = BaggingRegressor(clf, n_estimators=20, max_samples=0.8)\n    \n#trainModel = clf.fit(X, y)\n#cross_val_score(clf, X, y, cv=5)\nclf.fit(X, y)\n#clf.score(X, y)",
      "execution_count": null,
      "outputs": []
    },
    {
      "metadata": {
        "_cell_guid": "524687f8-e7a7-4a1b-841c-18bfc234fc20",
        "_uuid": "11ce2fdfc630ebd57c1f905638a7ebc6c2d883f7",
        "collapsed": true,
        "trusted": false
      },
      "cell_type": "code",
      "source": "print(cross_val_score(clf, X, y, cv=5))",
      "execution_count": null,
      "outputs": []
    },
    {
      "metadata": {
        "_cell_guid": "04caab13-c856-4f1e-9318-4dcd6c437de8",
        "_uuid": "b8e9ee60f516807b3089f9d57643aeb055ce286f",
        "collapsed": true,
        "trusted": false
      },
      "cell_type": "code",
      "source": "clf.score(X, y)",
      "execution_count": null,
      "outputs": []
    },
    {
      "metadata": {
        "_cell_guid": "c4129888-a866-41af-9ff5-dc5b15f0029e",
        "_uuid": "6149c10701846102f49a2cf51c34e17c6088e81a",
        "collapsed": true,
        "trusted": false
      },
      "cell_type": "code",
      "source": "predict_test = clf.predict(test_np)\nresult = pd.DataFrame({'PassengerId':df_test['PassengerId'].as_matrix(), 'Survived':predict_test.astype(np.int32)})\n#写成标准的数据上传格式\n\nresult.to_csv(\"pred_label/DT_predictions.csv\", index=False)  #",
      "execution_count": null,
      "outputs": []
    },
    {
      "metadata": {
        "_cell_guid": "9c7581a1-71b8-410a-be0e-9823bef3d8d6",
        "_uuid": "5e1bb6d114ce16ee730ee64218f5943544255451",
        "collapsed": true,
        "trusted": false
      },
      "cell_type": "code",
      "source": "result",
      "execution_count": null,
      "outputs": []
    },
    {
      "metadata": {
        "_cell_guid": "764ef4a9-9856-40e2-b6de-026ace41caf1",
        "_uuid": "ae91b9080a488e09ac908e4f71ac4ac496541b22",
        "trusted": true
      },
      "cell_type": "code",
      "source": "#用xgboost来做一下\nimport xgboost as xgb\nfrom xgboost.sklearn import XGBClassifier\nfrom sklearn import cross_validation, metrics\nfrom sklearn.model_selection import cross_val_score, train_test_split\nfrom sklearn.grid_search import GridSearchCV",
      "execution_count": 28,
      "outputs": []
    },
    {
      "metadata": {
        "trusted": true,
        "_uuid": "445c96c04e671a2629484f8074e7b7b78216cb91"
      },
      "cell_type": "code",
      "source": "#test_results = pd.read_csv('test_results.csv')\ndef modelfit(alg, train_x, train_y):\n\n    X_train, X_test, y_train, y_test = train_test_split(train_x, train_y, test_size=0.3, random_state=42)\n    #建模\n    alg.fit(X_train,y_train ,eval_metric='auc')\n    print(X_train.shape, X_test.shape)\n    #对训练集预测\n    dtrain_predictions = alg.predict(X_test)\n    dtrain_predprob = alg.predict_proba(X_test)[:,1]\n        \n    #输出模型的一些结果\n    print(\"\\n关于现在这个模型\")\n    print (\"准确率 : %.4g\" % metrics.accuracy_score(y_test, dtrain_predictions))\n    print (\"AUC 得分 (训练集): %f\" % metrics.roc_auc_score(y_test, dtrain_predprob))\n                \n    #feat_imp = pd.Series(alg.booster().get_fscore()).sort_values(ascending=False)\n    #feat_imp.plot(kind='bar', title='Feature Importances')\n    #plt.ylabel('Feature Importance Score')",
      "execution_count": 42,
      "outputs": []
    },
    {
      "metadata": {
        "trusted": true,
        "collapsed": true,
        "_uuid": "b47c872180dc4124ce1d6fa820bfe10289fd9d1b"
      },
      "cell_type": "code",
      "source": "xgb1 = XGBClassifier(\n        learning_rate =0.1,\n        n_estimators=1000,\n        max_depth=5,\n        min_child_weight=1,\n        gamma=0,\n        subsample=0.8,\n        colsample_bytree=0.8,\n        objective= 'binary:logistic',\n        nthread=1,\n        scale_pos_weight=1,\n        seed=27)\nmodelfit(xgb1, X, y)",
      "execution_count": 43,
      "outputs": [
        {
          "output_type": "stream",
          "text": "(623, 21) (268, 21)\n\n关于现在这个模型\n准确率 : 0.7575\nAUC 得分 (训练集): 0.826734\n",
          "name": "stdout"
        },
        {
          "output_type": "stream",
          "text": "/opt/conda/lib/python3.6/site-packages/sklearn/preprocessing/label.py:151: DeprecationWarning: The truth value of an empty array is ambiguous. Returning False, but in future this will result in an error. Use `array.size > 0` to check that an array is not empty.\n  if diff:\n",
          "name": "stderr"
        }
      ]
    },
    {
      "metadata": {
        "trusted": true,
        "collapsed": true,
        "_uuid": "5ddbf85cf58ab93f09fe9f822205b2b3719d6684"
      },
      "cell_type": "code",
      "source": "#对subsample 和 max_features 用grid search查找最好的参数\nparam_test1 = {\n    'max_depth':list(range(3,10,2)),\n    'min_child_weight':list(range(1,6,2))\n}\ngsearch1 = GridSearchCV(estimator = XGBClassifier( learning_rate =0.1, n_estimators=140, max_depth=5,\n                                        min_child_weight=1, gamma=0, subsample=0.8, colsample_bytree=0.8,\n                                        objective= 'binary:logistic', nthread=1, scale_pos_weight=1, seed=27), \n                       param_grid = param_test1, scoring='roc_auc',n_jobs=1,iid=False, cv=5)\ngsearch1.fit(X,y)",
      "execution_count": 45,
      "outputs": [
        {
          "output_type": "execute_result",
          "execution_count": 45,
          "data": {
            "text/plain": "GridSearchCV(cv=5, error_score='raise',\n       estimator=XGBClassifier(base_score=0.5, booster='gbtree', colsample_bylevel=1,\n       colsample_bytree=0.8, gamma=0, learning_rate=0.1, max_delta_step=0,\n       max_depth=5, min_child_weight=1, missing=None, n_estimators=140,\n       n_jobs=1, nthread=2, objective='binary:logistic', random_state=0,\n       reg_alpha=0, reg_lambda=1, scale_pos_weight=1, seed=27, silent=True,\n       subsample=0.8),\n       fit_params={}, iid=False, n_jobs=2,\n       param_grid={'max_depth': [3, 5, 7, 9], 'min_child_weight': [1, 3, 5]},\n       pre_dispatch='2*n_jobs', refit=True, scoring='roc_auc', verbose=0)"
          },
          "metadata": {}
        }
      ]
    },
    {
      "metadata": {
        "trusted": true,
        "collapsed": true,
        "_uuid": "23ee1173172608174e25601c6a13ffb3e5472994"
      },
      "cell_type": "code",
      "source": "gsearch1.grid_scores_, gsearch1.best_params_, gsearch1.best_score_",
      "execution_count": 46,
      "outputs": [
        {
          "output_type": "execute_result",
          "execution_count": 46,
          "data": {
            "text/plain": "([mean: 0.87095, std: 0.02854, params: {'max_depth': 3, 'min_child_weight': 1},\n  mean: 0.87054, std: 0.02686, params: {'max_depth': 3, 'min_child_weight': 3},\n  mean: 0.87068, std: 0.02684, params: {'max_depth': 3, 'min_child_weight': 5},\n  mean: 0.87684, std: 0.03121, params: {'max_depth': 5, 'min_child_weight': 1},\n  mean: 0.87571, std: 0.02645, params: {'max_depth': 5, 'min_child_weight': 3},\n  mean: 0.87745, std: 0.02663, params: {'max_depth': 5, 'min_child_weight': 5},\n  mean: 0.87380, std: 0.02906, params: {'max_depth': 7, 'min_child_weight': 1},\n  mean: 0.87736, std: 0.02694, params: {'max_depth': 7, 'min_child_weight': 3},\n  mean: 0.87814, std: 0.02486, params: {'max_depth': 7, 'min_child_weight': 5},\n  mean: 0.87083, std: 0.02912, params: {'max_depth': 9, 'min_child_weight': 1},\n  mean: 0.87627, std: 0.02676, params: {'max_depth': 9, 'min_child_weight': 3},\n  mean: 0.87777, std: 0.02555, params: {'max_depth': 9, 'min_child_weight': 5}],\n {'max_depth': 7, 'min_child_weight': 5},\n 0.8781426266702785)"
          },
          "metadata": {}
        }
      ]
    },
    {
      "metadata": {
        "trusted": true,
        "collapsed": true,
        "_uuid": "3cb0c4ad909daa24abc2bd163d5f9f0f759c076c"
      },
      "cell_type": "code",
      "source": "param_test1 = {\n    'max_depth':[4,5,6,7,8],\n    'min_child_weight':[4,5,6]\n}\ngsearch1 = GridSearchCV(estimator = XGBClassifier( learning_rate =0.1, n_estimators=140, max_depth=7,\n                                        min_child_weight=5, gamma=0, subsample=0.8, colsample_bytree=0.8,\n                                        objective= 'binary:logistic', nthread=1, scale_pos_weight=1, seed=27), \n                       param_grid = param_test1, scoring='roc_auc',n_jobs=1,iid=False, cv=5)\ngsearch1.fit(X,y)",
      "execution_count": 49,
      "outputs": [
        {
          "output_type": "execute_result",
          "execution_count": 49,
          "data": {
            "text/plain": "GridSearchCV(cv=5, error_score='raise',\n       estimator=XGBClassifier(base_score=0.5, booster='gbtree', colsample_bylevel=1,\n       colsample_bytree=0.8, gamma=0, learning_rate=0.1, max_delta_step=0,\n       max_depth=7, min_child_weight=5, missing=None, n_estimators=140,\n       n_jobs=1, nthread=1, objective='binary:logistic', random_state=0,\n       reg_alpha=0, reg_lambda=1, scale_pos_weight=1, seed=27, silent=True,\n       subsample=0.8),\n       fit_params={}, iid=False, n_jobs=1,\n       param_grid={'max_depth': [4, 5, 6, 7, 8], 'min_child_weight': [4, 5, 6]},\n       pre_dispatch='2*n_jobs', refit=True, scoring='roc_auc', verbose=0)"
          },
          "metadata": {}
        }
      ]
    },
    {
      "metadata": {
        "trusted": true,
        "collapsed": true,
        "_uuid": "fc225af1390e6e57d96d3d4204a6336d759dca6f"
      },
      "cell_type": "code",
      "source": "gsearch1.grid_scores_, gsearch1.best_params_, gsearch1.best_score_",
      "execution_count": 50,
      "outputs": [
        {
          "output_type": "execute_result",
          "execution_count": 50,
          "data": {
            "text/plain": "([mean: 0.87502, std: 0.02626, params: {'max_depth': 4, 'min_child_weight': 4},\n  mean: 0.87609, std: 0.02632, params: {'max_depth': 4, 'min_child_weight': 5},\n  mean: 0.87518, std: 0.02666, params: {'max_depth': 4, 'min_child_weight': 6},\n  mean: 0.87590, std: 0.02483, params: {'max_depth': 5, 'min_child_weight': 4},\n  mean: 0.87745, std: 0.02663, params: {'max_depth': 5, 'min_child_weight': 5},\n  mean: 0.87630, std: 0.02595, params: {'max_depth': 5, 'min_child_weight': 6},\n  mean: 0.87676, std: 0.02494, params: {'max_depth': 6, 'min_child_weight': 4},\n  mean: 0.87594, std: 0.02667, params: {'max_depth': 6, 'min_child_weight': 5},\n  mean: 0.87837, std: 0.02552, params: {'max_depth': 6, 'min_child_weight': 6},\n  mean: 0.87755, std: 0.02530, params: {'max_depth': 7, 'min_child_weight': 4},\n  mean: 0.87814, std: 0.02486, params: {'max_depth': 7, 'min_child_weight': 5},\n  mean: 0.87737, std: 0.02692, params: {'max_depth': 7, 'min_child_weight': 6},\n  mean: 0.87669, std: 0.02424, params: {'max_depth': 8, 'min_child_weight': 4},\n  mean: 0.87854, std: 0.02594, params: {'max_depth': 8, 'min_child_weight': 5},\n  mean: 0.87712, std: 0.02596, params: {'max_depth': 8, 'min_child_weight': 6}],\n {'max_depth': 8, 'min_child_weight': 5},\n 0.8785422101538153)"
          },
          "metadata": {}
        }
      ]
    },
    {
      "metadata": {
        "trusted": true,
        "collapsed": true,
        "_uuid": "89e2c58b5e9e784cad3ca4c687deb19055ef20d2"
      },
      "cell_type": "code",
      "source": "param_test1 = {\n    'min_child_weight':[5,6,7,8,10]\n}\ngsearch1 = GridSearchCV(estimator = XGBClassifier( learning_rate =0.1, n_estimators=140, max_depth=8,\n                                        min_child_weight=5, gamma=0, subsample=0.8, colsample_bytree=0.8,\n                                        objective= 'binary:logistic', nthread=1, scale_pos_weight=1, seed=27), \n                       param_grid = param_test1, scoring='roc_auc',n_jobs=1,iid=False, cv=5)\ngsearch1.fit(X,y)",
      "execution_count": 51,
      "outputs": [
        {
          "output_type": "execute_result",
          "execution_count": 51,
          "data": {
            "text/plain": "GridSearchCV(cv=5, error_score='raise',\n       estimator=XGBClassifier(base_score=0.5, booster='gbtree', colsample_bylevel=1,\n       colsample_bytree=0.8, gamma=0, learning_rate=0.1, max_delta_step=0,\n       max_depth=8, min_child_weight=5, missing=None, n_estimators=140,\n       n_jobs=1, nthread=1, objective='binary:logistic', random_state=0,\n       reg_alpha=0, reg_lambda=1, scale_pos_weight=1, seed=27, silent=True,\n       subsample=0.8),\n       fit_params={}, iid=False, n_jobs=1,\n       param_grid={'min_child_weight': [5, 6, 7, 8, 10]},\n       pre_dispatch='2*n_jobs', refit=True, scoring='roc_auc', verbose=0)"
          },
          "metadata": {}
        }
      ]
    },
    {
      "metadata": {
        "trusted": true,
        "collapsed": true,
        "_uuid": "04378d3f270a3ba854bbcaa080b993edf2eaf3b8"
      },
      "cell_type": "code",
      "source": "gsearch1.grid_scores_, gsearch1.best_params_, gsearch1.best_score_",
      "execution_count": 52,
      "outputs": [
        {
          "output_type": "execute_result",
          "execution_count": 52,
          "data": {
            "text/plain": "([mean: 0.87854, std: 0.02594, params: {'min_child_weight': 5},\n  mean: 0.87712, std: 0.02596, params: {'min_child_weight': 6},\n  mean: 0.87701, std: 0.02558, params: {'min_child_weight': 7},\n  mean: 0.87433, std: 0.02542, params: {'min_child_weight': 8},\n  mean: 0.86903, std: 0.02478, params: {'min_child_weight': 10}],\n {'min_child_weight': 5},\n 0.8785422101538153)"
          },
          "metadata": {}
        }
      ]
    },
    {
      "metadata": {
        "trusted": true,
        "collapsed": true,
        "_uuid": "7d128c4fd676d371eb1ef475020ba6d3161a50c8"
      },
      "cell_type": "code",
      "source": "#Grid seach选择合适的gamma\nparam_test3 = {\n    'gamma':[i/10.0 for i in range(0,5)]\n}\ngsearch1 = GridSearchCV(estimator = XGBClassifier( learning_rate =0.1, n_estimators=140, max_depth=8,\n                                        min_child_weight=5, gamma=0, subsample=0.8, colsample_bytree=0.8,\n                                        objective= 'binary:logistic', nthread=1, scale_pos_weight=1, seed=27), \n                       param_grid = param_test3, scoring='roc_auc',n_jobs=1,iid=False, cv=5)\ngsearch1.fit(X,y)",
      "execution_count": 53,
      "outputs": [
        {
          "output_type": "execute_result",
          "execution_count": 53,
          "data": {
            "text/plain": "GridSearchCV(cv=5, error_score='raise',\n       estimator=XGBClassifier(base_score=0.5, booster='gbtree', colsample_bylevel=1,\n       colsample_bytree=0.8, gamma=0, learning_rate=0.1, max_delta_step=0,\n       max_depth=8, min_child_weight=5, missing=None, n_estimators=140,\n       n_jobs=1, nthread=1, objective='binary:logistic', random_state=0,\n       reg_alpha=0, reg_lambda=1, scale_pos_weight=1, seed=27, silent=True,\n       subsample=0.8),\n       fit_params={}, iid=False, n_jobs=1,\n       param_grid={'gamma': [0.0, 0.1, 0.2, 0.3, 0.4]},\n       pre_dispatch='2*n_jobs', refit=True, scoring='roc_auc', verbose=0)"
          },
          "metadata": {}
        }
      ]
    },
    {
      "metadata": {
        "trusted": true,
        "collapsed": true,
        "_uuid": "6dc626fe9ef4a8a5a2995c0dfbf925a5b7fa438d"
      },
      "cell_type": "code",
      "source": "gsearch1.grid_scores_, gsearch1.best_params_, gsearch1.best_score_",
      "execution_count": 54,
      "outputs": [
        {
          "output_type": "execute_result",
          "execution_count": 54,
          "data": {
            "text/plain": "([mean: 0.87854, std: 0.02594, params: {'gamma': 0.0},\n  mean: 0.87790, std: 0.02535, params: {'gamma': 0.1},\n  mean: 0.87797, std: 0.02538, params: {'gamma': 0.2},\n  mean: 0.87880, std: 0.02534, params: {'gamma': 0.3},\n  mean: 0.87716, std: 0.02451, params: {'gamma': 0.4}],\n {'gamma': 0.3},\n 0.8788041789584529)"
          },
          "metadata": {}
        }
      ]
    },
    {
      "metadata": {
        "trusted": true,
        "collapsed": true,
        "_uuid": "e161ee32e271af052c02d243738551fe55715155"
      },
      "cell_type": "code",
      "source": "#Grid seach选择合适的gamma\nparam_test3 = {\n    'gamma':[i/10.0 for i in range(0,5)]\n}\ngsearch1 = GridSearchCV(estimator = XGBClassifier( learning_rate =0.1, n_estimators=140, max_depth=8,\n                                        min_child_weight=5, gamma=0.3, subsample=0.8, colsample_bytree=0.8,\n                                        objective= 'binary:logistic', nthread=1, scale_pos_weight=1, seed=27), \n                       param_grid = param_test3, scoring='accuracy',n_jobs=1,iid=False, cv=5)\ngsearch1.fit(X,y)",
      "execution_count": 57,
      "outputs": [
        {
          "output_type": "stream",
          "text": "/opt/conda/lib/python3.6/site-packages/sklearn/preprocessing/label.py:151: DeprecationWarning: The truth value of an empty array is ambiguous. Returning False, but in future this will result in an error. Use `array.size > 0` to check that an array is not empty.\n  if diff:\n/opt/conda/lib/python3.6/site-packages/sklearn/preprocessing/label.py:151: DeprecationWarning: The truth value of an empty array is ambiguous. Returning False, but in future this will result in an error. Use `array.size > 0` to check that an array is not empty.\n  if diff:\n/opt/conda/lib/python3.6/site-packages/sklearn/preprocessing/label.py:151: DeprecationWarning: The truth value of an empty array is ambiguous. Returning False, but in future this will result in an error. Use `array.size > 0` to check that an array is not empty.\n  if diff:\n/opt/conda/lib/python3.6/site-packages/sklearn/preprocessing/label.py:151: DeprecationWarning: The truth value of an empty array is ambiguous. Returning False, but in future this will result in an error. Use `array.size > 0` to check that an array is not empty.\n  if diff:\n/opt/conda/lib/python3.6/site-packages/sklearn/preprocessing/label.py:151: DeprecationWarning: The truth value of an empty array is ambiguous. Returning False, but in future this will result in an error. Use `array.size > 0` to check that an array is not empty.\n  if diff:\n/opt/conda/lib/python3.6/site-packages/sklearn/preprocessing/label.py:151: DeprecationWarning: The truth value of an empty array is ambiguous. Returning False, but in future this will result in an error. Use `array.size > 0` to check that an array is not empty.\n  if diff:\n/opt/conda/lib/python3.6/site-packages/sklearn/preprocessing/label.py:151: DeprecationWarning: The truth value of an empty array is ambiguous. Returning False, but in future this will result in an error. Use `array.size > 0` to check that an array is not empty.\n  if diff:\n/opt/conda/lib/python3.6/site-packages/sklearn/preprocessing/label.py:151: DeprecationWarning: The truth value of an empty array is ambiguous. Returning False, but in future this will result in an error. Use `array.size > 0` to check that an array is not empty.\n  if diff:\n/opt/conda/lib/python3.6/site-packages/sklearn/preprocessing/label.py:151: DeprecationWarning: The truth value of an empty array is ambiguous. Returning False, but in future this will result in an error. Use `array.size > 0` to check that an array is not empty.\n  if diff:\n/opt/conda/lib/python3.6/site-packages/sklearn/preprocessing/label.py:151: DeprecationWarning: The truth value of an empty array is ambiguous. Returning False, but in future this will result in an error. Use `array.size > 0` to check that an array is not empty.\n  if diff:\n/opt/conda/lib/python3.6/site-packages/sklearn/preprocessing/label.py:151: DeprecationWarning: The truth value of an empty array is ambiguous. Returning False, but in future this will result in an error. Use `array.size > 0` to check that an array is not empty.\n  if diff:\n/opt/conda/lib/python3.6/site-packages/sklearn/preprocessing/label.py:151: DeprecationWarning: The truth value of an empty array is ambiguous. Returning False, but in future this will result in an error. Use `array.size > 0` to check that an array is not empty.\n  if diff:\n/opt/conda/lib/python3.6/site-packages/sklearn/preprocessing/label.py:151: DeprecationWarning: The truth value of an empty array is ambiguous. Returning False, but in future this will result in an error. Use `array.size > 0` to check that an array is not empty.\n  if diff:\n/opt/conda/lib/python3.6/site-packages/sklearn/preprocessing/label.py:151: DeprecationWarning: The truth value of an empty array is ambiguous. Returning False, but in future this will result in an error. Use `array.size > 0` to check that an array is not empty.\n  if diff:\n/opt/conda/lib/python3.6/site-packages/sklearn/preprocessing/label.py:151: DeprecationWarning: The truth value of an empty array is ambiguous. Returning False, but in future this will result in an error. Use `array.size > 0` to check that an array is not empty.\n  if diff:\n/opt/conda/lib/python3.6/site-packages/sklearn/preprocessing/label.py:151: DeprecationWarning: The truth value of an empty array is ambiguous. Returning False, but in future this will result in an error. Use `array.size > 0` to check that an array is not empty.\n  if diff:\n/opt/conda/lib/python3.6/site-packages/sklearn/preprocessing/label.py:151: DeprecationWarning: The truth value of an empty array is ambiguous. Returning False, but in future this will result in an error. Use `array.size > 0` to check that an array is not empty.\n  if diff:\n/opt/conda/lib/python3.6/site-packages/sklearn/preprocessing/label.py:151: DeprecationWarning: The truth value of an empty array is ambiguous. Returning False, but in future this will result in an error. Use `array.size > 0` to check that an array is not empty.\n  if diff:\n/opt/conda/lib/python3.6/site-packages/sklearn/preprocessing/label.py:151: DeprecationWarning: The truth value of an empty array is ambiguous. Returning False, but in future this will result in an error. Use `array.size > 0` to check that an array is not empty.\n  if diff:\n/opt/conda/lib/python3.6/site-packages/sklearn/preprocessing/label.py:151: DeprecationWarning: The truth value of an empty array is ambiguous. Returning False, but in future this will result in an error. Use `array.size > 0` to check that an array is not empty.\n  if diff:\n/opt/conda/lib/python3.6/site-packages/sklearn/preprocessing/label.py:151: DeprecationWarning: The truth value of an empty array is ambiguous. Returning False, but in future this will result in an error. Use `array.size > 0` to check that an array is not empty.\n  if diff:\n/opt/conda/lib/python3.6/site-packages/sklearn/preprocessing/label.py:151: DeprecationWarning: The truth value of an empty array is ambiguous. Returning False, but in future this will result in an error. Use `array.size > 0` to check that an array is not empty.\n  if diff:\n/opt/conda/lib/python3.6/site-packages/sklearn/preprocessing/label.py:151: DeprecationWarning: The truth value of an empty array is ambiguous. Returning False, but in future this will result in an error. Use `array.size > 0` to check that an array is not empty.\n  if diff:\n/opt/conda/lib/python3.6/site-packages/sklearn/preprocessing/label.py:151: DeprecationWarning: The truth value of an empty array is ambiguous. Returning False, but in future this will result in an error. Use `array.size > 0` to check that an array is not empty.\n  if diff:\n/opt/conda/lib/python3.6/site-packages/sklearn/preprocessing/label.py:151: DeprecationWarning: The truth value of an empty array is ambiguous. Returning False, but in future this will result in an error. Use `array.size > 0` to check that an array is not empty.\n  if diff:\n",
          "name": "stderr"
        },
        {
          "output_type": "execute_result",
          "execution_count": 57,
          "data": {
            "text/plain": "GridSearchCV(cv=5, error_score='raise',\n       estimator=XGBClassifier(base_score=0.5, booster='gbtree', colsample_bylevel=1,\n       colsample_bytree=0.8, gamma=0.3, learning_rate=0.1,\n       max_delta_step=0, max_depth=8, min_child_weight=5, missing=None,\n       n_estimators=140, n_jobs=1, nthread=1, objective='binary:logistic',\n       random_state=0, reg_alpha=0, reg_lambda=1, scale_pos_weight=1,\n       seed=27, silent=True, subsample=0.8),\n       fit_params={}, iid=False, n_jobs=1,\n       param_grid={'gamma': [0.0, 0.1, 0.2, 0.3, 0.4]},\n       pre_dispatch='2*n_jobs', refit=True, scoring='accuracy', verbose=0)"
          },
          "metadata": {}
        }
      ]
    },
    {
      "metadata": {
        "trusted": true,
        "collapsed": true,
        "_uuid": "4f44925e0b484cc2bc746638e9b117fd36a14226"
      },
      "cell_type": "code",
      "source": "gsearch1.grid_scores_, gsearch1.best_params_, gsearch1.best_score_",
      "execution_count": 58,
      "outputs": [
        {
          "output_type": "execute_result",
          "execution_count": 58,
          "data": {
            "text/plain": "([mean: 0.83952, std: 0.01953, params: {'gamma': 0.0},\n  mean: 0.83504, std: 0.01736, params: {'gamma': 0.1},\n  mean: 0.84178, std: 0.02147, params: {'gamma': 0.2},\n  mean: 0.83730, std: 0.02559, params: {'gamma': 0.3},\n  mean: 0.83953, std: 0.01975, params: {'gamma': 0.4}],\n {'gamma': 0.2},\n 0.8417846099723135)"
          },
          "metadata": {}
        }
      ]
    },
    {
      "metadata": {
        "trusted": true,
        "collapsed": true,
        "_uuid": "8b584e1154545412852f1a9daaba79251c3d6ecf"
      },
      "cell_type": "code",
      "source": "xgb2 = XGBClassifier(\n        learning_rate =0.1,\n        n_estimators=1000,\n        max_depth=8,\n        min_child_weight=5,\n        gamma=0.2,\n        subsample=0.8,\n        colsample_bytree=0.8,\n        objective= 'binary:logistic',\n        nthread=1,\n        scale_pos_weight=1,\n        seed=27)\nmodelfit(xgb2, X, y)",
      "execution_count": 59,
      "outputs": [
        {
          "output_type": "stream",
          "text": "(623, 21) (268, 21)\n\n关于现在这个模型\n准确率 : 0.791\nAUC 得分 (训练集): 0.840908\n",
          "name": "stdout"
        },
        {
          "output_type": "stream",
          "text": "/opt/conda/lib/python3.6/site-packages/sklearn/preprocessing/label.py:151: DeprecationWarning: The truth value of an empty array is ambiguous. Returning False, but in future this will result in an error. Use `array.size > 0` to check that an array is not empty.\n  if diff:\n",
          "name": "stderr"
        }
      ]
    },
    {
      "metadata": {
        "trusted": true,
        "collapsed": true,
        "_uuid": "812a0dcb9347e90c9b7f243493aa08f1c4b89b8b"
      },
      "cell_type": "code",
      "source": "#Grid seach选择合适的gamma\nparam_test4 = {\n    'n_estimators':[100, 200, 300,400,500,600,700,800,900,1000]\n}\ngsearch1 = GridSearchCV(estimator = XGBClassifier( learning_rate =0.1, n_estimators=140, max_depth=8,\n                                        min_child_weight=5, gamma=0.3, subsample=0.8, colsample_bytree=0.8,\n                                        objective= 'binary:logistic', nthread=1, scale_pos_weight=1, seed=27), \n                       param_grid = param_test4, scoring='accuracy',n_jobs=1,iid=False, cv=5)\ngsearch1.fit(X,y)",
      "execution_count": 60,
      "outputs": [
        {
          "output_type": "stream",
          "text": "/opt/conda/lib/python3.6/site-packages/sklearn/preprocessing/label.py:151: DeprecationWarning: The truth value of an empty array is ambiguous. Returning False, but in future this will result in an error. Use `array.size > 0` to check that an array is not empty.\n  if diff:\n/opt/conda/lib/python3.6/site-packages/sklearn/preprocessing/label.py:151: DeprecationWarning: The truth value of an empty array is ambiguous. Returning False, but in future this will result in an error. Use `array.size > 0` to check that an array is not empty.\n  if diff:\n/opt/conda/lib/python3.6/site-packages/sklearn/preprocessing/label.py:151: DeprecationWarning: The truth value of an empty array is ambiguous. Returning False, but in future this will result in an error. Use `array.size > 0` to check that an array is not empty.\n  if diff:\n/opt/conda/lib/python3.6/site-packages/sklearn/preprocessing/label.py:151: DeprecationWarning: The truth value of an empty array is ambiguous. Returning False, but in future this will result in an error. Use `array.size > 0` to check that an array is not empty.\n  if diff:\n/opt/conda/lib/python3.6/site-packages/sklearn/preprocessing/label.py:151: DeprecationWarning: The truth value of an empty array is ambiguous. Returning False, but in future this will result in an error. Use `array.size > 0` to check that an array is not empty.\n  if diff:\n/opt/conda/lib/python3.6/site-packages/sklearn/preprocessing/label.py:151: DeprecationWarning: The truth value of an empty array is ambiguous. Returning False, but in future this will result in an error. Use `array.size > 0` to check that an array is not empty.\n  if diff:\n/opt/conda/lib/python3.6/site-packages/sklearn/preprocessing/label.py:151: DeprecationWarning: The truth value of an empty array is ambiguous. Returning False, but in future this will result in an error. Use `array.size > 0` to check that an array is not empty.\n  if diff:\n/opt/conda/lib/python3.6/site-packages/sklearn/preprocessing/label.py:151: DeprecationWarning: The truth value of an empty array is ambiguous. Returning False, but in future this will result in an error. Use `array.size > 0` to check that an array is not empty.\n  if diff:\n/opt/conda/lib/python3.6/site-packages/sklearn/preprocessing/label.py:151: DeprecationWarning: The truth value of an empty array is ambiguous. Returning False, but in future this will result in an error. Use `array.size > 0` to check that an array is not empty.\n  if diff:\n/opt/conda/lib/python3.6/site-packages/sklearn/preprocessing/label.py:151: DeprecationWarning: The truth value of an empty array is ambiguous. Returning False, but in future this will result in an error. Use `array.size > 0` to check that an array is not empty.\n  if diff:\n/opt/conda/lib/python3.6/site-packages/sklearn/preprocessing/label.py:151: DeprecationWarning: The truth value of an empty array is ambiguous. Returning False, but in future this will result in an error. Use `array.size > 0` to check that an array is not empty.\n  if diff:\n/opt/conda/lib/python3.6/site-packages/sklearn/preprocessing/label.py:151: DeprecationWarning: The truth value of an empty array is ambiguous. Returning False, but in future this will result in an error. Use `array.size > 0` to check that an array is not empty.\n  if diff:\n/opt/conda/lib/python3.6/site-packages/sklearn/preprocessing/label.py:151: DeprecationWarning: The truth value of an empty array is ambiguous. Returning False, but in future this will result in an error. Use `array.size > 0` to check that an array is not empty.\n  if diff:\n/opt/conda/lib/python3.6/site-packages/sklearn/preprocessing/label.py:151: DeprecationWarning: The truth value of an empty array is ambiguous. Returning False, but in future this will result in an error. Use `array.size > 0` to check that an array is not empty.\n  if diff:\n/opt/conda/lib/python3.6/site-packages/sklearn/preprocessing/label.py:151: DeprecationWarning: The truth value of an empty array is ambiguous. Returning False, but in future this will result in an error. Use `array.size > 0` to check that an array is not empty.\n  if diff:\n/opt/conda/lib/python3.6/site-packages/sklearn/preprocessing/label.py:151: DeprecationWarning: The truth value of an empty array is ambiguous. Returning False, but in future this will result in an error. Use `array.size > 0` to check that an array is not empty.\n  if diff:\n/opt/conda/lib/python3.6/site-packages/sklearn/preprocessing/label.py:151: DeprecationWarning: The truth value of an empty array is ambiguous. Returning False, but in future this will result in an error. Use `array.size > 0` to check that an array is not empty.\n  if diff:\n/opt/conda/lib/python3.6/site-packages/sklearn/preprocessing/label.py:151: DeprecationWarning: The truth value of an empty array is ambiguous. Returning False, but in future this will result in an error. Use `array.size > 0` to check that an array is not empty.\n  if diff:\n/opt/conda/lib/python3.6/site-packages/sklearn/preprocessing/label.py:151: DeprecationWarning: The truth value of an empty array is ambiguous. Returning False, but in future this will result in an error. Use `array.size > 0` to check that an array is not empty.\n  if diff:\n/opt/conda/lib/python3.6/site-packages/sklearn/preprocessing/label.py:151: DeprecationWarning: The truth value of an empty array is ambiguous. Returning False, but in future this will result in an error. Use `array.size > 0` to check that an array is not empty.\n  if diff:\n/opt/conda/lib/python3.6/site-packages/sklearn/preprocessing/label.py:151: DeprecationWarning: The truth value of an empty array is ambiguous. Returning False, but in future this will result in an error. Use `array.size > 0` to check that an array is not empty.\n  if diff:\n/opt/conda/lib/python3.6/site-packages/sklearn/preprocessing/label.py:151: DeprecationWarning: The truth value of an empty array is ambiguous. Returning False, but in future this will result in an error. Use `array.size > 0` to check that an array is not empty.\n  if diff:\n/opt/conda/lib/python3.6/site-packages/sklearn/preprocessing/label.py:151: DeprecationWarning: The truth value of an empty array is ambiguous. Returning False, but in future this will result in an error. Use `array.size > 0` to check that an array is not empty.\n  if diff:\n/opt/conda/lib/python3.6/site-packages/sklearn/preprocessing/label.py:151: DeprecationWarning: The truth value of an empty array is ambiguous. Returning False, but in future this will result in an error. Use `array.size > 0` to check that an array is not empty.\n  if diff:\n/opt/conda/lib/python3.6/site-packages/sklearn/preprocessing/label.py:151: DeprecationWarning: The truth value of an empty array is ambiguous. Returning False, but in future this will result in an error. Use `array.size > 0` to check that an array is not empty.\n  if diff:\n/opt/conda/lib/python3.6/site-packages/sklearn/preprocessing/label.py:151: DeprecationWarning: The truth value of an empty array is ambiguous. Returning False, but in future this will result in an error. Use `array.size > 0` to check that an array is not empty.\n  if diff:\n/opt/conda/lib/python3.6/site-packages/sklearn/preprocessing/label.py:151: DeprecationWarning: The truth value of an empty array is ambiguous. Returning False, but in future this will result in an error. Use `array.size > 0` to check that an array is not empty.\n  if diff:\n/opt/conda/lib/python3.6/site-packages/sklearn/preprocessing/label.py:151: DeprecationWarning: The truth value of an empty array is ambiguous. Returning False, but in future this will result in an error. Use `array.size > 0` to check that an array is not empty.\n  if diff:\n/opt/conda/lib/python3.6/site-packages/sklearn/preprocessing/label.py:151: DeprecationWarning: The truth value of an empty array is ambiguous. Returning False, but in future this will result in an error. Use `array.size > 0` to check that an array is not empty.\n  if diff:\n/opt/conda/lib/python3.6/site-packages/sklearn/preprocessing/label.py:151: DeprecationWarning: The truth value of an empty array is ambiguous. Returning False, but in future this will result in an error. Use `array.size > 0` to check that an array is not empty.\n  if diff:\n/opt/conda/lib/python3.6/site-packages/sklearn/preprocessing/label.py:151: DeprecationWarning: The truth value of an empty array is ambiguous. Returning False, but in future this will result in an error. Use `array.size > 0` to check that an array is not empty.\n  if diff:\n",
          "name": "stderr"
        },
        {
          "output_type": "stream",
          "text": "/opt/conda/lib/python3.6/site-packages/sklearn/preprocessing/label.py:151: DeprecationWarning: The truth value of an empty array is ambiguous. Returning False, but in future this will result in an error. Use `array.size > 0` to check that an array is not empty.\n  if diff:\n/opt/conda/lib/python3.6/site-packages/sklearn/preprocessing/label.py:151: DeprecationWarning: The truth value of an empty array is ambiguous. Returning False, but in future this will result in an error. Use `array.size > 0` to check that an array is not empty.\n  if diff:\n/opt/conda/lib/python3.6/site-packages/sklearn/preprocessing/label.py:151: DeprecationWarning: The truth value of an empty array is ambiguous. Returning False, but in future this will result in an error. Use `array.size > 0` to check that an array is not empty.\n  if diff:\n/opt/conda/lib/python3.6/site-packages/sklearn/preprocessing/label.py:151: DeprecationWarning: The truth value of an empty array is ambiguous. Returning False, but in future this will result in an error. Use `array.size > 0` to check that an array is not empty.\n  if diff:\n/opt/conda/lib/python3.6/site-packages/sklearn/preprocessing/label.py:151: DeprecationWarning: The truth value of an empty array is ambiguous. Returning False, but in future this will result in an error. Use `array.size > 0` to check that an array is not empty.\n  if diff:\n/opt/conda/lib/python3.6/site-packages/sklearn/preprocessing/label.py:151: DeprecationWarning: The truth value of an empty array is ambiguous. Returning False, but in future this will result in an error. Use `array.size > 0` to check that an array is not empty.\n  if diff:\n/opt/conda/lib/python3.6/site-packages/sklearn/preprocessing/label.py:151: DeprecationWarning: The truth value of an empty array is ambiguous. Returning False, but in future this will result in an error. Use `array.size > 0` to check that an array is not empty.\n  if diff:\n/opt/conda/lib/python3.6/site-packages/sklearn/preprocessing/label.py:151: DeprecationWarning: The truth value of an empty array is ambiguous. Returning False, but in future this will result in an error. Use `array.size > 0` to check that an array is not empty.\n  if diff:\n/opt/conda/lib/python3.6/site-packages/sklearn/preprocessing/label.py:151: DeprecationWarning: The truth value of an empty array is ambiguous. Returning False, but in future this will result in an error. Use `array.size > 0` to check that an array is not empty.\n  if diff:\n/opt/conda/lib/python3.6/site-packages/sklearn/preprocessing/label.py:151: DeprecationWarning: The truth value of an empty array is ambiguous. Returning False, but in future this will result in an error. Use `array.size > 0` to check that an array is not empty.\n  if diff:\n/opt/conda/lib/python3.6/site-packages/sklearn/preprocessing/label.py:151: DeprecationWarning: The truth value of an empty array is ambiguous. Returning False, but in future this will result in an error. Use `array.size > 0` to check that an array is not empty.\n  if diff:\n/opt/conda/lib/python3.6/site-packages/sklearn/preprocessing/label.py:151: DeprecationWarning: The truth value of an empty array is ambiguous. Returning False, but in future this will result in an error. Use `array.size > 0` to check that an array is not empty.\n  if diff:\n/opt/conda/lib/python3.6/site-packages/sklearn/preprocessing/label.py:151: DeprecationWarning: The truth value of an empty array is ambiguous. Returning False, but in future this will result in an error. Use `array.size > 0` to check that an array is not empty.\n  if diff:\n/opt/conda/lib/python3.6/site-packages/sklearn/preprocessing/label.py:151: DeprecationWarning: The truth value of an empty array is ambiguous. Returning False, but in future this will result in an error. Use `array.size > 0` to check that an array is not empty.\n  if diff:\n/opt/conda/lib/python3.6/site-packages/sklearn/preprocessing/label.py:151: DeprecationWarning: The truth value of an empty array is ambiguous. Returning False, but in future this will result in an error. Use `array.size > 0` to check that an array is not empty.\n  if diff:\n/opt/conda/lib/python3.6/site-packages/sklearn/preprocessing/label.py:151: DeprecationWarning: The truth value of an empty array is ambiguous. Returning False, but in future this will result in an error. Use `array.size > 0` to check that an array is not empty.\n  if diff:\n/opt/conda/lib/python3.6/site-packages/sklearn/preprocessing/label.py:151: DeprecationWarning: The truth value of an empty array is ambiguous. Returning False, but in future this will result in an error. Use `array.size > 0` to check that an array is not empty.\n  if diff:\n/opt/conda/lib/python3.6/site-packages/sklearn/preprocessing/label.py:151: DeprecationWarning: The truth value of an empty array is ambiguous. Returning False, but in future this will result in an error. Use `array.size > 0` to check that an array is not empty.\n  if diff:\n/opt/conda/lib/python3.6/site-packages/sklearn/preprocessing/label.py:151: DeprecationWarning: The truth value of an empty array is ambiguous. Returning False, but in future this will result in an error. Use `array.size > 0` to check that an array is not empty.\n  if diff:\n",
          "name": "stderr"
        },
        {
          "output_type": "execute_result",
          "execution_count": 60,
          "data": {
            "text/plain": "GridSearchCV(cv=5, error_score='raise',\n       estimator=XGBClassifier(base_score=0.5, booster='gbtree', colsample_bylevel=1,\n       colsample_bytree=0.8, gamma=0.3, learning_rate=0.1,\n       max_delta_step=0, max_depth=8, min_child_weight=5, missing=None,\n       n_estimators=140, n_jobs=1, nthread=1, objective='binary:logistic',\n       random_state=0, reg_alpha=0, reg_lambda=1, scale_pos_weight=1,\n       seed=27, silent=True, subsample=0.8),\n       fit_params={}, iid=False, n_jobs=1,\n       param_grid={'n_estimators': [100, 200, 300, 400, 500, 600, 700, 800, 900, 1000]},\n       pre_dispatch='2*n_jobs', refit=True, scoring='accuracy', verbose=0)"
          },
          "metadata": {}
        }
      ]
    },
    {
      "metadata": {
        "trusted": true,
        "collapsed": true,
        "_uuid": "e2c2d0aa7c9f4eb0ad33de46d32db54bc9b6ed8e"
      },
      "cell_type": "code",
      "source": "gsearch1.grid_scores_, gsearch1.best_params_, gsearch1.best_score_",
      "execution_count": 61,
      "outputs": [
        {
          "output_type": "execute_result",
          "execution_count": 61,
          "data": {
            "text/plain": "([mean: 0.83618, std: 0.01751, params: {'n_estimators': 100},\n  mean: 0.84178, std: 0.02265, params: {'n_estimators': 200},\n  mean: 0.84512, std: 0.01755, params: {'n_estimators': 300},\n  mean: 0.84738, std: 0.02409, params: {'n_estimators': 400},\n  mean: 0.84629, std: 0.02334, params: {'n_estimators': 500},\n  mean: 0.84627, std: 0.02457, params: {'n_estimators': 600},\n  mean: 0.84179, std: 0.02542, params: {'n_estimators': 700},\n  mean: 0.83729, std: 0.02164, params: {'n_estimators': 800},\n  mean: 0.83281, std: 0.02332, params: {'n_estimators': 900},\n  mean: 0.83394, std: 0.02225, params: {'n_estimators': 1000}],\n {'n_estimators': 400},\n 0.8473771955115759)"
          },
          "metadata": {}
        }
      ]
    },
    {
      "metadata": {
        "trusted": true,
        "collapsed": true,
        "_uuid": "767dfa6cff85cad55b825f60d75a743484267f35"
      },
      "cell_type": "code",
      "source": "#对subsample 和 colsample_bytree用grid search寻找最合适的参数\nparam_test4 = {\n    'subsample':[i/10.0 for i in range(6,10)],\n    'colsample_bytree':[i/10.0 for i in range(6,10)]\n}\n\ngsearch1 = GridSearchCV(estimator = XGBClassifier( learning_rate =0.1, n_estimators=400, max_depth=8,\n                                        min_child_weight=5, gamma=0.3, subsample=0.8, colsample_bytree=0.8,\n                                        objective= 'binary:logistic', nthread=1, scale_pos_weight=1, seed=27), \n                       param_grid = param_test4, scoring='roc_auc',n_jobs=1,iid=False, cv=5)\ngsearch1.fit(X,y)",
      "execution_count": 62,
      "outputs": [
        {
          "output_type": "execute_result",
          "execution_count": 62,
          "data": {
            "text/plain": "GridSearchCV(cv=5, error_score='raise',\n       estimator=XGBClassifier(base_score=0.5, booster='gbtree', colsample_bylevel=1,\n       colsample_bytree=0.8, gamma=0.3, learning_rate=0.1,\n       max_delta_step=0, max_depth=8, min_child_weight=5, missing=None,\n       n_estimators=400, n_jobs=1, nthread=1, objective='binary:logistic',\n       random_state=0, reg_alpha=0, reg_lambda=1, scale_pos_weight=1,\n       seed=27, silent=True, subsample=0.8),\n       fit_params={}, iid=False, n_jobs=1,\n       param_grid={'subsample': [0.6, 0.7, 0.8, 0.9], 'colsample_bytree': [0.6, 0.7, 0.8, 0.9]},\n       pre_dispatch='2*n_jobs', refit=True, scoring='roc_auc', verbose=0)"
          },
          "metadata": {}
        }
      ]
    },
    {
      "metadata": {
        "trusted": true,
        "collapsed": true,
        "_uuid": "da5a6aceb777015586e93dda526d0b82ab2e75a6"
      },
      "cell_type": "code",
      "source": "gsearch1.grid_scores_, gsearch1.best_params_, gsearch1.best_score_",
      "execution_count": 63,
      "outputs": [
        {
          "output_type": "execute_result",
          "execution_count": 63,
          "data": {
            "text/plain": "([mean: 0.87756, std: 0.02726, params: {'colsample_bytree': 0.6, 'subsample': 0.6},\n  mean: 0.87655, std: 0.02495, params: {'colsample_bytree': 0.6, 'subsample': 0.7},\n  mean: 0.87911, std: 0.02796, params: {'colsample_bytree': 0.6, 'subsample': 0.8},\n  mean: 0.87977, std: 0.02625, params: {'colsample_bytree': 0.6, 'subsample': 0.9},\n  mean: 0.87749, std: 0.02780, params: {'colsample_bytree': 0.7, 'subsample': 0.6},\n  mean: 0.88003, std: 0.02384, params: {'colsample_bytree': 0.7, 'subsample': 0.7},\n  mean: 0.87866, std: 0.02542, params: {'colsample_bytree': 0.7, 'subsample': 0.8},\n  mean: 0.87873, std: 0.02570, params: {'colsample_bytree': 0.7, 'subsample': 0.9},\n  mean: 0.87700, std: 0.02656, params: {'colsample_bytree': 0.8, 'subsample': 0.6},\n  mean: 0.88085, std: 0.02448, params: {'colsample_bytree': 0.8, 'subsample': 0.7},\n  mean: 0.87836, std: 0.02396, params: {'colsample_bytree': 0.8, 'subsample': 0.8},\n  mean: 0.87928, std: 0.02531, params: {'colsample_bytree': 0.8, 'subsample': 0.9},\n  mean: 0.87875, std: 0.02681, params: {'colsample_bytree': 0.9, 'subsample': 0.6},\n  mean: 0.87848, std: 0.02456, params: {'colsample_bytree': 0.9, 'subsample': 0.7},\n  mean: 0.87992, std: 0.02480, params: {'colsample_bytree': 0.9, 'subsample': 0.8},\n  mean: 0.87752, std: 0.02535, params: {'colsample_bytree': 0.9, 'subsample': 0.9}],\n {'colsample_bytree': 0.8, 'subsample': 0.7},\n 0.8808546479838626)"
          },
          "metadata": {}
        }
      ]
    },
    {
      "metadata": {
        "trusted": true,
        "collapsed": true,
        "_uuid": "d84238ca6bce39af60b9e318b1c8d71d23aa4915"
      },
      "cell_type": "code",
      "source": "#对subsample 和 colsample_bytree用grid search寻找最合适的参数\nparam_test4 = {\n    'subsample':[i/100.0 for i in range(65,80,5)],\n    'colsample_bytree':[i/100.0 for i in range(75,90,5)]\n}\n\ngsearch1 = GridSearchCV(estimator = XGBClassifier( learning_rate =0.1, n_estimators=400, max_depth=8,\n                                        min_child_weight=5, gamma=0.3, subsample=0.7, colsample_bytree=0.8,\n                                        objective= 'binary:logistic', nthread=1, scale_pos_weight=1, seed=27), \n                       param_grid = param_test4, scoring='roc_auc',n_jobs=1,iid=False, cv=5)\ngsearch1.fit(X,y)",
      "execution_count": 64,
      "outputs": [
        {
          "output_type": "execute_result",
          "execution_count": 64,
          "data": {
            "text/plain": "GridSearchCV(cv=5, error_score='raise',\n       estimator=XGBClassifier(base_score=0.5, booster='gbtree', colsample_bylevel=1,\n       colsample_bytree=0.8, gamma=0.3, learning_rate=0.1,\n       max_delta_step=0, max_depth=8, min_child_weight=5, missing=None,\n       n_estimators=400, n_jobs=1, nthread=1, objective='binary:logistic',\n       random_state=0, reg_alpha=0, reg_lambda=1, scale_pos_weight=1,\n       seed=27, silent=True, subsample=0.7),\n       fit_params={}, iid=False, n_jobs=1,\n       param_grid={'subsample': [0.65, 0.7, 0.75], 'colsample_bytree': [0.75, 0.8, 0.85]},\n       pre_dispatch='2*n_jobs', refit=True, scoring='roc_auc', verbose=0)"
          },
          "metadata": {}
        }
      ]
    },
    {
      "metadata": {
        "trusted": true,
        "collapsed": true,
        "_uuid": "baae368dea2a38313fc83cb39cf018d91fb50b81"
      },
      "cell_type": "code",
      "source": "gsearch1.grid_scores_, gsearch1.best_params_, gsearch1.best_score_",
      "execution_count": 65,
      "outputs": [
        {
          "output_type": "execute_result",
          "execution_count": 65,
          "data": {
            "text/plain": "([mean: 0.88066, std: 0.02508, params: {'colsample_bytree': 0.75, 'subsample': 0.65},\n  mean: 0.87988, std: 0.02683, params: {'colsample_bytree': 0.75, 'subsample': 0.7},\n  mean: 0.87957, std: 0.02592, params: {'colsample_bytree': 0.75, 'subsample': 0.75},\n  mean: 0.88075, std: 0.02545, params: {'colsample_bytree': 0.8, 'subsample': 0.65},\n  mean: 0.88085, std: 0.02448, params: {'colsample_bytree': 0.8, 'subsample': 0.7},\n  mean: 0.87921, std: 0.02629, params: {'colsample_bytree': 0.8, 'subsample': 0.75},\n  mean: 0.88000, std: 0.02648, params: {'colsample_bytree': 0.85, 'subsample': 0.65},\n  mean: 0.87756, std: 0.02487, params: {'colsample_bytree': 0.85, 'subsample': 0.7},\n  mean: 0.88084, std: 0.02765, params: {'colsample_bytree': 0.85, 'subsample': 0.75}],\n {'colsample_bytree': 0.8, 'subsample': 0.7},\n 0.8808546479838626)"
          },
          "metadata": {}
        }
      ]
    },
    {
      "metadata": {
        "trusted": true,
        "collapsed": true,
        "_uuid": "b17d83c3308976faa7315879d24012fafda99a95"
      },
      "cell_type": "code",
      "source": "#对reg_alpha用grid search寻找最合适的参数\nparam_test6 = {\n    'reg_alpha':[1e-5, 1e-2, 0.1, 0.5, 1]\n}\n\ngsearch1 = GridSearchCV(estimator = XGBClassifier( learning_rate =0.1, n_estimators=400, max_depth=8,\n                                        min_child_weight=5, gamma=0.3, subsample=0.7, colsample_bytree=0.8,\n                                        objective= 'binary:logistic', nthread=1, scale_pos_weight=1, seed=27), \n                       param_grid = param_test6, scoring='roc_auc',n_jobs=1,iid=False, cv=5)\ngsearch1.fit(X,y)",
      "execution_count": 66,
      "outputs": [
        {
          "output_type": "execute_result",
          "execution_count": 66,
          "data": {
            "text/plain": "GridSearchCV(cv=5, error_score='raise',\n       estimator=XGBClassifier(base_score=0.5, booster='gbtree', colsample_bylevel=1,\n       colsample_bytree=0.8, gamma=0.3, learning_rate=0.1,\n       max_delta_step=0, max_depth=8, min_child_weight=5, missing=None,\n       n_estimators=400, n_jobs=1, nthread=1, objective='binary:logistic',\n       random_state=0, reg_alpha=0, reg_lambda=1, scale_pos_weight=1,\n       seed=27, silent=True, subsample=0.7),\n       fit_params={}, iid=False, n_jobs=1,\n       param_grid={'reg_alpha': [1e-05, 0.01, 0.1, 0.5, 1]},\n       pre_dispatch='2*n_jobs', refit=True, scoring='roc_auc', verbose=0)"
          },
          "metadata": {}
        }
      ]
    },
    {
      "metadata": {
        "trusted": true,
        "collapsed": true,
        "_uuid": "89ea46ad3eead05c5c4c4f769b29e7756307e2a2"
      },
      "cell_type": "code",
      "source": "gsearch1.grid_scores_, gsearch1.best_params_, gsearch1.best_score_",
      "execution_count": 67,
      "outputs": [
        {
          "output_type": "execute_result",
          "execution_count": 67,
          "data": {
            "text/plain": "([mean: 0.88085, std: 0.02448, params: {'reg_alpha': 1e-05},\n  mean: 0.88071, std: 0.02531, params: {'reg_alpha': 0.01},\n  mean: 0.87956, std: 0.02662, params: {'reg_alpha': 0.1},\n  mean: 0.87954, std: 0.02588, params: {'reg_alpha': 0.5},\n  mean: 0.87990, std: 0.02460, params: {'reg_alpha': 1}],\n {'reg_alpha': 1e-05},\n 0.8808546479838626)"
          },
          "metadata": {}
        }
      ]
    },
    {
      "metadata": {
        "trusted": true,
        "collapsed": true,
        "_uuid": "b00b02c3fd2fa3daa16b75183d92f0a85f7b43a2"
      },
      "cell_type": "code",
      "source": "xgb4 = XGBClassifier(\n        learning_rate =0.01,\n        n_estimators=5000,\n        max_depth=8,\n        min_child_weight=5,\n        gamma=0.2,\n        subsample=0.7,\n        colsample_bytree=0.8,\n        reg_alpha=1e-05,\n        objective= 'binary:logistic',\n        nthread=1,\n        scale_pos_weight=1,\n        seed=27)\nmodelfit(xgb4, X, y)",
      "execution_count": 68,
      "outputs": [
        {
          "output_type": "stream",
          "text": "(623, 21) (268, 21)\n\n关于现在这个模型\n准确率 : 0.806\nAUC 得分 (训练集): 0.856200\n",
          "name": "stdout"
        },
        {
          "output_type": "stream",
          "text": "/opt/conda/lib/python3.6/site-packages/sklearn/preprocessing/label.py:151: DeprecationWarning: The truth value of an empty array is ambiguous. Returning False, but in future this will result in an error. Use `array.size > 0` to check that an array is not empty.\n  if diff:\n",
          "name": "stderr"
        }
      ]
    },
    {
      "metadata": {
        "trusted": true,
        "collapsed": true,
        "_uuid": "bf84a63e222642d95c713fb3be1bca072178a458"
      },
      "cell_type": "code",
      "source": "xgb4 = XGBClassifier(\n        learning_rate =0.01,\n        n_estimators=400,\n        max_depth=8,\n        min_child_weight=5,\n        gamma=0.2,\n        subsample=0.7,\n        colsample_bytree=0.8,\n        reg_alpha=1e-05,\n        objective= 'binary:logistic',\n        nthread=1,\n        scale_pos_weight=1,\n        seed=27)\nmodelfit(xgb4, X, y)",
      "execution_count": 69,
      "outputs": [
        {
          "output_type": "stream",
          "text": "(623, 21) (268, 21)\n\n关于现在这个模型\n准确率 : 0.7985\nAUC 得分 (训练集): 0.878723\n",
          "name": "stdout"
        },
        {
          "output_type": "stream",
          "text": "/opt/conda/lib/python3.6/site-packages/sklearn/preprocessing/label.py:151: DeprecationWarning: The truth value of an empty array is ambiguous. Returning False, but in future this will result in an error. Use `array.size > 0` to check that an array is not empty.\n  if diff:\n",
          "name": "stderr"
        }
      ]
    },
    {
      "metadata": {
        "trusted": true,
        "collapsed": true,
        "_uuid": "ee8a1f0e05bddc88df4db9215b8f8c62ea036bc4"
      },
      "cell_type": "code",
      "source": "from sklearn.ensemble import RandomForestClassifier\nfrom sklearn.svm import SVC",
      "execution_count": 76,
      "outputs": []
    },
    {
      "metadata": {
        "trusted": true,
        "_uuid": "cd5dfaf24953898813f7b6ac5307ccc6b6c1c9e9"
      },
      "cell_type": "code",
      "source": "svc1 = SVC(C=1.0, kernel='rbf', degree=3, gamma='auto',random_state=34)",
      "execution_count": 79,
      "outputs": []
    },
    {
      "metadata": {
        "trusted": true,
        "collapsed": true,
        "_uuid": "4e27a9ae83a7711ef9cb3b1babef5115a1994cdd"
      },
      "cell_type": "code",
      "source": "#对reg_alpha用grid search寻找最合适的参数\nparam_test6 = {\n    'C':[0.1, 0.5, 1, 1.5, 2]\n}\n\ngsearch1 = GridSearchCV(estimator = SVC(C=1.0, kernel='rbf', degree=3, gamma='auto',random_state=34),\n                       param_grid = param_test6, scoring='roc_auc',n_jobs=1,iid=False, cv=5)\ngsearch1.fit(X,y)",
      "execution_count": 80,
      "outputs": [
        {
          "output_type": "execute_result",
          "execution_count": 80,
          "data": {
            "text/plain": "GridSearchCV(cv=5, error_score='raise',\n       estimator=SVC(C=1.0, cache_size=200, class_weight=None, coef0=0.0,\n  decision_function_shape='ovr', degree=3, gamma='auto', kernel='rbf',\n  max_iter=-1, probability=False, random_state=34, shrinking=True,\n  tol=0.001, verbose=False),\n       fit_params={}, iid=False, n_jobs=1,\n       param_grid={'C': [0.1, 0.5, 1, 1.5, 2]}, pre_dispatch='2*n_jobs',\n       refit=True, scoring='roc_auc', verbose=0)"
          },
          "metadata": {}
        }
      ]
    },
    {
      "metadata": {
        "trusted": true,
        "collapsed": true,
        "_uuid": "50d24ffcd91fb5e160268aeac5916738c57899c0"
      },
      "cell_type": "code",
      "source": "gsearch1.grid_scores_, gsearch1.best_params_, gsearch1.best_score_",
      "execution_count": 81,
      "outputs": [
        {
          "output_type": "execute_result",
          "execution_count": 81,
          "data": {
            "text/plain": "([mean: 0.85766, std: 0.01771, params: {'C': 0.1},\n  mean: 0.84491, std: 0.02200, params: {'C': 0.5},\n  mean: 0.84485, std: 0.02249, params: {'C': 1},\n  mean: 0.85079, std: 0.02265, params: {'C': 1.5},\n  mean: 0.85180, std: 0.02254, params: {'C': 2}],\n {'C': 0.1},\n 0.857657962340029)"
          },
          "metadata": {}
        }
      ]
    },
    {
      "metadata": {
        "trusted": true,
        "_uuid": "f76d714ec2af05ed0b85b2d6c788c95b984cb468"
      },
      "cell_type": "code",
      "source": "#对reg_alpha用grid search寻找最合适的参数\nparam_test6 = {\n    'kernel':['linear', 'poly', 'rbf']\n}\n\ngsearch1 = GridSearchCV(estimator = SVC(C=0.1, kernel='rbf', degree=3, gamma='auto',random_state=34),\n                       param_grid = param_test6, scoring='accuracy',n_jobs=1,iid=False, cv=5)\ngsearch1.fit(X,y)",
      "execution_count": 83,
      "outputs": [
        {
          "output_type": "execute_result",
          "execution_count": 83,
          "data": {
            "text/plain": "GridSearchCV(cv=5, error_score='raise',\n       estimator=SVC(C=0.1, cache_size=200, class_weight=None, coef0=0.0,\n  decision_function_shape='ovr', degree=3, gamma='auto', kernel='rbf',\n  max_iter=-1, probability=False, random_state=34, shrinking=True,\n  tol=0.001, verbose=False),\n       fit_params={}, iid=False, n_jobs=1,\n       param_grid={'kernel': ['linear', 'poly', 'rbf']},\n       pre_dispatch='2*n_jobs', refit=True, scoring='accuracy', verbose=0)"
          },
          "metadata": {}
        }
      ]
    },
    {
      "metadata": {
        "trusted": true,
        "_uuid": "2b71cbc099284281a5757430117c7f8b7bbd7190"
      },
      "cell_type": "code",
      "source": "gsearch1.grid_scores_, gsearch1.best_params_, gsearch1.best_score_",
      "execution_count": 84,
      "outputs": [
        {
          "output_type": "execute_result",
          "execution_count": 84,
          "data": {
            "text/plain": "([mean: 0.77554, std: 0.02142, params: {'kernel': 'linear'},\n  mean: 0.62628, std: 0.01093, params: {'kernel': 'poly'},\n  mean: 0.78112, std: 0.01866, params: {'kernel': 'rbf'}],\n {'kernel': 'rbf'},\n 0.7811222266078962)"
          },
          "metadata": {}
        }
      ]
    },
    {
      "metadata": {
        "trusted": true,
        "collapsed": true,
        "_uuid": "c8a9c97ddba8b6480ce3d4b426f0a1767ca59f01"
      },
      "cell_type": "code",
      "source": "",
      "execution_count": null,
      "outputs": []
    }
  ],
  "metadata": {
    "kernelspec": {
      "display_name": "Python 3",
      "language": "python",
      "name": "python3"
    },
    "language_info": {
      "name": "python",
      "version": "3.6.4",
      "mimetype": "text/x-python",
      "codemirror_mode": {
        "name": "ipython",
        "version": 3
      },
      "pygments_lexer": "ipython3",
      "nbconvert_exporter": "python",
      "file_extension": ".py"
    }
  },
  "nbformat": 4,
  "nbformat_minor": 1
}