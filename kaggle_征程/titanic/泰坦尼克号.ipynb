{
 "cells": [
  {
   "cell_type": "markdown",
   "metadata": {},
   "source": [
    "# 可以用kernels直接做模型参数调整的\n",
    "### 特征问题了，晚上就做一件事把，利用训练样本进行拟合，把年龄补充好，可以train+test的所有年龄一起放进\n",
    "### RF拟合啊， 拟合完以后用SVC，xgb,训练一下，然后做出结果\n",
    "### 明天晚上看最终的模型，就是进一步特征提取\n",
    "\n",
    "### 想想为什么随机森林效果很差（树少了）\n",
    "### 可以直接在kernel上做啊\n",
    "明天上午做的事情，来调参，借助grid，以及用xgboost做一下，用bayes做一下模型"
   ]
  },
  {
   "cell_type": "code",
   "execution_count": 28,
   "metadata": {
    "collapsed": true
   },
   "outputs": [],
   "source": [
    "import pandas as pd\n",
    "import numpy as np\n",
    "%matplotlib inline\n",
    "import matplotlib.pyplot as plt\n",
    "\n",
    "#导入必要的包\n",
    "from sklearn.preprocessing import StandardScaler\n",
    "\n",
    "from sklearn import preprocessing\n",
    "\n",
    "import xgboost as xgb\n",
    "from xgboost.sklearn import XGBClassifier\n",
    "from sklearn.grid_search import GridSearchCV"
   ]
  },
  {
   "cell_type": "code",
   "execution_count": 2,
   "metadata": {
    "collapsed": true
   },
   "outputs": [],
   "source": [
    "#常用模型\n",
    "from sklearn import linear_model\n",
    "from sklearn import svm\n",
    "from sklearn.model_selection import cross_val_score\n",
    "from sklearn.ensemble import BaggingRegressor, BaggingClassifier, RandomForestClassifier, RandomForestRegressor\n",
    "from sklearn.tree import DecisionTreeClassifier, DecisionTreeRegressor"
   ]
  },
  {
   "cell_type": "code",
   "execution_count": 2,
   "metadata": {},
   "outputs": [
    {
     "data": {
      "text/html": [
       "<div>\n",
       "<style>\n",
       "    .dataframe thead tr:only-child th {\n",
       "        text-align: right;\n",
       "    }\n",
       "\n",
       "    .dataframe thead th {\n",
       "        text-align: left;\n",
       "    }\n",
       "\n",
       "    .dataframe tbody tr th {\n",
       "        vertical-align: top;\n",
       "    }\n",
       "</style>\n",
       "<table border=\"1\" class=\"dataframe\">\n",
       "  <thead>\n",
       "    <tr style=\"text-align: right;\">\n",
       "      <th></th>\n",
       "      <th>PassengerId</th>\n",
       "      <th>Survived</th>\n",
       "      <th>Pclass</th>\n",
       "      <th>Name</th>\n",
       "      <th>Sex</th>\n",
       "      <th>Age</th>\n",
       "      <th>SibSp</th>\n",
       "      <th>Parch</th>\n",
       "      <th>Ticket</th>\n",
       "      <th>Fare</th>\n",
       "      <th>Cabin</th>\n",
       "      <th>Embarked</th>\n",
       "    </tr>\n",
       "  </thead>\n",
       "  <tbody>\n",
       "    <tr>\n",
       "      <th>0</th>\n",
       "      <td>1</td>\n",
       "      <td>0</td>\n",
       "      <td>3</td>\n",
       "      <td>Braund, Mr. Owen Harris</td>\n",
       "      <td>male</td>\n",
       "      <td>22.0</td>\n",
       "      <td>1</td>\n",
       "      <td>0</td>\n",
       "      <td>A/5 21171</td>\n",
       "      <td>7.2500</td>\n",
       "      <td>NaN</td>\n",
       "      <td>S</td>\n",
       "    </tr>\n",
       "    <tr>\n",
       "      <th>1</th>\n",
       "      <td>2</td>\n",
       "      <td>1</td>\n",
       "      <td>1</td>\n",
       "      <td>Cumings, Mrs. John Bradley (Florence Briggs Th...</td>\n",
       "      <td>female</td>\n",
       "      <td>38.0</td>\n",
       "      <td>1</td>\n",
       "      <td>0</td>\n",
       "      <td>PC 17599</td>\n",
       "      <td>71.2833</td>\n",
       "      <td>C85</td>\n",
       "      <td>C</td>\n",
       "    </tr>\n",
       "    <tr>\n",
       "      <th>2</th>\n",
       "      <td>3</td>\n",
       "      <td>1</td>\n",
       "      <td>3</td>\n",
       "      <td>Heikkinen, Miss. Laina</td>\n",
       "      <td>female</td>\n",
       "      <td>26.0</td>\n",
       "      <td>0</td>\n",
       "      <td>0</td>\n",
       "      <td>STON/O2. 3101282</td>\n",
       "      <td>7.9250</td>\n",
       "      <td>NaN</td>\n",
       "      <td>S</td>\n",
       "    </tr>\n",
       "    <tr>\n",
       "      <th>3</th>\n",
       "      <td>4</td>\n",
       "      <td>1</td>\n",
       "      <td>1</td>\n",
       "      <td>Futrelle, Mrs. Jacques Heath (Lily May Peel)</td>\n",
       "      <td>female</td>\n",
       "      <td>35.0</td>\n",
       "      <td>1</td>\n",
       "      <td>0</td>\n",
       "      <td>113803</td>\n",
       "      <td>53.1000</td>\n",
       "      <td>C123</td>\n",
       "      <td>S</td>\n",
       "    </tr>\n",
       "    <tr>\n",
       "      <th>4</th>\n",
       "      <td>5</td>\n",
       "      <td>0</td>\n",
       "      <td>3</td>\n",
       "      <td>Allen, Mr. William Henry</td>\n",
       "      <td>male</td>\n",
       "      <td>35.0</td>\n",
       "      <td>0</td>\n",
       "      <td>0</td>\n",
       "      <td>373450</td>\n",
       "      <td>8.0500</td>\n",
       "      <td>NaN</td>\n",
       "      <td>S</td>\n",
       "    </tr>\n",
       "  </tbody>\n",
       "</table>\n",
       "</div>"
      ],
      "text/plain": [
       "   PassengerId  Survived  Pclass  \\\n",
       "0            1         0       3   \n",
       "1            2         1       1   \n",
       "2            3         1       3   \n",
       "3            4         1       1   \n",
       "4            5         0       3   \n",
       "\n",
       "                                                Name     Sex   Age  SibSp  \\\n",
       "0                            Braund, Mr. Owen Harris    male  22.0      1   \n",
       "1  Cumings, Mrs. John Bradley (Florence Briggs Th...  female  38.0      1   \n",
       "2                             Heikkinen, Miss. Laina  female  26.0      0   \n",
       "3       Futrelle, Mrs. Jacques Heath (Lily May Peel)  female  35.0      1   \n",
       "4                           Allen, Mr. William Henry    male  35.0      0   \n",
       "\n",
       "   Parch            Ticket     Fare Cabin Embarked  \n",
       "0      0         A/5 21171   7.2500   NaN        S  \n",
       "1      0          PC 17599  71.2833   C85        C  \n",
       "2      0  STON/O2. 3101282   7.9250   NaN        S  \n",
       "3      0            113803  53.1000  C123        S  \n",
       "4      0            373450   8.0500   NaN        S  "
      ]
     },
     "execution_count": 2,
     "metadata": {},
     "output_type": "execute_result"
    }
   ],
   "source": [
    "df = pd.read_csv('data/train.csv')\n",
    "df.head()"
   ]
  },
  {
   "cell_type": "code",
   "execution_count": 3,
   "metadata": {
    "collapsed": true
   },
   "outputs": [],
   "source": [
    "y_train = df['Survived']  #训练集的label"
   ]
  },
  {
   "cell_type": "code",
   "execution_count": 3,
   "metadata": {
    "collapsed": true
   },
   "outputs": [],
   "source": [
    "'''\n",
    "画图显示中文\n",
    "'''\n",
    "#-*- coding: utf-8 -*-\n",
    "from matplotlib.font_manager import FontProperties\n",
    "font = FontProperties(fname=r\"c:\\windows\\fonts\\simsun.ttc\", size=14)"
   ]
  },
  {
   "cell_type": "code",
   "execution_count": 22,
   "metadata": {},
   "outputs": [
    {
     "name": "stdout",
     "output_type": "stream",
     "text": [
      "<class 'pandas.core.frame.DataFrame'>\n",
      "RangeIndex: 891 entries, 0 to 890\n",
      "Data columns (total 12 columns):\n",
      "PassengerId    891 non-null int64\n",
      "Survived       891 non-null int64\n",
      "Pclass         891 non-null int64\n",
      "Name           891 non-null object\n",
      "Sex            891 non-null object\n",
      "Age            714 non-null float64\n",
      "SibSp          891 non-null int64\n",
      "Parch          891 non-null int64\n",
      "Ticket         891 non-null object\n",
      "Fare           891 non-null float64\n",
      "Cabin          204 non-null object\n",
      "Embarked       889 non-null object\n",
      "dtypes: float64(2), int64(5), object(5)\n",
      "memory usage: 83.6+ KB\n"
     ]
    }
   ],
   "source": [
    "df.info()"
   ]
  },
  {
   "cell_type": "code",
   "execution_count": 5,
   "metadata": {},
   "outputs": [
    {
     "data": {
      "image/png": "[encoded data removed]",
      "text/plain": [
       "<matplotlib.figure.Figure at 0xc7ccf8bf28>"
      ]
     },
     "metadata": {},
     "output_type": "display_data"
    }
   ],
   "source": [
    "#用图表分析一波\n",
    "fig = plt.figure()\n",
    "fig.set(alpha = 0.2)\n",
    "\n",
    "plt.subplot2grid((2, 3), (0, 0))\n",
    "df.Survived.value_counts().plot(kind = 'bar')\n",
    "plt.ylabel('救/没救人数',fontproperties=font)\n",
    "plt.title(u'救和没有获救对比', fontproperties=font)\n",
    "plt.grid(True)\n",
    "\n",
    "plt.subplot2grid((2, 3), (0, 1))\n",
    "df.Pclass.value_counts().plot(kind = 'bar')\n",
    "plt.ylabel('船舱等级',fontproperties=font)\n",
    "plt.title('船舱', fontproperties=font)\n",
    "plt.grid(True)\n",
    "\n",
    "plt.subplot2grid((2, 3), (0, 2))\n",
    "plt.scatter(df.Survived, df.Age)\n",
    "plt.grid(True)\n",
    "plt.title('年龄',fontproperties=font)\n",
    "\n",
    "plt.subplot2grid((2, 3), (1, 0), colspan=2)  #占举两格\n",
    "df['Age'][df['Pclass'] == 1].plot(kind = 'kde', label = 'p1')\n",
    "df['Age'][df['Pclass'] == 2].plot(kind = 'kde', label = 'p2')\n",
    "df['Age'][df['Pclass'] == 3].plot(kind = 'kde', label = 'p3')\n",
    "plt.legend(loc = 'best')\n",
    "plt.title(u'各舱年龄的密度图',  fontproperties=font)\n",
    "\n",
    "plt.subplot2grid((2, 3), (1, 2))\n",
    "df.Embarked.value_counts().plot(kind = 'bar')\n",
    "plt.title('Embarked')\n",
    "plt.grid(True)"
   ]
  },
  {
   "cell_type": "code",
   "execution_count": 27,
   "metadata": {},
   "outputs": [
    {
     "data": {
      "text/plain": [
       "<matplotlib.legend.Legend at 0x1ce9d2d390>"
      ]
     },
     "execution_count": 27,
     "metadata": {},
     "output_type": "execute_result"
    },
    {
     "data": {
      "text/plain": [
       "<matplotlib.figure.Figure at 0x1ceb56c550>"
      ]
     },
     "metadata": {},
     "output_type": "display_data"
    },
    {
     "data": {
      "image/png": "[encoded data removed]",
      "text/plain": [
       "<matplotlib.figure.Figure at 0x1ceb56c048>"
      ]
     },
     "metadata": {},
     "output_type": "display_data"
    }
   ],
   "source": [
    "fig = plt.figure()\n",
    "fig.set(alpha = 0.2)\n",
    "\n",
    "Survived_0 = df.Pclass[df.Survived == 0].value_counts()\n",
    "Survived_1 = df.Pclass[df.Survived == 1].value_counts()\n",
    "plot_df = pd.DataFrame({'saved':Survived_1, 'Not saved':Survived_0})\n",
    "\n",
    "plot_df.plot(kind = 'bar', stacked = True)\n",
    "plt.xlabel(u'船舱等级', fontproperties = font)\n",
    "plt.ylabel(u'人数', fontproperties = font)\n",
    "plt.legend(loc = 'best')\n"
   ]
  },
  {
   "cell_type": "code",
   "execution_count": 28,
   "metadata": {},
   "outputs": [
    {
     "data": {
      "text/plain": [
       "<matplotlib.legend.Legend at 0x1ce9d2d6a0>"
      ]
     },
     "execution_count": 28,
     "metadata": {},
     "output_type": "execute_result"
    },
    {
     "data": {
      "text/plain": [
       "<matplotlib.figure.Figure at 0x1ceb81add8>"
      ]
     },
     "metadata": {},
     "output_type": "display_data"
    },
    {
     "data": {
      "image/png": "[encoded data removed]",
      "text/plain": [
       "<matplotlib.figure.Figure at 0x1ceb56cbe0>"
      ]
     },
     "metadata": {},
     "output_type": "display_data"
    }
   ],
   "source": [
    "fig = plt.figure()\n",
    "fig.set(alpha = 0.2)\n",
    "\n",
    "Survived_0 = df.Sex[df.Survived == 0].value_counts()\n",
    "Survived_1 = df.Sex[df.Survived == 1].value_counts()\n",
    "plot_df = pd.DataFrame({'saved':Survived_1, 'Not saved':Survived_0})\n",
    "\n",
    "plot_df.plot(kind = 'bar', stacked = True)\n",
    "plt.xlabel(u'性别', fontproperties = font)\n",
    "plt.ylabel(u'人数', fontproperties = font)\n",
    "plt.legend(loc = 'best')\n"
   ]
  },
  {
   "cell_type": "code",
   "execution_count": 35,
   "metadata": {},
   "outputs": [
    {
     "data": {
      "text/plain": [
       "(0.0, 500)"
      ]
     },
     "execution_count": 35,
     "metadata": {},
     "output_type": "execute_result"
    },
    {
     "data": {
      "image/png": "[encoded data removed]",
      "text/plain": [
       "<matplotlib.figure.Figure at 0x1cec687eb8>"
      ]
     },
     "metadata": {},
     "output_type": "display_data"
    }
   ],
   "source": [
    "fig = plt.figure()\n",
    "fig.set(alpha = 0.2)\n",
    "#plt.title(u'根据各舱和性别的对别分析', fontproperties = font)\n",
    "\n",
    "ax1 = fig.add_subplot(141)\n",
    "df.Survived[df.Sex == 'female'][df.Pclass != 3].value_counts().plot(kind = 'bar', label = u'女/高')\n",
    "ax1.legend(loc = 'best',  prop =  font)\n",
    "plt.ylim(ymax=500)\n",
    "\n",
    "ax2 = fig.add_subplot(142)\n",
    "df.Survived[df.Sex == 'female'][df.Pclass == 3].value_counts().plot(kind = 'bar', label = u'女/低')\n",
    "ax2.legend(loc = 'best',  prop =  font)\n",
    "plt.ylim(ymax=500)\n",
    "\n",
    "ax3 = fig.add_subplot(143)\n",
    "df.Survived[df.Sex == 'male'][df.Pclass != 3].value_counts().plot(kind = 'bar', label = u'男/高')\n",
    "ax3.legend(loc = 'best',  prop =  font)\n",
    "plt.ylim(ymax=500)\n",
    "\n",
    "ax4 = fig.add_subplot(144)\n",
    "df.Survived[df.Sex == 'male'][df.Pclass == 3].value_counts().plot(kind = 'bar', label = u'男/低')\n",
    "ax4.legend(loc = 'best',  prop =  font)\n",
    "plt.ylim(ymax=500)"
   ]
  },
  {
   "cell_type": "code",
   "execution_count": 61,
   "metadata": {},
   "outputs": [
    {
     "data": {
      "text/plain": [
       "(0.0, 500)"
      ]
     },
     "execution_count": 61,
     "metadata": {},
     "output_type": "execute_result"
    },
    {
     "data": {
      "image/png": "[encoded data removed]",
      "text/plain": [
       "<matplotlib.figure.Figure at 0x1cec8fc940>"
      ]
     },
     "metadata": {},
     "output_type": "display_data"
    }
   ],
   "source": [
    "fig = plt.figure()\n",
    "fig.set(alpha = 0.2)\n",
    "#plt.title(u'根据各舱和性别的对别分析', fontproperties = font)\n",
    "\n",
    "ax1 = fig.add_subplot(131)\n",
    "df.Survived[df.Embarked == 'S'].value_counts().plot(kind = 'bar', label = u'S港口')\n",
    "ax1.legend(loc = 'best',  prop =  font)\n",
    "plt.ylim(ymax=500)\n",
    "\n",
    "ax2 = fig.add_subplot(132)\n",
    "df.Survived[df.Embarked == 'C'].value_counts().plot(kind = 'bar', label = u'C港口')\n",
    "ax2.legend(loc = 'best',  prop =  font)\n",
    "plt.ylim(ymax=500)\n",
    "\n",
    "ax3 = fig.add_subplot(133)\n",
    "df.Survived[df.Embarked == 'Q'].value_counts().plot(kind = 'bar', label = u'Q港口')\n",
    "ax3.legend(loc = 'best',  prop =  font)\n",
    "plt.ylim(ymax=500)"
   ]
  },
  {
   "cell_type": "code",
   "execution_count": 72,
   "metadata": {},
   "outputs": [
    {
     "data": {
      "text/plain": [
       "<matplotlib.legend.Legend at 0x1cec5cbe48>"
      ]
     },
     "execution_count": 72,
     "metadata": {},
     "output_type": "execute_result"
    },
    {
     "data": {
      "text/plain": [
       "<matplotlib.figure.Figure at 0x1cec5079e8>"
      ]
     },
     "metadata": {},
     "output_type": "display_data"
    },
    {
     "data": {
      "image/png": "[encoded data removed]",
      "text/plain": [
       "<matplotlib.figure.Figure at 0x1cec51ce10>"
      ]
     },
     "metadata": {},
     "output_type": "display_data"
    }
   ],
   "source": [
    "fig = plt.figure()\n",
    "fig.set(alpha = 0.2)\n",
    "\n",
    "Cabin_null = df.Survived[df.Cabin.isnull()].value_counts()\n",
    "Cabin_notnull = df.Survived[df.Cabin.notnull()].value_counts()\n",
    "df_plot = pd.DataFrame({'没有标注信息':Cabin_null, '有标注信息':Cabin_notnull})\n",
    "\n",
    "df_plot.plot(kind = 'bar', stacked = True)\n",
    "plt.xlabel(u'生存与否', fontproperties = font)\n",
    "plt.ylabel(u'人数', fontproperties = font)\n",
    "plt.legend(loc = 'best', prop = font)\n"
   ]
  },
  {
   "cell_type": "code",
   "execution_count": 63,
   "metadata": {},
   "outputs": [
    {
     "data": {
      "text/html": [
       "<div>\n",
       "<style>\n",
       "    .dataframe thead tr:only-child th {\n",
       "        text-align: right;\n",
       "    }\n",
       "\n",
       "    .dataframe thead th {\n",
       "        text-align: left;\n",
       "    }\n",
       "\n",
       "    .dataframe tbody tr th {\n",
       "        vertical-align: top;\n",
       "    }\n",
       "</style>\n",
       "<table border=\"1\" class=\"dataframe\">\n",
       "  <thead>\n",
       "    <tr style=\"text-align: right;\">\n",
       "      <th></th>\n",
       "      <th>PassengerId</th>\n",
       "      <th>Survived</th>\n",
       "      <th>Pclass</th>\n",
       "      <th>Name</th>\n",
       "      <th>Sex</th>\n",
       "      <th>Age</th>\n",
       "      <th>SibSp</th>\n",
       "      <th>Parch</th>\n",
       "      <th>Ticket</th>\n",
       "      <th>Fare</th>\n",
       "      <th>Cabin</th>\n",
       "      <th>Embarked</th>\n",
       "    </tr>\n",
       "  </thead>\n",
       "  <tbody>\n",
       "    <tr>\n",
       "      <th>0</th>\n",
       "      <td>1</td>\n",
       "      <td>0</td>\n",
       "      <td>3</td>\n",
       "      <td>Braund, Mr. Owen Harris</td>\n",
       "      <td>male</td>\n",
       "      <td>22.0</td>\n",
       "      <td>1</td>\n",
       "      <td>0</td>\n",
       "      <td>A/5 21171</td>\n",
       "      <td>7.2500</td>\n",
       "      <td>NaN</td>\n",
       "      <td>S</td>\n",
       "    </tr>\n",
       "    <tr>\n",
       "      <th>1</th>\n",
       "      <td>2</td>\n",
       "      <td>1</td>\n",
       "      <td>1</td>\n",
       "      <td>Cumings, Mrs. John Bradley (Florence Briggs Th...</td>\n",
       "      <td>female</td>\n",
       "      <td>38.0</td>\n",
       "      <td>1</td>\n",
       "      <td>0</td>\n",
       "      <td>PC 17599</td>\n",
       "      <td>71.2833</td>\n",
       "      <td>C85</td>\n",
       "      <td>C</td>\n",
       "    </tr>\n",
       "    <tr>\n",
       "      <th>2</th>\n",
       "      <td>3</td>\n",
       "      <td>1</td>\n",
       "      <td>3</td>\n",
       "      <td>Heikkinen, Miss. Laina</td>\n",
       "      <td>female</td>\n",
       "      <td>26.0</td>\n",
       "      <td>0</td>\n",
       "      <td>0</td>\n",
       "      <td>STON/O2. 3101282</td>\n",
       "      <td>7.9250</td>\n",
       "      <td>NaN</td>\n",
       "      <td>S</td>\n",
       "    </tr>\n",
       "    <tr>\n",
       "      <th>3</th>\n",
       "      <td>4</td>\n",
       "      <td>1</td>\n",
       "      <td>1</td>\n",
       "      <td>Futrelle, Mrs. Jacques Heath (Lily May Peel)</td>\n",
       "      <td>female</td>\n",
       "      <td>35.0</td>\n",
       "      <td>1</td>\n",
       "      <td>0</td>\n",
       "      <td>113803</td>\n",
       "      <td>53.1000</td>\n",
       "      <td>C123</td>\n",
       "      <td>S</td>\n",
       "    </tr>\n",
       "    <tr>\n",
       "      <th>4</th>\n",
       "      <td>5</td>\n",
       "      <td>0</td>\n",
       "      <td>3</td>\n",
       "      <td>Allen, Mr. William Henry</td>\n",
       "      <td>male</td>\n",
       "      <td>35.0</td>\n",
       "      <td>0</td>\n",
       "      <td>0</td>\n",
       "      <td>373450</td>\n",
       "      <td>8.0500</td>\n",
       "      <td>NaN</td>\n",
       "      <td>S</td>\n",
       "    </tr>\n",
       "  </tbody>\n",
       "</table>\n",
       "</div>"
      ],
      "text/plain": [
       "   PassengerId  Survived  Pclass  \\\n",
       "0            1         0       3   \n",
       "1            2         1       1   \n",
       "2            3         1       3   \n",
       "3            4         1       1   \n",
       "4            5         0       3   \n",
       "\n",
       "                                                Name     Sex   Age  SibSp  \\\n",
       "0                            Braund, Mr. Owen Harris    male  22.0      1   \n",
       "1  Cumings, Mrs. John Bradley (Florence Briggs Th...  female  38.0      1   \n",
       "2                             Heikkinen, Miss. Laina  female  26.0      0   \n",
       "3       Futrelle, Mrs. Jacques Heath (Lily May Peel)  female  35.0      1   \n",
       "4                           Allen, Mr. William Henry    male  35.0      0   \n",
       "\n",
       "   Parch            Ticket     Fare Cabin Embarked  \n",
       "0      0         A/5 21171   7.2500   NaN        S  \n",
       "1      0          PC 17599  71.2833   C85        C  \n",
       "2      0  STON/O2. 3101282   7.9250   NaN        S  \n",
       "3      0            113803  53.1000  C123        S  \n",
       "4      0            373450   8.0500   NaN        S  "
      ]
     },
     "execution_count": 63,
     "metadata": {},
     "output_type": "execute_result"
    }
   ],
   "source": [
    "df.head()"
   ]
  },
  {
   "cell_type": "code",
   "execution_count": 54,
   "metadata": {
    "collapsed": true
   },
   "outputs": [],
   "source": [
    "g = pd.DataFrame(df.groupby(['Parch', 'Survived']).count())\n",
    "h = pd.DataFrame(df.groupby(['SibSp', 'Survived']).count())"
   ]
  },
  {
   "cell_type": "code",
   "execution_count": 52,
   "metadata": {},
   "outputs": [
    {
     "data": {
      "text/plain": [
       "30.62617924528302"
      ]
     },
     "execution_count": 52,
     "metadata": {},
     "output_type": "execute_result"
    }
   ],
   "source": [
    "df.Age[df.Survived == 0].mean()\n",
    "df.Age[df.Survived == 1].mean()"
   ]
  },
  {
   "cell_type": "code",
   "execution_count": 4,
   "metadata": {
    "collapsed": true
   },
   "outputs": [],
   "source": [
    "df.head()\n",
    "df_copy = df   #df是原始数据，不要打乱，新建备份来做"
   ]
  },
  {
   "cell_type": "code",
   "execution_count": 7,
   "metadata": {},
   "outputs": [
    {
     "data": {
      "text/html": [
       "<div>\n",
       "<style>\n",
       "    .dataframe thead tr:only-child th {\n",
       "        text-align: right;\n",
       "    }\n",
       "\n",
       "    .dataframe thead th {\n",
       "        text-align: left;\n",
       "    }\n",
       "\n",
       "    .dataframe tbody tr th {\n",
       "        vertical-align: top;\n",
       "    }\n",
       "</style>\n",
       "<table border=\"1\" class=\"dataframe\">\n",
       "  <thead>\n",
       "    <tr style=\"text-align: right;\">\n",
       "      <th></th>\n",
       "      <th>PassengerId</th>\n",
       "      <th>Survived</th>\n",
       "      <th>Pclass</th>\n",
       "      <th>Name</th>\n",
       "      <th>Sex</th>\n",
       "      <th>Age</th>\n",
       "      <th>SibSp</th>\n",
       "      <th>Parch</th>\n",
       "      <th>Ticket</th>\n",
       "      <th>Fare</th>\n",
       "      <th>Cabin</th>\n",
       "      <th>Embarked</th>\n",
       "    </tr>\n",
       "  </thead>\n",
       "  <tbody>\n",
       "    <tr>\n",
       "      <th>0</th>\n",
       "      <td>1</td>\n",
       "      <td>0</td>\n",
       "      <td>3</td>\n",
       "      <td>Braund, Mr. Owen Harris</td>\n",
       "      <td>male</td>\n",
       "      <td>22.0</td>\n",
       "      <td>1</td>\n",
       "      <td>0</td>\n",
       "      <td>A/5 21171</td>\n",
       "      <td>7.2500</td>\n",
       "      <td>NaN</td>\n",
       "      <td>S</td>\n",
       "    </tr>\n",
       "    <tr>\n",
       "      <th>1</th>\n",
       "      <td>2</td>\n",
       "      <td>1</td>\n",
       "      <td>1</td>\n",
       "      <td>Cumings, Mrs. John Bradley (Florence Briggs Th...</td>\n",
       "      <td>female</td>\n",
       "      <td>38.0</td>\n",
       "      <td>1</td>\n",
       "      <td>0</td>\n",
       "      <td>PC 17599</td>\n",
       "      <td>71.2833</td>\n",
       "      <td>C85</td>\n",
       "      <td>C</td>\n",
       "    </tr>\n",
       "    <tr>\n",
       "      <th>2</th>\n",
       "      <td>3</td>\n",
       "      <td>1</td>\n",
       "      <td>3</td>\n",
       "      <td>Heikkinen, Miss. Laina</td>\n",
       "      <td>female</td>\n",
       "      <td>26.0</td>\n",
       "      <td>0</td>\n",
       "      <td>0</td>\n",
       "      <td>STON/O2. 3101282</td>\n",
       "      <td>7.9250</td>\n",
       "      <td>NaN</td>\n",
       "      <td>S</td>\n",
       "    </tr>\n",
       "    <tr>\n",
       "      <th>3</th>\n",
       "      <td>4</td>\n",
       "      <td>1</td>\n",
       "      <td>1</td>\n",
       "      <td>Futrelle, Mrs. Jacques Heath (Lily May Peel)</td>\n",
       "      <td>female</td>\n",
       "      <td>35.0</td>\n",
       "      <td>1</td>\n",
       "      <td>0</td>\n",
       "      <td>113803</td>\n",
       "      <td>53.1000</td>\n",
       "      <td>C123</td>\n",
       "      <td>S</td>\n",
       "    </tr>\n",
       "    <tr>\n",
       "      <th>4</th>\n",
       "      <td>5</td>\n",
       "      <td>0</td>\n",
       "      <td>3</td>\n",
       "      <td>Allen, Mr. William Henry</td>\n",
       "      <td>male</td>\n",
       "      <td>35.0</td>\n",
       "      <td>0</td>\n",
       "      <td>0</td>\n",
       "      <td>373450</td>\n",
       "      <td>8.0500</td>\n",
       "      <td>NaN</td>\n",
       "      <td>S</td>\n",
       "    </tr>\n",
       "  </tbody>\n",
       "</table>\n",
       "</div>"
      ],
      "text/plain": [
       "   PassengerId  Survived  Pclass  \\\n",
       "0            1         0       3   \n",
       "1            2         1       1   \n",
       "2            3         1       3   \n",
       "3            4         1       1   \n",
       "4            5         0       3   \n",
       "\n",
       "                                                Name     Sex   Age  SibSp  \\\n",
       "0                            Braund, Mr. Owen Harris    male  22.0      1   \n",
       "1  Cumings, Mrs. John Bradley (Florence Briggs Th...  female  38.0      1   \n",
       "2                             Heikkinen, Miss. Laina  female  26.0      0   \n",
       "3       Futrelle, Mrs. Jacques Heath (Lily May Peel)  female  35.0      1   \n",
       "4                           Allen, Mr. William Henry    male  35.0      0   \n",
       "\n",
       "   Parch            Ticket     Fare Cabin Embarked  \n",
       "0      0         A/5 21171   7.2500   NaN        S  \n",
       "1      0          PC 17599  71.2833   C85        C  \n",
       "2      0  STON/O2. 3101282   7.9250   NaN        S  \n",
       "3      0            113803  53.1000  C123        S  \n",
       "4      0            373450   8.0500   NaN        S  "
      ]
     },
     "execution_count": 7,
     "metadata": {},
     "output_type": "execute_result"
    }
   ],
   "source": [
    "df_copy.head()"
   ]
  },
  {
   "cell_type": "code",
   "execution_count": 5,
   "metadata": {
    "collapsed": true
   },
   "outputs": [],
   "source": [
    "#导入必要的包\n",
    "from sklearn.preprocessing import StandardScaler"
   ]
  },
  {
   "cell_type": "code",
   "execution_count": 6,
   "metadata": {
    "collapsed": true
   },
   "outputs": [],
   "source": [
    "#分析完图表以后，开始做训练集\n",
    "#先对Fare归一化\n",
    "scaler = StandardScaler()\n",
    "df_copy['fare_scaled'] = scaler.fit_transform(np.array(df_copy['Fare'].values.reshape(-1, 1)))\n",
    "df_copy.drop('Fare',axis=1, inplace=True)"
   ]
  },
  {
   "cell_type": "code",
   "execution_count": 7,
   "metadata": {
    "collapsed": true
   },
   "outputs": [],
   "source": [
    "#先将Sex和Pclass构造一个组合特征\n",
    "df_copy['Sex_Pclass'] = df_copy['Sex'] + '_' + df_copy['Pclass'].map(str)  #将性别和Pclass单独组合起来成为一个新的属性"
   ]
  },
  {
   "cell_type": "code",
   "execution_count": null,
   "metadata": {
    "collapsed": true
   },
   "outputs": [],
   "source": []
  },
  {
   "cell_type": "code",
   "execution_count": 8,
   "metadata": {
    "collapsed": true
   },
   "outputs": [],
   "source": [
    "df_copy.loc[ (df_copy.Cabin.notnull()), 'Cabin' ] = \"Yes\"\n",
    "df_copy.loc[ (df_copy.Cabin.isnull()), 'Cabin' ] = \"No\""
   ]
  },
  {
   "cell_type": "code",
   "execution_count": 9,
   "metadata": {
    "collapsed": true
   },
   "outputs": [],
   "source": [
    "df_copy.loc[ (df_copy.Embarked == 'S'), 'Embarked' ] = \"S\"\n",
    "df_copy.loc[ (df_copy.Embarked != 'S'), 'Embarked' ] = \"other\""
   ]
  },
  {
   "cell_type": "code",
   "execution_count": 10,
   "metadata": {
    "collapsed": true
   },
   "outputs": [],
   "source": [
    "df_copy.loc[(df_copy.SibSp != 0), 'SibSp'] = 1\n",
    "df_copy.loc[(df_copy.SibSp == 0), 'SibSp'] = 0\n",
    "df_copy.loc[(df_copy.Parch != 0), 'Parch'] = 1\n",
    "df_copy.loc[(df_copy.Parch == 0), 'Parch'] = 0"
   ]
  },
  {
   "cell_type": "code",
   "execution_count": 11,
   "metadata": {
    "collapsed": true
   },
   "outputs": [],
   "source": [
    "#对于年龄来说，存在缺失值，稍后做\n",
    "#先将Sex和Pclass转换成one-hot，并且构造一个组合特征\n",
    "dummies_Cabin = pd.get_dummies(df_copy['Cabin'], prefix= 'Cabin')\n",
    "\n",
    "dummies_Parch = pd.get_dummies(df_copy['Parch'], prefix= 'Parch')\n",
    "\n",
    "dummies_SibSp = pd.get_dummies(df_copy['SibSp'], prefix= 'SibSp')\n",
    "\n",
    "dummies_Embarked = pd.get_dummies(df_copy['Embarked'], prefix= 'Embarked')\n",
    "\n",
    "dummies_Sex = pd.get_dummies(df_copy['Sex'], prefix= 'Sex')\n",
    "\n",
    "dummies_Pclass = pd.get_dummies(df_copy['Pclass'], prefix= 'Pclass')\n",
    "\n",
    "dummies_Sex_Pclass = pd.get_dummies(df_copy['Sex_Pclass'], prefix= 'Sex_Pclass')\n",
    "\n",
    "df_copy = pd.concat([df_copy, dummies_Cabin, dummies_Parch, dummies_SibSp,\\\n",
    "                     dummies_Embarked, dummies_Sex, dummies_Pclass, dummies_Sex_Pclass], axis=1)\n",
    "df_copy.drop(['Pclass', 'Sex', 'Cabin', 'Embarked', 'Sex_Pclass', 'Parch', 'SibSp'], axis=1, inplace=True)\n",
    "\n"
   ]
  },
  {
   "cell_type": "code",
   "execution_count": 12,
   "metadata": {
    "collapsed": true
   },
   "outputs": [],
   "source": [
    "df_copy.drop(['Name', 'Ticket'], axis = 1, inplace = True)"
   ]
  },
  {
   "cell_type": "code",
   "execution_count": 13,
   "metadata": {},
   "outputs": [
    {
     "data": {
      "text/html": [
       "<div>\n",
       "<style>\n",
       "    .dataframe thead tr:only-child th {\n",
       "        text-align: right;\n",
       "    }\n",
       "\n",
       "    .dataframe thead th {\n",
       "        text-align: left;\n",
       "    }\n",
       "\n",
       "    .dataframe tbody tr th {\n",
       "        vertical-align: top;\n",
       "    }\n",
       "</style>\n",
       "<table border=\"1\" class=\"dataframe\">\n",
       "  <thead>\n",
       "    <tr style=\"text-align: right;\">\n",
       "      <th></th>\n",
       "      <th>PassengerId</th>\n",
       "      <th>Survived</th>\n",
       "      <th>Age</th>\n",
       "      <th>fare_scaled</th>\n",
       "      <th>Cabin_No</th>\n",
       "      <th>Cabin_Yes</th>\n",
       "      <th>Parch_0</th>\n",
       "      <th>Parch_1</th>\n",
       "      <th>SibSp_0</th>\n",
       "      <th>SibSp_1</th>\n",
       "      <th>...</th>\n",
       "      <th>Sex_male</th>\n",
       "      <th>Pclass_1</th>\n",
       "      <th>Pclass_2</th>\n",
       "      <th>Pclass_3</th>\n",
       "      <th>Sex_Pclass_female_1</th>\n",
       "      <th>Sex_Pclass_female_2</th>\n",
       "      <th>Sex_Pclass_female_3</th>\n",
       "      <th>Sex_Pclass_male_1</th>\n",
       "      <th>Sex_Pclass_male_2</th>\n",
       "      <th>Sex_Pclass_male_3</th>\n",
       "    </tr>\n",
       "  </thead>\n",
       "  <tbody>\n",
       "    <tr>\n",
       "      <th>0</th>\n",
       "      <td>1</td>\n",
       "      <td>0</td>\n",
       "      <td>22.0</td>\n",
       "      <td>-0.502445</td>\n",
       "      <td>1</td>\n",
       "      <td>0</td>\n",
       "      <td>1</td>\n",
       "      <td>0</td>\n",
       "      <td>0</td>\n",
       "      <td>1</td>\n",
       "      <td>...</td>\n",
       "      <td>1</td>\n",
       "      <td>0</td>\n",
       "      <td>0</td>\n",
       "      <td>1</td>\n",
       "      <td>0</td>\n",
       "      <td>0</td>\n",
       "      <td>0</td>\n",
       "      <td>0</td>\n",
       "      <td>0</td>\n",
       "      <td>1</td>\n",
       "    </tr>\n",
       "    <tr>\n",
       "      <th>1</th>\n",
       "      <td>2</td>\n",
       "      <td>1</td>\n",
       "      <td>38.0</td>\n",
       "      <td>0.786845</td>\n",
       "      <td>0</td>\n",
       "      <td>1</td>\n",
       "      <td>1</td>\n",
       "      <td>0</td>\n",
       "      <td>0</td>\n",
       "      <td>1</td>\n",
       "      <td>...</td>\n",
       "      <td>0</td>\n",
       "      <td>1</td>\n",
       "      <td>0</td>\n",
       "      <td>0</td>\n",
       "      <td>1</td>\n",
       "      <td>0</td>\n",
       "      <td>0</td>\n",
       "      <td>0</td>\n",
       "      <td>0</td>\n",
       "      <td>0</td>\n",
       "    </tr>\n",
       "    <tr>\n",
       "      <th>2</th>\n",
       "      <td>3</td>\n",
       "      <td>1</td>\n",
       "      <td>26.0</td>\n",
       "      <td>-0.488854</td>\n",
       "      <td>1</td>\n",
       "      <td>0</td>\n",
       "      <td>1</td>\n",
       "      <td>0</td>\n",
       "      <td>1</td>\n",
       "      <td>0</td>\n",
       "      <td>...</td>\n",
       "      <td>0</td>\n",
       "      <td>0</td>\n",
       "      <td>0</td>\n",
       "      <td>1</td>\n",
       "      <td>0</td>\n",
       "      <td>0</td>\n",
       "      <td>1</td>\n",
       "      <td>0</td>\n",
       "      <td>0</td>\n",
       "      <td>0</td>\n",
       "    </tr>\n",
       "    <tr>\n",
       "      <th>3</th>\n",
       "      <td>4</td>\n",
       "      <td>1</td>\n",
       "      <td>35.0</td>\n",
       "      <td>0.420730</td>\n",
       "      <td>0</td>\n",
       "      <td>1</td>\n",
       "      <td>1</td>\n",
       "      <td>0</td>\n",
       "      <td>0</td>\n",
       "      <td>1</td>\n",
       "      <td>...</td>\n",
       "      <td>0</td>\n",
       "      <td>1</td>\n",
       "      <td>0</td>\n",
       "      <td>0</td>\n",
       "      <td>1</td>\n",
       "      <td>0</td>\n",
       "      <td>0</td>\n",
       "      <td>0</td>\n",
       "      <td>0</td>\n",
       "      <td>0</td>\n",
       "    </tr>\n",
       "    <tr>\n",
       "      <th>4</th>\n",
       "      <td>5</td>\n",
       "      <td>0</td>\n",
       "      <td>35.0</td>\n",
       "      <td>-0.486337</td>\n",
       "      <td>1</td>\n",
       "      <td>0</td>\n",
       "      <td>1</td>\n",
       "      <td>0</td>\n",
       "      <td>1</td>\n",
       "      <td>0</td>\n",
       "      <td>...</td>\n",
       "      <td>1</td>\n",
       "      <td>0</td>\n",
       "      <td>0</td>\n",
       "      <td>1</td>\n",
       "      <td>0</td>\n",
       "      <td>0</td>\n",
       "      <td>0</td>\n",
       "      <td>0</td>\n",
       "      <td>0</td>\n",
       "      <td>1</td>\n",
       "    </tr>\n",
       "  </tbody>\n",
       "</table>\n",
       "<p>5 rows × 23 columns</p>\n",
       "</div>"
      ],
      "text/plain": [
       "   PassengerId  Survived   Age  fare_scaled  Cabin_No  Cabin_Yes  Parch_0  \\\n",
       "0            1         0  22.0    -0.502445         1          0        1   \n",
       "1            2         1  38.0     0.786845         0          1        1   \n",
       "2            3         1  26.0    -0.488854         1          0        1   \n",
       "3            4         1  35.0     0.420730         0          1        1   \n",
       "4            5         0  35.0    -0.486337         1          0        1   \n",
       "\n",
       "   Parch_1  SibSp_0  SibSp_1        ...          Sex_male  Pclass_1  Pclass_2  \\\n",
       "0        0        0        1        ...                 1         0         0   \n",
       "1        0        0        1        ...                 0         1         0   \n",
       "2        0        1        0        ...                 0         0         0   \n",
       "3        0        0        1        ...                 0         1         0   \n",
       "4        0        1        0        ...                 1         0         0   \n",
       "\n",
       "   Pclass_3  Sex_Pclass_female_1  Sex_Pclass_female_2  Sex_Pclass_female_3  \\\n",
       "0         1                    0                    0                    0   \n",
       "1         0                    1                    0                    0   \n",
       "2         1                    0                    0                    1   \n",
       "3         0                    1                    0                    0   \n",
       "4         1                    0                    0                    0   \n",
       "\n",
       "   Sex_Pclass_male_1  Sex_Pclass_male_2  Sex_Pclass_male_3  \n",
       "0                  0                  0                  1  \n",
       "1                  0                  0                  0  \n",
       "2                  0                  0                  0  \n",
       "3                  0                  0                  0  \n",
       "4                  0                  0                  1  \n",
       "\n",
       "[5 rows x 23 columns]"
      ]
     },
     "execution_count": 13,
     "metadata": {},
     "output_type": "execute_result"
    }
   ],
   "source": [
    "df_copy.head()"
   ]
  },
  {
   "cell_type": "code",
   "execution_count": 13,
   "metadata": {
    "collapsed": true
   },
   "outputs": [],
   "source": [
    "#age目前还没有解决\n",
    "#用中位数填充缺失值\n",
    "df_copy['Age_fill'] = df_copy.Age.fillna(df_copy.Age.mean())"
   ]
  },
  {
   "cell_type": "code",
   "execution_count": 14,
   "metadata": {
    "collapsed": true
   },
   "outputs": [],
   "source": [
    "scaler = StandardScaler()\n",
    "df_copy['Age_fill_scaled'] = scaler.fit_transform(np.array(df_copy['Age_fill'].values.reshape(-1, 1)))\n",
    "df_copy.drop(['Age_fill', 'Age'],axis=1, inplace=True)"
   ]
  },
  {
   "cell_type": "code",
   "execution_count": 25,
   "metadata": {},
   "outputs": [
    {
     "data": {
      "text/html": [
       "<div>\n",
       "<style>\n",
       "    .dataframe thead tr:only-child th {\n",
       "        text-align: right;\n",
       "    }\n",
       "\n",
       "    .dataframe thead th {\n",
       "        text-align: left;\n",
       "    }\n",
       "\n",
       "    .dataframe tbody tr th {\n",
       "        vertical-align: top;\n",
       "    }\n",
       "</style>\n",
       "<table border=\"1\" class=\"dataframe\">\n",
       "  <thead>\n",
       "    <tr style=\"text-align: right;\">\n",
       "      <th></th>\n",
       "      <th>PassengerId</th>\n",
       "      <th>Survived</th>\n",
       "      <th>fare_scaled</th>\n",
       "      <th>Cabin_No</th>\n",
       "      <th>Cabin_Yes</th>\n",
       "      <th>Parch_0</th>\n",
       "      <th>Parch_1</th>\n",
       "      <th>SibSp_0</th>\n",
       "      <th>SibSp_1</th>\n",
       "      <th>Embarked_S</th>\n",
       "      <th>...</th>\n",
       "      <th>Pclass_1</th>\n",
       "      <th>Pclass_2</th>\n",
       "      <th>Pclass_3</th>\n",
       "      <th>Sex_Pclass_female_1</th>\n",
       "      <th>Sex_Pclass_female_2</th>\n",
       "      <th>Sex_Pclass_female_3</th>\n",
       "      <th>Sex_Pclass_male_1</th>\n",
       "      <th>Sex_Pclass_male_2</th>\n",
       "      <th>Sex_Pclass_male_3</th>\n",
       "      <th>Age_fill_scaled</th>\n",
       "    </tr>\n",
       "  </thead>\n",
       "  <tbody>\n",
       "    <tr>\n",
       "      <th>0</th>\n",
       "      <td>1</td>\n",
       "      <td>0</td>\n",
       "      <td>-0.502445</td>\n",
       "      <td>1</td>\n",
       "      <td>0</td>\n",
       "      <td>1</td>\n",
       "      <td>0</td>\n",
       "      <td>0</td>\n",
       "      <td>1</td>\n",
       "      <td>1</td>\n",
       "      <td>...</td>\n",
       "      <td>0</td>\n",
       "      <td>0</td>\n",
       "      <td>1</td>\n",
       "      <td>0</td>\n",
       "      <td>0</td>\n",
       "      <td>0</td>\n",
       "      <td>0</td>\n",
       "      <td>0</td>\n",
       "      <td>1</td>\n",
       "      <td>-0.592481</td>\n",
       "    </tr>\n",
       "    <tr>\n",
       "      <th>1</th>\n",
       "      <td>2</td>\n",
       "      <td>1</td>\n",
       "      <td>0.786845</td>\n",
       "      <td>0</td>\n",
       "      <td>1</td>\n",
       "      <td>1</td>\n",
       "      <td>0</td>\n",
       "      <td>0</td>\n",
       "      <td>1</td>\n",
       "      <td>0</td>\n",
       "      <td>...</td>\n",
       "      <td>1</td>\n",
       "      <td>0</td>\n",
       "      <td>0</td>\n",
       "      <td>1</td>\n",
       "      <td>0</td>\n",
       "      <td>0</td>\n",
       "      <td>0</td>\n",
       "      <td>0</td>\n",
       "      <td>0</td>\n",
       "      <td>0.638789</td>\n",
       "    </tr>\n",
       "    <tr>\n",
       "      <th>2</th>\n",
       "      <td>3</td>\n",
       "      <td>1</td>\n",
       "      <td>-0.488854</td>\n",
       "      <td>1</td>\n",
       "      <td>0</td>\n",
       "      <td>1</td>\n",
       "      <td>0</td>\n",
       "      <td>1</td>\n",
       "      <td>0</td>\n",
       "      <td>1</td>\n",
       "      <td>...</td>\n",
       "      <td>0</td>\n",
       "      <td>0</td>\n",
       "      <td>1</td>\n",
       "      <td>0</td>\n",
       "      <td>0</td>\n",
       "      <td>1</td>\n",
       "      <td>0</td>\n",
       "      <td>0</td>\n",
       "      <td>0</td>\n",
       "      <td>-0.284663</td>\n",
       "    </tr>\n",
       "    <tr>\n",
       "      <th>3</th>\n",
       "      <td>4</td>\n",
       "      <td>1</td>\n",
       "      <td>0.420730</td>\n",
       "      <td>0</td>\n",
       "      <td>1</td>\n",
       "      <td>1</td>\n",
       "      <td>0</td>\n",
       "      <td>0</td>\n",
       "      <td>1</td>\n",
       "      <td>1</td>\n",
       "      <td>...</td>\n",
       "      <td>1</td>\n",
       "      <td>0</td>\n",
       "      <td>0</td>\n",
       "      <td>1</td>\n",
       "      <td>0</td>\n",
       "      <td>0</td>\n",
       "      <td>0</td>\n",
       "      <td>0</td>\n",
       "      <td>0</td>\n",
       "      <td>0.407926</td>\n",
       "    </tr>\n",
       "    <tr>\n",
       "      <th>4</th>\n",
       "      <td>5</td>\n",
       "      <td>0</td>\n",
       "      <td>-0.486337</td>\n",
       "      <td>1</td>\n",
       "      <td>0</td>\n",
       "      <td>1</td>\n",
       "      <td>0</td>\n",
       "      <td>1</td>\n",
       "      <td>0</td>\n",
       "      <td>1</td>\n",
       "      <td>...</td>\n",
       "      <td>0</td>\n",
       "      <td>0</td>\n",
       "      <td>1</td>\n",
       "      <td>0</td>\n",
       "      <td>0</td>\n",
       "      <td>0</td>\n",
       "      <td>0</td>\n",
       "      <td>0</td>\n",
       "      <td>1</td>\n",
       "      <td>0.407926</td>\n",
       "    </tr>\n",
       "  </tbody>\n",
       "</table>\n",
       "<p>5 rows × 23 columns</p>\n",
       "</div>"
      ],
      "text/plain": [
       "   PassengerId  Survived  fare_scaled  Cabin_No  Cabin_Yes  Parch_0  Parch_1  \\\n",
       "0            1         0    -0.502445         1          0        1        0   \n",
       "1            2         1     0.786845         0          1        1        0   \n",
       "2            3         1    -0.488854         1          0        1        0   \n",
       "3            4         1     0.420730         0          1        1        0   \n",
       "4            5         0    -0.486337         1          0        1        0   \n",
       "\n",
       "   SibSp_0  SibSp_1  Embarked_S       ...         Pclass_1  Pclass_2  \\\n",
       "0        0        1           1       ...                0         0   \n",
       "1        0        1           0       ...                1         0   \n",
       "2        1        0           1       ...                0         0   \n",
       "3        0        1           1       ...                1         0   \n",
       "4        1        0           1       ...                0         0   \n",
       "\n",
       "   Pclass_3  Sex_Pclass_female_1  Sex_Pclass_female_2  Sex_Pclass_female_3  \\\n",
       "0         1                    0                    0                    0   \n",
       "1         0                    1                    0                    0   \n",
       "2         1                    0                    0                    1   \n",
       "3         0                    1                    0                    0   \n",
       "4         1                    0                    0                    0   \n",
       "\n",
       "   Sex_Pclass_male_1  Sex_Pclass_male_2  Sex_Pclass_male_3  Age_fill_scaled  \n",
       "0                  0                  0                  1        -0.592481  \n",
       "1                  0                  0                  0         0.638789  \n",
       "2                  0                  0                  0        -0.284663  \n",
       "3                  0                  0                  0         0.407926  \n",
       "4                  0                  0                  1         0.407926  \n",
       "\n",
       "[5 rows x 23 columns]"
      ]
     },
     "execution_count": 25,
     "metadata": {},
     "output_type": "execute_result"
    }
   ],
   "source": [
    "df_copy.head()"
   ]
  },
  {
   "cell_type": "code",
   "execution_count": 15,
   "metadata": {
    "collapsed": true
   },
   "outputs": [],
   "source": [
    "# 我们把需要的feature字段取出来，转成numpy格式，使用scikit-learn中的LogisticRegression建模\n",
    "from sklearn import linear_model\n",
    "\n",
    "train_df = df_copy.filter(regex='Survived|Age_.*|SibSp_.*|Parch_.*|fare_.*|Cabin_.*|Embarked_.*|Sex_.*|Pclass_.*')\n",
    "train_np = train_df.as_matrix()\n",
    "\n",
    "# y即Survival结果\n",
    "y = train_np[:, 0]\n",
    "\n",
    "# X即特征属性值\n",
    "X = train_np[:, 1:]\n",
    "    "
   ]
  },
  {
   "cell_type": "code",
   "execution_count": 29,
   "metadata": {},
   "outputs": [
    {
     "data": {
      "text/plain": [
       "LogisticRegression(C=1.0, class_weight=None, dual=False, fit_intercept=True,\n",
       "          intercept_scaling=1, max_iter=100, multi_class='ovr', n_jobs=1,\n",
       "          penalty='l2', random_state=None, solver='liblinear', tol=0.0001,\n",
       "          verbose=0, warm_start=False)"
      ]
     },
     "execution_count": 29,
     "metadata": {},
     "output_type": "execute_result"
    }
   ],
   "source": [
    "# fit到RandomForestRegressor之中\n",
    "clf = linear_model.LogisticRegression(C=1.0, penalty='l2', tol=1e-4)\n",
    "clf.fit(X, y)"
   ]
  },
  {
   "cell_type": "code",
   "execution_count": 32,
   "metadata": {},
   "outputs": [
    {
     "data": {
      "text/html": [
       "<div>\n",
       "<style>\n",
       "    .dataframe thead tr:only-child th {\n",
       "        text-align: right;\n",
       "    }\n",
       "\n",
       "    .dataframe thead th {\n",
       "        text-align: left;\n",
       "    }\n",
       "\n",
       "    .dataframe tbody tr th {\n",
       "        vertical-align: top;\n",
       "    }\n",
       "</style>\n",
       "<table border=\"1\" class=\"dataframe\">\n",
       "  <thead>\n",
       "    <tr style=\"text-align: right;\">\n",
       "      <th></th>\n",
       "      <th>coef</th>\n",
       "      <th>columns</th>\n",
       "    </tr>\n",
       "  </thead>\n",
       "  <tbody>\n",
       "    <tr>\n",
       "      <th>0</th>\n",
       "      <td>[-0.0103018563714]</td>\n",
       "      <td>fare_scaled</td>\n",
       "    </tr>\n",
       "    <tr>\n",
       "      <th>1</th>\n",
       "      <td>[-0.443133948198]</td>\n",
       "      <td>Cabin_No</td>\n",
       "    </tr>\n",
       "    <tr>\n",
       "      <th>2</th>\n",
       "      <td>[0.58663877047]</td>\n",
       "      <td>Cabin_Yes</td>\n",
       "    </tr>\n",
       "    <tr>\n",
       "      <th>3</th>\n",
       "      <td>[0.141109579961]</td>\n",
       "      <td>Parch_0</td>\n",
       "    </tr>\n",
       "    <tr>\n",
       "      <th>4</th>\n",
       "      <td>[0.00239524231138]</td>\n",
       "      <td>Parch_1</td>\n",
       "    </tr>\n",
       "    <tr>\n",
       "      <th>5</th>\n",
       "      <td>[0.125061098994]</td>\n",
       "      <td>SibSp_0</td>\n",
       "    </tr>\n",
       "    <tr>\n",
       "      <th>6</th>\n",
       "      <td>[0.0184437232783]</td>\n",
       "      <td>SibSp_1</td>\n",
       "    </tr>\n",
       "    <tr>\n",
       "      <th>7</th>\n",
       "      <td>[-0.240711987895]</td>\n",
       "      <td>Embarked_S</td>\n",
       "    </tr>\n",
       "    <tr>\n",
       "      <th>8</th>\n",
       "      <td>[0.384216810167]</td>\n",
       "      <td>Embarked_other</td>\n",
       "    </tr>\n",
       "    <tr>\n",
       "      <th>9</th>\n",
       "      <td>[1.25335109239]</td>\n",
       "      <td>Sex_female</td>\n",
       "    </tr>\n",
       "    <tr>\n",
       "      <th>10</th>\n",
       "      <td>[-1.10984627011]</td>\n",
       "      <td>Sex_male</td>\n",
       "    </tr>\n",
       "    <tr>\n",
       "      <th>11</th>\n",
       "      <td>[0.542688597789]</td>\n",
       "      <td>Pclass_1</td>\n",
       "    </tr>\n",
       "    <tr>\n",
       "      <th>12</th>\n",
       "      <td>[0.307304054428]</td>\n",
       "      <td>Pclass_2</td>\n",
       "    </tr>\n",
       "    <tr>\n",
       "      <th>13</th>\n",
       "      <td>[-0.706487829945]</td>\n",
       "      <td>Pclass_3</td>\n",
       "    </tr>\n",
       "    <tr>\n",
       "      <th>14</th>\n",
       "      <td>[0.890527422934]</td>\n",
       "      <td>Sex_Pclass_female_1</td>\n",
       "    </tr>\n",
       "    <tr>\n",
       "      <th>15</th>\n",
       "      <td>[1.01653488213]</td>\n",
       "      <td>Sex_Pclass_female_2</td>\n",
       "    </tr>\n",
       "    <tr>\n",
       "      <th>16</th>\n",
       "      <td>[-0.653711212683]</td>\n",
       "      <td>Sex_Pclass_female_3</td>\n",
       "    </tr>\n",
       "    <tr>\n",
       "      <th>17</th>\n",
       "      <td>[-0.347838825146]</td>\n",
       "      <td>Sex_Pclass_male_1</td>\n",
       "    </tr>\n",
       "    <tr>\n",
       "      <th>18</th>\n",
       "      <td>[-0.709230827707]</td>\n",
       "      <td>Sex_Pclass_male_2</td>\n",
       "    </tr>\n",
       "    <tr>\n",
       "      <th>19</th>\n",
       "      <td>[-0.0527766172618]</td>\n",
       "      <td>Sex_Pclass_male_3</td>\n",
       "    </tr>\n",
       "    <tr>\n",
       "      <th>20</th>\n",
       "      <td>[-0.492526689825]</td>\n",
       "      <td>Age_fill_scaled</td>\n",
       "    </tr>\n",
       "  </tbody>\n",
       "</table>\n",
       "</div>"
      ],
      "text/plain": [
       "                  coef              columns\n",
       "0   [-0.0103018563714]          fare_scaled\n",
       "1    [-0.443133948198]             Cabin_No\n",
       "2      [0.58663877047]            Cabin_Yes\n",
       "3     [0.141109579961]              Parch_0\n",
       "4   [0.00239524231138]              Parch_1\n",
       "5     [0.125061098994]              SibSp_0\n",
       "6    [0.0184437232783]              SibSp_1\n",
       "7    [-0.240711987895]           Embarked_S\n",
       "8     [0.384216810167]       Embarked_other\n",
       "9      [1.25335109239]           Sex_female\n",
       "10    [-1.10984627011]             Sex_male\n",
       "11    [0.542688597789]             Pclass_1\n",
       "12    [0.307304054428]             Pclass_2\n",
       "13   [-0.706487829945]             Pclass_3\n",
       "14    [0.890527422934]  Sex_Pclass_female_1\n",
       "15     [1.01653488213]  Sex_Pclass_female_2\n",
       "16   [-0.653711212683]  Sex_Pclass_female_3\n",
       "17   [-0.347838825146]    Sex_Pclass_male_1\n",
       "18   [-0.709230827707]    Sex_Pclass_male_2\n",
       "19  [-0.0527766172618]    Sex_Pclass_male_3\n",
       "20   [-0.492526689825]      Age_fill_scaled"
      ]
     },
     "execution_count": 32,
     "metadata": {},
     "output_type": "execute_result"
    }
   ],
   "source": [
    "\n",
    "pd.DataFrame({\"columns\":list(train_df.columns)[1:], \"coef\":list(clf.coef_.T)})"
   ]
  },
  {
   "cell_type": "code",
   "execution_count": 33,
   "metadata": {},
   "outputs": [
    {
     "data": {
      "text/html": [
       "<div>\n",
       "<style>\n",
       "    .dataframe thead tr:only-child th {\n",
       "        text-align: right;\n",
       "    }\n",
       "\n",
       "    .dataframe thead th {\n",
       "        text-align: left;\n",
       "    }\n",
       "\n",
       "    .dataframe tbody tr th {\n",
       "        vertical-align: top;\n",
       "    }\n",
       "</style>\n",
       "<table border=\"1\" class=\"dataframe\">\n",
       "  <thead>\n",
       "    <tr style=\"text-align: right;\">\n",
       "      <th></th>\n",
       "      <th>PassengerId</th>\n",
       "      <th>Pclass</th>\n",
       "      <th>Name</th>\n",
       "      <th>Sex</th>\n",
       "      <th>Age</th>\n",
       "      <th>SibSp</th>\n",
       "      <th>Parch</th>\n",
       "      <th>Ticket</th>\n",
       "      <th>Fare</th>\n",
       "      <th>Cabin</th>\n",
       "      <th>Embarked</th>\n",
       "    </tr>\n",
       "  </thead>\n",
       "  <tbody>\n",
       "    <tr>\n",
       "      <th>0</th>\n",
       "      <td>892</td>\n",
       "      <td>3</td>\n",
       "      <td>Kelly, Mr. James</td>\n",
       "      <td>male</td>\n",
       "      <td>34.5</td>\n",
       "      <td>0</td>\n",
       "      <td>0</td>\n",
       "      <td>330911</td>\n",
       "      <td>7.8292</td>\n",
       "      <td>NaN</td>\n",
       "      <td>Q</td>\n",
       "    </tr>\n",
       "    <tr>\n",
       "      <th>1</th>\n",
       "      <td>893</td>\n",
       "      <td>3</td>\n",
       "      <td>Wilkes, Mrs. James (Ellen Needs)</td>\n",
       "      <td>female</td>\n",
       "      <td>47.0</td>\n",
       "      <td>1</td>\n",
       "      <td>0</td>\n",
       "      <td>363272</td>\n",
       "      <td>7.0000</td>\n",
       "      <td>NaN</td>\n",
       "      <td>S</td>\n",
       "    </tr>\n",
       "    <tr>\n",
       "      <th>2</th>\n",
       "      <td>894</td>\n",
       "      <td>2</td>\n",
       "      <td>Myles, Mr. Thomas Francis</td>\n",
       "      <td>male</td>\n",
       "      <td>62.0</td>\n",
       "      <td>0</td>\n",
       "      <td>0</td>\n",
       "      <td>240276</td>\n",
       "      <td>9.6875</td>\n",
       "      <td>NaN</td>\n",
       "      <td>Q</td>\n",
       "    </tr>\n",
       "    <tr>\n",
       "      <th>3</th>\n",
       "      <td>895</td>\n",
       "      <td>3</td>\n",
       "      <td>Wirz, Mr. Albert</td>\n",
       "      <td>male</td>\n",
       "      <td>27.0</td>\n",
       "      <td>0</td>\n",
       "      <td>0</td>\n",
       "      <td>315154</td>\n",
       "      <td>8.6625</td>\n",
       "      <td>NaN</td>\n",
       "      <td>S</td>\n",
       "    </tr>\n",
       "    <tr>\n",
       "      <th>4</th>\n",
       "      <td>896</td>\n",
       "      <td>3</td>\n",
       "      <td>Hirvonen, Mrs. Alexander (Helga E Lindqvist)</td>\n",
       "      <td>female</td>\n",
       "      <td>22.0</td>\n",
       "      <td>1</td>\n",
       "      <td>1</td>\n",
       "      <td>3101298</td>\n",
       "      <td>12.2875</td>\n",
       "      <td>NaN</td>\n",
       "      <td>S</td>\n",
       "    </tr>\n",
       "  </tbody>\n",
       "</table>\n",
       "</div>"
      ],
      "text/plain": [
       "   PassengerId  Pclass                                          Name     Sex  \\\n",
       "0          892       3                              Kelly, Mr. James    male   \n",
       "1          893       3              Wilkes, Mrs. James (Ellen Needs)  female   \n",
       "2          894       2                     Myles, Mr. Thomas Francis    male   \n",
       "3          895       3                              Wirz, Mr. Albert    male   \n",
       "4          896       3  Hirvonen, Mrs. Alexander (Helga E Lindqvist)  female   \n",
       "\n",
       "    Age  SibSp  Parch   Ticket     Fare Cabin Embarked  \n",
       "0  34.5      0      0   330911   7.8292   NaN        Q  \n",
       "1  47.0      1      0   363272   7.0000   NaN        S  \n",
       "2  62.0      0      0   240276   9.6875   NaN        Q  \n",
       "3  27.0      0      0   315154   8.6625   NaN        S  \n",
       "4  22.0      1      1  3101298  12.2875   NaN        S  "
      ]
     },
     "execution_count": 33,
     "metadata": {},
     "output_type": "execute_result"
    }
   ],
   "source": [
    "df_test = pd.read_csv('data/test.csv')\n",
    "df_test.head()"
   ]
  },
  {
   "cell_type": "code",
   "execution_count": 35,
   "metadata": {},
   "outputs": [
    {
     "name": "stdout",
     "output_type": "stream",
     "text": [
      "<class 'pandas.core.frame.DataFrame'>\n",
      "RangeIndex: 418 entries, 0 to 417\n",
      "Data columns (total 11 columns):\n",
      "PassengerId    418 non-null int64\n",
      "Pclass         418 non-null int64\n",
      "Name           418 non-null object\n",
      "Sex            418 non-null object\n",
      "Age            332 non-null float64\n",
      "SibSp          418 non-null int64\n",
      "Parch          418 non-null int64\n",
      "Ticket         418 non-null object\n",
      "Fare           417 non-null float64\n",
      "Cabin          91 non-null object\n",
      "Embarked       418 non-null object\n",
      "dtypes: float64(2), int64(4), object(5)\n",
      "memory usage: 36.0+ KB\n"
     ]
    }
   ],
   "source": [
    "df_test.info()"
   ]
  },
  {
   "cell_type": "code",
   "execution_count": 16,
   "metadata": {
    "collapsed": true
   },
   "outputs": [],
   "source": [
    "#对测试集做同样的事情\n",
    "#分析完图表以后，开始做训练集\n",
    "#先对Fare归一化\n",
    "df_test = pd.read_csv('data/test.csv')\n",
    "\n",
    "scaler = StandardScaler()\n",
    "df_test['Fare'] = df_test.Fare.fillna(df_test.Fare.mean())\n",
    "df_test['fare_scaled'] = scaler.fit_transform(np.array(df_test['Fare'].values.reshape(-1, 1)))\n",
    "df_test.drop('Fare',axis=1, inplace=True)\n",
    "\n",
    "#先将Sex和Pclass构造一个组合特征\n",
    "df_test['Sex_Pclass'] = df_test['Sex'] + '_' + df_test['Pclass'].map(str)  #将性别和Pclass单独组合起来成为一个新的属性\n",
    "\n",
    "df_test.loc[ (df_test.Cabin.notnull()), 'Cabin' ] = \"Yes\"\n",
    "df_test.loc[ (df_test.Cabin.isnull()), 'Cabin' ] = \"No\"\n",
    "\n",
    "df_test.loc[ (df_test.Embarked == 'S'), 'Embarked' ] = \"S\"\n",
    "df_test.loc[ (df_test.Embarked != 'S'), 'Embarked' ] = \"other\"\n",
    "\n",
    "df_test.loc[(df_test.SibSp != 0), 'SibSp'] = 1\n",
    "df_test.loc[(df_test.SibSp == 0), 'SibSp'] = 0\n",
    "df_test.loc[(df_test.Parch != 0), 'Parch'] = 1\n",
    "df_test.loc[(df_test.Parch == 0), 'Parch'] = 0\n",
    "\n",
    "#对于年龄来说，存在缺失值，稍后做\n",
    "#先将Sex和Pclass转换成one-hot，并且构造一个组合特征\n",
    "dummies_Cabin = pd.get_dummies(df_test['Cabin'], prefix= 'Cabin')\n",
    "\n",
    "dummies_Parch = pd.get_dummies(df_test['Parch'], prefix= 'Parch')\n",
    "\n",
    "dummies_SibSp = pd.get_dummies(df_test['SibSp'], prefix= 'SibSp')\n",
    "\n",
    "dummies_Embarked = pd.get_dummies(df_test['Embarked'], prefix= 'Embarked')\n",
    "\n",
    "dummies_Sex = pd.get_dummies(df_test['Sex'], prefix= 'Sex')\n",
    "\n",
    "dummies_Pclass = pd.get_dummies(df_test['Pclass'], prefix= 'Pclass')\n",
    "\n",
    "dummies_Sex_Pclass = pd.get_dummies(df_test['Sex_Pclass'], prefix= 'Sex_Pclass')\n",
    "\n",
    "df_test = pd.concat([df_test, dummies_Cabin, dummies_Parch, dummies_SibSp,\\\n",
    "                     dummies_Embarked, dummies_Sex, dummies_Pclass, dummies_Sex_Pclass], axis=1)\n",
    "df_test.drop(['Pclass', 'Sex', 'Cabin', 'Embarked', 'Sex_Pclass', 'Parch', 'SibSp'], axis=1, inplace=True)\n",
    "\n",
    "df_test.drop(['Name', 'Ticket'], axis = 1, inplace = True)\n",
    "\n",
    "#age目前还没有解决\n",
    "#用中位数填充缺失值\n",
    "df_test['Age_fill'] = df_test.Age.fillna(df_test.Age.mean())\n",
    "\n",
    "scaler = StandardScaler()\n",
    "df_test['Age_fill_scaled'] = scaler.fit_transform(np.array(df_test['Age_fill'].values.reshape(-1, 1)))\n",
    "df_test.drop(['Age_fill', 'Age'],axis=1, inplace=True)\n"
   ]
  },
  {
   "cell_type": "code",
   "execution_count": 17,
   "metadata": {
    "collapsed": true
   },
   "outputs": [],
   "source": [
    "test_df = df_test.filter(regex='Age_.*|SibSp_.*|Parch_.*|fare_.*|Cabin_.*|Embarked_.*|Sex_.*|Pclass_.*')\n",
    "test_np = test_df.as_matrix()"
   ]
  },
  {
   "cell_type": "code",
   "execution_count": 42,
   "metadata": {
    "collapsed": true
   },
   "outputs": [],
   "source": [
    "#预测值\n",
    "predict_test = clf.predict(test_np)"
   ]
  },
  {
   "cell_type": "code",
   "execution_count": 43,
   "metadata": {
    "collapsed": true
   },
   "outputs": [],
   "source": [
    "predict_test = clf.predict(test_np)\n",
    "result = pd.DataFrame({'PassengerId':df_test['PassengerId'].as_matrix(), 'Survived':predict_test.astype(np.int32)})\n",
    "#写成标准的数据上传格式\n",
    "\n",
    "result.to_csv(\"logistic_regression_predictions.csv\", index=False)  #"
   ]
  },
  {
   "cell_type": "code",
   "execution_count": 74,
   "metadata": {},
   "outputs": [
    {
     "name": "stderr",
     "output_type": "stream",
     "text": [
      "D:\\ANACONDA\\lib\\site-packages\\sklearn\\cross_validation.py:41: DeprecationWarning: This module was deprecated in version 0.18 in favor of the model_selection module into which all the refactored classes and functions are moved. Also note that the interface of the new CV iterators are different from that of this module. This module will be removed in 0.20.\n",
      "  \"This module will be removed in 0.20.\", DeprecationWarning)\n",
      "D:\\ANACONDA\\lib\\site-packages\\sklearn\\learning_curve.py:22: DeprecationWarning: This module was deprecated in version 0.18 in favor of the model_selection module into which all the functions are moved. This module will be removed in 0.20\n",
      "  DeprecationWarning)\n"
     ]
    }
   ],
   "source": [
    "from sklearn.learning_curve import learning_curve\n",
    "\n",
    "# 用sklearn的learning_curve得到training_score和cv_score，使用matplotlib画出learning curve\n",
    "def plot_learning_curve(estimator, title, X, y, ylim=None, cv=None, n_jobs=1, \n",
    "                        train_sizes=np.linspace(.05, 1., 20), verbose=0, plot=True):\n",
    "    \"\"\"\n",
    "    画出data在某模型上的learning curve.\n",
    "    参数解释\n",
    "    ----------\n",
    "    estimator : 你用的分类器。\n",
    "    title : 表格的标题。\n",
    "    X : 输入的feature，numpy类型\n",
    "    y : 输入的target vector\n",
    "    ylim : tuple格式的(ymin, ymax), 设定图像中纵坐标的最低点和最高点\n",
    "    cv : 做cross-validation的时候，数据分成的份数，其中一份作为cv集，其余n-1份作为training(默认为3份)\n",
    "    n_jobs : 并行的的任务数(默认1)\n",
    "    \"\"\"\n",
    "    train_sizes, train_scores, test_scores = learning_curve(\n",
    "        estimator, X, y, cv=cv, n_jobs=n_jobs, train_sizes=train_sizes, verbose=verbose)\n",
    "    \n",
    "    train_scores_mean = np.mean(train_scores, axis=1)\n",
    "    train_scores_std = np.std(train_scores, axis=1)\n",
    "    test_scores_mean = np.mean(test_scores, axis=1)\n",
    "    test_scores_std = np.std(test_scores, axis=1)\n",
    "    \n",
    "    if plot:\n",
    "        plt.figure()\n",
    "        plt.title(title)\n",
    "        if ylim is not None:\n",
    "            plt.ylim(*ylim)\n",
    "        plt.xlabel(u\"训练样本数\")\n",
    "        plt.ylabel(u\"得分\")\n",
    "        plt.gca().invert_yaxis()\n",
    "        plt.grid()\n",
    "    \n",
    "        plt.fill_between(train_sizes, train_scores_mean - train_scores_std, train_scores_mean + train_scores_std, \n",
    "                         alpha=0.1, color=\"b\")\n",
    "        plt.fill_between(train_sizes, test_scores_mean - test_scores_std, test_scores_mean + test_scores_std, \n",
    "                         alpha=0.1, color=\"r\")\n",
    "        plt.plot(train_sizes, train_scores_mean, 'o-', color=\"b\", label=u\"训练集上得分\")\n",
    "        plt.plot(train_sizes, test_scores_mean, 'o-', color=\"r\", label=u\"交叉验证集上得分\")\n",
    "    \n",
    "        plt.legend(loc=\"best\")\n",
    "        \n",
    "        plt.draw()\n",
    "        plt.gca().invert_yaxis()\n",
    "        plt.show()\n",
    "    \n",
    "    midpoint = ((train_scores_mean[-1] + train_scores_std[-1]) + (test_scores_mean[-1] - test_scores_std[-1])) / 2\n",
    "    diff = (train_scores_mean[-1] + train_scores_std[-1]) - (test_scores_mean[-1] - test_scores_std[-1])\n",
    "    return midpoint, diff\n",
    "\n",
    "#plot_learning_curve(clf, u\"学习曲线\", X, y)"
   ]
  },
  {
   "cell_type": "code",
   "execution_count": 26,
   "metadata": {},
   "outputs": [
    {
     "data": {
      "text/plain": [
       "DecisionTreeClassifier(class_weight=None, criterion='gini', max_depth=None,\n",
       "            max_features=None, max_leaf_nodes=None,\n",
       "            min_impurity_decrease=0.0, min_impurity_split=None,\n",
       "            min_samples_leaf=1, min_samples_split=2,\n",
       "            min_weight_fraction_leaf=0.0, presort=False, random_state=None,\n",
       "            splitter='best')"
      ]
     },
     "execution_count": 26,
     "metadata": {},
     "output_type": "execute_result"
    }
   ],
   "source": [
    "from sklearn import linear_model\n",
    "from sklearn import svm\n",
    "from sklearn.model_selection import cross_val_score\n",
    "from sklearn.ensemble import BaggingRegressor, BaggingClassifier, RandomForestClassifier, RandomForestRegressor\n",
    "from sklearn.tree import DecisionTreeClassifier, DecisionTreeRegressor\n",
    "\n",
    "\n",
    "#clf = linear_model.LogisticRegression(penalty = 'l2', tol = 1e-4)\n",
    "#clf = RandomForestRegressor(n_estimators=100, random_state = 0, max_depth = None)\n",
    "#clf = svm.SVC()\n",
    "clf = DecisionTreeClassifier()\n",
    "#clf = BaggingRegressor(clf, n_estimators=20, max_samples=0.8)\n",
    "    \n",
    "#trainModel = clf.fit(X, y)\n",
    "#cross_val_score(clf, X, y, cv=5)\n",
    "clf.fit(X, y)\n",
    "#clf.score(X, y)"
   ]
  },
  {
   "cell_type": "code",
   "execution_count": 24,
   "metadata": {},
   "outputs": [
    {
     "name": "stdout",
     "output_type": "stream",
     "text": [
      "[ 0.73184358  0.77094972  0.80898876  0.74719101  0.84180791]\n"
     ]
    }
   ],
   "source": [
    "print(cross_val_score(clf, X, y, cv=5))"
   ]
  },
  {
   "cell_type": "code",
   "execution_count": 26,
   "metadata": {},
   "outputs": [
    {
     "data": {
      "text/plain": [
       "0.98653198653198648"
      ]
     },
     "execution_count": 26,
     "metadata": {},
     "output_type": "execute_result"
    }
   ],
   "source": [
    "clf.score(X, y)"
   ]
  },
  {
   "cell_type": "code",
   "execution_count": 30,
   "metadata": {
    "collapsed": true
   },
   "outputs": [],
   "source": [
    "predict_test = clf.predict(test_np)\n",
    "result = pd.DataFrame({'PassengerId':df_test['PassengerId'].as_matrix(), 'Survived':predict_test.astype(np.int32)})\n",
    "#写成标准的数据上传格式\n",
    "\n",
    "result.to_csv(\"pred_label/DT_predictions.csv\", index=False)  #"
   ]
  },
  {
   "cell_type": "markdown",
   "metadata": {
    "collapsed": true
   },
   "source": [
    "### 用xgboost来做，模型的参数是gridsearchCV做的"
   ]
  },
  {
   "cell_type": "code",
   "execution_count": 18,
   "metadata": {
    "collapsed": true
   },
   "outputs": [],
   "source": [
    "import xgboost as xgb\n",
    "from xgboost.sklearn import XGBClassifier"
   ]
  },
  {
   "cell_type": "code",
   "execution_count": 19,
   "metadata": {
    "collapsed": true
   },
   "outputs": [],
   "source": [
    "xgb1 = XGBClassifier(\n",
    "        learning_rate =0.01,\n",
    "        n_estimators=400,\n",
    "        max_depth=8,\n",
    "        min_child_weight=5,\n",
    "        gamma=0.2,\n",
    "        subsample=0.7,\n",
    "        colsample_bytree=0.8,\n",
    "        reg_alpha=1e-05,\n",
    "        objective= 'binary:logistic',\n",
    "        nthread=1,\n",
    "        scale_pos_weight=1,\n",
    "        seed=27)"
   ]
  },
  {
   "cell_type": "code",
   "execution_count": 32,
   "metadata": {},
   "outputs": [
    {
     "data": {
      "image/png": "[encoded data removed]",
      "text/plain": [
       "<matplotlib.figure.Figure at 0xc1b6708358>"
      ]
     },
     "metadata": {},
     "output_type": "display_data"
    },
    {
     "data": {
      "text/plain": [
       "(0.83435633689608435, 0.058907423211535193)"
      ]
     },
     "execution_count": 32,
     "metadata": {},
     "output_type": "execute_result"
    }
   ],
   "source": [
    "plot_learning_curve(xgb1, u\"学习曲线\", X, y)"
   ]
  },
  {
   "cell_type": "code",
   "execution_count": 20,
   "metadata": {},
   "outputs": [
    {
     "data": {
      "text/plain": [
       "XGBClassifier(base_score=0.5, booster='gbtree', colsample_bylevel=1,\n",
       "       colsample_bytree=0.8, gamma=0.2, learning_rate=0.01,\n",
       "       max_delta_step=0, max_depth=8, min_child_weight=5, missing=None,\n",
       "       n_estimators=400, n_jobs=1, nthread=1, objective='binary:logistic',\n",
       "       random_state=0, reg_alpha=1e-05, reg_lambda=1, scale_pos_weight=1,\n",
       "       seed=27, silent=True, subsample=0.7)"
      ]
     },
     "execution_count": 20,
     "metadata": {},
     "output_type": "execute_result"
    }
   ],
   "source": [
    "xgb1.fit(X, y)"
   ]
  },
  {
   "cell_type": "code",
   "execution_count": 24,
   "metadata": {
    "collapsed": true
   },
   "outputs": [],
   "source": [
    "predict_test = xgb1.predict(test_np)\n",
    "result = pd.DataFrame({'PassengerId':df_test['PassengerId'].as_matrix(), 'Survived':predict_test.astype(np.int32)})\n",
    "#写成标准的数据上传格式\n",
    "\n",
    "result.to_csv(\"pred_label/xgb_predictions.csv\", index=False)  #"
   ]
  },
  {
   "cell_type": "code",
   "execution_count": 27,
   "metadata": {
    "collapsed": true
   },
   "outputs": [],
   "source": [
    "svc1 = svm.SVC(C=0.1, kernel='rbf', degree=3, gamma='auto',random_state=34)\n",
    "svc1.fit(X, y)\n",
    "predict_test = svc1.predict(test_np)\n",
    "result = pd.DataFrame({'PassengerId':df_test['PassengerId'].as_matrix(), 'Survived':predict_test.astype(np.int32)})\n",
    "#写成标准的数据上传格式\n",
    "\n",
    "result.to_csv(\"pred_label/svc1_predictions.csv\", index=False)  #"
   ]
  },
  {
   "cell_type": "code",
   "execution_count": 84,
   "metadata": {},
   "outputs": [
    {
     "data": {
      "text/plain": [
       "count    891.000000\n",
       "mean      32.204208\n",
       "std       49.693429\n",
       "min        0.000000\n",
       "25%        7.910400\n",
       "50%       14.454200\n",
       "75%       31.000000\n",
       "max      512.329200\n",
       "Name: Fare, dtype: float64"
      ]
     },
     "execution_count": 84,
     "metadata": {},
     "output_type": "execute_result"
    }
   ],
   "source": [
    "df_bayes = pd.read_csv('data/train.csv')\n",
    "df_bayes.Fare.describe()"
   ]
  },
  {
   "cell_type": "code",
   "execution_count": 46,
   "metadata": {},
   "outputs": [
    {
     "data": {
      "text/plain": [
       "(0.0, 500)"
      ]
     },
     "execution_count": 46,
     "metadata": {},
     "output_type": "execute_result"
    },
    {
     "data": {
      "image/png": "[encoded data removed]",
      "text/plain": [
       "<matplotlib.figure.Figure at 0xc1bfa23da0>"
      ]
     },
     "metadata": {},
     "output_type": "display_data"
    }
   ],
   "source": [
    "#画个图看一下年龄和船票应该怎么切分\n",
    "\n",
    "fig = plt.figure()\n",
    "fig.set(alpha = 0.2)\n",
    "#plt.title(u'根据各舱和性别的对别分析', fontproperties = font)\n",
    "\n",
    "ax1 = fig.add_subplot(131)\n",
    "df_bayes.Survived[df_bayes.Fare <= 14.45].value_counts().plot(kind = 'bar', label = u'船票/低')\n",
    "ax1.legend(loc = 'best',  prop =  font)\n",
    "plt.ylim(ymax=500)\n",
    "\n",
    "# ax2 = fig.add_subplot(132)\n",
    "# df_bayes.Survived[df_bayes.Fare <= 100][df_bayes.Fare > 31].value_counts().plot(kind = 'bar', label = u'船票/中')\n",
    "# ax2.legend(loc = 'best',  prop =  font)\n",
    "# plt.ylim(ymax=500)\n",
    "\n",
    "ax3 = fig.add_subplot(133)\n",
    "df_bayes.Survived[df_bayes.Fare > 14.45].value_counts().plot(kind = 'bar', label = u'船票/高')\n",
    "ax3.legend(loc = 'best',  prop =  font)\n",
    "plt.ylim(ymax=500)\n"
   ]
  },
  {
   "cell_type": "code",
   "execution_count": 85,
   "metadata": {
    "collapsed": true
   },
   "outputs": [],
   "source": [
    "#用中位数填充缺失值\n",
    "df_bayes['Age_fill'] = df_bayes.Age.fillna(df_bayes.Age.median())"
   ]
  },
  {
   "cell_type": "code",
   "execution_count": 86,
   "metadata": {},
   "outputs": [
    {
     "data": {
      "text/plain": [
       "count    891.000000\n",
       "mean      29.361582\n",
       "std       13.019697\n",
       "min        0.420000\n",
       "25%       22.000000\n",
       "50%       28.000000\n",
       "75%       35.000000\n",
       "max       80.000000\n",
       "Name: Age_fill, dtype: float64"
      ]
     },
     "execution_count": 86,
     "metadata": {},
     "output_type": "execute_result"
    }
   ],
   "source": [
    "df_bayes['Age_fill'].describe()"
   ]
  },
  {
   "cell_type": "code",
   "execution_count": 107,
   "metadata": {},
   "outputs": [
    {
     "data": {
      "text/plain": [
       "(0.0, 700)"
      ]
     },
     "execution_count": 107,
     "metadata": {},
     "output_type": "execute_result"
    },
    {
     "data": {
      "image/png": "[encoded data removed]",
      "text/plain": [
       "<matplotlib.figure.Figure at 0xc1bf67ada0>"
      ]
     },
     "metadata": {},
     "output_type": "display_data"
    }
   ],
   "source": [
    "#画个图看一下年龄和年龄应该怎么切分\n",
    "\n",
    "fig = plt.figure()\n",
    "fig.set(alpha = 0.2)\n",
    "#plt.title(u'根据各舱和性别的对别分析', fontproperties = font)\n",
    "\n",
    "ax1 = fig.add_subplot(131)\n",
    "df_bayes.Survived[df_bayes.Age_fill <= 5].value_counts().plot(kind = 'bar', label = u'船票/低')\n",
    "ax1.legend(loc = 'best',  prop =  font)\n",
    "plt.ylim(ymax=700)\n",
    "\n",
    "# ax2 = fig.add_subplot(132)\n",
    "# df_bayes.Survived[df_bayes.Age_fill <= 63][df_bayes.Age_fill > 5].value_counts().plot(kind = 'bar', label = u'船票/中')\n",
    "# ax2.legend(loc = 'best',  prop =  font)\n",
    "# plt.ylim(ymax=700)\n",
    "\n",
    "ax3 = fig.add_subplot(133)\n",
    "df_bayes.Survived[df_bayes.Age_fill > 5].value_counts().plot(kind = 'bar', label = u'船票/高')\n",
    "ax3.legend(loc = 'best',  prop =  font)\n",
    "plt.ylim(ymax=700)\n"
   ]
  },
  {
   "cell_type": "code",
   "execution_count": 121,
   "metadata": {
    "collapsed": true
   },
   "outputs": [],
   "source": [
    "df_bayes = pd.read_csv('data/train.csv')\n",
    "\n",
    "#用中位数填充缺失值\n",
    "df_bayes['Age_fill'] = df_bayes.Age.fillna(df_bayes.Age.median())"
   ]
  },
  {
   "cell_type": "code",
   "execution_count": 122,
   "metadata": {
    "collapsed": true
   },
   "outputs": [],
   "source": [
    "df_bayes.loc[ (df_bayes.Fare <= 14.45), 'Fare' ] = 1\n",
    "df_bayes.loc[ (df_bayes.Fare > 14.45), 'Fare' ] = 0"
   ]
  },
  {
   "cell_type": "code",
   "execution_count": 123,
   "metadata": {
    "collapsed": true
   },
   "outputs": [],
   "source": [
    "df_bayes.loc[ (df_bayes.Age_fill <= 5), 'Age_fill' ] = 1\n",
    "df_bayes.loc[ (df_bayes.Age_fill > 63), 'Age_fill' ] = 3\n",
    "df_bayes.loc[ (df_bayes.Age_fill > 5 ), 'Age_fill' ] = 2\n",
    "\n",
    "df_bayes.drop('Age',axis=1, inplace=True)\n"
   ]
  },
  {
   "cell_type": "code",
   "execution_count": 116,
   "metadata": {},
   "outputs": [
    {
     "data": {
      "text/html": [
       "<div>\n",
       "<style>\n",
       "    .dataframe thead tr:only-child th {\n",
       "        text-align: right;\n",
       "    }\n",
       "\n",
       "    .dataframe thead th {\n",
       "        text-align: left;\n",
       "    }\n",
       "\n",
       "    .dataframe tbody tr th {\n",
       "        vertical-align: top;\n",
       "    }\n",
       "</style>\n",
       "<table border=\"1\" class=\"dataframe\">\n",
       "  <thead>\n",
       "    <tr style=\"text-align: right;\">\n",
       "      <th></th>\n",
       "      <th>PassengerId</th>\n",
       "      <th>Survived</th>\n",
       "      <th>Pclass</th>\n",
       "      <th>Name</th>\n",
       "      <th>Sex</th>\n",
       "      <th>SibSp</th>\n",
       "      <th>Parch</th>\n",
       "      <th>Ticket</th>\n",
       "      <th>Fare</th>\n",
       "      <th>Cabin</th>\n",
       "      <th>Embarked</th>\n",
       "      <th>Age_fill</th>\n",
       "    </tr>\n",
       "  </thead>\n",
       "  <tbody>\n",
       "    <tr>\n",
       "      <th>0</th>\n",
       "      <td>1</td>\n",
       "      <td>0</td>\n",
       "      <td>3</td>\n",
       "      <td>Braund, Mr. Owen Harris</td>\n",
       "      <td>male</td>\n",
       "      <td>1</td>\n",
       "      <td>0</td>\n",
       "      <td>A/5 21171</td>\n",
       "      <td>1.0</td>\n",
       "      <td>NaN</td>\n",
       "      <td>S</td>\n",
       "      <td>2.0</td>\n",
       "    </tr>\n",
       "    <tr>\n",
       "      <th>1</th>\n",
       "      <td>2</td>\n",
       "      <td>1</td>\n",
       "      <td>1</td>\n",
       "      <td>Cumings, Mrs. John Bradley (Florence Briggs Th...</td>\n",
       "      <td>female</td>\n",
       "      <td>1</td>\n",
       "      <td>0</td>\n",
       "      <td>PC 17599</td>\n",
       "      <td>0.0</td>\n",
       "      <td>C85</td>\n",
       "      <td>C</td>\n",
       "      <td>2.0</td>\n",
       "    </tr>\n",
       "    <tr>\n",
       "      <th>2</th>\n",
       "      <td>3</td>\n",
       "      <td>1</td>\n",
       "      <td>3</td>\n",
       "      <td>Heikkinen, Miss. Laina</td>\n",
       "      <td>female</td>\n",
       "      <td>0</td>\n",
       "      <td>0</td>\n",
       "      <td>STON/O2. 3101282</td>\n",
       "      <td>1.0</td>\n",
       "      <td>NaN</td>\n",
       "      <td>S</td>\n",
       "      <td>2.0</td>\n",
       "    </tr>\n",
       "    <tr>\n",
       "      <th>3</th>\n",
       "      <td>4</td>\n",
       "      <td>1</td>\n",
       "      <td>1</td>\n",
       "      <td>Futrelle, Mrs. Jacques Heath (Lily May Peel)</td>\n",
       "      <td>female</td>\n",
       "      <td>1</td>\n",
       "      <td>0</td>\n",
       "      <td>113803</td>\n",
       "      <td>0.0</td>\n",
       "      <td>C123</td>\n",
       "      <td>S</td>\n",
       "      <td>2.0</td>\n",
       "    </tr>\n",
       "    <tr>\n",
       "      <th>4</th>\n",
       "      <td>5</td>\n",
       "      <td>0</td>\n",
       "      <td>3</td>\n",
       "      <td>Allen, Mr. William Henry</td>\n",
       "      <td>male</td>\n",
       "      <td>0</td>\n",
       "      <td>0</td>\n",
       "      <td>373450</td>\n",
       "      <td>1.0</td>\n",
       "      <td>NaN</td>\n",
       "      <td>S</td>\n",
       "      <td>2.0</td>\n",
       "    </tr>\n",
       "  </tbody>\n",
       "</table>\n",
       "</div>"
      ],
      "text/plain": [
       "   PassengerId  Survived  Pclass  \\\n",
       "0            1         0       3   \n",
       "1            2         1       1   \n",
       "2            3         1       3   \n",
       "3            4         1       1   \n",
       "4            5         0       3   \n",
       "\n",
       "                                                Name     Sex  SibSp  Parch  \\\n",
       "0                            Braund, Mr. Owen Harris    male      1      0   \n",
       "1  Cumings, Mrs. John Bradley (Florence Briggs Th...  female      1      0   \n",
       "2                             Heikkinen, Miss. Laina  female      0      0   \n",
       "3       Futrelle, Mrs. Jacques Heath (Lily May Peel)  female      1      0   \n",
       "4                           Allen, Mr. William Henry    male      0      0   \n",
       "\n",
       "             Ticket  Fare Cabin Embarked  Age_fill  \n",
       "0         A/5 21171   1.0   NaN        S       2.0  \n",
       "1          PC 17599   0.0   C85        C       2.0  \n",
       "2  STON/O2. 3101282   1.0   NaN        S       2.0  \n",
       "3            113803   0.0  C123        S       2.0  \n",
       "4            373450   1.0   NaN        S       2.0  "
      ]
     },
     "execution_count": 116,
     "metadata": {},
     "output_type": "execute_result"
    }
   ],
   "source": [
    "df_bayes.head()"
   ]
  },
  {
   "cell_type": "code",
   "execution_count": 125,
   "metadata": {
    "collapsed": true
   },
   "outputs": [],
   "source": [
    "#用Bayes做一下\n",
    "\n",
    "\n",
    "#先将Sex和Pclass构造一个组合特征\n",
    "df_bayes['Sex_Pclass'] = df_bayes['Sex'] + '_' + df_bayes['Pclass'].map(str)  #将性别和Pclass单独组合起来成为一个新的属性\n",
    "\n",
    "df_bayes.loc[ (df_bayes.Cabin.notnull()), 'Cabin' ] = 1\n",
    "df_bayes.loc[ (df_bayes.Cabin.isnull()), 'Cabin' ] = 0\n",
    "\n",
    "df_bayes.loc[ (df_bayes.Embarked != 'S'), 'Embarked' ] = 0\n",
    "df_bayes.loc[ (df_bayes.Embarked == 'S'), 'Embarked' ] = 1\n",
    "\n",
    "df_bayes.loc[(df_bayes.SibSp != 0), 'SibSp'] = 1\n",
    "df_bayes.loc[(df_bayes.SibSp == 0), 'SibSp'] = 0\n",
    "df_bayes.loc[(df_bayes.Parch != 0), 'Parch'] = 1\n",
    "df_bayes.loc[(df_bayes.Parch == 0), 'Parch'] = 0\n",
    "\n",
    "#对于年龄来说，存在缺失值，稍后做\n",
    "#先将Sex和Pclass转换成one-hot，并且构造一个组合特征\n",
    "dummies_Cabin = pd.get_dummies(df_bayes['Cabin'], prefix= 'Cabin')\n",
    "\n",
    "dummies_Parch = pd.get_dummies(df_bayes['Parch'], prefix= 'Parch')\n",
    "\n",
    "dummies_SibSp = pd.get_dummies(df_bayes['SibSp'], prefix= 'SibSp')\n",
    "\n",
    "dummies_Embarked = pd.get_dummies(df_bayes['Embarked'], prefix= 'Embarked')\n",
    "\n",
    "dummies_Sex = pd.get_dummies(df_bayes['Sex'], prefix= 'Sex')\n",
    "\n",
    "dummies_Pclass = pd.get_dummies(df_bayes['Pclass'], prefix= 'Pclass')\n",
    "\n",
    "dummies_Sex_Pclass = pd.get_dummies(df_bayes['Sex_Pclass'], prefix= 'Sex_Pclass')\n",
    "\n",
    "df_bayes = pd.concat([df_bayes, dummies_Cabin, dummies_Parch, dummies_SibSp,\\\n",
    "                     dummies_Embarked, dummies_Sex, dummies_Pclass, dummies_Sex_Pclass], axis=1)\n",
    "df_bayes.drop(['Pclass', 'Sex', 'Cabin', 'Embarked', 'Sex_Pclass', 'Parch', 'SibSp'], axis=1, inplace=True)\n",
    "\n",
    "df_bayes.drop(['Name', 'Ticket'], axis = 1, inplace = True)\n",
    "\n"
   ]
  },
  {
   "cell_type": "code",
   "execution_count": 127,
   "metadata": {},
   "outputs": [
    {
     "data": {
      "text/html": [
       "<div>\n",
       "<style>\n",
       "    .dataframe thead tr:only-child th {\n",
       "        text-align: right;\n",
       "    }\n",
       "\n",
       "    .dataframe thead th {\n",
       "        text-align: left;\n",
       "    }\n",
       "\n",
       "    .dataframe tbody tr th {\n",
       "        vertical-align: top;\n",
       "    }\n",
       "</style>\n",
       "<table border=\"1\" class=\"dataframe\">\n",
       "  <thead>\n",
       "    <tr style=\"text-align: right;\">\n",
       "      <th></th>\n",
       "      <th>PassengerId</th>\n",
       "      <th>Survived</th>\n",
       "      <th>Fare</th>\n",
       "      <th>Age_fill</th>\n",
       "      <th>Cabin_0</th>\n",
       "      <th>Cabin_1</th>\n",
       "      <th>Parch_0</th>\n",
       "      <th>Parch_1</th>\n",
       "      <th>SibSp_0</th>\n",
       "      <th>SibSp_1</th>\n",
       "      <th>...</th>\n",
       "      <th>Sex_male</th>\n",
       "      <th>Pclass_1</th>\n",
       "      <th>Pclass_2</th>\n",
       "      <th>Pclass_3</th>\n",
       "      <th>Sex_Pclass_female_1</th>\n",
       "      <th>Sex_Pclass_female_2</th>\n",
       "      <th>Sex_Pclass_female_3</th>\n",
       "      <th>Sex_Pclass_male_1</th>\n",
       "      <th>Sex_Pclass_male_2</th>\n",
       "      <th>Sex_Pclass_male_3</th>\n",
       "    </tr>\n",
       "  </thead>\n",
       "  <tbody>\n",
       "    <tr>\n",
       "      <th>0</th>\n",
       "      <td>1</td>\n",
       "      <td>0</td>\n",
       "      <td>1.0</td>\n",
       "      <td>2.0</td>\n",
       "      <td>1</td>\n",
       "      <td>0</td>\n",
       "      <td>1</td>\n",
       "      <td>0</td>\n",
       "      <td>0</td>\n",
       "      <td>1</td>\n",
       "      <td>...</td>\n",
       "      <td>1</td>\n",
       "      <td>0</td>\n",
       "      <td>0</td>\n",
       "      <td>1</td>\n",
       "      <td>0</td>\n",
       "      <td>0</td>\n",
       "      <td>0</td>\n",
       "      <td>0</td>\n",
       "      <td>0</td>\n",
       "      <td>1</td>\n",
       "    </tr>\n",
       "    <tr>\n",
       "      <th>1</th>\n",
       "      <td>2</td>\n",
       "      <td>1</td>\n",
       "      <td>0.0</td>\n",
       "      <td>2.0</td>\n",
       "      <td>0</td>\n",
       "      <td>1</td>\n",
       "      <td>1</td>\n",
       "      <td>0</td>\n",
       "      <td>0</td>\n",
       "      <td>1</td>\n",
       "      <td>...</td>\n",
       "      <td>0</td>\n",
       "      <td>1</td>\n",
       "      <td>0</td>\n",
       "      <td>0</td>\n",
       "      <td>1</td>\n",
       "      <td>0</td>\n",
       "      <td>0</td>\n",
       "      <td>0</td>\n",
       "      <td>0</td>\n",
       "      <td>0</td>\n",
       "    </tr>\n",
       "    <tr>\n",
       "      <th>2</th>\n",
       "      <td>3</td>\n",
       "      <td>1</td>\n",
       "      <td>1.0</td>\n",
       "      <td>2.0</td>\n",
       "      <td>1</td>\n",
       "      <td>0</td>\n",
       "      <td>1</td>\n",
       "      <td>0</td>\n",
       "      <td>1</td>\n",
       "      <td>0</td>\n",
       "      <td>...</td>\n",
       "      <td>0</td>\n",
       "      <td>0</td>\n",
       "      <td>0</td>\n",
       "      <td>1</td>\n",
       "      <td>0</td>\n",
       "      <td>0</td>\n",
       "      <td>1</td>\n",
       "      <td>0</td>\n",
       "      <td>0</td>\n",
       "      <td>0</td>\n",
       "    </tr>\n",
       "    <tr>\n",
       "      <th>3</th>\n",
       "      <td>4</td>\n",
       "      <td>1</td>\n",
       "      <td>0.0</td>\n",
       "      <td>2.0</td>\n",
       "      <td>0</td>\n",
       "      <td>1</td>\n",
       "      <td>1</td>\n",
       "      <td>0</td>\n",
       "      <td>0</td>\n",
       "      <td>1</td>\n",
       "      <td>...</td>\n",
       "      <td>0</td>\n",
       "      <td>1</td>\n",
       "      <td>0</td>\n",
       "      <td>0</td>\n",
       "      <td>1</td>\n",
       "      <td>0</td>\n",
       "      <td>0</td>\n",
       "      <td>0</td>\n",
       "      <td>0</td>\n",
       "      <td>0</td>\n",
       "    </tr>\n",
       "    <tr>\n",
       "      <th>4</th>\n",
       "      <td>5</td>\n",
       "      <td>0</td>\n",
       "      <td>1.0</td>\n",
       "      <td>2.0</td>\n",
       "      <td>1</td>\n",
       "      <td>0</td>\n",
       "      <td>1</td>\n",
       "      <td>0</td>\n",
       "      <td>1</td>\n",
       "      <td>0</td>\n",
       "      <td>...</td>\n",
       "      <td>1</td>\n",
       "      <td>0</td>\n",
       "      <td>0</td>\n",
       "      <td>1</td>\n",
       "      <td>0</td>\n",
       "      <td>0</td>\n",
       "      <td>0</td>\n",
       "      <td>0</td>\n",
       "      <td>0</td>\n",
       "      <td>1</td>\n",
       "    </tr>\n",
       "  </tbody>\n",
       "</table>\n",
       "<p>5 rows × 23 columns</p>\n",
       "</div>"
      ],
      "text/plain": [
       "   PassengerId  Survived  Fare  Age_fill  Cabin_0  Cabin_1  Parch_0  Parch_1  \\\n",
       "0            1         0   1.0       2.0        1        0        1        0   \n",
       "1            2         1   0.0       2.0        0        1        1        0   \n",
       "2            3         1   1.0       2.0        1        0        1        0   \n",
       "3            4         1   0.0       2.0        0        1        1        0   \n",
       "4            5         0   1.0       2.0        1        0        1        0   \n",
       "\n",
       "   SibSp_0  SibSp_1        ...          Sex_male  Pclass_1  Pclass_2  \\\n",
       "0        0        1        ...                 1         0         0   \n",
       "1        0        1        ...                 0         1         0   \n",
       "2        1        0        ...                 0         0         0   \n",
       "3        0        1        ...                 0         1         0   \n",
       "4        1        0        ...                 1         0         0   \n",
       "\n",
       "   Pclass_3  Sex_Pclass_female_1  Sex_Pclass_female_2  Sex_Pclass_female_3  \\\n",
       "0         1                    0                    0                    0   \n",
       "1         0                    1                    0                    0   \n",
       "2         1                    0                    0                    1   \n",
       "3         0                    1                    0                    0   \n",
       "4         1                    0                    0                    0   \n",
       "\n",
       "   Sex_Pclass_male_1  Sex_Pclass_male_2  Sex_Pclass_male_3  \n",
       "0                  0                  0                  1  \n",
       "1                  0                  0                  0  \n",
       "2                  0                  0                  0  \n",
       "3                  0                  0                  0  \n",
       "4                  0                  0                  1  \n",
       "\n",
       "[5 rows x 23 columns]"
      ]
     },
     "execution_count": 127,
     "metadata": {},
     "output_type": "execute_result"
    }
   ],
   "source": [
    "df_bayes.head()"
   ]
  },
  {
   "cell_type": "code",
   "execution_count": 136,
   "metadata": {
    "collapsed": true
   },
   "outputs": [],
   "source": [
    "# 我们把需要的feature字段取出来，转成numpy格式\n",
    "\n",
    "train_df = df_bayes.filter(regex='Survived|Age_.*|SibSp_.*|Parch_.*|Fare|Cabin_.*|Embarked_.*|Sex_.*|Pclass_.*')\n",
    "train_np = train_df.as_matrix()\n",
    "\n",
    "# y即Survival结果\n",
    "y = train_np[:, 0]\n",
    "\n",
    "# X即特征属性值\n",
    "X = train_np[:, 1:]\n",
    "    "
   ]
  },
  {
   "cell_type": "code",
   "execution_count": 139,
   "metadata": {
    "collapsed": true
   },
   "outputs": [],
   "source": [
    "#用NB做\n",
    "from sklearn.naive_bayes import MultinomialNB"
   ]
  },
  {
   "cell_type": "code",
   "execution_count": 140,
   "metadata": {},
   "outputs": [
    {
     "data": {
      "text/plain": [
       "MultinomialNB(alpha=1.0, class_prior=None, fit_prior=True)"
      ]
     },
     "execution_count": 140,
     "metadata": {},
     "output_type": "execute_result"
    }
   ],
   "source": [
    "nb = MultinomialNB()\n",
    "nb.fit(X, y)"
   ]
  },
  {
   "cell_type": "code",
   "execution_count": 150,
   "metadata": {},
   "outputs": [
    {
     "name": "stdout",
     "output_type": "stream",
     "text": [
      "[ 0.68156425  0.77094972  0.78651685  0.76966292  0.80225989]\n"
     ]
    }
   ],
   "source": [
    "print(cross_val_score(nb, X, y, cv=5))"
   ]
  },
  {
   "cell_type": "code",
   "execution_count": 144,
   "metadata": {},
   "outputs": [
    {
     "name": "stdout",
     "output_type": "stream",
     "text": [
      "<class 'pandas.core.frame.DataFrame'>\n",
      "RangeIndex: 418 entries, 0 to 417\n",
      "Data columns (total 11 columns):\n",
      "PassengerId    418 non-null int64\n",
      "Pclass         418 non-null int64\n",
      "Name           418 non-null object\n",
      "Sex            418 non-null object\n",
      "Age            332 non-null float64\n",
      "SibSp          418 non-null int64\n",
      "Parch          418 non-null int64\n",
      "Ticket         418 non-null object\n",
      "Fare           417 non-null float64\n",
      "Cabin          91 non-null object\n",
      "Embarked       418 non-null object\n",
      "dtypes: float64(2), int64(4), object(5)\n",
      "memory usage: 36.0+ KB\n"
     ]
    }
   ],
   "source": [
    "df_bayes = pd.read_csv('data/test.csv')\n",
    "\n",
    "df_bayes.info()"
   ]
  },
  {
   "cell_type": "code",
   "execution_count": 148,
   "metadata": {
    "collapsed": true
   },
   "outputs": [],
   "source": [
    "#对test做相应处理\n",
    "#用Bayes做一下\n",
    "df_bayes = pd.read_csv('data/test.csv')\n",
    "\n",
    "#用中位数填充缺失值\n",
    "df_bayes['Age_fill'] = df_bayes.Age.fillna(df_bayes.Age.median())\n",
    "df_bayes['Fare'] = df_bayes.Fare.fillna(df_bayes.Fare.mean())\n",
    "df_bayes.loc[ (df_bayes.Fare <= 14.45), 'Fare' ] = 1\n",
    "df_bayes.loc[ (df_bayes.Fare > 14.45), 'Fare' ] = 0\n",
    "df_bayes.loc[ (df_bayes.Age_fill <= 5), 'Age_fill' ] = 1\n",
    "df_bayes.loc[ (df_bayes.Age_fill > 63), 'Age_fill' ] = 3\n",
    "df_bayes.loc[ (df_bayes.Age_fill > 5 ), 'Age_fill' ] = 2\n",
    "\n",
    "df_bayes.drop('Age',axis=1, inplace=True)\n",
    "\n",
    "#先将Sex和Pclass构造一个组合特征\n",
    "df_bayes['Sex_Pclass'] = df_bayes['Sex'] + '_' + df_bayes['Pclass'].map(str)  #将性别和Pclass单独组合起来成为一个新的属性\n",
    "\n",
    "df_bayes.loc[ (df_bayes.Cabin.notnull()), 'Cabin' ] = 1\n",
    "df_bayes.loc[ (df_bayes.Cabin.isnull()), 'Cabin' ] = 0\n",
    "\n",
    "df_bayes.loc[ (df_bayes.Embarked != 'S'), 'Embarked' ] = 0\n",
    "df_bayes.loc[ (df_bayes.Embarked == 'S'), 'Embarked' ] = 1\n",
    "\n",
    "df_bayes.loc[(df_bayes.SibSp != 0), 'SibSp'] = 1\n",
    "df_bayes.loc[(df_bayes.SibSp == 0), 'SibSp'] = 0\n",
    "df_bayes.loc[(df_bayes.Parch != 0), 'Parch'] = 1\n",
    "df_bayes.loc[(df_bayes.Parch == 0), 'Parch'] = 0\n",
    "\n",
    "#对于年龄来说，存在缺失值，稍后做\n",
    "#先将Sex和Pclass转换成one-hot，并且构造一个组合特征\n",
    "dummies_Cabin = pd.get_dummies(df_bayes['Cabin'], prefix= 'Cabin')\n",
    "\n",
    "dummies_Parch = pd.get_dummies(df_bayes['Parch'], prefix= 'Parch')\n",
    "\n",
    "dummies_SibSp = pd.get_dummies(df_bayes['SibSp'], prefix= 'SibSp')\n",
    "\n",
    "dummies_Embarked = pd.get_dummies(df_bayes['Embarked'], prefix= 'Embarked')\n",
    "\n",
    "dummies_Sex = pd.get_dummies(df_bayes['Sex'], prefix= 'Sex')\n",
    "\n",
    "dummies_Pclass = pd.get_dummies(df_bayes['Pclass'], prefix= 'Pclass')\n",
    "\n",
    "dummies_Sex_Pclass = pd.get_dummies(df_bayes['Sex_Pclass'], prefix= 'Sex_Pclass')\n",
    "\n",
    "df_bayes = pd.concat([df_bayes, dummies_Cabin, dummies_Parch, dummies_SibSp,\\\n",
    "                     dummies_Embarked, dummies_Sex, dummies_Pclass, dummies_Sex_Pclass], axis=1)\n",
    "df_bayes.drop(['Pclass', 'Sex', 'Cabin', 'Embarked', 'Sex_Pclass', 'Parch', 'SibSp'], axis=1, inplace=True)\n",
    "\n",
    "df_bayes.drop(['Name', 'Ticket'], axis = 1, inplace = True)\n",
    "\n",
    "test_df = df_bayes.filter(regex='Age_.*|SibSp_.*|Parch_.*|Fare|Cabin_.*|Embarked_.*|Sex_.*|Pclass_.*')\n",
    "test_np = test_df.as_matrix()"
   ]
  },
  {
   "cell_type": "code",
   "execution_count": 151,
   "metadata": {
    "collapsed": true
   },
   "outputs": [],
   "source": [
    "predict_test = nb.predict(test_np)\n",
    "result = pd.DataFrame({'PassengerId':df_test['PassengerId'].as_matrix(), 'Survived':predict_test.astype(np.int32)})\n",
    "#写成标准的数据上传格式\n",
    "\n",
    "result.to_csv(\"pred_label/NB_predictions.csv\", index=False)  #"
   ]
  },
  {
   "cell_type": "code",
   "execution_count": null,
   "metadata": {
    "collapsed": true
   },
   "outputs": [],
   "source": []
  },
  {
   "cell_type": "code",
   "execution_count": 57,
   "metadata": {
    "collapsed": true
   },
   "outputs": [],
   "source": [
    "df_train = pd.read_csv('data/train.csv')\n",
    "df_test= pd.read_csv('data/test.csv')\n",
    "df_train.Embarked = df_train.Embarked.fillna('S')\n",
    "df_test['Fare'] = df_test.Fare.fillna(df_test.Fare.mean())"
   ]
  },
  {
   "cell_type": "code",
   "execution_count": 58,
   "metadata": {
    "collapsed": true
   },
   "outputs": [],
   "source": [
    "train_df =  df_train[['Age','Fare', 'Parch', 'SibSp', 'Pclass']]\n",
    "test_df =  df_test[['Age','Fare', 'Parch', 'SibSp', 'Pclass']]"
   ]
  },
  {
   "cell_type": "code",
   "execution_count": 59,
   "metadata": {
    "collapsed": true
   },
   "outputs": [],
   "source": [
    "age_all = pd.concat((train_df, test_df), axis = 0)"
   ]
  },
  {
   "cell_type": "code",
   "execution_count": 60,
   "metadata": {
    "collapsed": true
   },
   "outputs": [],
   "source": [
    "age_train = age_all[age_all.Age.notnull()].as_matrix()\n",
    "age_test_null = test_df[test_df.Age.isnull()].as_matrix()\n",
    "age_train_null = train_df[train_df.Age.isnull()].as_matrix()\n",
    "\n",
    "y = age_train[:, 0]\n",
    "X = age_train[:, 1:]"
   ]
  },
  {
   "cell_type": "code",
   "execution_count": 34,
   "metadata": {
    "collapsed": true
   },
   "outputs": [],
   "source": [
    "from sklearn.ensemble import RandomForestRegressor\n",
    " \n",
    "### 使用 RandomForestClassifier 填补缺失的年龄属性\n",
    "def set_missing_ages(X, y):\n",
    "\n",
    "    # fit到RandomForestRegressor之中\n",
    "    rfr = RandomForestRegressor(random_state=0, n_estimators=2000, n_jobs=1)\n",
    "    rfr.fit(X, y)\n",
    "    \n",
    "    # 用得到的模型进行未知年龄结果预测\n",
    "    predictedAges = rfr.predict(age_train_null[:, 1:])\n",
    "    \n",
    "    # 用得到的预测结果填补原缺失数据\n",
    "    df_train.loc[ (df_train.Age.isnull()), 'Age' ] = predictedAges\n",
    "    \n",
    "    return df_train, rfr"
   ]
  },
  {
   "cell_type": "code",
   "execution_count": 61,
   "metadata": {
    "collapsed": true
   },
   "outputs": [],
   "source": [
    "df_train, rfr = set_missing_ages(X, y)"
   ]
  },
  {
   "cell_type": "code",
   "execution_count": null,
   "metadata": {
    "collapsed": true
   },
   "outputs": [],
   "source": []
  },
  {
   "cell_type": "code",
   "execution_count": 62,
   "metadata": {
    "collapsed": true
   },
   "outputs": [],
   "source": [
    "# 用得到的模型进行未知年龄结果预测\n",
    "predictedAges = rfr.predict(age_test_null[:, 1:])\n",
    "    \n",
    "# 用得到的预测结果填补原缺失数据\n",
    "df_test.loc[ (df_test.Age.isnull()), 'Age' ] = predictedAges"
   ]
  },
  {
   "cell_type": "code",
   "execution_count": 65,
   "metadata": {},
   "outputs": [
    {
     "name": "stdout",
     "output_type": "stream",
     "text": [
      "<class 'pandas.core.frame.DataFrame'>\n",
      "RangeIndex: 418 entries, 0 to 417\n",
      "Data columns (total 11 columns):\n",
      "PassengerId    418 non-null int64\n",
      "Pclass         418 non-null int64\n",
      "Name           418 non-null object\n",
      "Sex            418 non-null object\n",
      "Age            418 non-null float64\n",
      "SibSp          418 non-null int64\n",
      "Parch          418 non-null int64\n",
      "Ticket         418 non-null object\n",
      "Fare           418 non-null float64\n",
      "Cabin          91 non-null object\n",
      "Embarked       418 non-null object\n",
      "dtypes: float64(2), int64(4), object(5)\n",
      "memory usage: 36.0+ KB\n"
     ]
    }
   ],
   "source": [
    "df_test.info()"
   ]
  },
  {
   "cell_type": "code",
   "execution_count": 66,
   "metadata": {
    "collapsed": true
   },
   "outputs": [],
   "source": [
    "#先对Fare归一化\n",
    "\n",
    "scaler = StandardScaler()\n",
    "df_train['fare_scaled'] = scaler.fit_transform(np.array(df_train['Fare'].values.reshape(-1, 1)))\n",
    "df_train.drop('Fare',axis=1, inplace=True)\n",
    "\n",
    "#先将Sex和Pclass构造一个组合特征\n",
    "df_train['Sex_Pclass'] = df_train['Sex'] + '_' + df_train['Pclass'].map(str)  #将性别和Pclass单独组合起来成为一个新的属性\n",
    "\n",
    "df_train.loc[ (df_train.Cabin.notnull()), 'Cabin' ] = \"Yes\"\n",
    "df_train.loc[ (df_train.Cabin.isnull()), 'Cabin' ] = \"No\"\n",
    "\n",
    "df_train.loc[ (df_train.Embarked == 'S'), 'Embarked' ] = \"S\"\n",
    "df_train.loc[ (df_train.Embarked != 'S'), 'Embarked' ] = \"other\"\n",
    "\n",
    "df_train.loc[(df_train.SibSp != 0), 'SibSp'] = 1\n",
    "df_train.loc[(df_train.SibSp == 0), 'SibSp'] = 0\n",
    "df_train.loc[(df_train.Parch != 0), 'Parch'] = 1\n",
    "df_train.loc[(df_train.Parch == 0), 'Parch'] = 0\n",
    "\n",
    "#对于年龄来说，存在缺失值，稍后做\n",
    "#先将Sex和Pclass转换成one-hot，并且构造一个组合特征\n",
    "dummies_Cabin = pd.get_dummies(df_train['Cabin'], prefix= 'Cabin')\n",
    "\n",
    "dummies_Parch = pd.get_dummies(df_train['Parch'], prefix= 'Parch')\n",
    "\n",
    "dummies_SibSp = pd.get_dummies(df_train['SibSp'], prefix= 'SibSp')\n",
    "\n",
    "dummies_Embarked = pd.get_dummies(df_train['Embarked'], prefix= 'Embarked')\n",
    "\n",
    "dummies_Sex = pd.get_dummies(df_train['Sex'], prefix= 'Sex')\n",
    "\n",
    "dummies_Pclass = pd.get_dummies(df_train['Pclass'], prefix= 'Pclass')\n",
    "\n",
    "dummies_Sex_Pclass = pd.get_dummies(df_train['Sex_Pclass'], prefix= 'Sex_Pclass')\n",
    "\n",
    "df_train = pd.concat([df_train, dummies_Cabin, dummies_Parch, dummies_SibSp,\\\n",
    "                     dummies_Embarked, dummies_Sex, dummies_Pclass, dummies_Sex_Pclass], axis=1)\n",
    "df_train.drop(['Pclass', 'Sex', 'Cabin', 'Embarked', 'Sex_Pclass', 'Parch', 'SibSp'], axis=1, inplace=True)\n",
    "\n",
    "df_train.drop(['Name', 'Ticket'], axis = 1, inplace = True)\n",
    "\n",
    "#age\n",
    "scaler = StandardScaler()\n",
    "df_train['Age_fill_scaled'] = scaler.fit_transform(np.array(df_train['Age'].values.reshape(-1, 1)))\n",
    "df_train.drop(['Age'],axis=1, inplace=True)\n"
   ]
  },
  {
   "cell_type": "code",
   "execution_count": 75,
   "metadata": {
    "collapsed": true
   },
   "outputs": [],
   "source": [
    "# 我们把需要的feature字段取出来，转成numpy格式，使用scikit-learn中的LogisticRegression建模\n",
    "\n",
    "train_x = df_train.filter(regex='Survived|Age_.*|SibSp_.*|Parch_.*|fare_.*|Cabin_.*|Embarked_.*|Sex_.*|Pclass_.*')\n",
    "train_np = train_x.as_matrix()\n",
    "\n",
    "# y即Survival结果\n",
    "y = train_np[:, 0]\n",
    "\n",
    "# X即特征属性值\n",
    "X = train_np[:, 1:]\n",
    "    "
   ]
  },
  {
   "cell_type": "code",
   "execution_count": 92,
   "metadata": {},
   "outputs": [
    {
     "name": "stdout",
     "output_type": "stream",
     "text": [
      "[ 0.82681564  0.81005587  0.82022472  0.80337079  0.81920904]\n"
     ]
    }
   ],
   "source": [
    "\n",
    "svc1 = svm.SVC(C=1.5, kernel='rbf', degree=3, gamma='auto',random_state=34)\n",
    "svc1.fit(X, y)\n",
    "print(cross_val_score(svc1, X, y, cv=5))\n",
    "# predict_test = svc1.predict(test_np)\n",
    "# result = pd.DataFrame({'PassengerId':df_test['PassengerId'].as_matrix(), 'Survived':predict_test.astype(np.int32)})\n",
    "# #写成标准的数据上传格式\n",
    "\n",
    "# result.to_csv(\"pred_label/svc1_predictions.csv\", index=False)  #"
   ]
  },
  {
   "cell_type": "code",
   "execution_count": 94,
   "metadata": {
    "collapsed": true
   },
   "outputs": [],
   "source": [
    "#对测试集做同样的事情\n",
    "#分析完图表以后，开始做训练集\n",
    "#先对Fare归一化\n",
    "\n",
    "scaler = StandardScaler()\n",
    "df_test['fare_scaled'] = scaler.fit_transform(np.array(df_test['Fare'].values.reshape(-1, 1)))\n",
    "df_test.drop('Fare',axis=1, inplace=True)\n",
    "\n",
    "#先将Sex和Pclass构造一个组合特征\n",
    "df_test['Sex_Pclass'] = df_test['Sex'] + '_' + df_test['Pclass'].map(str)  #将性别和Pclass单独组合起来成为一个新的属性\n",
    "\n",
    "df_test.loc[ (df_test.Cabin.notnull()), 'Cabin' ] = \"Yes\"\n",
    "df_test.loc[ (df_test.Cabin.isnull()), 'Cabin' ] = \"No\"\n",
    "\n",
    "df_test.loc[ (df_test.Embarked == 'S'), 'Embarked' ] = \"S\"\n",
    "df_test.loc[ (df_test.Embarked != 'S'), 'Embarked' ] = \"other\"\n",
    "\n",
    "df_test.loc[(df_test.SibSp != 0), 'SibSp'] = 1\n",
    "df_test.loc[(df_test.SibSp == 0), 'SibSp'] = 0\n",
    "df_test.loc[(df_test.Parch != 0), 'Parch'] = 1\n",
    "df_test.loc[(df_test.Parch == 0), 'Parch'] = 0\n",
    "\n",
    "#对于年龄来说，存在缺失值，稍后做\n",
    "#先将Sex和Pclass转换成one-hot，并且构造一个组合特征\n",
    "dummies_Cabin = pd.get_dummies(df_test['Cabin'], prefix= 'Cabin')\n",
    "\n",
    "dummies_Parch = pd.get_dummies(df_test['Parch'], prefix= 'Parch')\n",
    "\n",
    "dummies_SibSp = pd.get_dummies(df_test['SibSp'], prefix= 'SibSp')\n",
    "\n",
    "dummies_Embarked = pd.get_dummies(df_test['Embarked'], prefix= 'Embarked')\n",
    "\n",
    "dummies_Sex = pd.get_dummies(df_test['Sex'], prefix= 'Sex')\n",
    "\n",
    "dummies_Pclass = pd.get_dummies(df_test['Pclass'], prefix= 'Pclass')\n",
    "\n",
    "dummies_Sex_Pclass = pd.get_dummies(df_test['Sex_Pclass'], prefix= 'Sex_Pclass')\n",
    "\n",
    "df_test = pd.concat([df_test, dummies_Cabin, dummies_Parch, dummies_SibSp,\\\n",
    "                     dummies_Embarked, dummies_Sex, dummies_Pclass, dummies_Sex_Pclass], axis=1)\n",
    "df_test.drop(['Pclass', 'Sex', 'Cabin', 'Embarked', 'Sex_Pclass', 'Parch', 'SibSp'], axis=1, inplace=True)\n",
    "\n",
    "df_test.drop(['Name', 'Ticket'], axis = 1, inplace = True)\n",
    "\n",
    "#age\n",
    "scaler = StandardScaler()\n",
    "df_test['Age_fill_scaled'] = scaler.fit_transform(np.array(df_test['Age'].values.reshape(-1, 1)))\n",
    "df_test.drop(['Age'],axis=1, inplace=True)\n"
   ]
  },
  {
   "cell_type": "code",
   "execution_count": 95,
   "metadata": {
    "collapsed": true
   },
   "outputs": [],
   "source": [
    "test_x = df_test.filter(regex='Age_.*|SibSp_.*|Parch_.*|fare_.*|Cabin_.*|Embarked_.*|Sex_.*|Pclass_.*')\n",
    "test_np = test_x.as_matrix()"
   ]
  },
  {
   "cell_type": "code",
   "execution_count": 97,
   "metadata": {
    "collapsed": true
   },
   "outputs": [],
   "source": [
    "predict_test = svc1.predict(test_np)\n",
    "result = pd.DataFrame({'PassengerId':df_test['PassengerId'].as_matrix(), 'Survived':predict_test.astype(np.int32)})\n",
    "#写成标准的数据上传格式\n",
    "result.to_csv(\"pred_label/svc1_new_predictions.csv\", index=False)  "
   ]
  },
  {
   "cell_type": "code",
   "execution_count": 102,
   "metadata": {
    "collapsed": true
   },
   "outputs": [],
   "source": [
    "xgb4 = XGBClassifier(\n",
    "        learning_rate =0.01,\n",
    "        n_estimators=500,\n",
    "        max_depth=6,\n",
    "        min_child_weight=5,\n",
    "        gamma=0.0,\n",
    "        subsample=0.9,\n",
    "        colsample_bytree=0.8,\n",
    "        reg_alpha=0.5,\n",
    "        objective= 'binary:logistic',\n",
    "        nthread=1,\n",
    "        scale_pos_weight=1,\n",
    "        seed=27)"
   ]
  },
  {
   "cell_type": "code",
   "execution_count": 103,
   "metadata": {},
   "outputs": [
    {
     "data": {
      "text/plain": [
       "XGBClassifier(base_score=0.5, booster='gbtree', colsample_bylevel=1,\n",
       "       colsample_bytree=0.8, gamma=0.0, learning_rate=0.01,\n",
       "       max_delta_step=0, max_depth=6, min_child_weight=5, missing=None,\n",
       "       n_estimators=500, n_jobs=1, nthread=1, objective='binary:logistic',\n",
       "       random_state=0, reg_alpha=0.5, reg_lambda=1, scale_pos_weight=1,\n",
       "       seed=27, silent=True, subsample=0.9)"
      ]
     },
     "execution_count": 103,
     "metadata": {},
     "output_type": "execute_result"
    }
   ],
   "source": [
    "xgb4.fit(X, y)"
   ]
  },
  {
   "cell_type": "code",
   "execution_count": 106,
   "metadata": {},
   "outputs": [
    {
     "data": {
      "image/png": "[encoded data removed]",
      "text/plain": [
       "<matplotlib.figure.Figure at 0xcd3c6d080>"
      ]
     },
     "metadata": {},
     "output_type": "display_data"
    },
    {
     "data": {
      "text/plain": [
       "(0.84232413705954245, 0.079081596558297718)"
      ]
     },
     "execution_count": 106,
     "metadata": {},
     "output_type": "execute_result"
    }
   ],
   "source": [
    "plot_learning_curve(xgb4, u\"学习曲线\", X, y)"
   ]
  },
  {
   "cell_type": "code",
   "execution_count": 107,
   "metadata": {
    "collapsed": true
   },
   "outputs": [],
   "source": [
    "predict_test = xgb4.predict(test_np)\n",
    "result = pd.DataFrame({'PassengerId':df_test['PassengerId'].as_matrix(), 'Survived':predict_test.astype(np.int32)})\n",
    "#写成标准的数据上传格式\n",
    "\n",
    "result.to_csv(\"pred_label/xgb4_predictions.csv\", index=False)  #"
   ]
  },
  {
   "cell_type": "code",
   "execution_count": 115,
   "metadata": {
    "collapsed": true
   },
   "outputs": [],
   "source": [
    "clf = linear_model.LogisticRegression(C=1.0, penalty='l2', tol=1e-4)"
   ]
  },
  {
   "cell_type": "code",
   "execution_count": 120,
   "metadata": {},
   "outputs": [
    {
     "data": {
      "text/plain": [
       "BaggingClassifier(base_estimator=LogisticRegression(C=1.0, class_weight=None, dual=False, fit_intercept=True,\n",
       "          intercept_scaling=1, max_iter=100, multi_class='ovr', n_jobs=1,\n",
       "          penalty='l2', random_state=None, solver='liblinear', tol=0.0001,\n",
       "          verbose=0, warm_start=False),\n",
       "         bootstrap=True, bootstrap_features=False, max_features=1.0,\n",
       "         max_samples=0.8, n_estimators=10, n_jobs=-1, oob_score=False,\n",
       "         random_state=None, verbose=0, warm_start=False)"
      ]
     },
     "execution_count": 120,
     "metadata": {},
     "output_type": "execute_result"
    }
   ],
   "source": [
    "clf = linear_model.LogisticRegression(C=1.0, penalty='l2', tol=1e-4)\n",
    "\n",
    "from sklearn.ensemble import BaggingClassifier\n",
    "\n",
    "bagging_clf = BaggingClassifier(clf, n_estimators=10, max_samples=0.8, max_features=1.0, bootstrap=True, bootstrap_features=False, n_jobs=-1)\n",
    "bagging_clf.fit(X, y)"
   ]
  },
  {
   "cell_type": "code",
   "execution_count": 123,
   "metadata": {},
   "outputs": [
    {
     "data": {
      "text/plain": [
       "0.81369248035914699"
      ]
     },
     "execution_count": 123,
     "metadata": {},
     "output_type": "execute_result"
    }
   ],
   "source": [
    "bagging_clf.score(X, y)"
   ]
  },
  {
   "cell_type": "code",
   "execution_count": 125,
   "metadata": {
    "collapsed": true
   },
   "outputs": [],
   "source": [
    "predict_test = svc1.predict(test_np)\n",
    "result = pd.DataFrame({'PassengerId':df_test['PassengerId'].as_matrix(), 'Survived':predict_test.astype(np.int32)})\n",
    "#写成标准的数据上传格式\n",
    "result.to_csv(\"pred_label/bagging_clf_predictions.csv\", index=False)  "
   ]
  },
  {
   "cell_type": "code",
   "execution_count": 130,
   "metadata": {},
   "outputs": [
    {
     "data": {
      "text/plain": [
       "0    288\n",
       "1    130\n",
       "Name: Survived, dtype: int64"
      ]
     },
     "execution_count": 130,
     "metadata": {},
     "output_type": "execute_result"
    }
   ],
   "source": [
    "result.Survived.value_counts()"
   ]
  },
  {
   "cell_type": "code",
   "execution_count": 9,
   "metadata": {
    "collapsed": true
   },
   "outputs": [],
   "source": [
    "from patsy import dmatrices\n",
    "import string\n",
    "from operator import itemgetter\n",
    "import json\n",
    "from sklearn import preprocessing\n",
    "#清理和处理数据\n",
    "def substrings_in_string(big_string, substrings):\n",
    "    for substring in substrings:\n",
    "        if big_string.find(substring) != -1:\n",
    "            return substring\n",
    "    return np.nan\n",
    "\n",
    "le = preprocessing.LabelEncoder()\n",
    "enc=preprocessing.OneHotEncoder()\n",
    "\n",
    "def clean_and_munge_data(df):\n",
    "    #处理缺省值\n",
    "    df.Fare = df.Fare.map(lambda x: np.nan if x==0 else x)\n",
    "    #处理一下名字，生成Title字段\n",
    "    title_list=['Mrs', 'Mr', 'Master', 'Miss', 'Major', 'Rev',\n",
    "                'Dr', 'Ms', 'Mlle','Col', 'Capt', 'Mme', 'Countess',\n",
    "                'Don', 'Jonkheer']\n",
    "    df['Title']=df['Name'].map(lambda x: substrings_in_string(x, title_list))\n",
    "\n",
    "    #处理特殊的称呼，全处理成mr, mrs, miss, master\n",
    "    def replace_titles(x):\n",
    "        title=x['Title']\n",
    "        if title in ['Mr','Don', 'Major', 'Capt', 'Jonkheer', 'Rev', 'Col']:\n",
    "            return 'Mr'\n",
    "        elif title in ['Master']:\n",
    "            return 'Master'\n",
    "        elif title in ['Countess', 'Mme','Mrs']:\n",
    "            return 'Mrs'\n",
    "        elif title in ['Mlle', 'Ms','Miss']:\n",
    "            return 'Miss'\n",
    "        elif title =='Dr':\n",
    "            if x['Sex']=='Male':\n",
    "                return 'Mr'\n",
    "            else:\n",
    "                return 'Mrs'\n",
    "        elif title =='':\n",
    "            if x['Sex']=='Male':\n",
    "                return 'Master'\n",
    "            else:\n",
    "                return 'Miss'\n",
    "        else:\n",
    "            return title\n",
    "\n",
    "    df['Title']=df.apply(replace_titles, axis=1)\n",
    "\n",
    "    #看看家族是否够大，咳咳\n",
    "    df['Family_Size']=df['SibSp']+df['Parch'] + 1\n",
    "#     df['Family']=df['SibSp']*df['Parch']\n",
    "\n",
    "\n",
    "    df.loc[ (df.Fare.isnull())&(df.Pclass==1),'Fare'] =np.median(df[df['Pclass'] == 1]['Fare'].dropna())\n",
    "    df.loc[ (df.Fare.isnull())&(df.Pclass==2),'Fare'] =np.median( df[df['Pclass'] == 2]['Fare'].dropna())\n",
    "    df.loc[ (df.Fare.isnull())&(df.Pclass==3),'Fare'] = np.median(df[df['Pclass'] == 3]['Fare'].dropna())\n",
    "\n",
    "    df['Gender'] = df['Sex'].map( {'female': 0, 'male': 1} ).astype(int)\n",
    "\n",
    "    df['AgeFill']=df['Age']\n",
    "    mean_ages = np.zeros(4)\n",
    "    mean_ages[0]=np.average(df[df['Title'] == 'Miss']['Age'].dropna())\n",
    "    mean_ages[1]=np.average(df[df['Title'] == 'Mrs']['Age'].dropna())\n",
    "    mean_ages[2]=np.average(df[df['Title'] == 'Mr']['Age'].dropna())\n",
    "    mean_ages[3]=np.average(df[df['Title'] == 'Master']['Age'].dropna())\n",
    "    df.loc[ (df.Age.isnull()) & (df.Title == 'Miss') ,'AgeFill'] = mean_ages[0]\n",
    "    df.loc[ (df.Age.isnull()) & (df.Title == 'Mrs') ,'AgeFill'] = mean_ages[1]\n",
    "    df.loc[ (df.Age.isnull()) & (df.Title == 'Mr') ,'AgeFill'] = mean_ages[2]\n",
    "    df.loc[ (df.Age.isnull()) & (df.Title == 'Master') ,'AgeFill'] = mean_ages[3]\n",
    "\n",
    "#     df['AgeCat']=df['AgeFill']\n",
    "#     df.loc[ (df.AgeFill<=10) ,'AgeCat'] = 'child'\n",
    "#     df.loc[ (df.AgeFill>60),'AgeCat'] = 'aged'\n",
    "#     df.loc[ (df.AgeFill>10) & (df.AgeFill <=30) ,'AgeCat'] = 'adult'\n",
    "#     df.loc[ (df.AgeFill>30) & (df.AgeFill <=60) ,'AgeCat'] = 'senior'\n",
    "\n",
    "    df.Embarked = df.Embarked.fillna('S')\n",
    "\n",
    "\n",
    "#     df['Fare_Per_Person']=df['Fare']/df['Family_Size']\n",
    "\n",
    "#     #Age times class\n",
    "\n",
    "#     df['AgeClass']=df['AgeFill']*df['Pclass']\n",
    "#     df['ClassFare']=df['Pclass']*df['Fare_Per_Person']\n",
    "\n",
    "\n",
    "#     df['HighLow']=df['Pclass']\n",
    "#     df.loc[ (df.Fare_Per_Person<8) ,'HighLow'] = 'Low'\n",
    "#     df.loc[ (df.Fare_Per_Person>=8) ,'HighLow'] = 'High'\n",
    "\n",
    "\n",
    "\n",
    "\n",
    "#     le.fit( df['Ticket'])\n",
    "#     x_Ticket=le.transform( df['Ticket'])\n",
    "#     df['Ticket']=x_Ticket.astype(np.float)\n",
    "\n",
    "#     le.fit(df['Title'])\n",
    "#     x_title=le.transform(df['Title'])\n",
    "#     df['Title'] =x_title.astype(np.float)\n",
    "\n",
    "#     le.fit(df['HighLow'])\n",
    "#     x_hl=le.transform(df['HighLow'])\n",
    "#     df['HighLow']=x_hl.astype(np.float)\n",
    "\n",
    "\n",
    "#     le.fit(df['AgeCat'])\n",
    "#     x_age=le.transform(df['AgeCat'])\n",
    "#     df['AgeCat'] =x_age.astype(np.float)\n",
    "\n",
    "\n",
    "    df = df.drop(['PassengerId','Name','Age'], axis=1) #remove Name,Age and PassengerId\n",
    "\n",
    "\n",
    "    return df"
   ]
  },
  {
   "cell_type": "code",
   "execution_count": 3,
   "metadata": {
    "collapsed": true
   },
   "outputs": [],
   "source": [
    "df_train = pd.read_csv('data/train.csv')"
   ]
  },
  {
   "cell_type": "code",
   "execution_count": 4,
   "metadata": {
    "collapsed": true
   },
   "outputs": [],
   "source": [
    "df_test = pd.read_csv('data/test.csv')"
   ]
  },
  {
   "cell_type": "code",
   "execution_count": 35,
   "metadata": {
    "collapsed": true
   },
   "outputs": [],
   "source": [
    "data_df = df_train.append(df_test)"
   ]
  },
  {
   "cell_type": "code",
   "execution_count": 36,
   "metadata": {
    "collapsed": true
   },
   "outputs": [],
   "source": [
    "\n",
    "data_df = clean_and_munge_data(data_df)  #合并训练数据和测试数据"
   ]
  },
  {
   "cell_type": "code",
   "execution_count": 37,
   "metadata": {},
   "outputs": [
    {
     "name": "stdout",
     "output_type": "stream",
     "text": [
      "<class 'pandas.core.frame.DataFrame'>\n",
      "Int64Index: 1309 entries, 0 to 417\n",
      "Data columns (total 13 columns):\n",
      "Cabin          295 non-null object\n",
      "Embarked       1309 non-null object\n",
      "Fare           1309 non-null float64\n",
      "Parch          1309 non-null int64\n",
      "Pclass         1309 non-null int64\n",
      "Sex            1309 non-null object\n",
      "SibSp          1309 non-null int64\n",
      "Survived       891 non-null float64\n",
      "Ticket         1309 non-null object\n",
      "Title          1309 non-null object\n",
      "Family_Size    1309 non-null int64\n",
      "Gender         1309 non-null int32\n",
      "AgeFill        1309 non-null float64\n",
      "dtypes: float64(3), int32(1), int64(4), object(5)\n",
      "memory usage: 138.1+ KB\n"
     ]
    }
   ],
   "source": [
    "data_df.info()"
   ]
  },
  {
   "cell_type": "code",
   "execution_count": 38,
   "metadata": {
    "collapsed": true
   },
   "outputs": [],
   "source": [
    "#df = df_train.filter(regex='Survived|SibSp|Family_Size|Parch|Family|Title|Fare|AgeCat|AgeFill|HighLow|Fare_Per_Person||Embarked|Sex|Pclass')\n",
    "\n",
    "data_df.drop(['Ticket', 'Title'], axis=1,inplace = True) #remove Name,Age and PassengerId"
   ]
  },
  {
   "cell_type": "code",
   "execution_count": 39,
   "metadata": {},
   "outputs": [
    {
     "name": "stdout",
     "output_type": "stream",
     "text": [
      "<class 'pandas.core.frame.DataFrame'>\n",
      "Int64Index: 1309 entries, 0 to 417\n",
      "Data columns (total 11 columns):\n",
      "Cabin          295 non-null object\n",
      "Embarked       1309 non-null object\n",
      "Fare           1309 non-null float64\n",
      "Parch          1309 non-null int64\n",
      "Pclass         1309 non-null int64\n",
      "Sex            1309 non-null object\n",
      "SibSp          1309 non-null int64\n",
      "Survived       891 non-null float64\n",
      "Family_Size    1309 non-null int64\n",
      "Gender         1309 non-null int32\n",
      "AgeFill        1309 non-null float64\n",
      "dtypes: float64(3), int32(1), int64(4), object(3)\n",
      "memory usage: 117.6+ KB\n"
     ]
    }
   ],
   "source": [
    "data_df.info()"
   ]
  },
  {
   "cell_type": "code",
   "execution_count": 32,
   "metadata": {
    "collapsed": true
   },
   "outputs": [],
   "source": [
    "def process_data(df_train):\n",
    "    #先对Fare归一化\n",
    "\n",
    "    scaler = StandardScaler()\n",
    "    df_train['fare_scaled'] = scaler.fit_transform(np.array(df_train['Fare'].values.reshape(-1, 1)))\n",
    "    df_train.drop('Fare',axis=1, inplace=True)\n",
    "\n",
    "#     scaler = StandardScaler()\n",
    "#     df_train['fare_person_scaled'] = scaler.fit_transform(np.array(df_train['Fare_Per_Person'].values.reshape(-1, 1)))\n",
    "#     df_train.drop('Fare_Per_Person',axis=1, inplace=True)\n",
    "\n",
    "    scaler = StandardScaler()\n",
    "    df_train['family_scaled'] = scaler.fit_transform(np.array(df_train['Family_Size'].values.reshape(-1, 1)))\n",
    "    df_train.drop('Family_Size',axis=1, inplace=True)\n",
    "\n",
    "\n",
    "    \n",
    "    #先将Sex和Pclass构造一个组合特征\n",
    "        \n",
    "    le = preprocessing.LabelEncoder()\n",
    "    scaler = StandardScaler()\n",
    "    df_train['Sex_Pclass'] = df_train['Sex'] + '_' + df_train['Pclass'].map(str)  #将性别和Pclass单独组合起来成为一个新的属性\n",
    "    df_train['Sex_Pclass'] = le.fit_transform(df_train['Sex_Pclass'])\n",
    "    df_train['Sex_Pclass'] = scaler.fit_transform(np.array(df_train['Sex_Pclass'].values.reshape(-1, 1)))\n",
    "    \n",
    "    scaler = StandardScaler()\n",
    "    df_train['Pclass'] = scaler.fit_transform(np.array(df_train['Pclass'].values.reshape(-1, 1)))\n",
    "    \n",
    "    le = preprocessing.LabelEncoder()\n",
    "    df_train.loc[ (df_train.Cabin.notnull()), 'Cabin' ] = \"Yes\"\n",
    "    df_train.loc[ (df_train.Cabin.isnull()), 'Cabin' ] = \"No\"\n",
    "    df_train['Cabin'] = le.fit_transform(df_train['Cabin'])\n",
    "\n",
    "    le = preprocessing.LabelEncoder()\n",
    "    df_train.loc[ (df_train.Embarked == 'S'), 'Embarked' ] = \"S\"\n",
    "    df_train.loc[ (df_train.Embarked != 'S'), 'Embarked' ] = \"other\"\n",
    "    df_train['Embarked'] = le.fit_transform(df_train['Embarked'])\n",
    "    \n",
    "\n",
    "#     df_train.loc[(df_train.SibSp != 0), 'SibSp'] = 1\n",
    "#     df_train.loc[(df_train.SibSp == 0), 'SibSp'] = 0\n",
    "#     df_train.loc[(df_train.Parch != 0), 'Parch'] = 1\n",
    "#     df_train.loc[(df_train.Parch == 0), 'Parch'] = 0\n",
    "\n",
    "    #对于年龄来说，存在缺失值，稍后做\n",
    "    #先将Sex和Pclass转换成one-hot，并且构造一个组合特征\n",
    "#     dummies_Cabin = pd.get_dummies(df_train['Cabin'], prefix= 'Cabin')\n",
    "\n",
    "#     dummies_HighLow = pd.get_dummies(df_train['HighLow'], prefix= 'HighLow')\n",
    "\n",
    "#     dummies_AgeCat = pd.get_dummies(df_train['AgeCat'], prefix= 'AgeCat')\n",
    "\n",
    "#     dummies_Parch = pd.get_dummies(df_train['Parch'], prefix= 'Parch')\n",
    "\n",
    "#     dummies_Title = pd.get_dummies(df_train['Title'], prefix= 'Title')\n",
    "\n",
    "#     dummies_SibSp = pd.get_dummies(df_train['SibSp'], prefix= 'SibSp')\n",
    "\n",
    "#     dummies_Embarked = pd.get_dummies(df_train['Embarked'], prefix= 'Embarked')\n",
    "\n",
    "#     dummies_Sex = pd.get_dummies(df_train['Sex'], prefix= 'Sex')\n",
    "\n",
    "#     dummies_Pclass = pd.get_dummies(df_train['Pclass'], prefix= 'Pclass')\n",
    "\n",
    "#     dummies_Sex_Pclass = pd.get_dummies(df_train['Sex_Pclass'], prefix= 'Sex_Pclass')\n",
    "\n",
    "#     df_train = pd.concat([df_train, dummies_Cabin, dummies_Parch, dummies_SibSp,dummies_HighLow,dummies_Title,dummies_AgeCat,\\\n",
    "#                          dummies_Embarked, dummies_Sex, dummies_Pclass, dummies_Sex_Pclass], axis=1)\n",
    "    df_train.drop(['Sex', 'Parch', 'SibSp'], axis=1, inplace=True)\n",
    "\n",
    "\n",
    "    #age\n",
    "    scaler = StandardScaler()\n",
    "    df_train['Age_fill_scaled'] = scaler.fit_transform(np.array(df_train['AgeFill'].values.reshape(-1, 1)))\n",
    "    df_train.drop(['AgeFill'],axis=1, inplace=True)\n",
    "    \n",
    "    return df_train\n"
   ]
  },
  {
   "cell_type": "code",
   "execution_count": 40,
   "metadata": {},
   "outputs": [
    {
     "name": "stderr",
     "output_type": "stream",
     "text": [
      "D:\\ANACONDA\\lib\\site-packages\\sklearn\\utils\\validation.py:475: DataConversionWarning: Data with input dtype int64 was converted to float64 by StandardScaler.\n",
      "  warnings.warn(msg, DataConversionWarning)\n"
     ]
    }
   ],
   "source": [
    "data_df = process_data(data_df)"
   ]
  },
  {
   "cell_type": "code",
   "execution_count": 42,
   "metadata": {},
   "outputs": [
    {
     "name": "stdout",
     "output_type": "stream",
     "text": [
      "<class 'pandas.core.frame.DataFrame'>\n",
      "Int64Index: 1309 entries, 0 to 417\n",
      "Data columns (total 9 columns):\n",
      "Cabin              1309 non-null int64\n",
      "Embarked           1309 non-null int64\n",
      "Pclass             1309 non-null float64\n",
      "Survived           891 non-null float64\n",
      "Gender             1309 non-null int32\n",
      "fare_scaled        1309 non-null float64\n",
      "family_scaled      1309 non-null float64\n",
      "Sex_Pclass         1309 non-null float64\n",
      "Age_fill_scaled    1309 non-null float64\n",
      "dtypes: float64(6), int32(1), int64(2)\n",
      "memory usage: 97.2 KB\n"
     ]
    }
   ],
   "source": [
    "data_df.info()"
   ]
  },
  {
   "cell_type": "code",
   "execution_count": 43,
   "metadata": {
    "collapsed": true
   },
   "outputs": [],
   "source": [
    "df_train = data_df[:891]\n",
    "df_test = data_df[891:]"
   ]
  },
  {
   "cell_type": "code",
   "execution_count": 89,
   "metadata": {},
   "outputs": [
    {
     "data": {
      "text/plain": [
       "342.0"
      ]
     },
     "execution_count": 89,
     "metadata": {},
     "output_type": "execute_result"
    }
   ],
   "source": [
    "sum(df_train['Survived'])"
   ]
  },
  {
   "cell_type": "code",
   "execution_count": 94,
   "metadata": {
    "collapsed": true
   },
   "outputs": [],
   "source": [
    "# 我们把需要的feature字段取出来，转成numpy格式，使用scikit-learn中的LogisticRegression建模\n",
    "\n",
    "# train_x = df_train.filter(regex='Survived|Age_.*|Title_.*|AgeCat_.*|fare_person_.*|family_.*|Cabin_.*|Embarked_.*|Sex_.*|HighLow_.*|Pclass_.*')\n",
    "# train_x = df_train.filter(regex='Survived|Age_fill_.*|family_.*|fare_.*|Cabin|Embarked|Pclass|Gender')\n",
    "\n",
    "# train_np = train_x.as_matrix()\n",
    "\n",
    "# # y即Survival结果\n",
    "# y = df_train['Survived'].as_matrxi()\n",
    "\n",
    "# # X即特征属性值\n",
    "# X = train_np[:, 1:]\n",
    "\n",
    "X = df_train.drop('Survived', 1).as_matrix()\n",
    "y = df_train['Survived'].as_matrix()"
   ]
  },
  {
   "cell_type": "code",
   "execution_count": 99,
   "metadata": {
    "collapsed": true
   },
   "outputs": [],
   "source": [
    "# 我们把需要的feature字段取出来，转成numpy格式，使用scikit-learn中的LogisticRegression建模\n",
    "\n",
    "# test_x = df_test.filter(regex='Age_fill_.*|family_.*|fare_.*|Cabin|Embarked|Pclass|Gender')\n",
    "# # test_x = df_test.filter(regex='Age_.*|Title_.*|SibSp_.*|AgeCat_.*|Parch_.*|fare_.*|family_.*|Cabin_.*|Embarked_.*|Sex_.*|HighLow_.*|Pclass_.*')\n",
    "# test_np = test_x.as_matrix()\n",
    "\n",
    "test_np = df_test.drop('Survived', 1).as_matrix()\n"
   ]
  },
  {
   "cell_type": "code",
   "execution_count": 100,
   "metadata": {},
   "outputs": [
    {
     "data": {
      "text/plain": [
       "array([[ 0.        ,  1.        ,  0.84191642,  1.        , -0.50077657,\n",
       "        -0.55834605,  1.01285151,  0.3449312 ],\n",
       "       [ 0.        ,  0.        ,  0.84191642,  0.        , -0.51682848,\n",
       "         0.07335229, -0.70083564,  1.2921237 ]])"
      ]
     },
     "execution_count": 100,
     "metadata": {},
     "output_type": "execute_result"
    }
   ],
   "source": [
    "test_np[:2]"
   ]
  },
  {
   "cell_type": "code",
   "execution_count": 101,
   "metadata": {},
   "outputs": [
    {
     "data": {
      "text/plain": [
       "LogisticRegression(C=1.0, class_weight=None, dual=False, fit_intercept=True,\n",
       "          intercept_scaling=1, max_iter=100, multi_class='ovr', n_jobs=1,\n",
       "          penalty='l1', random_state=None, solver='liblinear', tol=0.0001,\n",
       "          verbose=0, warm_start=False)"
      ]
     },
     "execution_count": 101,
     "metadata": {},
     "output_type": "execute_result"
    }
   ],
   "source": [
    "clf = linear_model.LogisticRegression(C=1.0, penalty='l1', tol=1e-4)\n",
    "\n",
    "#bagging_clf = BaggingClassifier(clf, n_estimators=10, max_samples=0.7, max_features=0.9, bootstrap=True, bootstrap_features=False, n_jobs=1)\n",
    "#bagging_clf.fit(X, y)\n",
    "clf.fit(X, y)"
   ]
  },
  {
   "cell_type": "code",
   "execution_count": 102,
   "metadata": {},
   "outputs": [
    {
     "data": {
      "text/plain": [
       "322.0"
      ]
     },
     "execution_count": 102,
     "metadata": {},
     "output_type": "execute_result"
    }
   ],
   "source": [
    "sum(clf.predict(X))"
   ]
  },
  {
   "cell_type": "code",
   "execution_count": 103,
   "metadata": {},
   "outputs": [
    {
     "name": "stdout",
     "output_type": "stream",
     "text": [
      "[ 0.84357542  0.81564246  0.81460674  0.79775281  0.86440678]\n"
     ]
    }
   ],
   "source": [
    "# print(cross_val_score(bagging_clf, X, y, cv=5))\n",
    "print(cross_val_score(svc1, X, y, cv=5))"
   ]
  },
  {
   "cell_type": "code",
   "execution_count": 116,
   "metadata": {},
   "outputs": [
    {
     "data": {
      "text/plain": [
       "SVC(C=2.0, cache_size=200, class_weight=None, coef0=0.0,\n",
       "  decision_function_shape='ovr', degree=3, gamma='auto', kernel='rbf',\n",
       "  max_iter=-1, probability=False, random_state=34, shrinking=True,\n",
       "  tol=0.001, verbose=False)"
      ]
     },
     "execution_count": 116,
     "metadata": {},
     "output_type": "execute_result"
    }
   ],
   "source": [
    "svc1 = svm.SVC(C=2.0, kernel='rbf', degree=3, gamma='auto',random_state=34)\n",
    "\n",
    "\n",
    "#bagging_clf = BaggingClassifier(svc1, n_estimators=8, max_samples=0.3, max_features=0.4, bootstrap=True, bootstrap_features=False, n_jobs=1)\n",
    "#bagging_clf.fit(X, y)\n",
    "svc1.fit(X, y)\n",
    "# print(cross_val_score(svc1, X, y, cv=5))\n",
    "# predict_test = svc1.predict(test_np)\n",
    "# result = pd.DataFrame({'PassengerId':df_test['PassengerId'].as_matrix(), 'Survived':predict_test.astype(np.int32)})\n",
    "# #写成标准的数据上传格式\n",
    "\n",
    "# result.to_csv(\"pred_label/svc1_predictions.csv\", index=False)  #"
   ]
  },
  {
   "cell_type": "code",
   "execution_count": 117,
   "metadata": {},
   "outputs": [
    {
     "name": "stdout",
     "output_type": "stream",
     "text": [
      "[ 0.84357542  0.81564246  0.81460674  0.79775281  0.86440678]\n"
     ]
    }
   ],
   "source": [
    "print(cross_val_score(svc1, X, y, cv=5))"
   ]
  },
  {
   "cell_type": "code",
   "execution_count": 108,
   "metadata": {},
   "outputs": [
    {
     "data": {
      "text/plain": [
       "({'max_features': 0.4, 'max_samples': 0.3, 'n_estimators': 8},\n",
       " 0.8114343388348126)"
      ]
     },
     "execution_count": 108,
     "metadata": {},
     "output_type": "execute_result"
    }
   ],
   "source": [
    "param_test3 = {\n",
    "    'n_estimators':[8,10,12,15],\n",
    "    'max_samples':[i/10.0 for i in range(1,10)],\n",
    "    'max_features':[i/10.0 for i in range(2,9)]\n",
    "}\n",
    "gsearch1 = GridSearchCV(BaggingClassifier(clf, n_estimators=15, max_samples=0.7, max_features=0.8,\\\n",
    "                                          bootstrap=True, bootstrap_features=False, n_jobs=1), \n",
    "                       param_grid = param_test3, scoring='accuracy',n_jobs=1,iid=False, cv=5)\n",
    "gsearch1.fit(X,y)\n",
    "\n",
    "gsearch1.best_params_, gsearch1.best_score_"
   ]
  },
  {
   "cell_type": "code",
   "execution_count": 118,
   "metadata": {
    "collapsed": true
   },
   "outputs": [],
   "source": [
    "new_id = pd.read_csv('data/test.csv')\n",
    "\n",
    "predict_test = svc1.predict(test_np)\n",
    "result = pd.DataFrame({'PassengerId':new_id['PassengerId'].as_matrix(), 'Survived':predict_test.astype(np.int32)})\n",
    "#写成标准的数据上传格式\n",
    "\n",
    "result.to_csv(\"pred_label/bagging_clf_predictions.csv\", index=False)  #"
   ]
  },
  {
   "cell_type": "code",
   "execution_count": 119,
   "metadata": {},
   "outputs": [
    {
     "data": {
      "text/plain": [
       "0    276\n",
       "1    142\n",
       "Name: Survived, dtype: int64"
      ]
     },
     "execution_count": 119,
     "metadata": {},
     "output_type": "execute_result"
    }
   ],
   "source": [
    "result.Survived.value_counts()"
   ]
  },
  {
   "cell_type": "code",
   "execution_count": 115,
   "metadata": {},
   "outputs": [
    {
     "data": {
      "text/plain": [
       "({'C': 2.0, 'kernel': 'rbf'}, 0.8271968414635573)"
      ]
     },
     "execution_count": 115,
     "metadata": {},
     "output_type": "execute_result"
    }
   ],
   "source": [
    "param_test3 = {\n",
    "    'C':[i/2.0 for i in range(1,5)],\n",
    "    #'C':[1.2,1.3,1.4,1.5,1.6,1.7,1.8]\n",
    "    'kernel':['poly','rbf','linear']\n",
    "}\n",
    "gsearch1 = GridSearchCV(estimator = svm.SVC(C=0.5, kernel='rbf', degree=3, gamma='auto',random_state=34), \n",
    "                       param_grid = param_test3, scoring='accuracy',n_jobs=1,iid=False, cv=5)\n",
    "gsearch1.fit(X,y)\n",
    "\n",
    "gsearch1.best_params_, gsearch1.best_score_"
   ]
  },
  {
   "cell_type": "code",
   "execution_count": 130,
   "metadata": {
    "collapsed": true
   },
   "outputs": [],
   "source": [
    "xgb4 = XGBClassifier( learning_rate =0.01, n_estimators=1500, max_depth=7,reg_alpha=1,\n",
    "                                        min_child_weight=1, gamma=0.2, subsample=0.9, colsample_bytree=0.6,\n",
    "                                        objective= 'binary:logistic', nthread=1, scale_pos_weight=1, seed=27)"
   ]
  },
  {
   "cell_type": "code",
   "execution_count": 131,
   "metadata": {},
   "outputs": [
    {
     "data": {
      "text/plain": [
       "XGBClassifier(base_score=0.5, booster='gbtree', colsample_bylevel=1,\n",
       "       colsample_bytree=0.6, gamma=0.2, learning_rate=0.01,\n",
       "       max_delta_step=0, max_depth=7, min_child_weight=1, missing=None,\n",
       "       n_estimators=1500, n_jobs=1, nthread=1, objective='binary:logistic',\n",
       "       random_state=0, reg_alpha=1, reg_lambda=1, scale_pos_weight=1,\n",
       "       seed=27, silent=True, subsample=0.9)"
      ]
     },
     "execution_count": 131,
     "metadata": {},
     "output_type": "execute_result"
    }
   ],
   "source": [
    "xgb4.fit(X, y)"
   ]
  },
  {
   "cell_type": "code",
   "execution_count": 132,
   "metadata": {},
   "outputs": [
    {
     "data": {
      "text/plain": [
       "0.90572390572390571"
      ]
     },
     "execution_count": 132,
     "metadata": {},
     "output_type": "execute_result"
    }
   ],
   "source": [
    "xgb4.score(X, y)"
   ]
  },
  {
   "cell_type": "code",
   "execution_count": 133,
   "metadata": {
    "collapsed": true
   },
   "outputs": [],
   "source": [
    "new_id = pd.read_csv('data/test.csv')\n",
    "\n",
    "predict_test = xgb4.predict(test_np)\n",
    "result = pd.DataFrame({'PassengerId':new_id['PassengerId'].as_matrix(), 'Survived':predict_test.astype(np.int32)})\n",
    "#写成标准的数据上传格式\n",
    "\n",
    "result.to_csv(\"pred_label/xgb4_predictions.csv\", index=False)  #"
   ]
  },
  {
   "cell_type": "code",
   "execution_count": 134,
   "metadata": {},
   "outputs": [
    {
     "data": {
      "text/plain": [
       "0    276\n",
       "1    142\n",
       "Name: Survived, dtype: int64"
      ]
     },
     "execution_count": 134,
     "metadata": {},
     "output_type": "execute_result"
    }
   ],
   "source": [
    "result.Survived.value_counts()"
   ]
  },
  {
   "cell_type": "code",
   "execution_count": 129,
   "metadata": {},
   "outputs": [
    {
     "data": {
      "text/plain": [
       "({'n_estimators': 1500}, 0.8418286913160463)"
      ]
     },
     "execution_count": 129,
     "metadata": {},
     "output_type": "execute_result"
    }
   ],
   "source": [
    "param_test4 = {\n",
    "#     'n_estimators':[400,500,800,1000,1500]\n",
    "    #'n_estimators':[350,400,450,500],\n",
    "    'max_depth':list(range(1,10,2)),\n",
    "    'min_child_weight':list(range(1,6,2)),\n",
    "#     'max_depth':[3,4,5,6],\n",
    "    #'min_child_weight':[2,3,4],\n",
    "#     'reg_alpha':[0.01,0.1, 0.5, 1],\n",
    "#     'gamma':[0.0,0.1,0.2]\n",
    "#     'subsample':[i/10.0 for i in range(6,10)],\n",
    "#     'colsample_bytree':[i/10.0 for i in range(6,10)]\n",
    "    #'subsample':[0.85,0.9,0.95],\n",
    "    #'colsample_bytree':[0.75,0.8,0.85]\n",
    "}\n",
    "gsearch1 = GridSearchCV(estimator = XGBClassifier( learning_rate =0.01, n_estimators=1500, max_depth=7,reg_alpha=1,\n",
    "                                        min_child_weight=1, gamma=0.2, subsample=0.9, colsample_bytree=0.6,\n",
    "                                        objective= 'binary:logistic', nthread=1, scale_pos_weight=1, seed=27), \n",
    "                       param_grid = param_test4, scoring='accuracy',n_jobs=1,iid=False, cv=5)\n",
    "gsearch1.fit(X,y)\n",
    "\n",
    "gsearch1.best_params_, gsearch1.best_score_"
   ]
  },
  {
   "cell_type": "code",
   "execution_count": null,
   "metadata": {
    "collapsed": true
   },
   "outputs": [],
   "source": []
  }
 ],
 "metadata": {
  "kernelspec": {
   "display_name": "Python 3",
   "language": "python",
   "name": "python3"
  },
  "language_info": {
   "codemirror_mode": {
    "name": "ipython",
    "version": 3
   },
   "file_extension": ".py",
   "mimetype": "text/x-python",
   "name": "python",
   "nbconvert_exporter": "python",
   "pygments_lexer": "ipython3",
   "version": "3.6.3"
  }
 },
 "nbformat": 4,
 "nbformat_minor": 2
}
