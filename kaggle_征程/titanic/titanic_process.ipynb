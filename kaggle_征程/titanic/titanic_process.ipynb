{
 "cells": [
  {
   "cell_type": "code",
   "execution_count": 339,
   "metadata": {},
   "outputs": [],
   "source": [
    "import pandas as pd\n",
    "from pandas import Series, DataFrame\n",
    "import numpy as np\n",
    "import matplotlib.pyplot as plt\n",
    "import os\n",
    "from sklearn import preprocessing\n",
    "\n",
    "#from sklearn.pipeline import Pipeline\n",
    "#from sklearn.grid_search import GridSearchCV\n",
    "from sklearn.cross_validation import train_test_split\n",
    "from sklearn.metrics import mean_squared_error\n",
    "from sklearn.linear_model import LogisticRegression\n",
    "from sklearn.svm import SVC\n",
    "from sklearn.model_selection import cross_val_score\n",
    "from sklearn.ensemble import BaggingRegressor, BaggingClassifier, RandomForestClassifier, RandomForestRegressor, GradientBoostingClassifier, GradientBoostingRegressor\n",
    "from sklearn.tree import DecisionTreeClassifier, DecisionTreeRegressor\n",
    "from sklearn.ensemble.partial_dependence import plot_partial_dependence\n",
    "from sklearn.metrics import precision_score\n"
   ]
  },
  {
   "cell_type": "code",
   "execution_count": 2,
   "metadata": {
    "collapsed": true
   },
   "outputs": [],
   "source": [
    "'''\n",
    "画图显示中文\n",
    "'''\n",
    "#-*- coding: utf-8 -*-\n",
    "from matplotlib.font_manager import FontProperties\n",
    "font = FontProperties(fname=r\"c:\\windows\\fonts\\simsun.ttc\", size=14)"
   ]
  },
  {
   "cell_type": "code",
   "execution_count": 375,
   "metadata": {},
   "outputs": [
    {
     "data": {
      "text/html": [
       "<div>\n",
       "<style>\n",
       "    .dataframe thead tr:only-child th {\n",
       "        text-align: right;\n",
       "    }\n",
       "\n",
       "    .dataframe thead th {\n",
       "        text-align: left;\n",
       "    }\n",
       "\n",
       "    .dataframe tbody tr th {\n",
       "        vertical-align: top;\n",
       "    }\n",
       "</style>\n",
       "<table border=\"1\" class=\"dataframe\">\n",
       "  <thead>\n",
       "    <tr style=\"text-align: right;\">\n",
       "      <th></th>\n",
       "      <th>PassengerId</th>\n",
       "      <th>Survived</th>\n",
       "      <th>Pclass</th>\n",
       "      <th>Name</th>\n",
       "      <th>Sex</th>\n",
       "      <th>Age</th>\n",
       "      <th>SibSp</th>\n",
       "      <th>Parch</th>\n",
       "      <th>Ticket</th>\n",
       "      <th>Fare</th>\n",
       "      <th>Cabin</th>\n",
       "      <th>Embarked</th>\n",
       "    </tr>\n",
       "  </thead>\n",
       "  <tbody>\n",
       "    <tr>\n",
       "      <th>0</th>\n",
       "      <td>1</td>\n",
       "      <td>0</td>\n",
       "      <td>3</td>\n",
       "      <td>Braund, Mr. Owen Harris</td>\n",
       "      <td>male</td>\n",
       "      <td>22.0</td>\n",
       "      <td>1</td>\n",
       "      <td>0</td>\n",
       "      <td>A/5 21171</td>\n",
       "      <td>7.2500</td>\n",
       "      <td>NaN</td>\n",
       "      <td>S</td>\n",
       "    </tr>\n",
       "    <tr>\n",
       "      <th>1</th>\n",
       "      <td>2</td>\n",
       "      <td>1</td>\n",
       "      <td>1</td>\n",
       "      <td>Cumings, Mrs. John Bradley (Florence Briggs Th...</td>\n",
       "      <td>female</td>\n",
       "      <td>38.0</td>\n",
       "      <td>1</td>\n",
       "      <td>0</td>\n",
       "      <td>PC 17599</td>\n",
       "      <td>71.2833</td>\n",
       "      <td>C85</td>\n",
       "      <td>C</td>\n",
       "    </tr>\n",
       "    <tr>\n",
       "      <th>2</th>\n",
       "      <td>3</td>\n",
       "      <td>1</td>\n",
       "      <td>3</td>\n",
       "      <td>Heikkinen, Miss. Laina</td>\n",
       "      <td>female</td>\n",
       "      <td>26.0</td>\n",
       "      <td>0</td>\n",
       "      <td>0</td>\n",
       "      <td>STON/O2. 3101282</td>\n",
       "      <td>7.9250</td>\n",
       "      <td>NaN</td>\n",
       "      <td>S</td>\n",
       "    </tr>\n",
       "    <tr>\n",
       "      <th>3</th>\n",
       "      <td>4</td>\n",
       "      <td>1</td>\n",
       "      <td>1</td>\n",
       "      <td>Futrelle, Mrs. Jacques Heath (Lily May Peel)</td>\n",
       "      <td>female</td>\n",
       "      <td>35.0</td>\n",
       "      <td>1</td>\n",
       "      <td>0</td>\n",
       "      <td>113803</td>\n",
       "      <td>53.1000</td>\n",
       "      <td>C123</td>\n",
       "      <td>S</td>\n",
       "    </tr>\n",
       "    <tr>\n",
       "      <th>4</th>\n",
       "      <td>5</td>\n",
       "      <td>0</td>\n",
       "      <td>3</td>\n",
       "      <td>Allen, Mr. William Henry</td>\n",
       "      <td>male</td>\n",
       "      <td>35.0</td>\n",
       "      <td>0</td>\n",
       "      <td>0</td>\n",
       "      <td>373450</td>\n",
       "      <td>8.0500</td>\n",
       "      <td>NaN</td>\n",
       "      <td>S</td>\n",
       "    </tr>\n",
       "    <tr>\n",
       "      <th>5</th>\n",
       "      <td>6</td>\n",
       "      <td>0</td>\n",
       "      <td>3</td>\n",
       "      <td>Moran, Mr. James</td>\n",
       "      <td>male</td>\n",
       "      <td>NaN</td>\n",
       "      <td>0</td>\n",
       "      <td>0</td>\n",
       "      <td>330877</td>\n",
       "      <td>8.4583</td>\n",
       "      <td>NaN</td>\n",
       "      <td>Q</td>\n",
       "    </tr>\n",
       "  </tbody>\n",
       "</table>\n",
       "</div>"
      ],
      "text/plain": [
       "   PassengerId  Survived  Pclass  \\\n",
       "0            1         0       3   \n",
       "1            2         1       1   \n",
       "2            3         1       3   \n",
       "3            4         1       1   \n",
       "4            5         0       3   \n",
       "5            6         0       3   \n",
       "\n",
       "                                                Name     Sex   Age  SibSp  \\\n",
       "0                            Braund, Mr. Owen Harris    male  22.0      1   \n",
       "1  Cumings, Mrs. John Bradley (Florence Briggs Th...  female  38.0      1   \n",
       "2                             Heikkinen, Miss. Laina  female  26.0      0   \n",
       "3       Futrelle, Mrs. Jacques Heath (Lily May Peel)  female  35.0      1   \n",
       "4                           Allen, Mr. William Henry    male  35.0      0   \n",
       "5                                   Moran, Mr. James    male   NaN      0   \n",
       "\n",
       "   Parch            Ticket     Fare Cabin Embarked  \n",
       "0      0         A/5 21171   7.2500   NaN        S  \n",
       "1      0          PC 17599  71.2833   C85        C  \n",
       "2      0  STON/O2. 3101282   7.9250   NaN        S  \n",
       "3      0            113803  53.1000  C123        S  \n",
       "4      0            373450   8.0500   NaN        S  \n",
       "5      0            330877   8.4583   NaN        Q  "
      ]
     },
     "execution_count": 375,
     "metadata": {},
     "output_type": "execute_result"
    }
   ],
   "source": [
    "#数据预处理\n",
    "trainFile = r'E:\\jupyter notebook\\kaggle\\titanic\\titanic_data\\train.csv'\n",
    "pwd = os.getcwd()\n",
    "os.chdir(os.path.dirname(trainFile))\n",
    "trainSet = pd.read_csv(os.path.basename(trainFile), date_parser = True)\n",
    "os.chdir(pwd)\n",
    "trainSet[:6]"
   ]
  },
  {
   "cell_type": "code",
   "execution_count": 381,
   "metadata": {},
   "outputs": [
    {
     "name": "stdout",
     "output_type": "stream",
     "text": [
      "<class 'pandas.core.frame.DataFrame'>\n",
      "RangeIndex: 418 entries, 0 to 417\n",
      "Data columns (total 11 columns):\n",
      "PassengerId    418 non-null int64\n",
      "Pclass         418 non-null int64\n",
      "Name           418 non-null object\n",
      "Sex            418 non-null object\n",
      "Age            332 non-null float64\n",
      "SibSp          418 non-null int64\n",
      "Parch          418 non-null int64\n",
      "Ticket         418 non-null object\n",
      "Fare           418 non-null float64\n",
      "Cabin          91 non-null object\n",
      "Embarked       418 non-null object\n",
      "dtypes: float64(2), int64(4), object(5)\n",
      "memory usage: 36.0+ KB\n"
     ]
    }
   ],
   "source": [
    "trainFile = r'E:\\jupyter notebook\\kaggle\\titanic\\titanic_data\\test.csv'\n",
    "pwd = os.getcwd()\n",
    "os.chdir(os.path.dirname(trainFile))\n",
    "testSet = pd.read_csv(os.path.basename(trainFile), date_parser = True)\n",
    "os.chdir(pwd)\n",
    "\n",
    "\n",
    "testSet.loc[testSet.Fare.isnull(), 'Fare'] = np.mean(testSet.Fare.notnull())\n",
    "testSet.info()"
   ]
  },
  {
   "cell_type": "code",
   "execution_count": 382,
   "metadata": {},
   "outputs": [],
   "source": [
    "#trainSet['Sex_Pclass'] = trainSet['Sex'] + '_' + trainSet['Pclass'].map(str)  #将性别和Pclass单独组合起来成为一个新的属性\n",
    "testSet['Sex_Pclass'] = testSet['Sex'] + '_' + testSet['Pclass'].map(str)  #将性别和Pclass单独组合起来成为一个新的属性"
   ]
  },
  {
   "cell_type": "code",
   "execution_count": 383,
   "metadata": {},
   "outputs": [
    {
     "data": {
      "text/plain": [
       "\"\\nformula_ml='Survived~Pclass+C(Title)+Sex+C(AgeCat)+Fare_Per_Person+Fare+family_size' \\n\\ny_train, x_train = dmatrices(formula_ml, data=trainSet, return_type='dataframe')\\ny_train = np.asarray(y_train).ravel()\\n\\n\""
      ]
     },
     "execution_count": 383,
     "metadata": {},
     "output_type": "execute_result"
    }
   ],
   "source": [
    "def feature_extract(trainSet):\n",
    "    import string, re\n",
    "    def substrings_in_string(big_string, substrings):\n",
    "        for substring in substrings:\n",
    "            if big_string.find(substring) != -1:\n",
    "                return substring\n",
    "        print(big_string)\n",
    "        return np.nan\n",
    "\n",
    "    title_list=['Mrs', 'Mr', 'Master', 'Miss', 'Major', 'Rev',\n",
    "                    'Dr', 'Ms', 'Mlle','Col', 'Capt', 'Mme', 'Countess',\n",
    "                    'Don', 'Jonkheer']\n",
    "    trainSet['Title']=trainSet['Name'].map(lambda x: substrings_in_string(x, title_list))\n",
    "\n",
    "    def replace_titles(x):\n",
    "            title=x['Title']\n",
    "            if title in ['Mr','Don', 'Major', 'Capt', 'Jonkheer', 'Rev', 'Col']:\n",
    "                return 'Mr'\n",
    "            elif title in ['Master']:\n",
    "                return 'Master'\n",
    "            elif title in ['Countess', 'Mme','Mrs']:\n",
    "                return 'Mrs'\n",
    "            elif title in ['Mlle', 'Ms','Miss']:\n",
    "                return 'Miss'\n",
    "            elif title =='Dr':\n",
    "                if x['Sex']=='Male':\n",
    "                    return 'Mr'\n",
    "                else:\n",
    "                    return 'Mrs'\n",
    "            elif title =='':\n",
    "                if x['Sex']=='Male':\n",
    "                    return 'Master'\n",
    "                else:\n",
    "                    return 'Miss'\n",
    "            else:\n",
    "                return title\n",
    "\n",
    "    trainSet['Title'] = trainSet.apply(replace_titles, axis = 1)\n",
    "\n",
    "    trainSet['AgeFill'] = trainSet['Age']\n",
    "    mean_fill = np.zeros(4)\n",
    "    mean_fill[0] = np.average(trainSet[trainSet['Title'] == 'Mr']['Age'].dropna())\n",
    "    mean_fill[1] = np.average(trainSet[trainSet['Title'] == 'Mrs']['Age'].dropna())\n",
    "    mean_fill[2] = np.average(trainSet[trainSet['Title'] == 'Miss']['Age'].dropna())\n",
    "    mean_fill[3] = np.average(trainSet[trainSet['Title'] == 'Master']['Age'].dropna())\n",
    "\n",
    "    trainSet.loc[ (trainSet.Age.isnull()) & (trainSet.Title == 'Mr') ,'AgeFill'] = mean_fill[0]\n",
    "    trainSet.loc[ (trainSet.Age.isnull()) & (trainSet.Title == 'Mrs') ,'AgeFill'] = mean_fill[1]\n",
    "    trainSet.loc[ (trainSet.Age.isnull()) & (trainSet.Title == 'Miss') ,'AgeFill'] = mean_fill[2]\n",
    "    trainSet.loc[ (trainSet.Age.isnull()) & (trainSet.Title == 'Master') ,'AgeFill'] = mean_fill[3]\n",
    "\n",
    "    trainSet['AgeCat'] = trainSet['AgeFill']\n",
    "    trainSet.loc[(trainSet.AgeFill <= 12), 'AgeCat'] = 1\n",
    "    #trainSet.loc[(trainSet.AgeFill > 10) & (trainSet.AgeFill <= 60), 'AgeCat'] = 'middle'\n",
    "    #trainSet.loc[(trainSet.AgeFill > 30) & (trainSet.AgeFill <= 60), 'AgeCat'] = 'Senior'\n",
    "    trainSet.loc[(trainSet.AgeFill > 12), 'AgeCat'] = 0\n",
    "\n",
    "    trainSet.loc[trainSet.Embarked.isnull(), 'Embarked'] = 'S'\n",
    "    #先去除这种操作试一试\n",
    "    trainSet.loc[trainSet.Cabin.isnull(), 'Cabin'] = 0.5\n",
    "    trainSet.loc[trainSet.Cabin.notnull(), 'Cabin'] = 1.5\n",
    "\n",
    "    trainSet['family_size'] = trainSet.SibSp + trainSet.Parch\n",
    "    #trainSet['family'] = trainSet.SibSp * trainSet.Parch\n",
    "    \n",
    "    trainSet['family_size'] = np.where(trainSet['family_size'] <= 3, 'Normal', 'Big')\n",
    "\n",
    "    #trainSet['Fare_Per_Person']=trainSet['Fare']/(trainSet['family_size'] + 1)\n",
    "\n",
    "    #Age times class\n",
    "    #trainSet['AgeClass']=trainSet['AgeFill'] * trainSet['Pclass']\n",
    "    #trainSet['ClassFare']=trainSet['Pclass'] * trainSet['Fare_Per_Person']\n",
    "\n",
    "    #trainSet['HighLow']=trainSet['Pclass']\n",
    "    #trainSet.loc[ (trainSet.Fare_Per_Person < 8) ,'HighLow'] = 'Low'\n",
    "    #trainSet.loc[ (trainSet.Fare_Per_Person >= 8) ,'HighLow'] = 'High'\n",
    "\n",
    "    le = preprocessing.LabelEncoder()\n",
    "    '''\n",
    "    from sklearn.preprocessing import LabelEncoder\n",
    "    le = LabelEncoder()\n",
    "    le.fit([1,5,67,100])\n",
    "    le.transform([1,1,100,67,5])\n",
    "    输出： array([0,0,3,2,1])\n",
    "    '''\n",
    " \n",
    "    le.fit(trainSet['Sex'] )\n",
    "    x_sex=le.transform(trainSet['Sex'])\n",
    "    trainSet['Sex']=x_sex.astype(np.float)\n",
    "   \n",
    "    le.fit( trainSet['Ticket'])\n",
    "    x_Ticket=le.transform( trainSet['Ticket'])\n",
    "    trainSet['Ticket']=x_Ticket.astype(np.float)\n",
    "    \n",
    "    le.fit(trainSet['family_size'])\n",
    "    x_family =le.transform( trainSet['family_size'])\n",
    "    trainSet['family_size'] = x_family.astype(np.float)\n",
    "\n",
    "\n",
    "    le.fit(trainSet['Title'])\n",
    "    x_title=le.transform(trainSet['Title'])\n",
    "    trainSet['Title'] =x_title.astype(np.int)\n",
    "\n",
    "\n",
    "    #le.fit(trainSet['HighLow'])\n",
    "    #x_hl=le.transform(trainSet['HighLow'])\n",
    "    #trainSet['HighLow']=x_hl.astype(np.float)\n",
    "\n",
    "\n",
    "    le.fit(trainSet['AgeCat'])\n",
    "    x_age=le.transform(trainSet['AgeCat'])\n",
    "    trainSet['AgeCat'] =x_age.astype(np.float)\n",
    "\n",
    "    le.fit(trainSet['Embarked'])\n",
    "    x_emb=le.transform(trainSet['Embarked'])\n",
    "    trainSet['Embarked']=x_emb.astype(np.float)\n",
    "    \n",
    "    #trainSet.loc[trainSet.Cabin.notnull(), 'Cabin'] = 'Yes'\n",
    "    #trainSet.loc[trainSet.Cabin.isnull(), 'Cabin'] = 'No'\n",
    "\n",
    "    \n",
    "    return trainSet\n",
    "\n",
    "\n",
    "trainSet = feature_extract(testSet)\n",
    "'''\n",
    "formula_ml='Survived~Pclass+C(Title)+Sex+C(AgeCat)+Fare_Per_Person+Fare+family_size' \n",
    "\n",
    "y_train, x_train = dmatrices(formula_ml, data=trainSet, return_type='dataframe')\n",
    "y_train = np.asarray(y_train).ravel()\n",
    "\n",
    "'''"
   ]
  },
  {
   "cell_type": "code",
   "execution_count": 310,
   "metadata": {},
   "outputs": [
    {
     "name": "stdout",
     "output_type": "stream",
     "text": [
      "<class 'pandas.core.frame.DataFrame'>\n",
      "RangeIndex: 891 entries, 0 to 890\n",
      "Data columns (total 17 columns):\n",
      "PassengerId    891 non-null int64\n",
      "Survived       891 non-null int64\n",
      "Pclass         891 non-null int64\n",
      "Name           891 non-null object\n",
      "Sex            891 non-null float64\n",
      "Age            714 non-null float64\n",
      "SibSp          891 non-null int64\n",
      "Parch          891 non-null int64\n",
      "Ticket         891 non-null float64\n",
      "Fare           891 non-null float64\n",
      "Cabin          891 non-null object\n",
      "Embarked       891 non-null float64\n",
      "Sex_Pclass     891 non-null object\n",
      "Title          891 non-null int32\n",
      "AgeFill        891 non-null float64\n",
      "AgeCat         891 non-null float64\n",
      "family_size    891 non-null float64\n",
      "dtypes: float64(8), int32(1), int64(5), object(3)\n",
      "memory usage: 114.9+ KB\n"
     ]
    }
   ],
   "source": [
    "trainSet.info()"
   ]
  },
  {
   "cell_type": "code",
   "execution_count": 384,
   "metadata": {},
   "outputs": [],
   "source": [
    "\n",
    "dummies_Embarked = pd.get_dummies(trainSet['Embarked'], prefix= 'Embarked')\n",
    "\n",
    "dummies_Sex = pd.get_dummies(trainSet['Sex'], prefix= 'Sex')\n",
    "\n",
    "#dummies_Title_Pclass = pd.get_dummies(trainSet['Title_Pclass'], prefix= 'Title_Pclass')\n",
    "\n",
    "#dummies_Cabin = pd.get_dummies(trainSet['Cabin'], prefix= 'Cabin')\n",
    "\n",
    "dummies_Pclass = pd.get_dummies(trainSet['Pclass'], prefix= 'Pclass')\n",
    "\n",
    "dummies_Sex_Pclass = pd.get_dummies(trainSet['Sex_Pclass'], prefix= 'Sex_Pclass')\n",
    "\n",
    "#dummies_Title = pd.get_dummies(trainSet['Title'], prefix= 'Title')\n",
    "\n",
    "#dummies_AgeCat = pd.get_dummies(trainSet['AgeCat'], prefix= 'AgeCat')\n",
    "\n",
    "#dummies_HighLow = pd.get_dummies(trainSet['HighLow'], prefix= 'HighLow')\n",
    "\n",
    "df = pd.concat([trainSet, dummies_Embarked, dummies_Sex, dummies_Pclass, dummies_Sex_Pclass], axis=1)\n",
    "#df.drop(['Fare', 'Pclass', 'Sex',  'Embarked', 'Sex_Pclass', 'Title', 'AgeCat', 'HighLow'], axis=1, inplace=True)\n",
    "\n",
    "\n",
    "#数据预处理，归一化\n",
    "scaler = preprocessing.StandardScaler()\n",
    "age_scaler = scaler.fit(np.array(df['AgeFill'].values.reshape(-1, 1)))\n",
    "df['Age_scaled'] = age_scaler.transform(np.array(df['AgeFill'].values.reshape(-1, 1)))\n",
    "\n",
    "fare_scaler = scaler.fit(np.array(df['Fare'].values.reshape(-1, 1)))\n",
    "df['Fare_scaled'] = fare_scaler.transform(np.array(df['Fare'].values.reshape(-1, 1)))\n",
    "\n",
    "'''\n",
    "Fare_Per_Person_scaler = scaler.fit(np.array(df['Fare_Per_Person'].values.reshape(-1, 1)))\n",
    "df['Fare_Per_Person_scaled'] = Fare_Per_Person_scaler.transform(np.array(df['Fare_Per_Person'].values.reshape(-1, 1)))\n",
    "\n",
    "AgeClass_scaler = scaler.fit(np.array(df['AgeClass'].values.reshape(-1, 1)))\n",
    "df['AgeClass_scaled'] = AgeClass_scaler.transform(np.array(df['AgeClass'].values.reshape(-1, 1)))\n",
    "\n",
    "ClassFare_scaler = scaler.fit(np.array(df['ClassFare'].values.reshape(-1, 1)))\n",
    "df['ClassFare_scaled'] = ClassFare_scaler.transform(np.array(df['ClassFare'].values.reshape(-1, 1)))\n",
    "\n",
    "family_size_scaler = scaler.fit(np.array(df['family_size'].values.reshape(-1, 1)))\n",
    "df['family_size_scaled'] = family_size_scaler.transform(np.array(df['family_size'].values.reshape(-1, 1)))\n",
    "\n",
    "family_scaler = scaler.fit(np.array(df['family'].values.reshape(-1, 1)))\n",
    "df['family_scaled'] = family_size_scaler.transform(np.array(df['family'].values.reshape(-1, 1)))\n",
    "'''\n",
    "df.drop(['Sex', 'Sex_Pclass', 'Pclass', 'Name', 'PassengerId', 'Age', 'Ticket', 'Fare'], axis=1, inplace=True)"
   ]
  },
  {
   "cell_type": "code",
   "execution_count": 312,
   "metadata": {},
   "outputs": [
    {
     "name": "stdout",
     "output_type": "stream",
     "text": [
      "<class 'pandas.core.frame.DataFrame'>\n",
      "RangeIndex: 891 entries, 0 to 890\n",
      "Data columns (total 25 columns):\n",
      "Survived               891 non-null int64\n",
      "SibSp                  891 non-null int64\n",
      "Parch                  891 non-null int64\n",
      "Cabin                  891 non-null object\n",
      "Embarked               891 non-null float64\n",
      "Title                  891 non-null int32\n",
      "AgeFill                891 non-null float64\n",
      "AgeCat                 891 non-null float64\n",
      "family_size            891 non-null float64\n",
      "Embarked_0.0           891 non-null uint8\n",
      "Embarked_1.0           891 non-null uint8\n",
      "Embarked_2.0           891 non-null uint8\n",
      "Sex_0.0                891 non-null uint8\n",
      "Sex_1.0                891 non-null uint8\n",
      "Pclass_1               891 non-null uint8\n",
      "Pclass_2               891 non-null uint8\n",
      "Pclass_3               891 non-null uint8\n",
      "Sex_Pclass_female_1    891 non-null uint8\n",
      "Sex_Pclass_female_2    891 non-null uint8\n",
      "Sex_Pclass_female_3    891 non-null uint8\n",
      "Sex_Pclass_male_1      891 non-null uint8\n",
      "Sex_Pclass_male_2      891 non-null uint8\n",
      "Sex_Pclass_male_3      891 non-null uint8\n",
      "Age_scaled             891 non-null float64\n",
      "Fare_scaled            891 non-null float64\n",
      "dtypes: float64(6), int32(1), int64(3), object(1), uint8(14)\n",
      "memory usage: 85.3+ KB\n"
     ]
    }
   ],
   "source": [
    "df.info()"
   ]
  },
  {
   "cell_type": "code",
   "execution_count": 380,
   "metadata": {},
   "outputs": [
    {
     "data": {
      "text/plain": [
       "BaggingRegressor(base_estimator=GradientBoostingRegressor(alpha=0.9, criterion='friedman_mse', init=None,\n",
       "             learning_rate=0.1, loss='ls', max_depth=1, max_features=None,\n",
       "             max_leaf_nodes=None, min_impurity_decrease=0.0,\n",
       "             min_impurity_split=None, min_samples_leaf=1,\n",
       "             min_samples_split=2, min_weight_fraction_leaf=0.0,\n",
       "             n_estimators=200, presort='auto', random_state=0,\n",
       "             subsample=0.5, verbose=0, warm_start=False),\n",
       "         bootstrap=True, bootstrap_features=False, max_features=0.6,\n",
       "         max_samples=0.6, n_estimators=200, n_jobs=1, oob_score=False,\n",
       "         random_state=None, verbose=0, warm_start=False)"
      ]
     },
     "execution_count": 380,
     "metadata": {},
     "output_type": "execute_result"
    }
   ],
   "source": [
    "'''\n",
    "trainSet_df = df.filter(regex='Survived|Cabin_.*|family_size|AgeClass_scaled|ClassFare_scaled|Embarked_.*|Sex_.*|Title_.*|\\\n",
    "                        Sex_Pclass_.*|HighLow_.*|Pclass_.*|AgeCat_.*|family_size_scaled||Fare_Per_Person_scaled')\n",
    "'''\n",
    "\n",
    "trainSet_df = df.filter(regex='Survived|Cabin|family_size|Embarked_.*\\\n",
    "                                |AgeCat|Sex_Pclass_.*|Title|Pclass_.*|Sex_.*|Age_scaled|Fare_scaled')\n",
    "#'Survived~Pclass+C(Title)+Sex+C(AgeCat)+Fare_Per_Person+Fare+family_size' \n",
    "\n",
    "train_df = trainSet_df.as_matrix()\n",
    "\n",
    "Y = train_df[:, 0].astype(int)\n",
    "X = train_df[:, 1:]\n",
    "#X = np.concatenate((X, X), axis = 0)\n",
    "#Y = np.concatenate((Y, Y), axis = 0)\n",
    "\n",
    "\n",
    "#bagging_clf = linear_model.LogisticRegression(penalty = 'l1' ,max_iter = 200, tol = 1e-6)\n",
    "bagging_clf = GradientBoostingRegressor(n_estimators=200, learning_rate=0.1, max_depth = 1, subsample = 0.5,random_state=0, loss='ls')\n",
    "#bagging_clf = RandomForestRegressor(n_estimators=20, random_state = 0, max_features='log2')\n",
    "#bagging_clf = DecisionTreeRegressor(random_state = 0, max_depth = None)\n",
    "\n",
    "#bagging_clf = svm.SVC()\n",
    "bagging_clf = BaggingRegressor(bagging_clf, n_estimators=200, max_features=0.6, max_samples = 0.6)\n",
    "    \n",
    "bagging_clf.fit(X, Y)\n",
    "#cross_val_score(bagging_clf, X, Y, cv=3)\n",
    "#bagging_clf.fit(X, Y)\n",
    "#clf.score(X, Y)"
   ]
  },
  {
   "cell_type": "code",
   "execution_count": 346,
   "metadata": {},
   "outputs": [],
   "source": [
    "lr = LogisticRegression()\n",
    "svc = SVC()\n",
    "dt = DecisionTreeClassifier()\n",
    "rf = RandomForestClassifier(n_estimators=300,min_samples_leaf=4,class_weight={0:0.745,1:0.255})\n",
    "gbdt = GradientBoostingClassifier(n_estimators=500,learning_rate=0.03,max_depth=3)"
   ]
  },
  {
   "cell_type": "code",
   "execution_count": 370,
   "metadata": {
    "collapsed": true
   },
   "outputs": [],
   "source": [
    "class Ensemble(object):\n",
    "    \n",
    "    def __init__(self,estimators):\n",
    "        self.estimator_names = []\n",
    "        self.estimators = []\n",
    "        for i in estimators:\n",
    "            self.estimator_names.append(i[0])\n",
    "            self.estimators.append(i[1])\n",
    "        self.clf = GradientBoostingClassifier()\n",
    "    \n",
    "    def fit(self, train_x, train_y):\n",
    "        for i in self.estimators:\n",
    "            i.fit(train_x,train_y)\n",
    "        x = np.array([i.predict(train_x) for i in self.estimators]).T\n",
    "        y = train_y\n",
    "        self.clf.fit(x, y)\n",
    "    \n",
    "    def predict(self,x):\n",
    "        x = np.array([i.predict(x) for i in self.estimators]).T\n",
    "        #print(x)\n",
    "        return self.clf.predict(x)\n",
    "        \n",
    "    \n",
    "    def score(self,x,y):\n",
    "        s = precision_score(y,self.predict(x))\n",
    "        return s"
   ]
  },
  {
   "cell_type": "code",
   "execution_count": 371,
   "metadata": {},
   "outputs": [
    {
     "name": "stdout",
     "output_type": "stream",
     "text": [
      "72.3\n"
     ]
    }
   ],
   "source": [
    "bag = Ensemble([('dt', dt),('lr',lr),('rf',rf),('svc',svc),('gbdt',gbdt)])\n",
    "score = 0\n",
    "for i in range(0,10):\n",
    "    num_test = 0.20\n",
    "    X_train, X_cv, Y_train, Y_cv = train_test_split(X, Y, test_size=num_test)\n",
    "    bag.fit(X_train, Y_train)\n",
    "    #Y_test = bag.predict(X_test)\n",
    "    acc_xgb = round(bag.score(X_cv, Y_cv) * 100, 2)\n",
    "    score+=acc_xgb\n",
    "print(score/10)  "
   ]
  },
  {
   "cell_type": "code",
   "execution_count": 356,
   "metadata": {
    "collapsed": true
   },
   "outputs": [],
   "source": [
    "testSet_df = df.filter(regex='Cabin|family_size|Embarked_.*\\\n",
    "                                |AgeCat|Sex_Pclass_.*|Title|Pclass_.*|Sex_.*|Age_scaled|Fare_scaled')\n",
    "#'Survived~Pclass+C(Title)+Sex+C(AgeCat)+Fare_Per_Person+Fare+family_size' \n",
    "\n",
    "test_df = testSet_df.as_matrix()"
   ]
  },
  {
   "cell_type": "code",
   "execution_count": 362,
   "metadata": {
    "collapsed": true
   },
   "outputs": [],
   "source": [
    "bag.fit(X, Y)\n",
    "pred = bag.predict(test_df)"
   ]
  },
  {
   "cell_type": "code",
   "execution_count": 363,
   "metadata": {},
   "outputs": [
    {
     "data": {
      "text/plain": [
       "array([0, 0, 1, 0, 1, 0, 0, 1, 1, 0, 0, 0, 1, 0, 1, 1, 0, 0, 0, 0, 1, 1, 0,\n",
       "       0, 1, 0, 1, 0, 0, 0, 0, 0, 1, 0, 0, 0, 1, 0, 0, 0, 0, 0, 0, 1, 1, 0,\n",
       "       0, 0, 1, 0, 1, 0, 1, 1, 1, 0, 0, 0, 0, 1, 0, 1, 0, 1, 0, 0, 0, 0, 0,\n",
       "       1, 1, 0, 0, 0, 1, 0, 0, 1, 0, 1, 1, 1, 0, 0, 0, 0, 0, 1, 1, 1, 1, 0,\n",
       "       1, 0, 0, 0, 1, 0, 0, 0, 1, 0, 0, 0, 1, 0, 0, 0, 0, 0, 0, 1, 0, 1, 1,\n",
       "       0, 0, 1, 0, 1, 1, 0, 1, 0, 0, 0, 0, 1, 0, 0, 0, 0, 0, 0, 0, 0, 0, 0,\n",
       "       1, 0, 0, 1, 0, 0, 0, 0, 0, 0, 0, 0, 1, 0, 0, 1, 0, 0, 1, 1, 0, 1, 1,\n",
       "       1, 1, 0, 0, 1, 1, 0, 0, 0, 0, 1, 0, 0, 0, 1, 1, 0, 1, 1, 0, 0, 1, 0,\n",
       "       1, 0, 1, 0, 0, 0, 0, 0, 1, 1, 1, 0, 1, 1, 0, 0, 0, 1, 0, 1, 0, 0, 0,\n",
       "       0, 1, 0, 0, 0, 0, 0, 0, 0, 0, 0, 1, 0, 1, 0, 1, 0, 1, 0, 0, 1, 0, 0,\n",
       "       0, 1, 0, 0, 0, 0, 0, 0, 1, 1, 1, 1, 0, 0, 1, 0, 1, 0, 1, 0, 1, 0, 1,\n",
       "       0, 0, 0, 0, 0, 1, 0, 0, 0, 1, 1, 0, 0, 0, 0, 1, 0, 0, 0, 1, 0, 0, 1,\n",
       "       0, 0, 0, 0, 0, 1, 1, 0, 1, 0, 0, 1, 0, 0, 1, 0, 0, 0, 0, 0, 1, 0, 0,\n",
       "       0, 0, 1, 0, 0, 1, 0, 0, 1, 0, 0, 0, 0, 0, 0, 1, 1, 0, 0, 1, 0, 0, 0,\n",
       "       0, 0, 1, 0, 1, 0, 0, 0, 1, 1, 0, 1, 1, 0, 1, 0, 0, 1, 0, 0, 0, 1, 1,\n",
       "       1, 0, 0, 0, 1, 1, 0, 0, 0, 1, 0, 1, 0, 0, 0, 0, 1, 1, 0, 1, 0, 0, 0,\n",
       "       1, 0, 0, 1, 0, 0, 1, 1, 0, 0, 1, 0, 0, 0, 0, 1, 1, 1, 0, 0, 0, 0, 0,\n",
       "       1, 1, 0, 0, 1, 0, 1, 0, 0, 1, 0, 1, 0, 0, 0, 0, 0, 1, 1, 1, 1, 0, 0,\n",
       "       1, 0, 0, 1])"
      ]
     },
     "execution_count": 363,
     "metadata": {},
     "output_type": "execute_result"
    }
   ],
   "source": [
    "pred"
   ]
  },
  {
   "cell_type": "code",
   "execution_count": 372,
   "metadata": {},
   "outputs": [
    {
     "data": {
      "text/plain": [
       "0.11661338480984904"
      ]
     },
     "execution_count": 372,
     "metadata": {},
     "output_type": "execute_result"
    }
   ],
   "source": [
    "from sklearn.model_selection import train_test_split\n",
    "\n",
    "split_train, split_cv = train_test_split(trainSet_df, test_size=0.3, random_state=0)\n",
    "\n",
    "train_cross = split_train\n",
    "crossModel = bagging_clf.fit(train_cross.as_matrix()[:, 1:], train_cross.as_matrix()[:, 0].astype(int))\n",
    "\n",
    "test_cross = split_cv\n",
    "#crossModel.score(test_cross.as_matrix()[:, 1:], test_cross.as_matrix()[:, 0].astype(int))\n",
    "mean_squared_error(test_cross.as_matrix()[:, 0].astype(int), crossModel.predict(test_cross.as_matrix()[:, 1:]))"
   ]
  },
  {
   "cell_type": "code",
   "execution_count": 373,
   "metadata": {},
   "outputs": [
    {
     "data": {
      "text/plain": [
       "0.83726150392817056"
      ]
     },
     "execution_count": 373,
     "metadata": {},
     "output_type": "execute_result"
    }
   ],
   "source": [
    "pred_X = bagging_clf.predict(X)\n",
    "#Y = test_cross.as_matrix()[:, 0]\n",
    "#pred_X = bagging_clf.predict(test_cross.as_matrix()[:, 1:])\n",
    "pred_X[pred_X <= 0.5] = 0\n",
    "pred_X[pred_X > 0.5] = 1\n",
    "np.sum(pred_X == Y)/len(pred_X)"
   ]
  },
  {
   "cell_type": "code",
   "execution_count": 188,
   "metadata": {
    "collapsed": true
   },
   "outputs": [
    {
     "ename": "AttributeError",
     "evalue": "'BaggingRegressor' object has no attribute 'coef_'",
     "output_type": "error",
     "traceback": [
      "\u001b[1;31m---------------------------------------------------------------------------\u001b[0m",
      "\u001b[1;31mAttributeError\u001b[0m                            Traceback (most recent call last)",
      "\u001b[1;32m<ipython-input-188-555edb71699c>\u001b[0m in \u001b[0;36m<module>\u001b[1;34m()\u001b[0m\n\u001b[0;32m      1\u001b[0m \u001b[1;31m#pd.DataFrame({\"columns\":list(trainSet_df.columns)[1:], \"coef\":list(crossModel.feature_importances_.T)})\u001b[0m\u001b[1;33m\u001b[0m\u001b[1;33m\u001b[0m\u001b[0m\n\u001b[1;32m----> 2\u001b[1;33m \u001b[0mpd\u001b[0m\u001b[1;33m.\u001b[0m\u001b[0mDataFrame\u001b[0m\u001b[1;33m(\u001b[0m\u001b[1;33m{\u001b[0m\u001b[1;34m\"columns\"\u001b[0m\u001b[1;33m:\u001b[0m\u001b[0mlist\u001b[0m\u001b[1;33m(\u001b[0m\u001b[0mtrainSet_df\u001b[0m\u001b[1;33m.\u001b[0m\u001b[0mcolumns\u001b[0m\u001b[1;33m)\u001b[0m\u001b[1;33m[\u001b[0m\u001b[1;36m1\u001b[0m\u001b[1;33m:\u001b[0m\u001b[1;33m]\u001b[0m\u001b[1;33m,\u001b[0m \u001b[1;34m\"coef\"\u001b[0m\u001b[1;33m:\u001b[0m\u001b[0mlist\u001b[0m\u001b[1;33m(\u001b[0m\u001b[0mcrossModel\u001b[0m\u001b[1;33m.\u001b[0m\u001b[0mcoef_\u001b[0m\u001b[1;33m.\u001b[0m\u001b[0mT\u001b[0m\u001b[1;33m)\u001b[0m\u001b[1;33m}\u001b[0m\u001b[1;33m)\u001b[0m\u001b[1;33m\u001b[0m\u001b[0m\n\u001b[0m\u001b[0;32m      3\u001b[0m \u001b[1;31m#trainSet_df\u001b[0m\u001b[1;33m\u001b[0m\u001b[1;33m\u001b[0m\u001b[0m\n",
      "\u001b[1;31mAttributeError\u001b[0m: 'BaggingRegressor' object has no attribute 'coef_'"
     ]
    }
   ],
   "source": [
    "#pd.DataFrame({\"columns\":list(trainSet_df.columns)[1:], \"coef\":list(crossModel.feature_importances_.T)})\n",
    "pd.DataFrame({\"columns\":list(trainSet_df.columns)[1:], \"coef\":list(crossModel.coef_.T)})\n",
    "#trainSet_df"
   ]
  },
  {
   "cell_type": "code",
   "execution_count": 128,
   "metadata": {},
   "outputs": [
    {
     "data": {
      "image/png": "[encoded data removed]",
      "text/plain": [
       "<matplotlib.figure.Figure at 0x6f7b5be320>"
      ]
     },
     "metadata": {},
     "output_type": "display_data"
    },
    {
     "data": {
      "text/plain": [
       "(0.43253397294333523, 0.18705784122661806)"
      ]
     },
     "execution_count": 128,
     "metadata": {},
     "output_type": "execute_result"
    }
   ],
   "source": [
    "from sklearn.learning_curve import learning_curve\n",
    "\n",
    "# 用sklearn的learning_curve得到training_score和cv_score，使用matplotlib画出learning curve\n",
    "def plot_learning_curve(estimator, title, X, y, ylim=None, cv=None, n_jobs=1, \n",
    "                        train_sizes=np.linspace(.05, 1., 20), verbose=0, plot=True):\n",
    "    \"\"\"\n",
    "    画出data在某模型上的learning curve.\n",
    "    参数解释\n",
    "    ----------\n",
    "    estimator : 你用的分类器。\n",
    "    title : 表格的标题。\n",
    "    X : 输入的feature，numpy类型\n",
    "    y : 输入的target vector\n",
    "    ylim : tuple格式的(ymin, ymax), 设定图像中纵坐标的最低点和最高点\n",
    "    cv : 做cross-validation的时候，数据分成的份数，其中一份作为cv集，其余n-1份作为training(默认为3份)\n",
    "    n_jobs : 并行的的任务数(默认1)\n",
    "    \"\"\"\n",
    "    train_sizes, train_scores, test_scores = learning_curve(\n",
    "        estimator, X, y, cv=cv, n_jobs=n_jobs, train_sizes=train_sizes, verbose=verbose)\n",
    "\n",
    "    train_scores_mean = np.mean(train_scores, axis=1)\n",
    "    train_scores_std = np.std(train_scores, axis=1)\n",
    "    test_scores_mean = np.mean(test_scores, axis=1)\n",
    "    test_scores_std = np.std(test_scores, axis=1)\n",
    "\n",
    "    if plot:\n",
    "        plt.figure()\n",
    "        plt.title(title, fontproperties = font)\n",
    "        if ylim is not None:\n",
    "            plt.ylim(*ylim)\n",
    "        plt.xlabel(u\"训练样本数\", fontproperties = font)\n",
    "        plt.ylabel(u\"得分\", fontproperties = font)\n",
    "        plt.gca()\n",
    "        plt.grid()\n",
    "\n",
    "        plt.fill_between(train_sizes, train_scores_mean - train_scores_std, train_scores_mean + train_scores_std, \n",
    "                         alpha=0.1, color=\"b\")\n",
    "        plt.fill_between(train_sizes, test_scores_mean - test_scores_std, test_scores_mean + test_scores_std, \n",
    "                         alpha=0.1, color=\"r\")\n",
    "        plt.plot(train_sizes, train_scores_mean, 'o-', color=\"b\", label=u\"训练集上得分\")\n",
    "        plt.plot(train_sizes, test_scores_mean, 'o-', color=\"r\", label=u\"交叉验证集上得分\")\n",
    "\n",
    "        plt.legend(loc=\"best\", prop = font)\n",
    "\n",
    "        plt.draw()\n",
    "        plt.show()\n",
    "\n",
    "    midpoint = ((train_scores_mean[-1] + train_scores_std[-1]) + (test_scores_mean[-1] - test_scores_std[-1])) / 2\n",
    "    diff = (train_scores_mean[-1] + train_scores_std[-1]) - (test_scores_mean[-1] - test_scores_std[-1])\n",
    "    return midpoint, diff\n",
    "\n",
    "plot_learning_curve(bagging_clf, u\"学习曲线\", X, Y)"
   ]
  },
  {
   "cell_type": "code",
   "execution_count": 390,
   "metadata": {
    "collapsed": true
   },
   "outputs": [],
   "source": [
    "testSet_df = df.filter(regex='Cabin|family_size|Embarked_.*\\\n",
    "                                |AgeCat|Sex_Pclass_.*|Title|Pclass_.*|Sex_.*|Age_scaled|Fare_scaled')\n",
    "test_df = testSet_df.as_matrix()\n",
    "\n",
    "pred_X = bagging_clf.predict(test_df)\n",
    "\n",
    "pred_X[pred_X <= 0.5] = 0\n",
    "pred_X[pred_X > 0.5] = 1\n",
    "\n",
    "#将结果写进csv格式文件\n",
    "result = pd.DataFrame({'PassengerId':testSet['PassengerId'].as_matrix(), 'Survived':pred_X.astype(int)})\n",
    "result.to_csv(r\"E:\\jupyter notebook\\kaggle\\titanic\\pred_label\\predict.csv\", index=False)"
   ]
  },
  {
   "cell_type": "code",
   "execution_count": 387,
   "metadata": {},
   "outputs": [
    {
     "data": {
      "text/plain": [
       "152.0"
      ]
     },
     "execution_count": 387,
     "metadata": {},
     "output_type": "execute_result"
    }
   ],
   "source": [
    "pred_X"
   ]
  },
  {
   "cell_type": "code",
   "execution_count": 389,
   "metadata": {},
   "outputs": [
    {
     "data": {
      "text/plain": [
       "array([ 0.,  0.,  0.,  0.,  1.,  0.,  1.,  0.,  1.,  0.,  0.,  0.,  1.,\n",
       "        0.,  1.,  1.,  0.,  0.,  0.,  1.,  0.,  1.,  1.,  0.,  1.,  0.,\n",
       "        1.,  0.,  0.,  0.,  0.,  0.,  0.,  0.,  0.,  0.,  1.,  1.,  0.,\n",
       "        0.,  0.,  0.,  0.,  1.,  1.,  0.,  0.,  0.,  1.,  1.,  0.,  0.,\n",
       "        1.,  1.,  0.,  0.,  0.,  0.,  0.,  1.,  0.,  0.,  0.,  1.,  1.,\n",
       "        1.,  1.,  0.,  1.,  1.,  1.,  0.,  0.,  0.,  1.,  1.,  0.,  1.,\n",
       "        0.,  1.,  1.,  0.,  0.,  0.,  0.,  0.,  1.,  1.,  1.,  1.,  1.,\n",
       "        0.,  1.,  0.,  0.,  0.,  1.,  0.,  1.,  0.,  1.,  0.,  0.,  0.,\n",
       "        1.,  0.,  0.,  0.,  0.,  0.,  0.,  1.,  1.,  1.,  1.,  0.,  0.,\n",
       "        1.,  1.,  1.,  1.,  0.,  1.,  0.,  0.,  1.,  0.,  0.,  0.,  0.,\n",
       "        0.,  0.,  0.,  0.,  0.,  0.,  0.,  0.,  0.,  0.,  0.,  1.,  0.,\n",
       "        0.,  0.,  0.,  0.,  0.,  0.,  0.,  1.,  0.,  0.,  1.,  0.,  0.,\n",
       "        1.,  1.,  0.,  1.,  1.,  1.,  1.,  0.,  0.,  0.,  0.,  0.,  1.,\n",
       "        1.,  0.,  0.,  0.,  0.,  0.,  1.,  1.,  0.,  1.,  1.,  0.,  0.,\n",
       "        1.,  0.,  1.,  0.,  1.,  0.,  0.,  0.,  0.,  0.,  1.,  0.,  1.,\n",
       "        0.,  1.,  1.,  0.,  0.,  1.,  1.,  0.,  1.,  0.,  1.,  1.,  0.,\n",
       "        1.,  0.,  0.,  0.,  0.,  1.,  0.,  0.,  1.,  0.,  1.,  0.,  1.,\n",
       "        0.,  1.,  0.,  1.,  1.,  0.,  1.,  0.,  0.,  0.,  1.,  0.,  0.,\n",
       "        0.,  0.,  0.,  0.,  1.,  1.,  1.,  1.,  0.,  0.,  1.,  0.,  1.,\n",
       "        0.,  1.,  1.,  1.,  0.,  0.,  0.,  0.,  0.,  0.,  0.,  1.,  0.,\n",
       "        0.,  0.,  1.,  1.,  0.,  0.,  0.,  0.,  1.,  0.,  0.,  0.,  1.,\n",
       "        1.,  0.,  1.,  0.,  0.,  0.,  0.,  1.,  1.,  1.,  1.,  1.,  0.,\n",
       "        0.,  0.,  0.,  0.,  0.,  1.,  0.,  1.,  0.,  0.,  1.,  0.,  0.,\n",
       "        0.,  0.,  0.,  0.,  0.,  1.,  1.,  0.,  1.,  0.,  0.,  0.,  0.,\n",
       "        0.,  0.,  1.,  1.,  0.,  0.,  0.,  0.,  0.,  0.,  0.,  0.,  1.,\n",
       "        0.,  1.,  0.,  0.,  0.,  1.,  0.,  0.,  1.,  0.,  0.,  0.,  0.,\n",
       "        0.,  1.,  0.,  0.,  0.,  1.,  1.,  1.,  0.,  1.,  0.,  1.,  1.,\n",
       "        0.,  0.,  0.,  1.,  0.,  1.,  0.,  0.,  0.,  0.,  1.,  1.,  0.,\n",
       "        1.,  0.,  0.,  1.,  1.,  0.,  0.,  1.,  0.,  0.,  1.,  1.,  0.,\n",
       "        0.,  0.,  0.,  0.,  0.,  1.,  1.,  0.,  1.,  0.,  0.,  0.,  0.,\n",
       "        0.,  1.,  1.,  0.,  0.,  1.,  0.,  1.,  0.,  0.,  1.,  0.,  1.,\n",
       "        0.,  0.,  0.,  0.,  0.,  1.,  1.,  1.,  1.,  0.,  0.,  1.,  0.,\n",
       "        0.,  1.])"
      ]
     },
     "execution_count": 389,
     "metadata": {},
     "output_type": "execute_result"
    }
   ],
   "source": [
    "arr"
   ]
  },
  {
   "cell_type": "code",
   "execution_count": null,
   "metadata": {
    "collapsed": true
   },
   "outputs": [],
   "source": [
    "0.,  0.,  0.,  0.,  0.,  1.,  0.,  0.,  0.,  0.,  1.,  1.,  0.,\n",
    "        1.,  0.,  0.,  1.,  1.,  0.,  0.,  1.,  0.,  0.,  1.,  1.,  0.,\n",
    "        0.,  0.,  1.,  0.,  0.,  1.,  0.,  0.,  1.,  0.,  0.,  0.,  1.,\n",
    "        0.,  1.,  0.,  0.,  0.,  1.,  0.,  1.,  0.,  0.,  1.,  0.,  1.,\n",
    "        0.,  0.,  0.,  0.,  0.,  0.,  1.,  0.,  1.,  0.,  0.,  1.,  0.,\n",
    "        0.,  1.])"
   ]
  }
 ],
 "metadata": {
  "kernelspec": {
   "display_name": "Python 3",
   "language": "python",
   "name": "python3"
  },
  "language_info": {
   "codemirror_mode": {
    "name": "ipython",
    "version": 3
   },
   "file_extension": ".py",
   "mimetype": "text/x-python",
   "name": "python",
   "nbconvert_exporter": "python",
   "pygments_lexer": "ipython3",
   "version": "3.6.3"
  }
 },
 "nbformat": 4,
 "nbformat_minor": 2
}
