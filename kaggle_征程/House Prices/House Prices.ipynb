{
 "cells": [
  {
   "cell_type": "markdown",
   "metadata": {},
   "source": [
    "### ensemble有点强啊,这里的ensemble是指平均的结果，将模型输出作为输入，效果并不好\n",
    "### 神经网络的效果并不好，可能是过拟合了\n",
    "### 这里的特征处理太粗糙了，需要再细化"
   ]
  },
  {
   "cell_type": "code",
   "execution_count": 1,
   "metadata": {},
   "outputs": [
    {
     "name": "stderr",
     "output_type": "stream",
     "text": [
      "D:\\ANACONDA\\lib\\site-packages\\sklearn\\cross_validation.py:41: DeprecationWarning: This module was deprecated in version 0.18 in favor of the model_selection module into which all the refactored classes and functions are moved. Also note that the interface of the new CV iterators are different from that of this module. This module will be removed in 0.20.\n",
      "  \"This module will be removed in 0.20.\", DeprecationWarning)\n",
      "D:\\ANACONDA\\lib\\site-packages\\sklearn\\grid_search.py:42: DeprecationWarning: This module was deprecated in version 0.18 in favor of the model_selection module into which all the refactored classes and functions are moved. This module will be removed in 0.20.\n",
      "  DeprecationWarning)\n"
     ]
    }
   ],
   "source": [
    "import pandas as pd\n",
    "import numpy as np\n",
    "%matplotlib inline\n",
    "import matplotlib.pyplot as plt\n",
    "\n",
    "#导入必要的包\n",
    "from sklearn.preprocessing import StandardScaler\n",
    "\n",
    "from sklearn import preprocessing\n",
    "\n",
    "import xgboost as xgb\n",
    "from xgboost.sklearn import XGBRegressor  #xgboost的回归模型\n",
    "from sklearn.grid_search import GridSearchCV"
   ]
  },
  {
   "cell_type": "code",
   "execution_count": 48,
   "metadata": {
    "collapsed": true
   },
   "outputs": [],
   "source": [
    "#常用模型\n",
    "from sklearn import linear_model\n",
    "from sklearn import svm\n",
    "from sklearn.model_selection import cross_val_score\n",
    "from sklearn.ensemble import RandomForestRegressor\n",
    "from sklearn.linear_model import Ridge\n",
    "from sklearn.ensemble import AdaBoostRegressor\n",
    "from sklearn.ensemble import BaggingRegressor\n",
    "from sklearn.svm import SVR\n",
    "\n",
    "#用神经网络做做试试\n",
    "import keras\n",
    "from keras.models import Sequential\n",
    "from keras.layers import Dense, Activation"
   ]
  },
  {
   "cell_type": "code",
   "execution_count": 3,
   "metadata": {
    "collapsed": true
   },
   "outputs": [],
   "source": [
    "train_df = pd.read_csv('data/train.csv')\n",
    "test_df = pd.read_csv('data/test.csv')\n",
    "data_df = train_df.append(test_df)"
   ]
  },
  {
   "cell_type": "code",
   "execution_count": 37,
   "metadata": {},
   "outputs": [
    {
     "name": "stdout",
     "output_type": "stream",
     "text": [
      "1460 1459\n"
     ]
    }
   ],
   "source": [
    "print(len(train_df), len(test_df))"
   ]
  },
  {
   "cell_type": "code",
   "execution_count": 4,
   "metadata": {},
   "outputs": [
    {
     "name": "stdout",
     "output_type": "stream",
     "text": [
      "   Fence      SalePrice\n",
      "0  GdPrv  178927.457627\n",
      "1   GdWo  140379.314815\n",
      "2  MnPrv  148751.089172\n",
      "3   MnWw  134286.363636\n"
     ]
    }
   ],
   "source": [
    "print (train_df[['SalePrice', 'Fence']].groupby(['Fence'], as_index=False).mean())"
   ]
  },
  {
   "cell_type": "code",
   "execution_count": 94,
   "metadata": {},
   "outputs": [
    {
     "data": {
      "text/plain": [
       "Index(['MSZoning', 'Street', 'Alley', 'LotShape', 'LandContour', 'Utilities',\n",
       "       'LotConfig', 'LandSlope', 'Neighborhood', 'Condition1', 'Condition2',\n",
       "       'BldgType', 'HouseStyle', 'RoofStyle', 'RoofMatl', 'Exterior1st',\n",
       "       'Exterior2nd', 'MasVnrType', 'ExterQual', 'ExterCond', 'Foundation',\n",
       "       'BsmtQual', 'BsmtCond', 'BsmtExposure', 'BsmtFinType1', 'BsmtFinType2',\n",
       "       'Heating', 'HeatingQC', 'CentralAir', 'Electrical', 'KitchenQual',\n",
       "       'Functional', 'FireplaceQu', 'GarageType', 'GarageFinish', 'GarageQual',\n",
       "       'GarageCond', 'PavedDrive', 'PoolQC', 'Fence', 'MiscFeature',\n",
       "       'SaleType', 'SaleCondition'],\n",
       "      dtype='object')"
      ]
     },
     "execution_count": 94,
     "metadata": {},
     "output_type": "execute_result"
    }
   ],
   "source": [
    "object_columns = train_df.columns[train_df.dtypes == object]\n",
    "object_columns"
   ]
  },
  {
   "cell_type": "code",
   "execution_count": 95,
   "metadata": {},
   "outputs": [
    {
     "data": {
      "text/plain": [
       "array([[<matplotlib.axes._subplots.AxesSubplot object at 0x000000695106D400>,\n",
       "        <matplotlib.axes._subplots.AxesSubplot object at 0x00000069520662E8>]], dtype=object)"
      ]
     },
     "execution_count": 95,
     "metadata": {},
     "output_type": "execute_result"
    },
    {
     "data": {
      "image/png": "[encoded data removed]",
      "text/plain": [
       "<matplotlib.figure.Figure at 0x6950f312e8>"
      ]
     },
     "metadata": {},
     "output_type": "display_data"
    }
   ],
   "source": [
    "prices = prices = pd.DataFrame({\"price\":train_df[\"SalePrice\"], \"log(price + 1)\":np.log1p(train_df[\"SalePrice\"])})\n",
    "prices.hist()\n",
    "#train_df[\"SalePrice\"].mean()"
   ]
  },
  {
   "cell_type": "code",
   "execution_count": 104,
   "metadata": {
    "collapsed": true
   },
   "outputs": [],
   "source": [
    "'''\n",
    "PoolQC          2909\n",
    "MiscFeature     2814\n",
    "Alley           2721\n",
    "Fence           2348\n",
    "FireplaceQu     1420   #处理这几个object的变量\n",
    "'''\n",
    "\n",
    "# data_df.loc[data_df.Fence.isnull(), 'Fence'] = 'no'\n",
    "# data_df.loc[data_df.FireplaceQu.isnull(), 'FireplaceQu'] = 'no'\n",
    "# data_df.loc[data_df.Alley.isnull(), 'Alley'] = 'no'\n",
    "\n",
    "# data_df.loc[:, object_columns].fillna('missing') \n",
    "# data_df.drop(['PoolQC', 'MiscFeature'], axis = 1, inplace = True)"
   ]
  },
  {
   "cell_type": "code",
   "execution_count": 6,
   "metadata": {
    "collapsed": true
   },
   "outputs": [
    {
     "data": {
      "text/plain": [
       "Utilities_NoSeWa       0\n",
       "Exterior1st_BrkFace    0\n",
       "ExterQual_Ex           0\n",
       "ExterQual_Fa           0\n",
       "ExterQual_Gd           0\n",
       "ExterQual_TA           0\n",
       "Exterior1st_AsbShng    0\n",
       "Exterior1st_AsphShn    0\n",
       "Exterior1st_BrkComm    0\n",
       "Exterior1st_CBlock     0\n",
       "dtype: int64"
      ]
     },
     "execution_count": 6,
     "metadata": {},
     "output_type": "execute_result"
    }
   ],
   "source": [
    "all_dummy_df.isnull().sum().sort_values(ascending = False).head(10)"
   ]
  },
  {
   "cell_type": "code",
   "execution_count": 5,
   "metadata": {
    "collapsed": true
   },
   "outputs": [],
   "source": [
    "y = np.log1p(train_df['SalePrice'])  #取出label\n",
    "data_df.drop('SalePrice', axis = 1, inplace = True)\n",
    "\n",
    "data_df['MSSubClass'] = data_df['MSSubClass'].astype(str)\n",
    "\n",
    "all_dummy_df = pd.get_dummies(data_df)\n",
    "\n",
    "mean_cols = all_dummy_df.mean()\n",
    "\n",
    "all_dummy_df = all_dummy_df.fillna(mean_cols)\n",
    "\n",
    "numeric_cols = all_dummy_df.columns[all_dummy_df.dtypes != np.uint8]\n",
    "numeric_col_means = all_dummy_df.loc[:, numeric_cols].mean()\n",
    "numeric_col_std = all_dummy_df.loc[:, numeric_cols].std()\n",
    "all_dummy_df.loc[:, numeric_cols] = (all_dummy_df.loc[:, numeric_cols] - numeric_col_means) / numeric_col_std"
   ]
  },
  {
   "cell_type": "code",
   "execution_count": 137,
   "metadata": {},
   "outputs": [
    {
     "data": {
      "text/html": [
       "<div>\n",
       "<style>\n",
       "    .dataframe thead tr:only-child th {\n",
       "        text-align: right;\n",
       "    }\n",
       "\n",
       "    .dataframe thead th {\n",
       "        text-align: left;\n",
       "    }\n",
       "\n",
       "    .dataframe tbody tr th {\n",
       "        vertical-align: top;\n",
       "    }\n",
       "</style>\n",
       "<table border=\"1\" class=\"dataframe\">\n",
       "  <thead>\n",
       "    <tr style=\"text-align: right;\">\n",
       "      <th></th>\n",
       "      <th>1stFlrSF</th>\n",
       "      <th>2ndFlrSF</th>\n",
       "      <th>3SsnPorch</th>\n",
       "      <th>BedroomAbvGr</th>\n",
       "      <th>BsmtFinSF1</th>\n",
       "      <th>BsmtFinSF2</th>\n",
       "      <th>BsmtFullBath</th>\n",
       "      <th>BsmtHalfBath</th>\n",
       "      <th>BsmtUnfSF</th>\n",
       "      <th>EnclosedPorch</th>\n",
       "      <th>...</th>\n",
       "      <th>SaleType_ConLD</th>\n",
       "      <th>SaleType_ConLI</th>\n",
       "      <th>SaleType_ConLw</th>\n",
       "      <th>SaleType_New</th>\n",
       "      <th>SaleType_Oth</th>\n",
       "      <th>SaleType_WD</th>\n",
       "      <th>Street_Grvl</th>\n",
       "      <th>Street_Pave</th>\n",
       "      <th>Utilities_AllPub</th>\n",
       "      <th>Utilities_NoSeWa</th>\n",
       "    </tr>\n",
       "  </thead>\n",
       "  <tbody>\n",
       "    <tr>\n",
       "      <th>0</th>\n",
       "      <td>-0.773728</td>\n",
       "      <td>1.207172</td>\n",
       "      <td>-0.103313</td>\n",
       "      <td>0.169898</td>\n",
       "      <td>0.580807</td>\n",
       "      <td>-0.29308</td>\n",
       "      <td>1.086836</td>\n",
       "      <td>-0.249852</td>\n",
       "      <td>-0.934702</td>\n",
       "      <td>-0.359539</td>\n",
       "      <td>...</td>\n",
       "      <td>0</td>\n",
       "      <td>0</td>\n",
       "      <td>0</td>\n",
       "      <td>0</td>\n",
       "      <td>0</td>\n",
       "      <td>1</td>\n",
       "      <td>0</td>\n",
       "      <td>1</td>\n",
       "      <td>1</td>\n",
       "      <td>0</td>\n",
       "    </tr>\n",
       "    <tr>\n",
       "      <th>1</th>\n",
       "      <td>0.261030</td>\n",
       "      <td>-0.784891</td>\n",
       "      <td>-0.103313</td>\n",
       "      <td>0.169898</td>\n",
       "      <td>1.177910</td>\n",
       "      <td>-0.29308</td>\n",
       "      <td>-0.819539</td>\n",
       "      <td>3.821764</td>\n",
       "      <td>-0.629788</td>\n",
       "      <td>-0.359539</td>\n",
       "      <td>...</td>\n",
       "      <td>0</td>\n",
       "      <td>0</td>\n",
       "      <td>0</td>\n",
       "      <td>0</td>\n",
       "      <td>0</td>\n",
       "      <td>1</td>\n",
       "      <td>0</td>\n",
       "      <td>1</td>\n",
       "      <td>1</td>\n",
       "      <td>0</td>\n",
       "    </tr>\n",
       "    <tr>\n",
       "      <th>2</th>\n",
       "      <td>-0.610614</td>\n",
       "      <td>1.235163</td>\n",
       "      <td>-0.103313</td>\n",
       "      <td>0.169898</td>\n",
       "      <td>0.097856</td>\n",
       "      <td>-0.29308</td>\n",
       "      <td>1.086836</td>\n",
       "      <td>-0.249852</td>\n",
       "      <td>-0.288467</td>\n",
       "      <td>-0.359539</td>\n",
       "      <td>...</td>\n",
       "      <td>0</td>\n",
       "      <td>0</td>\n",
       "      <td>0</td>\n",
       "      <td>0</td>\n",
       "      <td>0</td>\n",
       "      <td>1</td>\n",
       "      <td>0</td>\n",
       "      <td>1</td>\n",
       "      <td>1</td>\n",
       "      <td>0</td>\n",
       "    </tr>\n",
       "    <tr>\n",
       "      <th>3</th>\n",
       "      <td>-0.506118</td>\n",
       "      <td>0.978574</td>\n",
       "      <td>-0.103313</td>\n",
       "      <td>0.169898</td>\n",
       "      <td>-0.494856</td>\n",
       "      <td>-0.29308</td>\n",
       "      <td>1.086836</td>\n",
       "      <td>-0.249852</td>\n",
       "      <td>-0.047266</td>\n",
       "      <td>3.874303</td>\n",
       "      <td>...</td>\n",
       "      <td>0</td>\n",
       "      <td>0</td>\n",
       "      <td>0</td>\n",
       "      <td>0</td>\n",
       "      <td>0</td>\n",
       "      <td>1</td>\n",
       "      <td>0</td>\n",
       "      <td>1</td>\n",
       "      <td>1</td>\n",
       "      <td>0</td>\n",
       "    </tr>\n",
       "    <tr>\n",
       "      <th>4</th>\n",
       "      <td>-0.037164</td>\n",
       "      <td>1.671364</td>\n",
       "      <td>-0.103313</td>\n",
       "      <td>1.385418</td>\n",
       "      <td>0.468851</td>\n",
       "      <td>-0.29308</td>\n",
       "      <td>1.086836</td>\n",
       "      <td>-0.249852</td>\n",
       "      <td>-0.161040</td>\n",
       "      <td>-0.359539</td>\n",
       "      <td>...</td>\n",
       "      <td>0</td>\n",
       "      <td>0</td>\n",
       "      <td>0</td>\n",
       "      <td>0</td>\n",
       "      <td>0</td>\n",
       "      <td>1</td>\n",
       "      <td>0</td>\n",
       "      <td>1</td>\n",
       "      <td>1</td>\n",
       "      <td>0</td>\n",
       "    </tr>\n",
       "  </tbody>\n",
       "</table>\n",
       "<p>5 rows × 304 columns</p>\n",
       "</div>"
      ],
      "text/plain": [
       "   1stFlrSF  2ndFlrSF  3SsnPorch  BedroomAbvGr  BsmtFinSF1  BsmtFinSF2  \\\n",
       "0 -0.773728  1.207172  -0.103313      0.169898    0.580807    -0.29308   \n",
       "1  0.261030 -0.784891  -0.103313      0.169898    1.177910    -0.29308   \n",
       "2 -0.610614  1.235163  -0.103313      0.169898    0.097856    -0.29308   \n",
       "3 -0.506118  0.978574  -0.103313      0.169898   -0.494856    -0.29308   \n",
       "4 -0.037164  1.671364  -0.103313      1.385418    0.468851    -0.29308   \n",
       "\n",
       "   BsmtFullBath  BsmtHalfBath  BsmtUnfSF  EnclosedPorch        ...         \\\n",
       "0      1.086836     -0.249852  -0.934702      -0.359539        ...          \n",
       "1     -0.819539      3.821764  -0.629788      -0.359539        ...          \n",
       "2      1.086836     -0.249852  -0.288467      -0.359539        ...          \n",
       "3      1.086836     -0.249852  -0.047266       3.874303        ...          \n",
       "4      1.086836     -0.249852  -0.161040      -0.359539        ...          \n",
       "\n",
       "   SaleType_ConLD  SaleType_ConLI  SaleType_ConLw  SaleType_New  SaleType_Oth  \\\n",
       "0               0               0               0             0             0   \n",
       "1               0               0               0             0             0   \n",
       "2               0               0               0             0             0   \n",
       "3               0               0               0             0             0   \n",
       "4               0               0               0             0             0   \n",
       "\n",
       "   SaleType_WD  Street_Grvl  Street_Pave  Utilities_AllPub  Utilities_NoSeWa  \n",
       "0            1            0            1                 1                 0  \n",
       "1            1            0            1                 1                 0  \n",
       "2            1            0            1                 1                 0  \n",
       "3            1            0            1                 1                 0  \n",
       "4            1            0            1                 1                 0  \n",
       "\n",
       "[5 rows x 304 columns]"
      ]
     },
     "execution_count": 137,
     "metadata": {},
     "output_type": "execute_result"
    }
   ],
   "source": [
    "all_dummy_df.head()"
   ]
  },
  {
   "cell_type": "code",
   "execution_count": 7,
   "metadata": {
    "collapsed": true
   },
   "outputs": [],
   "source": [
    "train = all_dummy_df[:1460]\n",
    "test = all_dummy_df[1460:]"
   ]
  },
  {
   "cell_type": "code",
   "execution_count": 8,
   "metadata": {
    "collapsed": true
   },
   "outputs": [],
   "source": [
    "X = train.as_matrix()\n",
    "test_np = test.as_matrix()"
   ]
  },
  {
   "cell_type": "code",
   "execution_count": 95,
   "metadata": {},
   "outputs": [
    {
     "data": {
      "text/plain": [
       "({}, -0.016960819333829265)"
      ]
     },
     "execution_count": 95,
     "metadata": {},
     "output_type": "execute_result"
    }
   ],
   "source": [
    "#xgboost模型\n",
    "param_test4 = {\n",
    "#     'n_estimators':[400,500,1000,1500,2000,3000,3500]\n",
    "#     'n_estimators':[350,400,450,500,800],\n",
    "#     'max_depth':list(range(1,10,2)),\n",
    "#     'min_child_weight':list(range(1,6,2)),\n",
    "#     'max_depth':[3,4,5,6],\n",
    "#     'min_child_weight':[2,3,4],\n",
    "#     'reg_alpha':[0.01,0.1, 0.5, 1],\n",
    "#     'gamma':[0.0,0.1,0.2]\n",
    "#     'subsample':[i/10.0 for i in range(6,10)],\n",
    "#     'colsample_bytree':[i/10.0 for i in range(6,10)]\n",
    "    #'subsample':[0.85,0.9,0.95],\n",
    "    #'colsample_bytree':[0.75,0.8,0.85]\n",
    "}\n",
    "gsearch1 = GridSearchCV(estimator = XGBRegressor( learning_rate =0.01, n_estimators=800, max_depth=3,reg_alpha=0.01,\n",
    "                                        min_child_weight=5, gamma=0.0, subsample=0.9, colsample_bytree=0.6,\n",
    "                                        objective= 'reg:linear', nthread=1, scale_pos_weight=1, seed=27), \n",
    "                       param_grid = param_test4, scoring='neg_mean_squared_error',n_jobs=1,iid=False, cv=5)\n",
    "gsearch1.fit(X,y)\n",
    "\n",
    "gsearch1.best_params_, gsearch1.best_score_"
   ]
  },
  {
   "cell_type": "code",
   "execution_count": 108,
   "metadata": {
    "collapsed": true
   },
   "outputs": [],
   "source": [
    "gsearch1.best_estimator_.fit(X, y)\n",
    "y_xgb = gsearch1.best_estimator_.predict(test_np)\n",
    "train_xgb = gsearch1.best_estimator_.predict(X)"
   ]
  },
  {
   "cell_type": "code",
   "execution_count": 21,
   "metadata": {},
   "outputs": [
    {
     "data": {
      "text/plain": [
       "({'C': 1.5, 'kernel': 'rbf'}, -0.016960819333829265)"
      ]
     },
     "execution_count": 21,
     "metadata": {},
     "output_type": "execute_result"
    }
   ],
   "source": [
    "#svr模型\n",
    "svr_clf = SVR(kernel='rbf', C=1.0)\n",
    "param_test4 = {\n",
    "    'C':[0.5,1,1.5,2],\n",
    "    'kernel':['rbf','sigmoid','poly','linear']\n",
    "}\n",
    "gsearch_svr = GridSearchCV(estimator = svr_clf, \n",
    "                       param_grid = param_test4, scoring='neg_mean_squared_error',n_jobs=1,iid=False, cv=5)\n",
    "gsearch_svr.fit(X,y)\n",
    "\n",
    "gsearch_svr.best_params_, gsearch_svr.best_score_"
   ]
  },
  {
   "cell_type": "code",
   "execution_count": 109,
   "metadata": {
    "collapsed": true
   },
   "outputs": [],
   "source": [
    "gsearch_svr.best_estimator_.fit(X, y)\n",
    "y_svr = gsearch_svr.best_estimator_.predict(test_np)\n",
    "train_svr = gsearch_svr.best_estimator_.predict(X)"
   ]
  },
  {
   "cell_type": "code",
   "execution_count": 110,
   "metadata": {},
   "outputs": [
    {
     "data": {
      "text/plain": [
       "({}, -0.020028931327878054)"
      ]
     },
     "execution_count": 110,
     "metadata": {},
     "output_type": "execute_result"
    }
   ],
   "source": [
    "clf = Ridge(alpha=15)\n",
    "param_test4 = {\n",
    "#     'n_estimators':[8,10,12,15,20,25],\n",
    "#     'max_samples':[i/10.0 for i in range(1,10)],\n",
    "#     'max_features':[i/10.0 for i in range(2,9)]\n",
    "}\n",
    "gsearch1 = GridSearchCV(BaggingRegressor(clf, n_estimators=20, max_samples=0.8, max_features=0.7,\\\n",
    "                                          bootstrap=True, bootstrap_features=False, n_jobs=1), \n",
    "                       param_grid = param_test4, scoring='neg_mean_squared_error',n_jobs=1,iid=False, cv=5)\n",
    "gsearch1.fit(X,y)\n",
    "\n",
    "gsearch1.best_params_, gsearch1.best_score_"
   ]
  },
  {
   "cell_type": "code",
   "execution_count": 111,
   "metadata": {
    "collapsed": true
   },
   "outputs": [],
   "source": [
    "gsearch1.best_estimator_.fit(X, y)\n",
    "y_ridge = gsearch1.best_estimator_.predict(test_np)\n",
    "train_ridge = gsearch1.best_estimator_.predict(X)"
   ]
  },
  {
   "cell_type": "code",
   "execution_count": 112,
   "metadata": {},
   "outputs": [
    {
     "data": {
      "text/plain": [
       "({}, -0.01910783704551449)"
      ]
     },
     "execution_count": 112,
     "metadata": {},
     "output_type": "execute_result"
    }
   ],
   "source": [
    "clf = RandomForestRegressor(n_estimators=450, max_features=.3)\n",
    "param_test4 = {\n",
    "#     'n_estimators':[350,400,450,500,800],\n",
    "#     'max_features':[i/10.0 for i in range(2,9)]\n",
    "}\n",
    "gsearch1 = GridSearchCV(estimator = clf, \n",
    "                       param_grid = param_test4, scoring='neg_mean_squared_error',n_jobs=1,iid=False, cv=5)\n",
    "gsearch1.fit(X,y)\n",
    "\n",
    "gsearch1.best_params_, gsearch1.best_score_"
   ]
  },
  {
   "cell_type": "code",
   "execution_count": 113,
   "metadata": {
    "collapsed": true
   },
   "outputs": [],
   "source": [
    "gsearch1.best_estimator_.fit(X, y)\n",
    "y_rf = gsearch1.best_estimator_.predict(test_np)\n",
    "train_rf = gsearch1.best_estimator_.predict(X)"
   ]
  },
  {
   "cell_type": "code",
   "execution_count": 72,
   "metadata": {},
   "outputs": [],
   "source": [
    "class LossHistory(keras.callbacks.Callback):\n",
    "    def on_train_begin(self, logs={}):\n",
    "        self.losses = []\n",
    "\n",
    "    def on_batch_end(self, batch, logs={}):\n",
    "        self.losses.append(logs.get('loss'))\n",
    "\n",
    "model = Sequential()\n",
    "model.add(Dense(100, input_shape=(X.shape[1],)))\n",
    "model.add(Activation('relu'))\n",
    "model.add(Dense(30))\n",
    "model.add(Activation('relu'))\n",
    "model.add(Dense(1))\n",
    "\n",
    "model.compile(optimizer='adam',\n",
    "              loss='mean_squared_error')\n",
    "          "
   ]
  },
  {
   "cell_type": "code",
   "execution_count": 75,
   "metadata": {},
   "outputs": [
    {
     "name": "stdout",
     "output_type": "stream",
     "text": [
      "Epoch 1/5\n",
      " 928/1460 [==================>...........] - ETA: 0s - loss: 0.0980"
     ]
    },
    {
     "name": "stderr",
     "output_type": "stream",
     "text": [
      "D:\\ANACONDA\\lib\\site-packages\\keras\\models.py:848: UserWarning: The `nb_epoch` argument in `fit` has been renamed `epochs`.\n",
      "  warnings.warn('The `nb_epoch` argument in `fit` '\n"
     ]
    },
    {
     "name": "stdout",
     "output_type": "stream",
     "text": [
      "1460/1460 [==============================] - 0s - loss: 0.0986     \n",
      "Epoch 2/5\n",
      "1460/1460 [==============================] - 0s - loss: 0.0793     \n",
      "Epoch 3/5\n",
      "1460/1460 [==============================] - 0s - loss: 0.0657     \n",
      "Epoch 4/5\n",
      "1460/1460 [==============================] - 0s - loss: 0.0561     \n",
      "Epoch 5/5\n",
      "1460/1460 [==============================] - 0s - loss: 0.0499     \n"
     ]
    },
    {
     "data": {
      "text/plain": [
       "<keras.callbacks.History at 0xd506567ba8>"
      ]
     },
     "execution_count": 75,
     "metadata": {},
     "output_type": "execute_result"
    }
   ],
   "source": [
    "history = LossHistory()\n",
    "model.fit(X, y, batch_size=32, nb_epoch=5, verbose=1, callbacks=[history])"
   ]
  },
  {
   "cell_type": "code",
   "execution_count": 77,
   "metadata": {
    "collapsed": true
   },
   "outputs": [
    {
     "data": {
      "image/png": "[encoded data removed]",
      "text/plain": [
       "<matplotlib.figure.Figure at 0xd50672c828>"
      ]
     },
     "metadata": {},
     "output_type": "display_data"
    }
   ],
   "source": [
    "losses = np.array(history.losses)\n",
    "a = losses.shape[0]\n",
    "\n",
    "plt.title('loss')  \n",
    "plt.xlabel('epoch')  \n",
    "plt.ylabel('loss')  \n",
    "  \n",
    "plt.plot(np.arange(a), losses,'-', linewidth=2)  \n",
    "plt.show()"
   ]
  },
  {
   "cell_type": "code",
   "execution_count": 81,
   "metadata": {},
   "outputs": [],
   "source": [
    "y_nn = model.predict(test_np)\n",
    "##y_nn过拟合了，下次再搞一下"
   ]
  },
  {
   "cell_type": "code",
   "execution_count": 82,
   "metadata": {},
   "outputs": [
    {
     "name": "stdout",
     "output_type": "stream",
     "text": [
      "[ 0.1258667   0.15236459  0.14509219  0.12692486  0.13897156]\n"
     ]
    }
   ],
   "source": [
    "print(np.sqrt(-cross_val_score(gsearch1.best_estimator_, X, y, cv=5, scoring='neg_mean_squared_error')))"
   ]
  },
  {
   "cell_type": "code",
   "execution_count": 97,
   "metadata": {
    "collapsed": true
   },
   "outputs": [],
   "source": [
    "'''\n",
    "ensemble 模型\n",
    "'''\n",
    "\n",
    "predict_test = (np.expm1(y_xgb) + np.expm1(y_ridge) + np.expm1(y_rf) + np.expm1(y_svr) )/4"
   ]
  },
  {
   "cell_type": "markdown",
   "metadata": {},
   "source": [
    "### 用上述模型的输出作为输入"
   ]
  },
  {
   "cell_type": "code",
   "execution_count": 129,
   "metadata": {},
   "outputs": [
    {
     "data": {
      "text/plain": [
       "SVR(C=1.0, cache_size=200, coef0=0.0, degree=3, epsilon=0.1, gamma='auto',\n",
       "  kernel='linear', max_iter=-1, shrinking=True, tol=0.001, verbose=False)"
      ]
     },
     "execution_count": 129,
     "metadata": {},
     "output_type": "execute_result"
    }
   ],
   "source": [
    "new_X = np.concatenate((train_xgb.reshape(-1,1), train_ridge.reshape(-1,1),train_rf.reshape(-1,1), train_svr.reshape(-1,1)), axis = 1)\n",
    "\n",
    "from sklearn.linear_model import LinearRegression\n",
    "\n",
    "clf = SVR(kernel='linear')\n",
    "clf.fit(new_X, y)"
   ]
  },
  {
   "cell_type": "code",
   "execution_count": 130,
   "metadata": {},
   "outputs": [
    {
     "data": {
      "text/plain": [
       "0.98972543339222274"
      ]
     },
     "execution_count": 130,
     "metadata": {},
     "output_type": "execute_result"
    }
   ],
   "source": [
    "clf.score(new_X,y)"
   ]
  },
  {
   "cell_type": "code",
   "execution_count": 131,
   "metadata": {
    "collapsed": true
   },
   "outputs": [],
   "source": [
    "new_test_X = np.concatenate((y_xgb.reshape(-1,1), y_ridge.reshape(-1,1),y_rf.reshape(-1,1), y_svr.reshape(-1,1)), axis = 1)\n",
    "predict_test = np.expm1(clf.predict(new_test_X))"
   ]
  },
  {
   "cell_type": "code",
   "execution_count": 132,
   "metadata": {},
   "outputs": [],
   "source": [
    "test_df = pd.read_csv('data/test.csv')\n",
    "result = pd.DataFrame({'Id':test_df['Id'].as_matrix(), 'SalePrice':predict_test})\n",
    "#写成标准的数据上传格式\n",
    "result.to_csv(\"pred_label/ensemble.csv\", index=False)  #"
   ]
  },
  {
   "cell_type": "code",
   "execution_count": 133,
   "metadata": {
    "collapsed": true
   },
   "outputs": [
    {
     "data": {
      "text/html": [
       "<div>\n",
       "<style>\n",
       "    .dataframe thead tr:only-child th {\n",
       "        text-align: right;\n",
       "    }\n",
       "\n",
       "    .dataframe thead th {\n",
       "        text-align: left;\n",
       "    }\n",
       "\n",
       "    .dataframe tbody tr th {\n",
       "        vertical-align: top;\n",
       "    }\n",
       "</style>\n",
       "<table border=\"1\" class=\"dataframe\">\n",
       "  <thead>\n",
       "    <tr style=\"text-align: right;\">\n",
       "      <th></th>\n",
       "      <th>Id</th>\n",
       "      <th>SalePrice</th>\n",
       "    </tr>\n",
       "  </thead>\n",
       "  <tbody>\n",
       "    <tr>\n",
       "      <th>0</th>\n",
       "      <td>1461</td>\n",
       "      <td>123559.552693</td>\n",
       "    </tr>\n",
       "    <tr>\n",
       "      <th>1</th>\n",
       "      <td>1462</td>\n",
       "      <td>151256.230556</td>\n",
       "    </tr>\n",
       "    <tr>\n",
       "      <th>2</th>\n",
       "      <td>1463</td>\n",
       "      <td>178196.651032</td>\n",
       "    </tr>\n",
       "    <tr>\n",
       "      <th>3</th>\n",
       "      <td>1464</td>\n",
       "      <td>180129.969340</td>\n",
       "    </tr>\n",
       "    <tr>\n",
       "      <th>4</th>\n",
       "      <td>1465</td>\n",
       "      <td>192945.797767</td>\n",
       "    </tr>\n",
       "    <tr>\n",
       "      <th>5</th>\n",
       "      <td>1466</td>\n",
       "      <td>188810.916026</td>\n",
       "    </tr>\n",
       "    <tr>\n",
       "      <th>6</th>\n",
       "      <td>1467</td>\n",
       "      <td>167094.682606</td>\n",
       "    </tr>\n",
       "    <tr>\n",
       "      <th>7</th>\n",
       "      <td>1468</td>\n",
       "      <td>180292.608756</td>\n",
       "    </tr>\n",
       "    <tr>\n",
       "      <th>8</th>\n",
       "      <td>1469</td>\n",
       "      <td>177920.908115</td>\n",
       "    </tr>\n",
       "    <tr>\n",
       "      <th>9</th>\n",
       "      <td>1470</td>\n",
       "      <td>121106.629471</td>\n",
       "    </tr>\n",
       "    <tr>\n",
       "      <th>10</th>\n",
       "      <td>1471</td>\n",
       "      <td>209025.042522</td>\n",
       "    </tr>\n",
       "    <tr>\n",
       "      <th>11</th>\n",
       "      <td>1472</td>\n",
       "      <td>88093.854663</td>\n",
       "    </tr>\n",
       "    <tr>\n",
       "      <th>12</th>\n",
       "      <td>1473</td>\n",
       "      <td>94479.001040</td>\n",
       "    </tr>\n",
       "    <tr>\n",
       "      <th>13</th>\n",
       "      <td>1474</td>\n",
       "      <td>151778.758022</td>\n",
       "    </tr>\n",
       "    <tr>\n",
       "      <th>14</th>\n",
       "      <td>1475</td>\n",
       "      <td>125339.118248</td>\n",
       "    </tr>\n",
       "    <tr>\n",
       "      <th>15</th>\n",
       "      <td>1476</td>\n",
       "      <td>391392.678885</td>\n",
       "    </tr>\n",
       "    <tr>\n",
       "      <th>16</th>\n",
       "      <td>1477</td>\n",
       "      <td>258621.699822</td>\n",
       "    </tr>\n",
       "    <tr>\n",
       "      <th>17</th>\n",
       "      <td>1478</td>\n",
       "      <td>318466.713472</td>\n",
       "    </tr>\n",
       "    <tr>\n",
       "      <th>18</th>\n",
       "      <td>1479</td>\n",
       "      <td>271339.823891</td>\n",
       "    </tr>\n",
       "    <tr>\n",
       "      <th>19</th>\n",
       "      <td>1480</td>\n",
       "      <td>495150.332900</td>\n",
       "    </tr>\n",
       "    <tr>\n",
       "      <th>20</th>\n",
       "      <td>1481</td>\n",
       "      <td>319176.288007</td>\n",
       "    </tr>\n",
       "    <tr>\n",
       "      <th>21</th>\n",
       "      <td>1482</td>\n",
       "      <td>205619.666390</td>\n",
       "    </tr>\n",
       "    <tr>\n",
       "      <th>22</th>\n",
       "      <td>1483</td>\n",
       "      <td>187199.292063</td>\n",
       "    </tr>\n",
       "    <tr>\n",
       "      <th>23</th>\n",
       "      <td>1484</td>\n",
       "      <td>171164.646873</td>\n",
       "    </tr>\n",
       "    <tr>\n",
       "      <th>24</th>\n",
       "      <td>1485</td>\n",
       "      <td>168799.575602</td>\n",
       "    </tr>\n",
       "    <tr>\n",
       "      <th>25</th>\n",
       "      <td>1486</td>\n",
       "      <td>201875.003324</td>\n",
       "    </tr>\n",
       "    <tr>\n",
       "      <th>26</th>\n",
       "      <td>1487</td>\n",
       "      <td>321770.956886</td>\n",
       "    </tr>\n",
       "    <tr>\n",
       "      <th>27</th>\n",
       "      <td>1488</td>\n",
       "      <td>232597.710838</td>\n",
       "    </tr>\n",
       "    <tr>\n",
       "      <th>28</th>\n",
       "      <td>1489</td>\n",
       "      <td>218901.808314</td>\n",
       "    </tr>\n",
       "    <tr>\n",
       "      <th>29</th>\n",
       "      <td>1490</td>\n",
       "      <td>200470.635468</td>\n",
       "    </tr>\n",
       "    <tr>\n",
       "      <th>...</th>\n",
       "      <td>...</td>\n",
       "      <td>...</td>\n",
       "    </tr>\n",
       "    <tr>\n",
       "      <th>1429</th>\n",
       "      <td>2890</td>\n",
       "      <td>82134.960063</td>\n",
       "    </tr>\n",
       "    <tr>\n",
       "      <th>1430</th>\n",
       "      <td>2891</td>\n",
       "      <td>135896.976381</td>\n",
       "    </tr>\n",
       "    <tr>\n",
       "      <th>1431</th>\n",
       "      <td>2892</td>\n",
       "      <td>54538.217639</td>\n",
       "    </tr>\n",
       "    <tr>\n",
       "      <th>1432</th>\n",
       "      <td>2893</td>\n",
       "      <td>104690.775833</td>\n",
       "    </tr>\n",
       "    <tr>\n",
       "      <th>1433</th>\n",
       "      <td>2894</td>\n",
       "      <td>59261.959601</td>\n",
       "    </tr>\n",
       "    <tr>\n",
       "      <th>1434</th>\n",
       "      <td>2895</td>\n",
       "      <td>325930.288884</td>\n",
       "    </tr>\n",
       "    <tr>\n",
       "      <th>1435</th>\n",
       "      <td>2896</td>\n",
       "      <td>307069.541881</td>\n",
       "    </tr>\n",
       "    <tr>\n",
       "      <th>1436</th>\n",
       "      <td>2897</td>\n",
       "      <td>195346.878852</td>\n",
       "    </tr>\n",
       "    <tr>\n",
       "      <th>1437</th>\n",
       "      <td>2898</td>\n",
       "      <td>141163.819767</td>\n",
       "    </tr>\n",
       "    <tr>\n",
       "      <th>1438</th>\n",
       "      <td>2899</td>\n",
       "      <td>235056.677825</td>\n",
       "    </tr>\n",
       "    <tr>\n",
       "      <th>1439</th>\n",
       "      <td>2900</td>\n",
       "      <td>157013.808972</td>\n",
       "    </tr>\n",
       "    <tr>\n",
       "      <th>1440</th>\n",
       "      <td>2901</td>\n",
       "      <td>193059.242385</td>\n",
       "    </tr>\n",
       "    <tr>\n",
       "      <th>1441</th>\n",
       "      <td>2902</td>\n",
       "      <td>195599.581021</td>\n",
       "    </tr>\n",
       "    <tr>\n",
       "      <th>1442</th>\n",
       "      <td>2903</td>\n",
       "      <td>365650.708909</td>\n",
       "    </tr>\n",
       "    <tr>\n",
       "      <th>1443</th>\n",
       "      <td>2904</td>\n",
       "      <td>351938.627911</td>\n",
       "    </tr>\n",
       "    <tr>\n",
       "      <th>1444</th>\n",
       "      <td>2905</td>\n",
       "      <td>113879.135932</td>\n",
       "    </tr>\n",
       "    <tr>\n",
       "      <th>1445</th>\n",
       "      <td>2906</td>\n",
       "      <td>199001.124897</td>\n",
       "    </tr>\n",
       "    <tr>\n",
       "      <th>1446</th>\n",
       "      <td>2907</td>\n",
       "      <td>108664.846305</td>\n",
       "    </tr>\n",
       "    <tr>\n",
       "      <th>1447</th>\n",
       "      <td>2908</td>\n",
       "      <td>120939.352639</td>\n",
       "    </tr>\n",
       "    <tr>\n",
       "      <th>1448</th>\n",
       "      <td>2909</td>\n",
       "      <td>137959.024342</td>\n",
       "    </tr>\n",
       "    <tr>\n",
       "      <th>1449</th>\n",
       "      <td>2910</td>\n",
       "      <td>79480.756663</td>\n",
       "    </tr>\n",
       "    <tr>\n",
       "      <th>1450</th>\n",
       "      <td>2911</td>\n",
       "      <td>80415.715226</td>\n",
       "    </tr>\n",
       "    <tr>\n",
       "      <th>1451</th>\n",
       "      <td>2912</td>\n",
       "      <td>151101.084047</td>\n",
       "    </tr>\n",
       "    <tr>\n",
       "      <th>1452</th>\n",
       "      <td>2913</td>\n",
       "      <td>83894.916646</td>\n",
       "    </tr>\n",
       "    <tr>\n",
       "      <th>1453</th>\n",
       "      <td>2914</td>\n",
       "      <td>81559.547558</td>\n",
       "    </tr>\n",
       "    <tr>\n",
       "      <th>1454</th>\n",
       "      <td>2915</td>\n",
       "      <td>81351.173060</td>\n",
       "    </tr>\n",
       "    <tr>\n",
       "      <th>1455</th>\n",
       "      <td>2916</td>\n",
       "      <td>80894.097733</td>\n",
       "    </tr>\n",
       "    <tr>\n",
       "      <th>1456</th>\n",
       "      <td>2917</td>\n",
       "      <td>147291.835260</td>\n",
       "    </tr>\n",
       "    <tr>\n",
       "      <th>1457</th>\n",
       "      <td>2918</td>\n",
       "      <td>102626.419937</td>\n",
       "    </tr>\n",
       "    <tr>\n",
       "      <th>1458</th>\n",
       "      <td>2919</td>\n",
       "      <td>236657.855607</td>\n",
       "    </tr>\n",
       "  </tbody>\n",
       "</table>\n",
       "<p>1459 rows × 2 columns</p>\n",
       "</div>"
      ],
      "text/plain": [
       "        Id      SalePrice\n",
       "0     1461  123559.552693\n",
       "1     1462  151256.230556\n",
       "2     1463  178196.651032\n",
       "3     1464  180129.969340\n",
       "4     1465  192945.797767\n",
       "5     1466  188810.916026\n",
       "6     1467  167094.682606\n",
       "7     1468  180292.608756\n",
       "8     1469  177920.908115\n",
       "9     1470  121106.629471\n",
       "10    1471  209025.042522\n",
       "11    1472   88093.854663\n",
       "12    1473   94479.001040\n",
       "13    1474  151778.758022\n",
       "14    1475  125339.118248\n",
       "15    1476  391392.678885\n",
       "16    1477  258621.699822\n",
       "17    1478  318466.713472\n",
       "18    1479  271339.823891\n",
       "19    1480  495150.332900\n",
       "20    1481  319176.288007\n",
       "21    1482  205619.666390\n",
       "22    1483  187199.292063\n",
       "23    1484  171164.646873\n",
       "24    1485  168799.575602\n",
       "25    1486  201875.003324\n",
       "26    1487  321770.956886\n",
       "27    1488  232597.710838\n",
       "28    1489  218901.808314\n",
       "29    1490  200470.635468\n",
       "...    ...            ...\n",
       "1429  2890   82134.960063\n",
       "1430  2891  135896.976381\n",
       "1431  2892   54538.217639\n",
       "1432  2893  104690.775833\n",
       "1433  2894   59261.959601\n",
       "1434  2895  325930.288884\n",
       "1435  2896  307069.541881\n",
       "1436  2897  195346.878852\n",
       "1437  2898  141163.819767\n",
       "1438  2899  235056.677825\n",
       "1439  2900  157013.808972\n",
       "1440  2901  193059.242385\n",
       "1441  2902  195599.581021\n",
       "1442  2903  365650.708909\n",
       "1443  2904  351938.627911\n",
       "1444  2905  113879.135932\n",
       "1445  2906  199001.124897\n",
       "1446  2907  108664.846305\n",
       "1447  2908  120939.352639\n",
       "1448  2909  137959.024342\n",
       "1449  2910   79480.756663\n",
       "1450  2911   80415.715226\n",
       "1451  2912  151101.084047\n",
       "1452  2913   83894.916646\n",
       "1453  2914   81559.547558\n",
       "1454  2915   81351.173060\n",
       "1455  2916   80894.097733\n",
       "1456  2917  147291.835260\n",
       "1457  2918  102626.419937\n",
       "1458  2919  236657.855607\n",
       "\n",
       "[1459 rows x 2 columns]"
      ]
     },
     "execution_count": 133,
     "metadata": {},
     "output_type": "execute_result"
    }
   ],
   "source": [
    "result"
   ]
  },
  {
   "cell_type": "code",
   "execution_count": null,
   "metadata": {
    "collapsed": true
   },
   "outputs": [],
   "source": []
  }
 ],
 "metadata": {
  "kernelspec": {
   "display_name": "Python 3",
   "language": "python",
   "name": "python3"
  },
  "language_info": {
   "codemirror_mode": {
    "name": "ipython",
    "version": 3
   },
   "file_extension": ".py",
   "mimetype": "text/x-python",
   "name": "python",
   "nbconvert_exporter": "python",
   "pygments_lexer": "ipython3",
   "version": "3.6.3"
  }
 },
 "nbformat": 4,
 "nbformat_minor": 2
}
