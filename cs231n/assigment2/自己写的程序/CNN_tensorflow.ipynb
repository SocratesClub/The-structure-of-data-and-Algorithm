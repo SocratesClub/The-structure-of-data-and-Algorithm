{
 "cells": [
  {
   "cell_type": "code",
   "execution_count": 112,
   "metadata": {
    "collapsed": true
   },
   "outputs": [],
   "source": [
    "'''\n",
    "和吴恩达老师不同，这里的数据是行向量的，即每列表示对应的特征，行表示由多少个数据\n",
    "'''\n",
    "import numpy as np\n",
    "import matplotlib.pyplot as plt\n",
    "import tensorflow as tf\n",
    "from tensorflow.python.framework import ops\n",
    "import h5py"
   ]
  },
  {
   "cell_type": "code",
   "execution_count": 2,
   "metadata": {
    "collapsed": true
   },
   "outputs": [],
   "source": [
    "def unpickle(filename):  #解pickle数据\n",
    "    import pickle\n",
    "    with open(filename, 'rb') as f:\n",
    "        dataSet = pickle.load(f, encoding = 'bytes')\n",
    "    return dataSet\n",
    "\n",
    "def splitData(dataSet):\n",
    "    trainSet = dataSet[b'data']\n",
    "    trainLabel = dataSet[b'labels']\n",
    "    return trainSet, np.mat(trainLabel).T\n",
    "\n",
    "def visualSomeImage(trainSet, trainLabel, labelNames):  #可视化部分图形\n",
    "    trainLabel = np.array(trainLabel)\n",
    "    numClass = len(labelNames)\n",
    "    sample_per_class = 7   #在一张图片里可视化7x10\n",
    "    for y, cls in enumerate(labelNames):\n",
    "        idxs = np.flatnonzero(trainLabel == y)\n",
    "        idxs = np.random.choice(idxs, sample_per_class, replace = False)\n",
    "        for i, idx in enumerate(idxs):\n",
    "            plt_idx = i * numClass + y + 1\n",
    "            plt.subplot(sample_per_class, numClass, plt_idx)\n",
    "            image = trainSet[idx].reshape(3, 32, 32).transpose(1, 2, 0).astype('float')\n",
    "            plt.imshow(image.astype('uint8'))\n",
    "            plt.axis('off')\n",
    "            if i == 0:\n",
    "                plt.title(cls)\n",
    "    plt.show()\n",
    "                \n",
    "\n",
    "def get_All_Data():  #加载图片数据集，并且划分为训练集和测试集（首先并没有划分dev集）\n",
    "    trainFile1 = r'F:\\数据集\\斯坦福大学数据集\\cifar-10-python\\cifar-10-batches-py\\data_batch_1'  #其中之一的训练集\n",
    "    trainFile2 = r'F:\\数据集\\斯坦福大学数据集\\cifar-10-python\\cifar-10-batches-py\\data_batch_2'  #其中之一的训练集\n",
    "    trainFile3 = r'F:\\数据集\\斯坦福大学数据集\\cifar-10-python\\cifar-10-batches-py\\data_batch_3'  #其中之一的训练集\n",
    "    trainFile4 = r'F:\\数据集\\斯坦福大学数据集\\cifar-10-python\\cifar-10-batches-py\\data_batch_4'  #其中之一的训练集\n",
    "    trainFile5 = r'F:\\数据集\\斯坦福大学数据集\\cifar-10-python\\cifar-10-batches-py\\data_batch_5'  #其中之一的训练集\n",
    "    labelFile = r'F:\\数据集\\斯坦福大学数据集\\cifar-10-python\\cifar-10-batches-py\\batches.meta'  #返回的的是下标的英文名字\n",
    "    testFile = r'F:\\数据集\\斯坦福大学数据集\\cifar-10-python\\cifar-10-batches-py\\test_batch'  #测试集合\n",
    "\n",
    "    dataSet = unpickle(trainFile1)  #首先使用的是一个数据集，看看效果\n",
    "    trainSet1, trainLabel1 = splitData(dataSet)   #训练集\n",
    "    dataSet = unpickle(trainFile2)  \n",
    "    trainSet2, trainLabel2 = splitData(dataSet)   #训练集\n",
    "    dataSet = unpickle(trainFile3)  \n",
    "    trainSet3, trainLabel3 = splitData(dataSet)   #训练集\n",
    "    dataSet = unpickle(trainFile4)  \n",
    "    trainSet4, trainLabel4 = splitData(dataSet)   #训练集\n",
    "    dataSet = unpickle(trainFile5)  \n",
    "    trainSet5, trainLabel5 = splitData(dataSet)   #训练集\n",
    "\n",
    "    trainSet = np.concatenate((trainSet1, trainSet2), axis = 0)\n",
    "    trainLabel = np.concatenate((trainLabel1, trainLabel2), axis = 0)\n",
    "    dataSet = unpickle(testFile)\n",
    "    testSet, testLabel = splitData(dataSet)  #测试集\n",
    "    \n",
    "    #随机选取1000张图片作测试，看准确度\n",
    "    '''\n",
    "    randIndex = np.random.permutation(10000)\n",
    "    shuffled_X = testAllSet[randIndex, :]\n",
    "    shuffled_Y = testAllLabel[randIndex, :]\n",
    "    testSet = shuffled_X[:1000, :]   #随机取1000个数据集作为测试\n",
    "    testLabel = shuffled_Y[:1000, :]\n",
    "    '''\n",
    "    label = unpickle(labelFile)  \n",
    "    labelNames = label[b'label_names'] #label的名字,例如'cat'\n",
    "    #visualSomeImage(trainSet, trainLabel, labelNames)  #可视化\n",
    "\n",
    "    #normlization\n",
    "    trainSet, testSet = trainSet.astype(float), testSet.astype(float)\n",
    "    mean_image = np.mean(trainSet, axis = 0)\n",
    "    trainSet -= np.mat(mean_image)\n",
    "    testSet -= mean_image\n",
    "\n",
    "    return trainSet1, trainLabel1, testSet, testLabel, labelNames\n",
    "    \n",
    "def miniBatch(trainSet, trainLabel,  batchSize = 256):  #将训练数据划分为minibatch，然后进行训练\n",
    "    m = trainSet.shape[0] #训练集的总数\n",
    "    mini_batches = []  #划分训练集存储的地方\n",
    "\n",
    "    #先打乱顺序，然后再mini-batch\n",
    "    randIndex = np.random.permutation(m)\n",
    "    shuffled_X = trainSet[randIndex, :]\n",
    "    shuffled_Y = trainLabel[randIndex, :]\n",
    "\n",
    "    num_complete_minibatches = int(m/batchSize)\n",
    "    for k in range(num_complete_minibatches):\n",
    "        minibatch_X = shuffled_X[k*batchSize : (k+1)*batchSize, :]\n",
    "        minibatch_Y = shuffled_Y[k*batchSize : (k+1)*batchSize, :]\n",
    "        minibatch = (minibatch_X, minibatch_Y)\n",
    "        mini_batches.append(minibatch)\n",
    "\n",
    "    if m % batchSize != 0:  #如果数据不是minibatch的整数倍，对剩下的单独处理\n",
    "        minibatch_X = shuffled_X[num_complete_minibatches*batchSize:, :]\n",
    "        minibatch_Y = shuffled_Y[num_complete_minibatches*batchSize:, :]\n",
    "        mini_batches.append((minibatch_X, minibatch_Y))\n",
    "\n",
    "    return mini_batches\n",
    "\n",
    "def convert_to_one_hot(Y, C):  #将标签变为数量乘以10（这里有10类）\n",
    "    Y = np.eye(C)[Y].T\n",
    "    return Y"
   ]
  },
  {
   "cell_type": "code",
   "execution_count": 152,
   "metadata": {
    "collapsed": true
   },
   "outputs": [],
   "source": [
    "def load_dataset():  #吴恩达老师的手势数据集\n",
    "    train_dataset = h5py.File(r'E:\\jupyter notebook\\finger_sign_dataSet\\train_signs.h5', \"r\")\n",
    "    train_set_x_orig = np.array(train_dataset[\"train_set_x\"][:]) # your train set features\n",
    "    train_set_y_orig = np.array(train_dataset[\"train_set_y\"][:]) # your train set labels\n",
    "\n",
    "    test_dataset = h5py.File(r'E:\\jupyter notebook\\finger_sign_dataSet\\test_signs.h5', \"r\")\n",
    "    test_set_x_orig = np.array(test_dataset[\"test_set_x\"][:]) # your test set features\n",
    "    test_set_y_orig = np.array(test_dataset[\"test_set_y\"][:]) # your test set labels\n",
    "\n",
    "    classes = np.array(test_dataset[\"list_classes\"][:]) # the list of classes\n",
    "    \n",
    "    train_set_y_orig = train_set_y_orig.reshape((1, train_set_y_orig.shape[0]))\n",
    "    test_set_y_orig = test_set_y_orig.reshape((1, test_set_y_orig.shape[0]))\n",
    "    \n",
    "    return train_set_x_orig, train_set_y_orig, test_set_x_orig, test_set_y_orig, classes\n"
   ]
  },
  {
   "cell_type": "code",
   "execution_count": 155,
   "metadata": {
    "collapsed": true
   },
   "outputs": [],
   "source": [
    "train_set_x_orig, train_set_y_orig, test_set_x_orig, test_set_y_orig, classes = load_dataset()\n",
    "trainSet, testSet = train_set_x_orig/255, test_set_x_orig/255\n",
    "train_set_y_orig = np.array(list(map(int, train_set_y_orig.reshape(-1, 1))))\n",
    "test_set_y_orig = np.array(list(map(int, test_set_y_orig.reshape(-1, 1))))\n",
    "trainLabel = convert_to_one_hot(train_set_y_orig, 6).T\n",
    "testLabel = convert_to_one_hot(test_set_y_orig, 6).T\n",
    "m = trainLabel.shape[0]"
   ]
  },
  {
   "cell_type": "code",
   "execution_count": 198,
   "metadata": {
    "collapsed": true
   },
   "outputs": [],
   "source": [
    "\n",
    "trainFile1 = r'F:\\数据集\\斯坦福大学数据集\\cifar-10-python\\cifar-10-batches-py\\data_batch_1'  #其中之一的训练集\n",
    "labelFile = r'F:\\数据集\\斯坦福大学数据集\\cifar-10-python\\cifar-10-batches-py\\batches.meta'  #返回的的是下标的英文名字\n",
    "\n",
    "dataSet = unpickle(trainFile1)  #首先使用的是一个数据集，看看效果\n",
    "trainSet, trainLabel = splitData(dataSet)   #训练集\n",
    "label = unpickle(labelFile)  \n",
    "labelNames = label[b'label_names'] #label的名字,例如'cat'\n",
    "\n",
    "testFile = r'F:\\数据集\\斯坦福大学数据集\\cifar-10-python\\cifar-10-batches-py\\test_batch'  #测试集合\n",
    "dataSet = unpickle(testFile)  #首先使用的是一个数据集，看看效果\n",
    "testSet, testLabel = splitData(dataSet)   #训练集\n",
    "m = trainSet.shape[0]\n",
    "\n",
    "trainSet = trainSet.reshape(m, 3, 32, 32).transpose(0, 2, 3, 1)/255  #将数据变为图片形式，然后输入训练,记住需要归一化\n",
    "trainLabel = np.array(list(map(int, trainLabel)))\n",
    "trainLabel = convert_to_one_hot(trainLabel, 10).T\n",
    "\n",
    "testSet = testSet.reshape(m, 3, 32, 32).transpose(0, 2, 3, 1)/255  #将数据变为图片形式，然后输入训练,记住需要归一化\n",
    "testLabel = np.array(list(map(int, testLabel)))\n",
    "testLabel = convert_to_one_hot(testLabel, 10).T"
   ]
  },
  {
   "cell_type": "code",
   "execution_count": 156,
   "metadata": {
    "collapsed": true
   },
   "outputs": [],
   "source": [
    "def create_placeholder(n_H, n_W, n_C, n_y):  #创建tensorflow的placeholder\n",
    "    X = tf.placeholder(tf.float32, [None, n_H, n_W, n_C])\n",
    "    Y = tf.placeholder(tf.float32, [None, n_y])\n",
    "    \n",
    "    return X, Y\n"
   ]
  },
  {
   "cell_type": "code",
   "execution_count": 201,
   "metadata": {
    "collapsed": true
   },
   "outputs": [],
   "source": [
    "\n",
    "def initialize_parameters():  #这里采用的是固定的filter，然后进行运算，我采用2层卷积网络\n",
    "    \"\"\"\n",
    "    W1 = [4, 4, 3, 8]\n",
    "    W2 = [2, 2, 8, 16]\n",
    "    W3 = [2, 2, 16, 32]\n",
    "    \"\"\"\n",
    "    W1 = tf.get_variable('W1', [4, 4, 3, 8], initializer = tf.contrib.layers.xavier_initializer(seed = 0))\n",
    "    W2 = tf.get_variable('W2', [2, 2, 8, 16], initializer = tf.contrib.layers.xavier_initializer(seed = 0))\n",
    "    W3 = tf.get_variable('W3', [2, 2, 16, 32], initializer = tf.contrib.layers.xavier_initializer(seed = 0))\n",
    "    \n",
    "    parameters = {'W1':W1,\n",
    "                 'W2':W2,\n",
    "                 'W3':W3}\n",
    "    \n",
    "    return parameters"
   ]
  },
  {
   "cell_type": "code",
   "execution_count": 202,
   "metadata": {
    "collapsed": true
   },
   "outputs": [],
   "source": [
    "def forward_propagation(X, parameters):  #前向传播\n",
    "    W1 = parameters['W1']\n",
    "    W2 = parameters['W2']\n",
    "    W3 = parameters['W3']\n",
    "    \n",
    "    Z1 = tf.nn.conv2d(X, W1, strides = (1, 1, 1, 1), padding = 'SAME')\n",
    "    A1 = tf.nn.relu(Z1)\n",
    "    P1 = tf.nn.max_pool(A1, ksize = (1, 4, 4, 1), strides = (1, 4, 4, 1), padding = 'SAME')\n",
    "    \n",
    "    Z2 = tf.nn.conv2d(P1, W2, strides = (1, 1, 1, 1), padding = 'SAME')\n",
    "    A2 = tf.nn.relu(Z2)\n",
    "    P2 = tf.nn.max_pool(A2, ksize = (1, 2, 2, 1), strides = (1, 2, 2, 1), padding = 'SAME')\n",
    "\n",
    "    Z3 = tf.nn.conv2d(P2, W3, strides = (1, 1, 1, 1), padding = 'SAME')\n",
    "    A3 = tf.nn.relu(Z3)\n",
    "    P3 = tf.nn.max_pool(A3, ksize = (1, 2, 2 ,1), strides = (1, 2, 2, 1), padding = 'SAME')\n",
    "\n",
    "    P3 = tf.contrib.layers.flatten(P3)\n",
    "    \n",
    "    Z4 = tf.contrib.layers.fully_connected(P3, 10, activation_fn = None)\n",
    "    \n",
    "    return Z4\n",
    "    "
   ]
  },
  {
   "cell_type": "code",
   "execution_count": 203,
   "metadata": {
    "collapsed": true
   },
   "outputs": [],
   "source": [
    "def compute_loss(Z4, Y):  #计算损失\n",
    "    loss = tf.reduce_mean(tf.nn.softmax_cross_entropy_with_logits(logits = Z4, labels = Y)) #x这里的Z4一定要是原始的，因为这里的函数有softmax\n",
    "    return loss"
   ]
  },
  {
   "cell_type": "code",
   "execution_count": 204,
   "metadata": {
    "collapsed": true
   },
   "outputs": [],
   "source": [
    "def model(trainSet, trainLabel, learning_rate = 0.009, num_epochs = 100, minibatch_size = 256):#融合模型\n",
    "    ops.reset_default_graph()  \n",
    "    \n",
    "    m, n_H, n_W, n_C = trainSet.shape\n",
    "    n_y = trainLabel.shape[1]\n",
    "    costs = []  #存储总的cost，来画图\n",
    "    \n",
    "    X, Y = create_placeholder(n_H, n_W, n_C, n_y)\n",
    "    \n",
    "    parameters = initialize_parameters()\n",
    "    \n",
    "    Z4 = forward_propagation(X, parameters)\n",
    "    loss = compute_loss(Z4, Y)\n",
    "    \n",
    "    optimizer = tf.train.AdamOptimizer(learning_rate = learning_rate).minimize(loss)\n",
    "    \n",
    "    init = tf.global_variables_initializer()\n",
    "    \n",
    "    with tf.Session() as sess:\n",
    "        sess.run(init)\n",
    "        for epoch in range(num_epochs):\n",
    "            minibatch_cost = 0\n",
    "            num_minibatches = int(m/minibatch_size)\n",
    "            minibatches = miniBatch(trainSet, trainLabel, batchSize = minibatch_size)\n",
    "            for minibatch in minibatches:\n",
    "                minibatch_X, minibatch_Y = minibatch\n",
    "                _ , temp_cost = sess.run([optimizer, loss], feed_dict={X: minibatch_X, Y: minibatch_Y})\n",
    "                \n",
    "                minibatch_cost += temp_cost/num_minibatches\n",
    "                \n",
    "            if epoch % 5 == 0:\n",
    "                print('after epoch %d, loss is %f' %(epoch, minibatch_cost))\n",
    "            if epoch % 1 == 0:\n",
    "                costs.append(minibatch_cost)\n",
    "        \n",
    "        # plot the cost\n",
    "        plt.plot(np.squeeze(costs))\n",
    "        plt.ylabel('cost')\n",
    "        plt.xlabel('iterations (per tens)')\n",
    "        plt.title(\"Learning rate =\" + str(learning_rate))\n",
    "        plt.show()\n",
    "\n",
    "        saver = tf.train.Saver()\n",
    "        save_path = saver.save(sess, 'E:/jupyter notebook/store_model/save_net.ckpt')\n",
    "        '''\n",
    "        predict_op = tf.argmax(Z4, 1)\n",
    "        correct_prediction = tf.equal(predict_op, tf.argmax(Y, 1))\n",
    "\n",
    "        # Calculate accuracy on the test set\n",
    "        accuracy = tf.reduce_mean(tf.cast(correct_prediction, \"float\"))\n",
    "        #print(accuracy)\n",
    "        train_accuracy = accuracy.eval({X: trainSet, Y: trainLabel})\n",
    "        print(\"Train Accuracy:\", train_accuracy)     \n",
    "        '''"
   ]
  },
  {
   "cell_type": "code",
   "execution_count": 205,
   "metadata": {},
   "outputs": [
    {
     "name": "stdout",
     "output_type": "stream",
     "text": [
      "after epoch 0, loss is 2.180498\n",
      "after epoch 5, loss is 1.610578\n",
      "after epoch 10, loss is 1.490229\n",
      "after epoch 15, loss is 1.407680\n",
      "after epoch 20, loss is 1.342103\n",
      "after epoch 25, loss is 1.287238\n",
      "after epoch 30, loss is 1.250521\n",
      "after epoch 35, loss is 1.206639\n",
      "after epoch 40, loss is 1.186369\n",
      "after epoch 45, loss is 1.149575\n",
      "after epoch 50, loss is 1.134303\n",
      "after epoch 55, loss is 1.102972\n",
      "after epoch 60, loss is 1.086617\n",
      "after epoch 65, loss is 1.066568\n",
      "after epoch 70, loss is 1.047632\n",
      "after epoch 75, loss is 1.040087\n",
      "after epoch 80, loss is 1.019918\n",
      "after epoch 85, loss is 1.006820\n",
      "after epoch 90, loss is 1.001028\n",
      "after epoch 95, loss is 0.988559\n"
     ]
    },
    {
     "data": {
      "image/png": "[encoded data removed]",
      "text/plain": [
       "<matplotlib.figure.Figure at 0xede81ff9e8>"
      ]
     },
     "metadata": {},
     "output_type": "display_data"
    }
   ],
   "source": [
    "model(trainSet, trainLabel, learning_rate = 0.001, num_epochs = 100, minibatch_size = 64)"
   ]
  },
  {
   "cell_type": "code",
   "execution_count": 194,
   "metadata": {
    "collapsed": true
   },
   "outputs": [],
   "source": [
    "def predSelf(testSet, testLabel = None):  #预测，存储之后的值进行预测\n",
    "    ops.reset_default_graph()\n",
    "    init = tf.global_variables_initializer()\n",
    "    with tf.Session() as sess:\n",
    "        sess.run(init)\n",
    "\n",
    "        parameters = initialize_parameters()\n",
    "        (m, n_H0, n_W0, n_C0) = testSet.shape  \n",
    "        n_y = testLabel.shape[1]                            \n",
    "        X, Y = tf.placeholder(tf.float32, [None,  n_H0, n_W0, n_C0]), tf.placeholder(tf.float32, [None, n_y])\n",
    "        Z4 = forward_propagation(X, parameters)\n",
    "\n",
    "        # Backpropagation: Define the tensorflow optimizer. Use an AdamOptimizer that minimizes the cost.\n",
    "        #optimizer = tf.train.AdamOptimizer(learning_rate = learning_rate).minimize(cost)\n",
    "\n",
    "        saver = tf.train.Saver()\n",
    "        saver.restore(sess, 'E:/jupyter notebook/store_model/save_net.ckpt')\n",
    "\n",
    "        predict_op = tf.argmax(Z4, 1)\n",
    "        correct_prediction = tf.equal(predict_op, tf.argmax(Y, 1))\n",
    "\n",
    "        # Calculate accuracy on the test set\n",
    "        accuracy = tf.reduce_mean(tf.cast(correct_prediction, \"float\"))\n",
    "        #print(accuracy)\n",
    "        train_accuracy = accuracy.eval({X: testSet, Y: testLabel})\n",
    "        print(\"Test Accuracy:\", train_accuracy)   "
   ]
  },
  {
   "cell_type": "code",
   "execution_count": 207,
   "metadata": {},
   "outputs": [
    {
     "name": "stdout",
     "output_type": "stream",
     "text": [
      "INFO:tensorflow:Restoring parameters from E:/jupyter notebook/store_model/save_net.ckpt\n",
      "Test Accuracy: 0.537\n"
     ]
    }
   ],
   "source": [
    "#testSet.shape\n",
    "#predSelf(trainSet, trainLabel)\n",
    "predSelf(testSet[:1000], testLabel[:1000])"
   ]
  },
  {
   "cell_type": "markdown",
   "metadata": {},
   "source": [
    "\n",
    "\n",
    "之前没有归一化，各种错误。。。梯度不下降了。。记住归一化的重要性\n",
    "\n"
   ]
  },
  {
   "cell_type": "code",
   "execution_count": 41,
   "metadata": {},
   "outputs": [
    {
     "name": "stdout",
     "output_type": "stream",
     "text": [
      "1.15411\n"
     ]
    }
   ],
   "source": [
    "tf.reset_default_graph()  #这个一定要，不然就会出现什么重复出现什么的\n",
    "with tf.Session() as sess:  #最好用这种情形吧，可以使用eval()\n",
    "    parameters = initialize_parameters()   #参数要在Init上面，不然未定义\n",
    "    X, Y = create_placeholder(32, 32, 3, 10)\n",
    "    Z3 = forward_propagation(X, parameters)\n",
    "    loss = compute_loss(Z3,Y)\n",
    "    init = tf.global_variables_initializer()\n",
    "    sess.run(init)\n",
    "    print(sess.run(loss, feed_dict = {X:np.random.randn(4, 32, 32, 3), Y:np.random.randn(4, 10)}))"
   ]
  }
 ],
 "metadata": {
  "kernelspec": {
   "display_name": "Python 3",
   "language": "python",
   "name": "python3"
  },
  "language_info": {
   "codemirror_mode": {
    "name": "ipython",
    "version": 3
   },
   "file_extension": ".py",
   "mimetype": "text/x-python",
   "name": "python",
   "nbconvert_exporter": "python",
   "pygments_lexer": "ipython3",
   "version": "3.6.3"
  }
 },
 "nbformat": 4,
 "nbformat_minor": 2
}
