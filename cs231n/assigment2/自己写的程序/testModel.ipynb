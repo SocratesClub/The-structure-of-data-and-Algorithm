{
 "cells": [
  {
   "cell_type": "code",
   "execution_count": 35,
   "metadata": {},
   "outputs": [],
   "source": [
    "import tensorflow as tf\n",
    "from keras.models import load_model\n",
    "import PIL\n",
    "from PIL import Image\n",
    "import matplotlib.pyplot as plt\n",
    "import numpy as np\n",
    "import os"
   ]
  },
  {
   "cell_type": "code",
   "execution_count": 7,
   "metadata": {
    "collapsed": true
   },
   "outputs": [],
   "source": [
    "#导入模型\n",
    "model = load_model(r'E:\\jupyter notebook\\store_model\\storeModel.h5')"
   ]
  },
  {
   "cell_type": "code",
   "execution_count": 36,
   "metadata": {
    "collapsed": true
   },
   "outputs": [],
   "source": [
    "#导入数据\n",
    "def load_dataset():\n",
    "    file = r'C:\\Users\\LL\\Desktop\\picture'\n",
    "    pathdir = os.listdir(file)\n",
    "    num_picture = len(pathdir) - 1\n",
    "    testSet = []\n",
    "    testLabel = np.array([0, 2, 3, 1, 5, 4, 4, 5])\n",
    "    for line in pathdir:\n",
    "        if line.split('.')[0].isdigit():\n",
    "            im = Image.open(file + '\\\\' + line)\n",
    "            im = im.resize((64, 64))\n",
    "            im_array = np.array(im)/255\n",
    "            testSet.append(im_array)\n",
    "    testSet = np.array(testSet)\n",
    "\n",
    "    return testSet, testLabel"
   ]
  },
  {
   "cell_type": "code",
   "execution_count": 37,
   "metadata": {},
   "outputs": [],
   "source": [
    "testSet, testLabel = load_dataset()"
   ]
  },
  {
   "cell_type": "code",
   "execution_count": 38,
   "metadata": {},
   "outputs": [],
   "source": [
    "result = model.predict(testSet)"
   ]
  },
  {
   "cell_type": "code",
   "execution_count": 42,
   "metadata": {},
   "outputs": [
    {
     "data": {
      "text/plain": [
       "0.5"
      ]
     },
     "execution_count": 42,
     "metadata": {},
     "output_type": "execute_result"
    }
   ],
   "source": [
    "np.sum(np.argmax(result, axis = 1) == testLabel)/len(testLabel)"
   ]
  },
  {
   "cell_type": "code",
   "execution_count": null,
   "metadata": {
    "collapsed": true
   },
   "outputs": [],
   "source": []
  }
 ],
 "metadata": {
  "kernelspec": {
   "display_name": "Python 3",
   "language": "python",
   "name": "python3"
  },
  "language_info": {
   "codemirror_mode": {
    "name": "ipython",
    "version": 3
   },
   "file_extension": ".py",
   "mimetype": "text/x-python",
   "name": "python",
   "nbconvert_exporter": "python",
   "pygments_lexer": "ipython3",
   "version": "3.6.3"
  }
 },
 "nbformat": 4,
 "nbformat_minor": 2
}
