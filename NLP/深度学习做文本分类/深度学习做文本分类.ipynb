{
 "cells": [
  {
   "cell_type": "code",
   "execution_count": 1,
   "metadata": {
    "collapsed": true
   },
   "outputs": [],
   "source": [
    "import jieba\n",
    "import pandas as pd\n",
    "df_technology = pd.read_csv(\"data/technology_news.csv\", encoding='utf-8')\n",
    "df_technology = df_technology.dropna()\n",
    "\n",
    "df_car = pd.read_csv(\"data/car_news.csv\", encoding='utf-8')\n",
    "df_car = df_car.dropna()\n",
    "\n",
    "df_entertainment = pd.read_csv(\"data/entertainment_news.csv\", encoding='utf-8')\n",
    "df_entertainment = df_entertainment.dropna()\n",
    "\n",
    "df_military = pd.read_csv(\"data/military_news.csv\", encoding='utf-8')\n",
    "df_military = df_military.dropna()\n",
    "\n",
    "df_sports = pd.read_csv(\"data/sports_news.csv\", encoding='utf-8')\n",
    "df_sports = df_sports.dropna()\n",
    "\n",
    "technology = df_technology.content.values.tolist()[1000:21000]\n",
    "car = df_car.content.values.tolist()[1000:21000]\n",
    "entertainment = df_entertainment.content.values.tolist()[:20000]\n",
    "military = df_military.content.values.tolist()[:20000]\n",
    "sports = df_sports.content.values.tolist()[:20000]"
   ]
  },
  {
   "cell_type": "markdown",
   "metadata": {},
   "source": [
    "### stopwords"
   ]
  },
  {
   "cell_type": "code",
   "execution_count": 2,
   "metadata": {
    "collapsed": true
   },
   "outputs": [],
   "source": [
    "stopwords=pd.read_csv(\"data/stopwords.txt\",index_col=False,quoting=3,sep=\"\\t\",names=['stopword'], encoding='utf-8')\n",
    "stopwords=stopwords['stopword'].values"
   ]
  },
  {
   "cell_type": "code",
   "execution_count": 3,
   "metadata": {},
   "outputs": [
    {
     "name": "stderr",
     "output_type": "stream",
     "text": [
      "Building prefix dict from the default dictionary ...\n",
      "Loading model from cache C:\\Users\\LL\\AppData\\Local\\Temp\\jieba.cache\n",
      "Loading model cost 1.058 seconds.\n",
      "Prefix dict has been built succesfully.\n"
     ]
    }
   ],
   "source": [
    "def preprocess_text(content_lines, sentences, category):\n",
    "    for line in content_lines:\n",
    "            segs=jieba.lcut(line)\n",
    "            segs = list(filter(lambda x:len(x)>1, segs))\n",
    "            segs = list(filter(lambda x:x not in stopwords, segs))\n",
    "            sentences.append((\" \".join(segs), category))\n",
    "\n",
    "#生成训练数据\n",
    "sentences = []\n",
    "\n",
    "preprocess_text(technology, sentences, 'technology')\n",
    "preprocess_text(car, sentences, 'car')\n",
    "preprocess_text(entertainment, sentences, 'entertainment')\n",
    "preprocess_text(military, sentences, 'military')\n",
    "preprocess_text(sports, sentences, 'sports')"
   ]
  },
  {
   "cell_type": "code",
   "execution_count": 5,
   "metadata": {
    "collapsed": true
   },
   "outputs": [],
   "source": [
    "from sklearn.model_selection import train_test_split\n",
    "x, y = zip(*sentences)\n",
    "train_data, test_data, train_target, test_target = train_test_split(x, y, random_state=1234)"
   ]
  },
  {
   "cell_type": "code",
   "execution_count": 61,
   "metadata": {},
   "outputs": [
    {
     "data": {
      "text/plain": [
       "[array([1, 2, 3, 2, 0, 0, 0, 0, 0, 0], dtype=int64),\n",
       " array([4, 5, 6, 0, 0, 0, 0, 0, 0, 0], dtype=int64),\n",
       " array([1, 2, 7, 0, 0, 0, 0, 0, 0, 0], dtype=int64),\n",
       " array([ 8,  9, 10,  0,  0,  0,  0,  0,  0,  0], dtype=int64)]"
      ]
     },
     "execution_count": 61,
     "metadata": {},
     "output_type": "execute_result"
    }
   ],
   "source": [
    "tmp = ['I am good am', 'you are here', 'I am glad', 'it is great']\n",
    "vocab_processor = learn.preprocessing.VocabularyProcessor(10, min_frequency=0)\n",
    "list(vocab_processor.fit_transform(tmp))"
   ]
  },
  {
   "cell_type": "code",
   "execution_count": 98,
   "metadata": {
    "collapsed": true
   },
   "outputs": [],
   "source": [
    "#文档最长长度\n",
    "MAX_DOCUMENT_LENGTH = 100\n",
    "#最小词频数\n",
    "MIN_WORD_FREQUENCE = 2\n",
    "#词嵌入的维度\n",
    "EMBEDDING_SIZE = 20\n",
    "#filter个数\n",
    "N_FILTERS = 10\n",
    "#感知野大小\n",
    "WINDOW_SIZE = 20\n",
    "#filter的形状\n",
    "FILTER_SHAPE1 = [WINDOW_SIZE, EMBEDDING_SIZE]\n",
    "FILTER_SHAPE2 = [WINDOW_SIZE, N_FILTERS]\n",
    "#池化\n",
    "POOLING_WINDOW = 4\n",
    "POOLING_STRIDE = 2\n",
    "n_words = 0"
   ]
  },
  {
   "cell_type": "code",
   "execution_count": 115,
   "metadata": {
    "collapsed": true
   },
   "outputs": [],
   "source": [
    "import argparse\n",
    "import sys\n",
    "\n",
    "import numpy as np\n",
    "import pandas\n",
    "from sklearn import metrics\n",
    "import tensorflow as tf\n",
    "from tensorflow.contrib.layers.python.layers import encoders\n",
    "\n",
    "learn = tf.contrib.learn\n",
    "\n",
    "FLAGS = None"
   ]
  },
  {
   "cell_type": "code",
   "execution_count": 106,
   "metadata": {
    "collapsed": true
   },
   "outputs": [],
   "source": [
    "def cnn_model(features, target):\n",
    "\t\"\"\"\n",
    "    2层的卷积神经网络，用于短文本分类\n",
    "    \"\"\"\n",
    "\t# 先把词转成词嵌入\n",
    "\t# 我们得到一个形状为[n_words, EMBEDDING_SIZE]的词表映射矩阵\n",
    "\t# 接着我们可以把一批文本映射成[batch_size, sequence_length, EMBEDDING_SIZE]的矩阵形式\n",
    "\ttarget = tf.one_hot(target, 15, 1, 0)  #这里不用15反而loss会一直网上增，用15对于结果是没有影响的\n",
    "\tword_vectors = tf.contrib.layers.embed_sequence(\n",
    "\t\t\tfeatures, vocab_size=n_words, embed_dim=EMBEDDING_SIZE, scope='words')\n",
    "\tword_vectors = tf.expand_dims(word_vectors, 3)\n",
    "\twith tf.variable_scope('CNN_Layer1'):\n",
    "\t\t# 添加卷积层做滤波\n",
    "\t\tconv1 = tf.contrib.layers.convolution2d(\n",
    "\t\t\t\tword_vectors, N_FILTERS, FILTER_SHAPE1, padding='VALID')\n",
    "\t\t# 添加RELU非线性\n",
    "\t\tconv1 = tf.nn.relu(conv1)\n",
    "\t\t# 最大池化\n",
    "\t\tpool1 = tf.nn.max_pool(\n",
    "\t\t\t\tconv1,\n",
    "\t\t\t\tksize=[1, POOLING_WINDOW, 1, 1],\n",
    "\t\t\t\tstrides=[1, POOLING_STRIDE, 1, 1],\n",
    "\t\t\t\tpadding='SAME')\n",
    "\t\t# 对矩阵进行转置，以满足形状\n",
    "\t\tpool1 = tf.transpose(pool1, [0, 1, 3, 2])\n",
    "\twith tf.variable_scope('CNN_Layer2'):\n",
    "\t\t# 第2个卷积层\n",
    "\t\tconv2 = tf.contrib.layers.convolution2d(\n",
    "\t\t\t\tpool1, N_FILTERS, FILTER_SHAPE2, padding='VALID')\n",
    "\t\t# 抽取特征\n",
    "\t\tpool2 = tf.squeeze(tf.reduce_max(conv2, 1), squeeze_dims=[1])\n",
    "\n",
    "\t# 全连接层\n",
    "\tlogits = tf.contrib.layers.fully_connected(pool2, 15, activation_fn=None)\n",
    "\tloss = tf.losses.softmax_cross_entropy(target, logits)\n",
    "\n",
    "\ttrain_op = tf.contrib.layers.optimize_loss(\n",
    "\t\t\tloss,\n",
    "\t\t\ttf.contrib.framework.get_global_step(),\n",
    "\t\t\toptimizer='Adam',\n",
    "\t\t\tlearning_rate=0.001)\n",
    "\n",
    "\treturn ({\n",
    "\t\t\t'class': tf.argmax(logits, 1),\n",
    "\t\t\t'prob': tf.nn.softmax(logits)\n",
    "\t}, loss, train_op)"
   ]
  },
  {
   "cell_type": "code",
   "execution_count": 99,
   "metadata": {},
   "outputs": [
    {
     "name": "stdout",
     "output_type": "stream",
     "text": [
      "Total words: 50281\n"
     ]
    }
   ],
   "source": [
    "global n_words\n",
    "# 处理词汇\n",
    "vocab_processor = learn.preprocessing.VocabularyProcessor(MAX_DOCUMENT_LENGTH, min_frequency=MIN_WORD_FREQUENCE)\n",
    "x_train = np.array(list(vocab_processor.fit_transform(train_data)))\n",
    "x_test = np.array(list(vocab_processor.transform(test_data)))\n",
    "n_words = len(vocab_processor.vocabulary_)\n",
    "print('Total words: %d' % n_words)"
   ]
  },
  {
   "cell_type": "code",
   "execution_count": 10,
   "metadata": {
    "collapsed": true
   },
   "outputs": [],
   "source": [
    "cate_dic = {'technology':1, 'car':2, 'entertainment':3, 'military':4, 'sports':5}\n",
    "train_target = list(map(lambda x:cate_dic[x], train_target))\n",
    "test_target = list(map(lambda x:cate_dic[x], test_target))\n",
    "y_train = pandas.Series(train_target)\n",
    "y_test = pandas.Series(test_target)"
   ]
  },
  {
   "cell_type": "code",
   "execution_count": null,
   "metadata": {
    "collapsed": true
   },
   "outputs": [],
   "source": [
    "# 构建模型\n",
    "classifier = learn.SKCompat(learn.Estimator(model_fn=cnn_model, model_dir = \"Models\"))\n",
    "\n",
    "# 训练和预测\n",
    "classifier.fit(x_train, y_train, steps=1000)\n",
    "y_predicted = classifier.predict(x_test)['class']\n",
    "score = metrics.accuracy_score(y_test, y_predicted)\n",
    "print('Accuracy: {0:f}'.format(score))"
   ]
  },
  {
   "cell_type": "markdown",
   "metadata": {},
   "source": [
    "### LSTM/GRU文本分类"
   ]
  },
  {
   "cell_type": "code",
   "execution_count": 60,
   "metadata": {
    "collapsed": true
   },
   "outputs": [],
   "source": [
    "\"\"\"\n",
    "使用RNN完成文本分类\n",
    "\"\"\"\n",
    "import argparse\n",
    "import sys\n",
    "\n",
    "import numpy as np\n",
    "import pandas\n",
    "from sklearn import metrics\n",
    "import tensorflow as tf\n",
    "from tensorflow.contrib.layers.python.layers import encoders\n",
    "\n",
    "learn = tf.contrib.learn\n",
    "\n",
    "FLAGS = None"
   ]
  },
  {
   "cell_type": "markdown",
   "metadata": {},
   "source": [
    "### 先用词袋模型试试"
   ]
  },
  {
   "cell_type": "code",
   "execution_count": 125,
   "metadata": {},
   "outputs": [
    {
     "name": "stdout",
     "output_type": "stream",
     "text": [
      "Total words: 67631\n"
     ]
    }
   ],
   "source": [
    "MAX_DOCUMENT_LENGTH = 15\n",
    "MIN_WORD_FREQUENCE = 1\n",
    "EMBEDDING_SIZE = 50\n",
    "global n_words\n",
    "# 处理词汇\n",
    "vocab_processor = learn.preprocessing.VocabularyProcessor(MAX_DOCUMENT_LENGTH, min_frequency=MIN_WORD_FREQUENCE)\n",
    "x_train = np.array(list(vocab_processor.fit_transform(train_data)))\n",
    "x_test = np.array(list(vocab_processor.transform(test_data)))\n",
    "n_words = len(vocab_processor.vocabulary_)\n",
    "print('Total words: %d' % n_words)\n",
    "\n",
    "def bag_of_words_model(features, target):\n",
    "\t\"\"\"先转成词袋模型\"\"\"\n",
    "\ttarget = tf.one_hot(target, 15, 1, 0)\n",
    "\tfeatures = encoders.bow_encoder(\n",
    "\t\t\tfeatures, vocab_size=n_words, embed_dim=EMBEDDING_SIZE)\n",
    "\tlogits = tf.contrib.layers.fully_connected(features, 15, activation_fn=None)\n",
    "\tloss = tf.contrib.losses.softmax_cross_entropy(logits, target)\n",
    "\ttrain_op = tf.contrib.layers.optimize_loss(\n",
    "\t\t\tloss,\n",
    "\t\t\ttf.contrib.framework.get_global_step(),\n",
    "\t\t\toptimizer='Adam',\n",
    "\t\t\tlearning_rate=0.01)\n",
    "\treturn ({\n",
    "\t\t\t'class': tf.argmax(logits, 1),\n",
    "\t\t\t'prob': tf.nn.softmax(logits)\n",
    "\t}, loss, train_op)"
   ]
  },
  {
   "cell_type": "code",
   "execution_count": 127,
   "metadata": {},
   "outputs": [
    {
     "name": "stdout",
     "output_type": "stream",
     "text": [
      "INFO:tensorflow:Using default config.\n",
      "INFO:tensorflow:Using config: {'_task_type': None, '_task_id': 0, '_cluster_spec': <tensorflow.python.training.server_lib.ClusterSpec object at 0x000000A4BC4E24E0>, '_master': '', '_num_ps_replicas': 0, '_num_worker_replicas': 0, '_environment': 'local', '_is_chief': True, '_evaluation_master': '', '_tf_config': gpu_options {\n",
      "  per_process_gpu_memory_fraction: 1\n",
      "}\n",
      ", '_tf_random_seed': None, '_save_summary_steps': 100, '_save_checkpoints_secs': 600, '_session_config': None, '_save_checkpoints_steps': None, '_keep_checkpoint_max': 5, '_keep_checkpoint_every_n_hours': 10000, '_model_dir': 'Models'}\n",
      "WARNING:tensorflow:From <ipython-input-125-a37e2a188967>:18: softmax_cross_entropy (from tensorflow.contrib.losses.python.losses.loss_ops) is deprecated and will be removed after 2016-12-30.\n",
      "Instructions for updating:\n",
      "Use tf.losses.softmax_cross_entropy instead. Note that the order of the logits and labels arguments has been changed.\n",
      "WARNING:tensorflow:From D:\\ANACONDA\\lib\\site-packages\\tensorflow\\contrib\\losses\\python\\losses\\loss_ops.py:398: compute_weighted_loss (from tensorflow.contrib.losses.python.losses.loss_ops) is deprecated and will be removed after 2016-12-30.\n",
      "Instructions for updating:\n",
      "Use tf.losses.compute_weighted_loss instead.\n",
      "WARNING:tensorflow:From D:\\ANACONDA\\lib\\site-packages\\tensorflow\\contrib\\losses\\python\\losses\\loss_ops.py:151: add_arg_scope.<locals>.func_with_args (from tensorflow.contrib.framework.python.ops.arg_scope) is deprecated and will be removed after 2016-12-30.\n",
      "Instructions for updating:\n",
      "Use tf.losses.add_loss instead.\n",
      "INFO:tensorflow:Create CheckpointSaverHook.\n",
      "INFO:tensorflow:Saving checkpoints for 1 into Models\\model.ckpt.\n",
      "INFO:tensorflow:loss = 2.70815, step = 1\n",
      "INFO:tensorflow:global_step/sec: 20.7933\n",
      "INFO:tensorflow:loss = 0.479918, step = 101 (4.810 sec)\n",
      "INFO:tensorflow:global_step/sec: 21.2438\n",
      "INFO:tensorflow:loss = 0.590591, step = 201 (4.707 sec)\n",
      "INFO:tensorflow:global_step/sec: 21.3117\n",
      "INFO:tensorflow:loss = 0.375961, step = 301 (4.693 sec)\n",
      "INFO:tensorflow:global_step/sec: 20.5835\n",
      "INFO:tensorflow:loss = 0.317768, step = 401 (4.858 sec)\n",
      "INFO:tensorflow:global_step/sec: 21.0781\n",
      "INFO:tensorflow:loss = 0.284977, step = 501 (4.744 sec)\n",
      "INFO:tensorflow:global_step/sec: 21.3253\n",
      "INFO:tensorflow:loss = 0.104851, step = 601 (4.689 sec)\n",
      "INFO:tensorflow:global_step/sec: 21.2935\n",
      "INFO:tensorflow:loss = 0.148015, step = 701 (4.696 sec)\n",
      "INFO:tensorflow:global_step/sec: 20.7543\n",
      "INFO:tensorflow:loss = 0.15147, step = 801 (4.817 sec)\n",
      "INFO:tensorflow:global_step/sec: 19.5952\n",
      "INFO:tensorflow:loss = 0.280137, step = 901 (5.104 sec)\n",
      "INFO:tensorflow:Saving checkpoints for 1000 into Models\\model.ckpt.\n",
      "INFO:tensorflow:Loss for final step: 0.171395.\n",
      "WARNING:tensorflow:From <ipython-input-125-a37e2a188967>:18: softmax_cross_entropy (from tensorflow.contrib.losses.python.losses.loss_ops) is deprecated and will be removed after 2016-12-30.\n",
      "Instructions for updating:\n",
      "Use tf.losses.softmax_cross_entropy instead. Note that the order of the logits and labels arguments has been changed.\n",
      "WARNING:tensorflow:From D:\\ANACONDA\\lib\\site-packages\\tensorflow\\contrib\\losses\\python\\losses\\loss_ops.py:398: compute_weighted_loss (from tensorflow.contrib.losses.python.losses.loss_ops) is deprecated and will be removed after 2016-12-30.\n",
      "Instructions for updating:\n",
      "Use tf.losses.compute_weighted_loss instead.\n",
      "WARNING:tensorflow:From D:\\ANACONDA\\lib\\site-packages\\tensorflow\\contrib\\losses\\python\\losses\\loss_ops.py:151: add_arg_scope.<locals>.func_with_args (from tensorflow.contrib.framework.python.ops.arg_scope) is deprecated and will be removed after 2016-12-30.\n",
      "Instructions for updating:\n",
      "Use tf.losses.add_loss instead.\n",
      "INFO:tensorflow:Restoring parameters from Models\\model.ckpt-1000\n",
      "Accuracy: 0.890178\n"
     ]
    }
   ],
   "source": [
    "model_fn = bag_of_words_model\n",
    "classifier = learn.SKCompat(learn.Estimator(model_fn=model_fn, model_dir = \"Models\"))\n",
    "\n",
    "# Train and predict\n",
    "classifier.fit(x_train, y_train, steps=1000)\n",
    "y_predicted = classifier.predict(x_test)['class']\n",
    "score = metrics.accuracy_score(y_test, y_predicted)\n",
    "print('Accuracy: {0:f}'.format(score))"
   ]
  },
  {
   "cell_type": "markdown",
   "metadata": {
    "collapsed": true
   },
   "source": [
    "### GRU分类器"
   ]
  },
  {
   "cell_type": "code",
   "execution_count": 6,
   "metadata": {
    "collapsed": true
   },
   "outputs": [],
   "source": [
    "import argparse\n",
    "import sys\n",
    "\n",
    "import numpy as np\n",
    "import pandas\n",
    "from sklearn import metrics\n",
    "import tensorflow as tf\n",
    "from tensorflow.contrib.layers.python.layers import encoders\n",
    "\n",
    "learn = tf.contrib.learn\n",
    "\n",
    "FLAGS = None"
   ]
  },
  {
   "cell_type": "code",
   "execution_count": 7,
   "metadata": {},
   "outputs": [
    {
     "name": "stdout",
     "output_type": "stream",
     "text": [
      "Total words: 67631\n"
     ]
    }
   ],
   "source": [
    "MAX_DOCUMENT_LENGTH = 15\n",
    "MIN_WORD_FREQUENCE = 1\n",
    "EMBEDDING_SIZE = 50\n",
    "global n_words\n",
    "# 处理词汇\n",
    "vocab_processor = learn.preprocessing.VocabularyProcessor(MAX_DOCUMENT_LENGTH, min_frequency=MIN_WORD_FREQUENCE)\n",
    "x_train = np.array(list(vocab_processor.fit_transform(train_data)))\n",
    "x_test = np.array(list(vocab_processor.transform(test_data)))\n",
    "n_words = len(vocab_processor.vocabulary_)\n",
    "print('Total words: %d' % n_words)\n"
   ]
  },
  {
   "cell_type": "code",
   "execution_count": 17,
   "metadata": {},
   "outputs": [],
   "source": [
    "def rnn_model(features, target):\n",
    "\t\"\"\"用RNN模型(这里用的是GRU)完成文本分类\"\"\"\n",
    "\t# Convert indexes of words into embeddings.\n",
    "\t# This creates embeddings matrix of [n_words, EMBEDDING_SIZE] and then\n",
    "\t# maps word indexes of the sequence into [batch_size, sequence_length,\n",
    "\t# EMBEDDING_SIZE].\n",
    "\tword_vectors = tf.contrib.layers.embed_sequence(\n",
    "\t\t\tfeatures, vocab_size=n_words, embed_dim=EMBEDDING_SIZE, scope='words')\n",
    "\n",
    "\t# Split into list of embedding per word, while removing doc length dim.\n",
    "\t# word_list results to be a list of tensors [batch_size, EMBEDDING_SIZE].\n",
    "\tword_list = tf.unstack(word_vectors, axis=1)\n",
    "\n",
    "\t# Create a Gated Recurrent Unit cell with hidden size of EMBEDDING_SIZE.\n",
    "\tcell = tf.contrib.rnn.GRUCell(EMBEDDING_SIZE)  #GRU\n",
    "\t#cell = tf.contrib.rnn.BasicLSTMCell(EMBEDDING_SIZE)  #LSTM\n",
    "\n",
    "\t# Create an unrolled Recurrent Neural Networks to length of\n",
    "\t# MAX_DOCUMENT_LENGTH and passes word_list as inputs for each unit.\n",
    "\t_, encoding = tf.contrib.rnn.static_rnn(cell, word_list, dtype=tf.float32)\n",
    "\n",
    "\t# Given encoding of RNN, take encoding of last step (e.g hidden size of the\n",
    "\t# neural network of last step) and pass it as features for logistic\n",
    "\t# regression over output classes.\n",
    "\ttarget = tf.one_hot(target, 15, 1, 0)\n",
    "\tlogits = tf.contrib.layers.fully_connected(encoding, 15, activation_fn=None)\n",
    "\tloss = tf.contrib.losses.softmax_cross_entropy(logits, target)\n",
    "\n",
    "\t# Create a training op.\n",
    "\ttrain_op = tf.contrib.layers.optimize_loss(\n",
    "\t\t\tloss,\n",
    "\t\t\ttf.contrib.framework.get_global_step(),\n",
    "\t\t\toptimizer='Adam',\n",
    "\t\t\tlearning_rate=0.01)\n",
    "\n",
    "\treturn ({\n",
    "\t\t\t'class': tf.argmax(logits, 1),\n",
    "\t\t\t'prob': tf.nn.softmax(logits)\n",
    "\t}, loss, train_op)"
   ]
  },
  {
   "cell_type": "code",
   "execution_count": null,
   "metadata": {},
   "outputs": [
    {
     "name": "stdout",
     "output_type": "stream",
     "text": [
      "INFO:tensorflow:Using default config.\n",
      "INFO:tensorflow:Using config: {'_task_type': None, '_task_id': 0, '_cluster_spec': <tensorflow.python.training.server_lib.ClusterSpec object at 0x000000250FC929B0>, '_master': '', '_num_ps_replicas': 0, '_num_worker_replicas': 0, '_environment': 'local', '_is_chief': True, '_evaluation_master': '', '_tf_config': gpu_options {\n",
      "  per_process_gpu_memory_fraction: 1\n",
      "}\n",
      ", '_tf_random_seed': None, '_save_summary_steps': 100, '_save_checkpoints_secs': 600, '_session_config': None, '_save_checkpoints_steps': None, '_keep_checkpoint_max': 5, '_keep_checkpoint_every_n_hours': 10000, '_model_dir': 'Models'}\n",
      "WARNING:tensorflow:From <ipython-input-17-61cf77b1cb13>:27: softmax_cross_entropy (from tensorflow.contrib.losses.python.losses.loss_ops) is deprecated and will be removed after 2016-12-30.\n",
      "Instructions for updating:\n",
      "Use tf.losses.softmax_cross_entropy instead. Note that the order of the logits and labels arguments has been changed.\n",
      "WARNING:tensorflow:From D:\\ANACONDA\\lib\\site-packages\\tensorflow\\contrib\\losses\\python\\losses\\loss_ops.py:398: compute_weighted_loss (from tensorflow.contrib.losses.python.losses.loss_ops) is deprecated and will be removed after 2016-12-30.\n",
      "Instructions for updating:\n",
      "Use tf.losses.compute_weighted_loss instead.\n",
      "WARNING:tensorflow:From D:\\ANACONDA\\lib\\site-packages\\tensorflow\\contrib\\losses\\python\\losses\\loss_ops.py:151: add_arg_scope.<locals>.func_with_args (from tensorflow.contrib.framework.python.ops.arg_scope) is deprecated and will be removed after 2016-12-30.\n",
      "Instructions for updating:\n",
      "Use tf.losses.add_loss instead.\n",
      "INFO:tensorflow:Create CheckpointSaverHook.\n",
      "INFO:tensorflow:Saving checkpoints for 1 into Models\\model.ckpt.\n",
      "INFO:tensorflow:loss = 2.7082, step = 1\n",
      "INFO:tensorflow:global_step/sec: 17.5922\n",
      "INFO:tensorflow:loss = 0.419185, step = 101 (5.686 sec)\n",
      "INFO:tensorflow:global_step/sec: 18.6592\n",
      "INFO:tensorflow:loss = 0.503908, step = 201 (5.358 sec)\n",
      "INFO:tensorflow:global_step/sec: 18.1248\n",
      "INFO:tensorflow:loss = 0.331431, step = 301 (5.517 sec)\n"
     ]
    }
   ],
   "source": [
    "model_fn = rnn_model\n",
    "classifier = learn.SKCompat(learn.Estimator(model_fn=model_fn, model_dir = \"Models\"))\n",
    "\n",
    "# Train and predict\n",
    "classifier.fit(x_train, y_train, steps=1000)\n",
    "y_predicted = classifier.predict(x_test)['class']\n",
    "score = metrics.accuracy_score(y_test, y_predicted)\n",
    "print('Accuracy: {0:f}'.format(score))"
   ]
  },
  {
   "cell_type": "code",
   "execution_count": null,
   "metadata": {
    "collapsed": true
   },
   "outputs": [],
   "source": []
  }
 ],
 "metadata": {
  "kernelspec": {
   "display_name": "Python 3",
   "language": "python",
   "name": "python3"
  },
  "language_info": {
   "codemirror_mode": {
    "name": "ipython",
    "version": 3
   },
   "file_extension": ".py",
   "mimetype": "text/x-python",
   "name": "python",
   "nbconvert_exporter": "python",
   "pygments_lexer": "ipython3",
   "version": "3.6.3"
  }
 },
 "nbformat": 4,
 "nbformat_minor": 2
}
